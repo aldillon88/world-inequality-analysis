{
 "cells": [
  {
   "cell_type": "code",
   "execution_count": 580,
   "metadata": {},
   "outputs": [],
   "source": [
    "import pandas as pd\n",
    "import plotly.graph_objects as go\n",
    "import plotly.express as px\n",
    "from plotly.subplots import make_subplots\n",
    "import plotly.io as pio\n",
    "import os\n",
    "\n",
    "# Set the default template to dark\n",
    "pio.templates.default = \"plotly_dark\""
   ]
  },
  {
   "cell_type": "code",
   "execution_count": 581,
   "metadata": {},
   "outputs": [],
   "source": [
    "notebook_path = os.getcwd()\n",
    "data_path = os.path.abspath(os.path.join(notebook_path, \"../data\"))\n",
    "processed_path = os.path.join(data_path, \"processed\")\n",
    "unprocessed_path = os.path.join(data_path, \"unprocessed\")\n",
    "aggregated_path = os.path.join(data_path, \"aggregated\")"
   ]
  },
  {
   "cell_type": "markdown",
   "metadata": {},
   "source": [
    "### Topics to analyse:\n",
    "- Total per capita public spending\n",
    "- Total per capita private wealth\n",
    "- Total per capita private debt\n",
    "- Per capita public spending breakdown across categories - health, education etc.\n",
    "- GDP per capita and total\n",
    "- CO2 and carbon footprint totals, per capita, per gdp etc.\n",
    "- Correlations between variable - debt vs. wealth, population vs. public spending, population vs. national income etc.\n",
    "### Other questions to ask:\n",
    "- Which countries spend the most on defense?\n",
    "- What is the trend in environmental protection spending and how does it correlate with CO2 / carbon footprint?\n",
    "- Which regions spend more per capita on the various public spending categories?\n",
    "### Process:\n",
    "- Aggregate each CSV by 'variable'\n",
    "### Other notes:\n",
    "- All currency based variables where 'shorttype' == 'Average' refer to per capita values\n",
    "- All currency based variables where 'shorttype' == 'Wealth-income ratio' refer to the ratio of variable value to net national income"
   ]
  },
  {
   "cell_type": "code",
   "execution_count": 582,
   "metadata": {},
   "outputs": [
    {
     "data": {
      "text/html": [
       "<div>\n",
       "<style scoped>\n",
       "    .dataframe tbody tr th:only-of-type {\n",
       "        vertical-align: middle;\n",
       "    }\n",
       "\n",
       "    .dataframe tbody tr th {\n",
       "        vertical-align: top;\n",
       "    }\n",
       "\n",
       "    .dataframe thead th {\n",
       "        text-align: right;\n",
       "    }\n",
       "</style>\n",
       "<table border=\"1\" class=\"dataframe\">\n",
       "  <thead>\n",
       "    <tr style=\"text-align: right;\">\n",
       "      <th></th>\n",
       "      <th>country</th>\n",
       "      <th>variable</th>\n",
       "      <th>year</th>\n",
       "      <th>value</th>\n",
       "      <th>age</th>\n",
       "      <th>pop</th>\n",
       "      <th>countryname</th>\n",
       "      <th>shortname</th>\n",
       "      <th>shorttype</th>\n",
       "      <th>shortpop</th>\n",
       "      <th>shortage</th>\n",
       "      <th>unit</th>\n",
       "      <th>source</th>\n",
       "      <th>method</th>\n",
       "      <th>value_usd</th>\n",
       "      <th>value_ppp</th>\n",
       "      <th>region</th>\n",
       "      <th>subregion</th>\n",
       "      <th>value_usd_per_capita</th>\n",
       "      <th>value_pct_national_income</th>\n",
       "    </tr>\n",
       "  </thead>\n",
       "  <tbody>\n",
       "    <tr>\n",
       "      <th>0</th>\n",
       "      <td>AD</td>\n",
       "      <td>mdefgei999</td>\n",
       "      <td>1980</td>\n",
       "      <td>20775878.0</td>\n",
       "      <td>999</td>\n",
       "      <td>i</td>\n",
       "      <td>Andorra</td>\n",
       "      <td>Defense</td>\n",
       "      <td>Total</td>\n",
       "      <td>individuals</td>\n",
       "      <td>All Ages</td>\n",
       "      <td>EUR</td>\n",
       "      <td>NaN</td>\n",
       "      <td>NaN</td>\n",
       "      <td>4.821092e+07</td>\n",
       "      <td>6.268272e+07</td>\n",
       "      <td>Europe</td>\n",
       "      <td>Western Europe</td>\n",
       "      <td>1353.793551</td>\n",
       "      <td>0.017633</td>\n",
       "    </tr>\n",
       "  </tbody>\n",
       "</table>\n",
       "</div>"
      ],
      "text/plain": [
       "  country    variable  year       value  age pop countryname shortname  \\\n",
       "0      AD  mdefgei999  1980  20775878.0  999   i     Andorra   Defense   \n",
       "\n",
       "  shorttype     shortpop  shortage unit source method     value_usd  \\\n",
       "0     Total  individuals  All Ages  EUR    NaN    NaN  4.821092e+07   \n",
       "\n",
       "      value_ppp  region       subregion  value_usd_per_capita  \\\n",
       "0  6.268272e+07  Europe  Western Europe           1353.793551   \n",
       "\n",
       "   value_pct_national_income  \n",
       "0                   0.017633  "
      ]
     },
     "execution_count": 582,
     "metadata": {},
     "output_type": "execute_result"
    }
   ],
   "source": [
    "defense_path = f\"{aggregated_path}/Defense.csv\"\n",
    "defense = pd.read_csv(defense_path)\n",
    "defense = defense[(defense['country'] != 'RS') & (defense['countryname'] != 'Venezuela')]\n",
    "defense.head(1)"
   ]
  },
  {
   "cell_type": "code",
   "execution_count": 613,
   "metadata": {},
   "outputs": [],
   "source": [
    "def group_dataframe(df, indexes):\n",
    "\n",
    "    agg_dict = {\n",
    "        'value_ppp': 'sum',\n",
    "        'value_usd': 'sum',\n",
    "        'value_usd_per_capita': 'mean',\n",
    "        'value_pct_national_income': 'mean'\n",
    "    }\n",
    "\n",
    "    return df.groupby(by=indexes)[list(agg_dict.keys())].agg(agg_dict).reset_index()\n",
    "\n",
    "\n",
    "def filter_dataframe(df, year, column, count=20, subset='top'):\n",
    "    if subset == 'top':\n",
    "        return df[df['year'] == year].sort_values(by=column, ascending=False).head(count)\n",
    "    else:\n",
    "        return df[df['year'] == year].sort_values(by=column, ascending=True).head(count)\n",
    "\n",
    "\n",
    "def get_country_flag(country_code):\n",
    "    # Convert 2-letter country code to flag emoji\n",
    "    # Country code should be ISO 3166-1 alpha-2 (2 letters)\n",
    "    code = country_code.upper()\n",
    "    return chr(ord(code[0]) + 127397) + chr(ord(code[1]) + 127397)\n",
    "\n"
   ]
  },
  {
   "cell_type": "code",
   "execution_count": 584,
   "metadata": {},
   "outputs": [],
   "source": [
    "defense_region = group_dataframe(defense, ['year', 'country', 'region'])\n",
    "defense_country = group_dataframe(defense, ['year', 'country', 'countryname', 'region'])"
   ]
  },
  {
   "cell_type": "code",
   "execution_count": 585,
   "metadata": {},
   "outputs": [],
   "source": [
    "defense_2023_country_top20_pct = filter_dataframe(defense_country, 2023, 'value_pct_national_income')\n",
    "defense_2023_country_top20_pct_avg = defense_2023_country_top20_pct['value_pct_national_income'].mean()\n",
    "\n",
    "defense_2023_country_top20_usd_pc = filter_dataframe(defense_country, 2023, 'value_usd_per_capita')\n",
    "defense_2023_country_top20_usd_pc_avg = defense_2023_country_top20_usd_pc['value_usd_per_capita'].mean()\n",
    "\n",
    "defense_2023_country_top20_usd_total = filter_dataframe(defense_country, 2023, 'value_usd')\n",
    "defense_2023_country_top20_usd_total_avg = defense_2023_country_top20_usd_total['value_usd'].mean()\n",
    "\n",
    "defense_2023_country_top20_ppp_total = filter_dataframe(defense_country, 2023, 'value_ppp')\n",
    "defense_2023_country_top20_ppp_total_avg = defense_2023_country_top20_ppp_total['value_ppp'].mean()"
   ]
  },
  {
   "cell_type": "code",
   "execution_count": 620,
   "metadata": {},
   "outputs": [
    {
     "data": {
      "text/html": [
       "<div>\n",
       "<style scoped>\n",
       "    .dataframe tbody tr th:only-of-type {\n",
       "        vertical-align: middle;\n",
       "    }\n",
       "\n",
       "    .dataframe tbody tr th {\n",
       "        vertical-align: top;\n",
       "    }\n",
       "\n",
       "    .dataframe thead th {\n",
       "        text-align: right;\n",
       "    }\n",
       "</style>\n",
       "<table border=\"1\" class=\"dataframe\">\n",
       "  <thead>\n",
       "    <tr style=\"text-align: right;\">\n",
       "      <th></th>\n",
       "      <th>year</th>\n",
       "      <th>country</th>\n",
       "      <th>countryname</th>\n",
       "      <th>region</th>\n",
       "      <th>value_ppp</th>\n",
       "      <th>value_usd</th>\n",
       "      <th>value_usd_per_capita</th>\n",
       "      <th>value_pct_national_income</th>\n",
       "      <th>flag</th>\n",
       "      <th>country+flag</th>\n",
       "    </tr>\n",
       "  </thead>\n",
       "  <tbody>\n",
       "    <tr>\n",
       "      <th>9699</th>\n",
       "      <td>2023</td>\n",
       "      <td>UA</td>\n",
       "      <td>Ukraine</td>\n",
       "      <td>Asia</td>\n",
       "      <td>1.372705e+11</td>\n",
       "      <td>3.914094e+10</td>\n",
       "      <td>1065.216459</td>\n",
       "      <td>0.244740</td>\n",
       "      <td>🇺🇦</td>\n",
       "      <td>Ukraine🇺🇦</td>\n",
       "    </tr>\n",
       "    <tr>\n",
       "      <th>9649</th>\n",
       "      <td>2023</td>\n",
       "      <td>OM</td>\n",
       "      <td>Oman</td>\n",
       "      <td>Asia</td>\n",
       "      <td>2.337247e+10</td>\n",
       "      <td>1.234670e+10</td>\n",
       "      <td>2658.538142</td>\n",
       "      <td>0.149595</td>\n",
       "      <td>🇴🇲</td>\n",
       "      <td>Oman🇴🇲</td>\n",
       "    </tr>\n",
       "    <tr>\n",
       "      <th>9501</th>\n",
       "      <td>2023</td>\n",
       "      <td>AE</td>\n",
       "      <td>the United Arab Emirates</td>\n",
       "      <td>Asia</td>\n",
       "      <td>5.556492e+10</td>\n",
       "      <td>3.507905e+10</td>\n",
       "      <td>3685.981009</td>\n",
       "      <td>0.072850</td>\n",
       "      <td>🇦🇪</td>\n",
       "      <td>the United Arab Emirates🇦🇪</td>\n",
       "    </tr>\n",
       "    <tr>\n",
       "      <th>9502</th>\n",
       "      <td>2023</td>\n",
       "      <td>AF</td>\n",
       "      <td>Afghanistan</td>\n",
       "      <td>Asia</td>\n",
       "      <td>5.429521e+09</td>\n",
       "      <td>9.515640e+08</td>\n",
       "      <td>22.528004</td>\n",
       "      <td>0.071995</td>\n",
       "      <td>🇦🇫</td>\n",
       "      <td>Afghanistan🇦🇫</td>\n",
       "    </tr>\n",
       "    <tr>\n",
       "      <th>9520</th>\n",
       "      <td>2023</td>\n",
       "      <td>BI</td>\n",
       "      <td>Burundi</td>\n",
       "      <td>Africa</td>\n",
       "      <td>8.196580e+08</td>\n",
       "      <td>2.297713e+08</td>\n",
       "      <td>17.356228</td>\n",
       "      <td>0.070579</td>\n",
       "      <td>🇧🇮</td>\n",
       "      <td>Burundi🇧🇮</td>\n",
       "    </tr>\n",
       "    <tr>\n",
       "      <th>9506</th>\n",
       "      <td>2023</td>\n",
       "      <td>AM</td>\n",
       "      <td>Armenia</td>\n",
       "      <td>Asia</td>\n",
       "      <td>3.646722e+09</td>\n",
       "      <td>1.401070e+09</td>\n",
       "      <td>504.350363</td>\n",
       "      <td>0.069301</td>\n",
       "      <td>🇦🇲</td>\n",
       "      <td>Armenia🇦🇲</td>\n",
       "    </tr>\n",
       "    <tr>\n",
       "      <th>9595</th>\n",
       "      <td>2023</td>\n",
       "      <td>JO</td>\n",
       "      <td>Jordan</td>\n",
       "      <td>Asia</td>\n",
       "      <td>5.912149e+09</td>\n",
       "      <td>2.542771e+09</td>\n",
       "      <td>224.242420</td>\n",
       "      <td>0.055675</td>\n",
       "      <td>🇯🇴</td>\n",
       "      <td>Jordan🇯🇴</td>\n",
       "    </tr>\n",
       "    <tr>\n",
       "      <th>9598</th>\n",
       "      <td>2023</td>\n",
       "      <td>KG</td>\n",
       "      <td>Kyrgyzstan</td>\n",
       "      <td>Asia</td>\n",
       "      <td>2.433491e+09</td>\n",
       "      <td>6.493884e+08</td>\n",
       "      <td>96.414626</td>\n",
       "      <td>0.053665</td>\n",
       "      <td>🇰🇬</td>\n",
       "      <td>Kyrgyzstan🇰🇬</td>\n",
       "    </tr>\n",
       "    <tr>\n",
       "      <th>9586</th>\n",
       "      <td>2023</td>\n",
       "      <td>IL</td>\n",
       "      <td>Israel</td>\n",
       "      <td>Asia</td>\n",
       "      <td>2.205044e+10</td>\n",
       "      <td>2.127413e+10</td>\n",
       "      <td>2318.836745</td>\n",
       "      <td>0.050527</td>\n",
       "      <td>🇮🇱</td>\n",
       "      <td>Israel🇮🇱</td>\n",
       "    </tr>\n",
       "    <tr>\n",
       "      <th>9620</th>\n",
       "      <td>2023</td>\n",
       "      <td>MA</td>\n",
       "      <td>Morocco</td>\n",
       "      <td>Africa</td>\n",
       "      <td>1.783645e+10</td>\n",
       "      <td>6.847558e+09</td>\n",
       "      <td>180.963923</td>\n",
       "      <td>0.049809</td>\n",
       "      <td>🇲🇦</td>\n",
       "      <td>Morocco🇲🇦</td>\n",
       "    </tr>\n",
       "  </tbody>\n",
       "</table>\n",
       "</div>"
      ],
      "text/plain": [
       "      year country               countryname  region     value_ppp  \\\n",
       "9699  2023      UA                   Ukraine    Asia  1.372705e+11   \n",
       "9649  2023      OM                      Oman    Asia  2.337247e+10   \n",
       "9501  2023      AE  the United Arab Emirates    Asia  5.556492e+10   \n",
       "9502  2023      AF               Afghanistan    Asia  5.429521e+09   \n",
       "9520  2023      BI                   Burundi  Africa  8.196580e+08   \n",
       "9506  2023      AM                   Armenia    Asia  3.646722e+09   \n",
       "9595  2023      JO                    Jordan    Asia  5.912149e+09   \n",
       "9598  2023      KG                Kyrgyzstan    Asia  2.433491e+09   \n",
       "9586  2023      IL                    Israel    Asia  2.205044e+10   \n",
       "9620  2023      MA                   Morocco  Africa  1.783645e+10   \n",
       "\n",
       "         value_usd  value_usd_per_capita  value_pct_national_income flag  \\\n",
       "9699  3.914094e+10           1065.216459                   0.244740   🇺🇦   \n",
       "9649  1.234670e+10           2658.538142                   0.149595   🇴🇲   \n",
       "9501  3.507905e+10           3685.981009                   0.072850   🇦🇪   \n",
       "9502  9.515640e+08             22.528004                   0.071995   🇦🇫   \n",
       "9520  2.297713e+08             17.356228                   0.070579   🇧🇮   \n",
       "9506  1.401070e+09            504.350363                   0.069301   🇦🇲   \n",
       "9595  2.542771e+09            224.242420                   0.055675   🇯🇴   \n",
       "9598  6.493884e+08             96.414626                   0.053665   🇰🇬   \n",
       "9586  2.127413e+10           2318.836745                   0.050527   🇮🇱   \n",
       "9620  6.847558e+09            180.963923                   0.049809   🇲🇦   \n",
       "\n",
       "                    country+flag  \n",
       "9699                   Ukraine🇺🇦  \n",
       "9649                      Oman🇴🇲  \n",
       "9501  the United Arab Emirates🇦🇪  \n",
       "9502               Afghanistan🇦🇫  \n",
       "9520                   Burundi🇧🇮  \n",
       "9506                   Armenia🇦🇲  \n",
       "9595                    Jordan🇯🇴  \n",
       "9598                Kyrgyzstan🇰🇬  \n",
       "9586                    Israel🇮🇱  \n",
       "9620                   Morocco🇲🇦  "
      ]
     },
     "execution_count": 620,
     "metadata": {},
     "output_type": "execute_result"
    }
   ],
   "source": [
    "defense_2023_country_top10_pct = filter_dataframe(defense_country, 2023, 'value_pct_national_income', count=10)\n",
    "defense_2023_country_top10_pct['flag'] = defense_2023_country_top10_pct['country'].apply(get_country_flag)\n",
    "defense_2023_country_top10_pct['country+flag'] = defense_2023_country_top10_pct['countryname'] + defense_2023_country_top10_pct['flag']\n",
    "defense_2023_country_top10_pct"
   ]
  },
  {
   "cell_type": "code",
   "execution_count": 627,
   "metadata": {},
   "outputs": [
    {
     "data": {
      "application/vnd.plotly.v1+json": {
       "config": {
        "plotlyServerURL": "https://plot.ly"
       },
       "data": [
        {
         "orientation": "h",
         "text": [
          0.0498086810112,
          0.0505272559821606,
          0.053665179759264,
          0.0556750483810902,
          0.069301076233387,
          0.0705788657069206,
          0.0719950497150421,
          0.0728499740362167,
          0.1495947241783142,
          0.2447395026683807
         ],
         "texttemplate": "%{text:.1%}",
         "type": "bar",
         "x": [
          -0.039064854755997615,
          -0.03834627978503701,
          -0.035208356007933615,
          -0.033198487386107416,
          -0.01957245953381062,
          -0.01829467006027702,
          -0.016878486052155514,
          -0.01602356173098092,
          0.060721188411116594,
          0.1558659669011831
         ],
         "y": [
          "Morocco 🇲🇦",
          "Israel 🇮🇱",
          "Kyrgyzstan 🇰🇬",
          "Jordan 🇯🇴",
          "Armenia 🇦🇲",
          "Burundi 🇧🇮",
          "Afghanistan 🇦🇫",
          "the United Arab Emirates 🇦🇪",
          "Oman 🇴🇲",
          "Ukraine 🇺🇦"
         ]
        }
       ],
       "layout": {
        "annotations": [
         {
          "showarrow": false,
          "text": "Mean 8.9%",
          "x": 0,
          "xanchor": "center",
          "xref": "x",
          "y": 1,
          "yanchor": "bottom",
          "yref": "y domain"
         }
        ],
        "shapes": [
         {
          "type": "line",
          "x0": 0,
          "x1": 0,
          "xref": "x",
          "y0": 0,
          "y1": 1,
          "yref": "y domain"
         }
        ],
        "template": {
         "data": {
          "bar": [
           {
            "error_x": {
             "color": "#f2f5fa"
            },
            "error_y": {
             "color": "#f2f5fa"
            },
            "marker": {
             "line": {
              "color": "rgb(17,17,17)",
              "width": 0.5
             },
             "pattern": {
              "fillmode": "overlay",
              "size": 10,
              "solidity": 0.2
             }
            },
            "type": "bar"
           }
          ],
          "barpolar": [
           {
            "marker": {
             "line": {
              "color": "rgb(17,17,17)",
              "width": 0.5
             },
             "pattern": {
              "fillmode": "overlay",
              "size": 10,
              "solidity": 0.2
             }
            },
            "type": "barpolar"
           }
          ],
          "carpet": [
           {
            "aaxis": {
             "endlinecolor": "#A2B1C6",
             "gridcolor": "#506784",
             "linecolor": "#506784",
             "minorgridcolor": "#506784",
             "startlinecolor": "#A2B1C6"
            },
            "baxis": {
             "endlinecolor": "#A2B1C6",
             "gridcolor": "#506784",
             "linecolor": "#506784",
             "minorgridcolor": "#506784",
             "startlinecolor": "#A2B1C6"
            },
            "type": "carpet"
           }
          ],
          "choropleth": [
           {
            "colorbar": {
             "outlinewidth": 0,
             "ticks": ""
            },
            "type": "choropleth"
           }
          ],
          "contour": [
           {
            "colorbar": {
             "outlinewidth": 0,
             "ticks": ""
            },
            "colorscale": [
             [
              0,
              "#0d0887"
             ],
             [
              0.1111111111111111,
              "#46039f"
             ],
             [
              0.2222222222222222,
              "#7201a8"
             ],
             [
              0.3333333333333333,
              "#9c179e"
             ],
             [
              0.4444444444444444,
              "#bd3786"
             ],
             [
              0.5555555555555556,
              "#d8576b"
             ],
             [
              0.6666666666666666,
              "#ed7953"
             ],
             [
              0.7777777777777778,
              "#fb9f3a"
             ],
             [
              0.8888888888888888,
              "#fdca26"
             ],
             [
              1,
              "#f0f921"
             ]
            ],
            "type": "contour"
           }
          ],
          "contourcarpet": [
           {
            "colorbar": {
             "outlinewidth": 0,
             "ticks": ""
            },
            "type": "contourcarpet"
           }
          ],
          "heatmap": [
           {
            "colorbar": {
             "outlinewidth": 0,
             "ticks": ""
            },
            "colorscale": [
             [
              0,
              "#0d0887"
             ],
             [
              0.1111111111111111,
              "#46039f"
             ],
             [
              0.2222222222222222,
              "#7201a8"
             ],
             [
              0.3333333333333333,
              "#9c179e"
             ],
             [
              0.4444444444444444,
              "#bd3786"
             ],
             [
              0.5555555555555556,
              "#d8576b"
             ],
             [
              0.6666666666666666,
              "#ed7953"
             ],
             [
              0.7777777777777778,
              "#fb9f3a"
             ],
             [
              0.8888888888888888,
              "#fdca26"
             ],
             [
              1,
              "#f0f921"
             ]
            ],
            "type": "heatmap"
           }
          ],
          "heatmapgl": [
           {
            "colorbar": {
             "outlinewidth": 0,
             "ticks": ""
            },
            "colorscale": [
             [
              0,
              "#0d0887"
             ],
             [
              0.1111111111111111,
              "#46039f"
             ],
             [
              0.2222222222222222,
              "#7201a8"
             ],
             [
              0.3333333333333333,
              "#9c179e"
             ],
             [
              0.4444444444444444,
              "#bd3786"
             ],
             [
              0.5555555555555556,
              "#d8576b"
             ],
             [
              0.6666666666666666,
              "#ed7953"
             ],
             [
              0.7777777777777778,
              "#fb9f3a"
             ],
             [
              0.8888888888888888,
              "#fdca26"
             ],
             [
              1,
              "#f0f921"
             ]
            ],
            "type": "heatmapgl"
           }
          ],
          "histogram": [
           {
            "marker": {
             "pattern": {
              "fillmode": "overlay",
              "size": 10,
              "solidity": 0.2
             }
            },
            "type": "histogram"
           }
          ],
          "histogram2d": [
           {
            "colorbar": {
             "outlinewidth": 0,
             "ticks": ""
            },
            "colorscale": [
             [
              0,
              "#0d0887"
             ],
             [
              0.1111111111111111,
              "#46039f"
             ],
             [
              0.2222222222222222,
              "#7201a8"
             ],
             [
              0.3333333333333333,
              "#9c179e"
             ],
             [
              0.4444444444444444,
              "#bd3786"
             ],
             [
              0.5555555555555556,
              "#d8576b"
             ],
             [
              0.6666666666666666,
              "#ed7953"
             ],
             [
              0.7777777777777778,
              "#fb9f3a"
             ],
             [
              0.8888888888888888,
              "#fdca26"
             ],
             [
              1,
              "#f0f921"
             ]
            ],
            "type": "histogram2d"
           }
          ],
          "histogram2dcontour": [
           {
            "colorbar": {
             "outlinewidth": 0,
             "ticks": ""
            },
            "colorscale": [
             [
              0,
              "#0d0887"
             ],
             [
              0.1111111111111111,
              "#46039f"
             ],
             [
              0.2222222222222222,
              "#7201a8"
             ],
             [
              0.3333333333333333,
              "#9c179e"
             ],
             [
              0.4444444444444444,
              "#bd3786"
             ],
             [
              0.5555555555555556,
              "#d8576b"
             ],
             [
              0.6666666666666666,
              "#ed7953"
             ],
             [
              0.7777777777777778,
              "#fb9f3a"
             ],
             [
              0.8888888888888888,
              "#fdca26"
             ],
             [
              1,
              "#f0f921"
             ]
            ],
            "type": "histogram2dcontour"
           }
          ],
          "mesh3d": [
           {
            "colorbar": {
             "outlinewidth": 0,
             "ticks": ""
            },
            "type": "mesh3d"
           }
          ],
          "parcoords": [
           {
            "line": {
             "colorbar": {
              "outlinewidth": 0,
              "ticks": ""
             }
            },
            "type": "parcoords"
           }
          ],
          "pie": [
           {
            "automargin": true,
            "type": "pie"
           }
          ],
          "scatter": [
           {
            "marker": {
             "line": {
              "color": "#283442"
             }
            },
            "type": "scatter"
           }
          ],
          "scatter3d": [
           {
            "line": {
             "colorbar": {
              "outlinewidth": 0,
              "ticks": ""
             }
            },
            "marker": {
             "colorbar": {
              "outlinewidth": 0,
              "ticks": ""
             }
            },
            "type": "scatter3d"
           }
          ],
          "scattercarpet": [
           {
            "marker": {
             "colorbar": {
              "outlinewidth": 0,
              "ticks": ""
             }
            },
            "type": "scattercarpet"
           }
          ],
          "scattergeo": [
           {
            "marker": {
             "colorbar": {
              "outlinewidth": 0,
              "ticks": ""
             }
            },
            "type": "scattergeo"
           }
          ],
          "scattergl": [
           {
            "marker": {
             "line": {
              "color": "#283442"
             }
            },
            "type": "scattergl"
           }
          ],
          "scattermapbox": [
           {
            "marker": {
             "colorbar": {
              "outlinewidth": 0,
              "ticks": ""
             }
            },
            "type": "scattermapbox"
           }
          ],
          "scatterpolar": [
           {
            "marker": {
             "colorbar": {
              "outlinewidth": 0,
              "ticks": ""
             }
            },
            "type": "scatterpolar"
           }
          ],
          "scatterpolargl": [
           {
            "marker": {
             "colorbar": {
              "outlinewidth": 0,
              "ticks": ""
             }
            },
            "type": "scatterpolargl"
           }
          ],
          "scatterternary": [
           {
            "marker": {
             "colorbar": {
              "outlinewidth": 0,
              "ticks": ""
             }
            },
            "type": "scatterternary"
           }
          ],
          "surface": [
           {
            "colorbar": {
             "outlinewidth": 0,
             "ticks": ""
            },
            "colorscale": [
             [
              0,
              "#0d0887"
             ],
             [
              0.1111111111111111,
              "#46039f"
             ],
             [
              0.2222222222222222,
              "#7201a8"
             ],
             [
              0.3333333333333333,
              "#9c179e"
             ],
             [
              0.4444444444444444,
              "#bd3786"
             ],
             [
              0.5555555555555556,
              "#d8576b"
             ],
             [
              0.6666666666666666,
              "#ed7953"
             ],
             [
              0.7777777777777778,
              "#fb9f3a"
             ],
             [
              0.8888888888888888,
              "#fdca26"
             ],
             [
              1,
              "#f0f921"
             ]
            ],
            "type": "surface"
           }
          ],
          "table": [
           {
            "cells": {
             "fill": {
              "color": "#506784"
             },
             "line": {
              "color": "rgb(17,17,17)"
             }
            },
            "header": {
             "fill": {
              "color": "#2a3f5f"
             },
             "line": {
              "color": "rgb(17,17,17)"
             }
            },
            "type": "table"
           }
          ]
         },
         "layout": {
          "annotationdefaults": {
           "arrowcolor": "#f2f5fa",
           "arrowhead": 0,
           "arrowwidth": 1
          },
          "autotypenumbers": "strict",
          "coloraxis": {
           "colorbar": {
            "outlinewidth": 0,
            "ticks": ""
           }
          },
          "colorscale": {
           "diverging": [
            [
             0,
             "#8e0152"
            ],
            [
             0.1,
             "#c51b7d"
            ],
            [
             0.2,
             "#de77ae"
            ],
            [
             0.3,
             "#f1b6da"
            ],
            [
             0.4,
             "#fde0ef"
            ],
            [
             0.5,
             "#f7f7f7"
            ],
            [
             0.6,
             "#e6f5d0"
            ],
            [
             0.7,
             "#b8e186"
            ],
            [
             0.8,
             "#7fbc41"
            ],
            [
             0.9,
             "#4d9221"
            ],
            [
             1,
             "#276419"
            ]
           ],
           "sequential": [
            [
             0,
             "#0d0887"
            ],
            [
             0.1111111111111111,
             "#46039f"
            ],
            [
             0.2222222222222222,
             "#7201a8"
            ],
            [
             0.3333333333333333,
             "#9c179e"
            ],
            [
             0.4444444444444444,
             "#bd3786"
            ],
            [
             0.5555555555555556,
             "#d8576b"
            ],
            [
             0.6666666666666666,
             "#ed7953"
            ],
            [
             0.7777777777777778,
             "#fb9f3a"
            ],
            [
             0.8888888888888888,
             "#fdca26"
            ],
            [
             1,
             "#f0f921"
            ]
           ],
           "sequentialminus": [
            [
             0,
             "#0d0887"
            ],
            [
             0.1111111111111111,
             "#46039f"
            ],
            [
             0.2222222222222222,
             "#7201a8"
            ],
            [
             0.3333333333333333,
             "#9c179e"
            ],
            [
             0.4444444444444444,
             "#bd3786"
            ],
            [
             0.5555555555555556,
             "#d8576b"
            ],
            [
             0.6666666666666666,
             "#ed7953"
            ],
            [
             0.7777777777777778,
             "#fb9f3a"
            ],
            [
             0.8888888888888888,
             "#fdca26"
            ],
            [
             1,
             "#f0f921"
            ]
           ]
          },
          "colorway": [
           "#636efa",
           "#EF553B",
           "#00cc96",
           "#ab63fa",
           "#FFA15A",
           "#19d3f3",
           "#FF6692",
           "#B6E880",
           "#FF97FF",
           "#FECB52"
          ],
          "font": {
           "color": "#f2f5fa"
          },
          "geo": {
           "bgcolor": "rgb(17,17,17)",
           "lakecolor": "rgb(17,17,17)",
           "landcolor": "rgb(17,17,17)",
           "showlakes": true,
           "showland": true,
           "subunitcolor": "#506784"
          },
          "hoverlabel": {
           "align": "left"
          },
          "hovermode": "closest",
          "mapbox": {
           "style": "dark"
          },
          "paper_bgcolor": "rgb(17,17,17)",
          "plot_bgcolor": "rgb(17,17,17)",
          "polar": {
           "angularaxis": {
            "gridcolor": "#506784",
            "linecolor": "#506784",
            "ticks": ""
           },
           "bgcolor": "rgb(17,17,17)",
           "radialaxis": {
            "gridcolor": "#506784",
            "linecolor": "#506784",
            "ticks": ""
           }
          },
          "scene": {
           "xaxis": {
            "backgroundcolor": "rgb(17,17,17)",
            "gridcolor": "#506784",
            "gridwidth": 2,
            "linecolor": "#506784",
            "showbackground": true,
            "ticks": "",
            "zerolinecolor": "#C8D4E3"
           },
           "yaxis": {
            "backgroundcolor": "rgb(17,17,17)",
            "gridcolor": "#506784",
            "gridwidth": 2,
            "linecolor": "#506784",
            "showbackground": true,
            "ticks": "",
            "zerolinecolor": "#C8D4E3"
           },
           "zaxis": {
            "backgroundcolor": "rgb(17,17,17)",
            "gridcolor": "#506784",
            "gridwidth": 2,
            "linecolor": "#506784",
            "showbackground": true,
            "ticks": "",
            "zerolinecolor": "#C8D4E3"
           }
          },
          "shapedefaults": {
           "line": {
            "color": "#f2f5fa"
           }
          },
          "sliderdefaults": {
           "bgcolor": "#C8D4E3",
           "bordercolor": "rgb(17,17,17)",
           "borderwidth": 1,
           "tickwidth": 0
          },
          "ternary": {
           "aaxis": {
            "gridcolor": "#506784",
            "linecolor": "#506784",
            "ticks": ""
           },
           "baxis": {
            "gridcolor": "#506784",
            "linecolor": "#506784",
            "ticks": ""
           },
           "bgcolor": "rgb(17,17,17)",
           "caxis": {
            "gridcolor": "#506784",
            "linecolor": "#506784",
            "ticks": ""
           }
          },
          "title": {
           "x": 0.05
          },
          "updatemenudefaults": {
           "bgcolor": "#506784",
           "borderwidth": 0
          },
          "xaxis": {
           "automargin": true,
           "gridcolor": "#283442",
           "linecolor": "#506784",
           "ticks": "",
           "title": {
            "standoff": 15
           },
           "zerolinecolor": "#283442",
           "zerolinewidth": 2
          },
          "yaxis": {
           "automargin": true,
           "gridcolor": "#283442",
           "linecolor": "#506784",
           "ticks": "",
           "title": {
            "standoff": 15
           },
           "zerolinecolor": "#283442",
           "zerolinewidth": 2
          }
         }
        },
        "title": {
         "text": "Top 10 Countries by Defense spend (% of country net income)"
        },
        "xaxis": {
         "showticklabels": false
        }
       }
      }
     },
     "metadata": {},
     "output_type": "display_data"
    }
   ],
   "source": [
    "data = filter_dataframe(defense_country, 2023, 'value_pct_national_income', count=10).sort_values(by='value_pct_national_income')\n",
    "avg_value = data['value_pct_national_income'].mean()\n",
    "flags = data['country'].apply(get_country_flag)\n",
    "countries = data['countryname'].values + ' ' + flags.values\n",
    "values = data['value_pct_national_income'].values - avg_value\n",
    "text = data['value_pct_national_income'].values\n",
    "\n",
    "fig = go.Figure(\n",
    "    go.Bar(\n",
    "        x=values,\n",
    "        y=countries,\n",
    "        orientation='h',\n",
    "        text=text,\n",
    "        texttemplate='%{text:.1%}'\n",
    "    )\n",
    ")\n",
    "\n",
    "fig.update_layout(\n",
    "    title='Top 10 Countries by Defense spend (% of country net income)',\n",
    "    xaxis=dict(\n",
    "        showticklabels=False\n",
    "    )\n",
    ")\n",
    "\n",
    "fig.add_vline(\n",
    "    x=0,\n",
    "    annotation_text=f\"Mean {avg_value:.1%}\",\n",
    "    annotation_position='top'\n",
    ")\n",
    "\n",
    "fig.show()"
   ]
  },
  {
   "cell_type": "code",
   "execution_count": 588,
   "metadata": {},
   "outputs": [
    {
     "data": {
      "text/html": [
       "<div>\n",
       "<style scoped>\n",
       "    .dataframe tbody tr th:only-of-type {\n",
       "        vertical-align: middle;\n",
       "    }\n",
       "\n",
       "    .dataframe tbody tr th {\n",
       "        vertical-align: top;\n",
       "    }\n",
       "\n",
       "    .dataframe thead th {\n",
       "        text-align: right;\n",
       "    }\n",
       "</style>\n",
       "<table border=\"1\" class=\"dataframe\">\n",
       "  <thead>\n",
       "    <tr style=\"text-align: right;\">\n",
       "      <th></th>\n",
       "      <th>year</th>\n",
       "      <th>country</th>\n",
       "      <th>countryname</th>\n",
       "      <th>region</th>\n",
       "      <th>value_ppp</th>\n",
       "      <th>value_usd</th>\n",
       "      <th>value_usd_per_capita</th>\n",
       "      <th>value_pct_national_income</th>\n",
       "    </tr>\n",
       "  </thead>\n",
       "  <tbody>\n",
       "    <tr>\n",
       "      <th>9501</th>\n",
       "      <td>2023</td>\n",
       "      <td>AE</td>\n",
       "      <td>the United Arab Emirates</td>\n",
       "      <td>Asia</td>\n",
       "      <td>5.556492e+10</td>\n",
       "      <td>3.507905e+10</td>\n",
       "      <td>3685.981009</td>\n",
       "      <td>0.072850</td>\n",
       "    </tr>\n",
       "    <tr>\n",
       "      <th>9649</th>\n",
       "      <td>2023</td>\n",
       "      <td>OM</td>\n",
       "      <td>Oman</td>\n",
       "      <td>Asia</td>\n",
       "      <td>2.337247e+10</td>\n",
       "      <td>1.234670e+10</td>\n",
       "      <td>2658.538142</td>\n",
       "      <td>0.149595</td>\n",
       "    </tr>\n",
       "    <tr>\n",
       "      <th>9586</th>\n",
       "      <td>2023</td>\n",
       "      <td>IL</td>\n",
       "      <td>Israel</td>\n",
       "      <td>Asia</td>\n",
       "      <td>2.205044e+10</td>\n",
       "      <td>2.127413e+10</td>\n",
       "      <td>2318.836745</td>\n",
       "      <td>0.050527</td>\n",
       "    </tr>\n",
       "    <tr>\n",
       "      <th>9699</th>\n",
       "      <td>2023</td>\n",
       "      <td>UA</td>\n",
       "      <td>Ukraine</td>\n",
       "      <td>Asia</td>\n",
       "      <td>1.372705e+11</td>\n",
       "      <td>3.914094e+10</td>\n",
       "      <td>1065.216459</td>\n",
       "      <td>0.244740</td>\n",
       "    </tr>\n",
       "    <tr>\n",
       "      <th>9506</th>\n",
       "      <td>2023</td>\n",
       "      <td>AM</td>\n",
       "      <td>Armenia</td>\n",
       "      <td>Asia</td>\n",
       "      <td>3.646722e+09</td>\n",
       "      <td>1.401070e+09</td>\n",
       "      <td>504.350363</td>\n",
       "      <td>0.069301</td>\n",
       "    </tr>\n",
       "    <tr>\n",
       "      <th>9595</th>\n",
       "      <td>2023</td>\n",
       "      <td>JO</td>\n",
       "      <td>Jordan</td>\n",
       "      <td>Asia</td>\n",
       "      <td>5.912149e+09</td>\n",
       "      <td>2.542771e+09</td>\n",
       "      <td>224.242420</td>\n",
       "      <td>0.055675</td>\n",
       "    </tr>\n",
       "    <tr>\n",
       "      <th>9620</th>\n",
       "      <td>2023</td>\n",
       "      <td>MA</td>\n",
       "      <td>Morocco</td>\n",
       "      <td>Africa</td>\n",
       "      <td>1.783645e+10</td>\n",
       "      <td>6.847558e+09</td>\n",
       "      <td>180.963923</td>\n",
       "      <td>0.049809</td>\n",
       "    </tr>\n",
       "    <tr>\n",
       "      <th>9598</th>\n",
       "      <td>2023</td>\n",
       "      <td>KG</td>\n",
       "      <td>Kyrgyzstan</td>\n",
       "      <td>Asia</td>\n",
       "      <td>2.433491e+09</td>\n",
       "      <td>6.493884e+08</td>\n",
       "      <td>96.414626</td>\n",
       "      <td>0.053665</td>\n",
       "    </tr>\n",
       "    <tr>\n",
       "      <th>9502</th>\n",
       "      <td>2023</td>\n",
       "      <td>AF</td>\n",
       "      <td>Afghanistan</td>\n",
       "      <td>Asia</td>\n",
       "      <td>5.429521e+09</td>\n",
       "      <td>9.515640e+08</td>\n",
       "      <td>22.528004</td>\n",
       "      <td>0.071995</td>\n",
       "    </tr>\n",
       "    <tr>\n",
       "      <th>9520</th>\n",
       "      <td>2023</td>\n",
       "      <td>BI</td>\n",
       "      <td>Burundi</td>\n",
       "      <td>Africa</td>\n",
       "      <td>8.196580e+08</td>\n",
       "      <td>2.297713e+08</td>\n",
       "      <td>17.356228</td>\n",
       "      <td>0.070579</td>\n",
       "    </tr>\n",
       "  </tbody>\n",
       "</table>\n",
       "</div>"
      ],
      "text/plain": [
       "      year country               countryname  region     value_ppp  \\\n",
       "9501  2023      AE  the United Arab Emirates    Asia  5.556492e+10   \n",
       "9649  2023      OM                      Oman    Asia  2.337247e+10   \n",
       "9586  2023      IL                    Israel    Asia  2.205044e+10   \n",
       "9699  2023      UA                   Ukraine    Asia  1.372705e+11   \n",
       "9506  2023      AM                   Armenia    Asia  3.646722e+09   \n",
       "9595  2023      JO                    Jordan    Asia  5.912149e+09   \n",
       "9620  2023      MA                   Morocco  Africa  1.783645e+10   \n",
       "9598  2023      KG                Kyrgyzstan    Asia  2.433491e+09   \n",
       "9502  2023      AF               Afghanistan    Asia  5.429521e+09   \n",
       "9520  2023      BI                   Burundi  Africa  8.196580e+08   \n",
       "\n",
       "         value_usd  value_usd_per_capita  value_pct_national_income  \n",
       "9501  3.507905e+10           3685.981009                   0.072850  \n",
       "9649  1.234670e+10           2658.538142                   0.149595  \n",
       "9586  2.127413e+10           2318.836745                   0.050527  \n",
       "9699  3.914094e+10           1065.216459                   0.244740  \n",
       "9506  1.401070e+09            504.350363                   0.069301  \n",
       "9595  2.542771e+09            224.242420                   0.055675  \n",
       "9620  6.847558e+09            180.963923                   0.049809  \n",
       "9598  6.493884e+08             96.414626                   0.053665  \n",
       "9502  9.515640e+08             22.528004                   0.071995  \n",
       "9520  2.297713e+08             17.356228                   0.070579  "
      ]
     },
     "execution_count": 588,
     "metadata": {},
     "output_type": "execute_result"
    }
   ],
   "source": [
    "a = defense_country[defense_country['countryname'].isin(countries)]\n",
    "per_capita = filter_dataframe(a, year=2023, column='value_usd_per_capita', count=10)\n",
    "per_capita_countries = per_capita['countryname'].values\n",
    "per_capita_mean = per_capita['value_usd_per_capita'].mean()\n",
    "per_capita_values = per_capita['value_usd_per_capita'].values\n",
    "per_capita_data = per_capita_values - per_capita_mean\n",
    "per_capita"
   ]
  },
  {
   "cell_type": "code",
   "execution_count": 608,
   "metadata": {},
   "outputs": [
    {
     "data": {
      "application/vnd.plotly.v1+json": {
       "config": {
        "plotlyServerURL": "https://plot.ly"
       },
       "data": [
        {
         "name": "% of national income",
         "orientation": "h",
         "text": [
          0.0498086810112,
          0.0505272559821606,
          0.053665179759264,
          0.0556750483810902,
          0.069301076233387,
          0.0705788657069206,
          0.0719950497150421,
          0.0728499740362167,
          0.1495947241783142,
          0.2447395026683807
         ],
         "texttemplate": "%{text:.0%}",
         "type": "bar",
         "x": [
          -0.039064854755997615,
          -0.03834627978503701,
          -0.035208356007933615,
          -0.033198487386107416,
          -0.01957245953381062,
          -0.01829467006027702,
          -0.016878486052155514,
          -0.01602356173098092,
          0.060721188411116594,
          0.1558659669011831
         ],
         "xaxis": "x",
         "y": [
          "Morocco",
          "Israel",
          "Kyrgyzstan",
          "Jordan",
          "Armenia",
          "Burundi",
          "Afghanistan",
          "the United Arab Emirates",
          "Oman",
          "Ukraine"
         ],
         "yaxis": "y"
        },
        {
         "name": "per capita (USD)",
         "orientation": "h",
         "text": [
          3685.9810088717986,
          2658.538141585063,
          2318.836744984938,
          1065.2164586606748,
          504.350363237124,
          224.2424195704853,
          180.9639227436141,
          96.41462596268047,
          22.528003928572115,
          17.35622800844476
         ],
         "textposition": "inside",
         "texttemplate": "$%{text:,.0f}",
         "type": "bar",
         "x": [
          2608.5382171164592,
          1581.0953498297235,
          1241.3939532295985,
          -12.226333094664597,
          -573.0924285182155,
          -853.2003721848541,
          -896.4788690117252,
          -981.0281657926589,
          -1054.9147878267672,
          -1060.0865637468946
         ],
         "xaxis": "x2",
         "y": [
          "the United Arab Emirates",
          "Oman",
          "Israel",
          "Ukraine",
          "Armenia",
          "Jordan",
          "Morocco",
          "Kyrgyzstan",
          "Afghanistan",
          "Burundi"
         ],
         "yaxis": "y2"
        }
       ],
       "layout": {
        "annotations": [
         {
          "showarrow": false,
          "text": "Mean",
          "x": 0,
          "xanchor": "center",
          "xref": "x",
          "y": 1,
          "yanchor": "bottom",
          "yref": "y domain"
         },
         {
          "showarrow": false,
          "text": "Mean",
          "x": 0,
          "xanchor": "center",
          "xref": "x2",
          "y": 1,
          "yanchor": "bottom",
          "yref": "y2 domain"
         }
        ],
        "shapes": [
         {
          "type": "line",
          "x0": 0,
          "x1": 0,
          "xref": "x",
          "y0": 0,
          "y1": 1,
          "yref": "y domain"
         },
         {
          "type": "line",
          "x0": 0,
          "x1": 0,
          "xref": "x2",
          "y0": 0,
          "y1": 1,
          "yref": "y2 domain"
         }
        ],
        "template": {
         "data": {
          "bar": [
           {
            "error_x": {
             "color": "#f2f5fa"
            },
            "error_y": {
             "color": "#f2f5fa"
            },
            "marker": {
             "line": {
              "color": "rgb(17,17,17)",
              "width": 0.5
             },
             "pattern": {
              "fillmode": "overlay",
              "size": 10,
              "solidity": 0.2
             }
            },
            "type": "bar"
           }
          ],
          "barpolar": [
           {
            "marker": {
             "line": {
              "color": "rgb(17,17,17)",
              "width": 0.5
             },
             "pattern": {
              "fillmode": "overlay",
              "size": 10,
              "solidity": 0.2
             }
            },
            "type": "barpolar"
           }
          ],
          "carpet": [
           {
            "aaxis": {
             "endlinecolor": "#A2B1C6",
             "gridcolor": "#506784",
             "linecolor": "#506784",
             "minorgridcolor": "#506784",
             "startlinecolor": "#A2B1C6"
            },
            "baxis": {
             "endlinecolor": "#A2B1C6",
             "gridcolor": "#506784",
             "linecolor": "#506784",
             "minorgridcolor": "#506784",
             "startlinecolor": "#A2B1C6"
            },
            "type": "carpet"
           }
          ],
          "choropleth": [
           {
            "colorbar": {
             "outlinewidth": 0,
             "ticks": ""
            },
            "type": "choropleth"
           }
          ],
          "contour": [
           {
            "colorbar": {
             "outlinewidth": 0,
             "ticks": ""
            },
            "colorscale": [
             [
              0,
              "#0d0887"
             ],
             [
              0.1111111111111111,
              "#46039f"
             ],
             [
              0.2222222222222222,
              "#7201a8"
             ],
             [
              0.3333333333333333,
              "#9c179e"
             ],
             [
              0.4444444444444444,
              "#bd3786"
             ],
             [
              0.5555555555555556,
              "#d8576b"
             ],
             [
              0.6666666666666666,
              "#ed7953"
             ],
             [
              0.7777777777777778,
              "#fb9f3a"
             ],
             [
              0.8888888888888888,
              "#fdca26"
             ],
             [
              1,
              "#f0f921"
             ]
            ],
            "type": "contour"
           }
          ],
          "contourcarpet": [
           {
            "colorbar": {
             "outlinewidth": 0,
             "ticks": ""
            },
            "type": "contourcarpet"
           }
          ],
          "heatmap": [
           {
            "colorbar": {
             "outlinewidth": 0,
             "ticks": ""
            },
            "colorscale": [
             [
              0,
              "#0d0887"
             ],
             [
              0.1111111111111111,
              "#46039f"
             ],
             [
              0.2222222222222222,
              "#7201a8"
             ],
             [
              0.3333333333333333,
              "#9c179e"
             ],
             [
              0.4444444444444444,
              "#bd3786"
             ],
             [
              0.5555555555555556,
              "#d8576b"
             ],
             [
              0.6666666666666666,
              "#ed7953"
             ],
             [
              0.7777777777777778,
              "#fb9f3a"
             ],
             [
              0.8888888888888888,
              "#fdca26"
             ],
             [
              1,
              "#f0f921"
             ]
            ],
            "type": "heatmap"
           }
          ],
          "heatmapgl": [
           {
            "colorbar": {
             "outlinewidth": 0,
             "ticks": ""
            },
            "colorscale": [
             [
              0,
              "#0d0887"
             ],
             [
              0.1111111111111111,
              "#46039f"
             ],
             [
              0.2222222222222222,
              "#7201a8"
             ],
             [
              0.3333333333333333,
              "#9c179e"
             ],
             [
              0.4444444444444444,
              "#bd3786"
             ],
             [
              0.5555555555555556,
              "#d8576b"
             ],
             [
              0.6666666666666666,
              "#ed7953"
             ],
             [
              0.7777777777777778,
              "#fb9f3a"
             ],
             [
              0.8888888888888888,
              "#fdca26"
             ],
             [
              1,
              "#f0f921"
             ]
            ],
            "type": "heatmapgl"
           }
          ],
          "histogram": [
           {
            "marker": {
             "pattern": {
              "fillmode": "overlay",
              "size": 10,
              "solidity": 0.2
             }
            },
            "type": "histogram"
           }
          ],
          "histogram2d": [
           {
            "colorbar": {
             "outlinewidth": 0,
             "ticks": ""
            },
            "colorscale": [
             [
              0,
              "#0d0887"
             ],
             [
              0.1111111111111111,
              "#46039f"
             ],
             [
              0.2222222222222222,
              "#7201a8"
             ],
             [
              0.3333333333333333,
              "#9c179e"
             ],
             [
              0.4444444444444444,
              "#bd3786"
             ],
             [
              0.5555555555555556,
              "#d8576b"
             ],
             [
              0.6666666666666666,
              "#ed7953"
             ],
             [
              0.7777777777777778,
              "#fb9f3a"
             ],
             [
              0.8888888888888888,
              "#fdca26"
             ],
             [
              1,
              "#f0f921"
             ]
            ],
            "type": "histogram2d"
           }
          ],
          "histogram2dcontour": [
           {
            "colorbar": {
             "outlinewidth": 0,
             "ticks": ""
            },
            "colorscale": [
             [
              0,
              "#0d0887"
             ],
             [
              0.1111111111111111,
              "#46039f"
             ],
             [
              0.2222222222222222,
              "#7201a8"
             ],
             [
              0.3333333333333333,
              "#9c179e"
             ],
             [
              0.4444444444444444,
              "#bd3786"
             ],
             [
              0.5555555555555556,
              "#d8576b"
             ],
             [
              0.6666666666666666,
              "#ed7953"
             ],
             [
              0.7777777777777778,
              "#fb9f3a"
             ],
             [
              0.8888888888888888,
              "#fdca26"
             ],
             [
              1,
              "#f0f921"
             ]
            ],
            "type": "histogram2dcontour"
           }
          ],
          "mesh3d": [
           {
            "colorbar": {
             "outlinewidth": 0,
             "ticks": ""
            },
            "type": "mesh3d"
           }
          ],
          "parcoords": [
           {
            "line": {
             "colorbar": {
              "outlinewidth": 0,
              "ticks": ""
             }
            },
            "type": "parcoords"
           }
          ],
          "pie": [
           {
            "automargin": true,
            "type": "pie"
           }
          ],
          "scatter": [
           {
            "marker": {
             "line": {
              "color": "#283442"
             }
            },
            "type": "scatter"
           }
          ],
          "scatter3d": [
           {
            "line": {
             "colorbar": {
              "outlinewidth": 0,
              "ticks": ""
             }
            },
            "marker": {
             "colorbar": {
              "outlinewidth": 0,
              "ticks": ""
             }
            },
            "type": "scatter3d"
           }
          ],
          "scattercarpet": [
           {
            "marker": {
             "colorbar": {
              "outlinewidth": 0,
              "ticks": ""
             }
            },
            "type": "scattercarpet"
           }
          ],
          "scattergeo": [
           {
            "marker": {
             "colorbar": {
              "outlinewidth": 0,
              "ticks": ""
             }
            },
            "type": "scattergeo"
           }
          ],
          "scattergl": [
           {
            "marker": {
             "line": {
              "color": "#283442"
             }
            },
            "type": "scattergl"
           }
          ],
          "scattermapbox": [
           {
            "marker": {
             "colorbar": {
              "outlinewidth": 0,
              "ticks": ""
             }
            },
            "type": "scattermapbox"
           }
          ],
          "scatterpolar": [
           {
            "marker": {
             "colorbar": {
              "outlinewidth": 0,
              "ticks": ""
             }
            },
            "type": "scatterpolar"
           }
          ],
          "scatterpolargl": [
           {
            "marker": {
             "colorbar": {
              "outlinewidth": 0,
              "ticks": ""
             }
            },
            "type": "scatterpolargl"
           }
          ],
          "scatterternary": [
           {
            "marker": {
             "colorbar": {
              "outlinewidth": 0,
              "ticks": ""
             }
            },
            "type": "scatterternary"
           }
          ],
          "surface": [
           {
            "colorbar": {
             "outlinewidth": 0,
             "ticks": ""
            },
            "colorscale": [
             [
              0,
              "#0d0887"
             ],
             [
              0.1111111111111111,
              "#46039f"
             ],
             [
              0.2222222222222222,
              "#7201a8"
             ],
             [
              0.3333333333333333,
              "#9c179e"
             ],
             [
              0.4444444444444444,
              "#bd3786"
             ],
             [
              0.5555555555555556,
              "#d8576b"
             ],
             [
              0.6666666666666666,
              "#ed7953"
             ],
             [
              0.7777777777777778,
              "#fb9f3a"
             ],
             [
              0.8888888888888888,
              "#fdca26"
             ],
             [
              1,
              "#f0f921"
             ]
            ],
            "type": "surface"
           }
          ],
          "table": [
           {
            "cells": {
             "fill": {
              "color": "#506784"
             },
             "line": {
              "color": "rgb(17,17,17)"
             }
            },
            "header": {
             "fill": {
              "color": "#2a3f5f"
             },
             "line": {
              "color": "rgb(17,17,17)"
             }
            },
            "type": "table"
           }
          ]
         },
         "layout": {
          "annotationdefaults": {
           "arrowcolor": "#f2f5fa",
           "arrowhead": 0,
           "arrowwidth": 1
          },
          "autotypenumbers": "strict",
          "coloraxis": {
           "colorbar": {
            "outlinewidth": 0,
            "ticks": ""
           }
          },
          "colorscale": {
           "diverging": [
            [
             0,
             "#8e0152"
            ],
            [
             0.1,
             "#c51b7d"
            ],
            [
             0.2,
             "#de77ae"
            ],
            [
             0.3,
             "#f1b6da"
            ],
            [
             0.4,
             "#fde0ef"
            ],
            [
             0.5,
             "#f7f7f7"
            ],
            [
             0.6,
             "#e6f5d0"
            ],
            [
             0.7,
             "#b8e186"
            ],
            [
             0.8,
             "#7fbc41"
            ],
            [
             0.9,
             "#4d9221"
            ],
            [
             1,
             "#276419"
            ]
           ],
           "sequential": [
            [
             0,
             "#0d0887"
            ],
            [
             0.1111111111111111,
             "#46039f"
            ],
            [
             0.2222222222222222,
             "#7201a8"
            ],
            [
             0.3333333333333333,
             "#9c179e"
            ],
            [
             0.4444444444444444,
             "#bd3786"
            ],
            [
             0.5555555555555556,
             "#d8576b"
            ],
            [
             0.6666666666666666,
             "#ed7953"
            ],
            [
             0.7777777777777778,
             "#fb9f3a"
            ],
            [
             0.8888888888888888,
             "#fdca26"
            ],
            [
             1,
             "#f0f921"
            ]
           ],
           "sequentialminus": [
            [
             0,
             "#0d0887"
            ],
            [
             0.1111111111111111,
             "#46039f"
            ],
            [
             0.2222222222222222,
             "#7201a8"
            ],
            [
             0.3333333333333333,
             "#9c179e"
            ],
            [
             0.4444444444444444,
             "#bd3786"
            ],
            [
             0.5555555555555556,
             "#d8576b"
            ],
            [
             0.6666666666666666,
             "#ed7953"
            ],
            [
             0.7777777777777778,
             "#fb9f3a"
            ],
            [
             0.8888888888888888,
             "#fdca26"
            ],
            [
             1,
             "#f0f921"
            ]
           ]
          },
          "colorway": [
           "#636efa",
           "#EF553B",
           "#00cc96",
           "#ab63fa",
           "#FFA15A",
           "#19d3f3",
           "#FF6692",
           "#B6E880",
           "#FF97FF",
           "#FECB52"
          ],
          "font": {
           "color": "#f2f5fa"
          },
          "geo": {
           "bgcolor": "rgb(17,17,17)",
           "lakecolor": "rgb(17,17,17)",
           "landcolor": "rgb(17,17,17)",
           "showlakes": true,
           "showland": true,
           "subunitcolor": "#506784"
          },
          "hoverlabel": {
           "align": "left"
          },
          "hovermode": "closest",
          "mapbox": {
           "style": "dark"
          },
          "paper_bgcolor": "rgb(17,17,17)",
          "plot_bgcolor": "rgb(17,17,17)",
          "polar": {
           "angularaxis": {
            "gridcolor": "#506784",
            "linecolor": "#506784",
            "ticks": ""
           },
           "bgcolor": "rgb(17,17,17)",
           "radialaxis": {
            "gridcolor": "#506784",
            "linecolor": "#506784",
            "ticks": ""
           }
          },
          "scene": {
           "xaxis": {
            "backgroundcolor": "rgb(17,17,17)",
            "gridcolor": "#506784",
            "gridwidth": 2,
            "linecolor": "#506784",
            "showbackground": true,
            "ticks": "",
            "zerolinecolor": "#C8D4E3"
           },
           "yaxis": {
            "backgroundcolor": "rgb(17,17,17)",
            "gridcolor": "#506784",
            "gridwidth": 2,
            "linecolor": "#506784",
            "showbackground": true,
            "ticks": "",
            "zerolinecolor": "#C8D4E3"
           },
           "zaxis": {
            "backgroundcolor": "rgb(17,17,17)",
            "gridcolor": "#506784",
            "gridwidth": 2,
            "linecolor": "#506784",
            "showbackground": true,
            "ticks": "",
            "zerolinecolor": "#C8D4E3"
           }
          },
          "shapedefaults": {
           "line": {
            "color": "#f2f5fa"
           }
          },
          "sliderdefaults": {
           "bgcolor": "#C8D4E3",
           "bordercolor": "rgb(17,17,17)",
           "borderwidth": 1,
           "tickwidth": 0
          },
          "ternary": {
           "aaxis": {
            "gridcolor": "#506784",
            "linecolor": "#506784",
            "ticks": ""
           },
           "baxis": {
            "gridcolor": "#506784",
            "linecolor": "#506784",
            "ticks": ""
           },
           "bgcolor": "rgb(17,17,17)",
           "caxis": {
            "gridcolor": "#506784",
            "linecolor": "#506784",
            "ticks": ""
           }
          },
          "title": {
           "x": 0.05
          },
          "updatemenudefaults": {
           "bgcolor": "#506784",
           "borderwidth": 0
          },
          "xaxis": {
           "automargin": true,
           "gridcolor": "#283442",
           "linecolor": "#506784",
           "ticks": "",
           "title": {
            "standoff": 15
           },
           "zerolinecolor": "#283442",
           "zerolinewidth": 2
          },
          "yaxis": {
           "automargin": true,
           "gridcolor": "#283442",
           "linecolor": "#506784",
           "ticks": "",
           "title": {
            "standoff": 15
           },
           "zerolinecolor": "#283442",
           "zerolinewidth": 2
          }
         }
        },
        "title": {
         "text": "Top 10 Countries by Defense spend (% of country net income)"
        },
        "xaxis": {
         "anchor": "y",
         "domain": [
          0,
          0.45
         ],
         "showticklabels": false
        },
        "xaxis2": {
         "anchor": "y2",
         "domain": [
          0.55,
          1
         ],
         "showticklabels": false
        },
        "yaxis": {
         "anchor": "x",
         "domain": [
          0,
          1
         ]
        },
        "yaxis2": {
         "anchor": "x2",
         "domain": [
          0,
          1
         ],
         "matches": "y",
         "showticklabels": false
        }
       }
      }
     },
     "metadata": {},
     "output_type": "display_data"
    }
   ],
   "source": [
    "\n",
    "\n",
    "fig = make_subplots(\n",
    "    rows=1,\n",
    "    cols=2,\n",
    "    specs=[[{}, {}]],\n",
    "    shared_xaxes=True,\n",
    "    shared_yaxes=True\n",
    "    )\n",
    "\n",
    "fig.add_trace(go.Bar(\n",
    "        x=values,\n",
    "        y=countries,\n",
    "        orientation='h',\n",
    "        text=text,\n",
    "        texttemplate='%{text:.0%}',\n",
    "        name='% of national income'\n",
    "    ),\n",
    "    row=1,\n",
    "    col=1\n",
    ")\n",
    "\n",
    "fig.add_trace(go.Bar(\n",
    "        x=per_capita_data,\n",
    "        y=per_capita_countries,\n",
    "        orientation='h',\n",
    "        text=per_capita_values,\n",
    "        texttemplate='$%{text:,.0f}',\n",
    "        textposition='inside',\n",
    "        name='per capita (USD)'\n",
    "    ),\n",
    "    row=1,\n",
    "    col=2\n",
    ")\n",
    "\n",
    "fig.add_vline(\n",
    "    x=0,\n",
    "    annotation_text='Mean',\n",
    "    annotation_position='top'\n",
    ")\n",
    "\n",
    "fig.update_layout(\n",
    "    title='Top 10 Countries by Defense spend (% of country net income)',\n",
    "    xaxis=dict(\n",
    "        showticklabels=False\n",
    "    ),\n",
    "    xaxis2=dict(\n",
    "        showticklabels=False\n",
    "    )\n",
    ")\n",
    "\n",
    "fig.show()"
   ]
  },
  {
   "cell_type": "code",
   "execution_count": 634,
   "metadata": {},
   "outputs": [
    {
     "data": {
      "application/vnd.plotly.v1+json": {
       "config": {
        "plotlyServerURL": "https://plot.ly"
       },
       "data": [
        {
         "orientation": "h",
         "text": [
          34.555983007299766,
          35.07905488044021,
          39.10517690848486,
          39.14094432107954,
          39.693776554663444,
          40.47727979777802,
          49.37781230118529,
          52.78710345172406,
          249.5105221785366,
          655.759179776
         ],
         "texttemplate": "$%{text:,.0f}B",
         "type": "bar",
         "x": [
          -88992700310.41943,
          -88469628437.27899,
          -84443506409.23434,
          -84407738996.63965,
          -83854906763.05576,
          -83071403519.94118,
          -74170871016.5339,
          -70761579865.99513,
          125961838860.8174,
          532210496458.2808
         ],
         "y": [
          "Saudi Arabia",
          "the United Arab Emirates",
          "India",
          "Ukraine",
          "the United Kingdom",
          "Japan",
          "Germany",
          "France",
          "China",
          "the USA"
         ]
        }
       ],
       "layout": {
        "annotations": [
         {
          "showarrow": false,
          "text": "Mean",
          "x": 0,
          "xanchor": "center",
          "xref": "x",
          "y": 1,
          "yanchor": "bottom",
          "yref": "y domain"
         }
        ],
        "shapes": [
         {
          "type": "line",
          "x0": 0,
          "x1": 0,
          "xref": "x",
          "y0": 0,
          "y1": 1,
          "yref": "y domain"
         }
        ],
        "template": {
         "data": {
          "bar": [
           {
            "error_x": {
             "color": "#f2f5fa"
            },
            "error_y": {
             "color": "#f2f5fa"
            },
            "marker": {
             "line": {
              "color": "rgb(17,17,17)",
              "width": 0.5
             },
             "pattern": {
              "fillmode": "overlay",
              "size": 10,
              "solidity": 0.2
             }
            },
            "type": "bar"
           }
          ],
          "barpolar": [
           {
            "marker": {
             "line": {
              "color": "rgb(17,17,17)",
              "width": 0.5
             },
             "pattern": {
              "fillmode": "overlay",
              "size": 10,
              "solidity": 0.2
             }
            },
            "type": "barpolar"
           }
          ],
          "carpet": [
           {
            "aaxis": {
             "endlinecolor": "#A2B1C6",
             "gridcolor": "#506784",
             "linecolor": "#506784",
             "minorgridcolor": "#506784",
             "startlinecolor": "#A2B1C6"
            },
            "baxis": {
             "endlinecolor": "#A2B1C6",
             "gridcolor": "#506784",
             "linecolor": "#506784",
             "minorgridcolor": "#506784",
             "startlinecolor": "#A2B1C6"
            },
            "type": "carpet"
           }
          ],
          "choropleth": [
           {
            "colorbar": {
             "outlinewidth": 0,
             "ticks": ""
            },
            "type": "choropleth"
           }
          ],
          "contour": [
           {
            "colorbar": {
             "outlinewidth": 0,
             "ticks": ""
            },
            "colorscale": [
             [
              0,
              "#0d0887"
             ],
             [
              0.1111111111111111,
              "#46039f"
             ],
             [
              0.2222222222222222,
              "#7201a8"
             ],
             [
              0.3333333333333333,
              "#9c179e"
             ],
             [
              0.4444444444444444,
              "#bd3786"
             ],
             [
              0.5555555555555556,
              "#d8576b"
             ],
             [
              0.6666666666666666,
              "#ed7953"
             ],
             [
              0.7777777777777778,
              "#fb9f3a"
             ],
             [
              0.8888888888888888,
              "#fdca26"
             ],
             [
              1,
              "#f0f921"
             ]
            ],
            "type": "contour"
           }
          ],
          "contourcarpet": [
           {
            "colorbar": {
             "outlinewidth": 0,
             "ticks": ""
            },
            "type": "contourcarpet"
           }
          ],
          "heatmap": [
           {
            "colorbar": {
             "outlinewidth": 0,
             "ticks": ""
            },
            "colorscale": [
             [
              0,
              "#0d0887"
             ],
             [
              0.1111111111111111,
              "#46039f"
             ],
             [
              0.2222222222222222,
              "#7201a8"
             ],
             [
              0.3333333333333333,
              "#9c179e"
             ],
             [
              0.4444444444444444,
              "#bd3786"
             ],
             [
              0.5555555555555556,
              "#d8576b"
             ],
             [
              0.6666666666666666,
              "#ed7953"
             ],
             [
              0.7777777777777778,
              "#fb9f3a"
             ],
             [
              0.8888888888888888,
              "#fdca26"
             ],
             [
              1,
              "#f0f921"
             ]
            ],
            "type": "heatmap"
           }
          ],
          "heatmapgl": [
           {
            "colorbar": {
             "outlinewidth": 0,
             "ticks": ""
            },
            "colorscale": [
             [
              0,
              "#0d0887"
             ],
             [
              0.1111111111111111,
              "#46039f"
             ],
             [
              0.2222222222222222,
              "#7201a8"
             ],
             [
              0.3333333333333333,
              "#9c179e"
             ],
             [
              0.4444444444444444,
              "#bd3786"
             ],
             [
              0.5555555555555556,
              "#d8576b"
             ],
             [
              0.6666666666666666,
              "#ed7953"
             ],
             [
              0.7777777777777778,
              "#fb9f3a"
             ],
             [
              0.8888888888888888,
              "#fdca26"
             ],
             [
              1,
              "#f0f921"
             ]
            ],
            "type": "heatmapgl"
           }
          ],
          "histogram": [
           {
            "marker": {
             "pattern": {
              "fillmode": "overlay",
              "size": 10,
              "solidity": 0.2
             }
            },
            "type": "histogram"
           }
          ],
          "histogram2d": [
           {
            "colorbar": {
             "outlinewidth": 0,
             "ticks": ""
            },
            "colorscale": [
             [
              0,
              "#0d0887"
             ],
             [
              0.1111111111111111,
              "#46039f"
             ],
             [
              0.2222222222222222,
              "#7201a8"
             ],
             [
              0.3333333333333333,
              "#9c179e"
             ],
             [
              0.4444444444444444,
              "#bd3786"
             ],
             [
              0.5555555555555556,
              "#d8576b"
             ],
             [
              0.6666666666666666,
              "#ed7953"
             ],
             [
              0.7777777777777778,
              "#fb9f3a"
             ],
             [
              0.8888888888888888,
              "#fdca26"
             ],
             [
              1,
              "#f0f921"
             ]
            ],
            "type": "histogram2d"
           }
          ],
          "histogram2dcontour": [
           {
            "colorbar": {
             "outlinewidth": 0,
             "ticks": ""
            },
            "colorscale": [
             [
              0,
              "#0d0887"
             ],
             [
              0.1111111111111111,
              "#46039f"
             ],
             [
              0.2222222222222222,
              "#7201a8"
             ],
             [
              0.3333333333333333,
              "#9c179e"
             ],
             [
              0.4444444444444444,
              "#bd3786"
             ],
             [
              0.5555555555555556,
              "#d8576b"
             ],
             [
              0.6666666666666666,
              "#ed7953"
             ],
             [
              0.7777777777777778,
              "#fb9f3a"
             ],
             [
              0.8888888888888888,
              "#fdca26"
             ],
             [
              1,
              "#f0f921"
             ]
            ],
            "type": "histogram2dcontour"
           }
          ],
          "mesh3d": [
           {
            "colorbar": {
             "outlinewidth": 0,
             "ticks": ""
            },
            "type": "mesh3d"
           }
          ],
          "parcoords": [
           {
            "line": {
             "colorbar": {
              "outlinewidth": 0,
              "ticks": ""
             }
            },
            "type": "parcoords"
           }
          ],
          "pie": [
           {
            "automargin": true,
            "type": "pie"
           }
          ],
          "scatter": [
           {
            "marker": {
             "line": {
              "color": "#283442"
             }
            },
            "type": "scatter"
           }
          ],
          "scatter3d": [
           {
            "line": {
             "colorbar": {
              "outlinewidth": 0,
              "ticks": ""
             }
            },
            "marker": {
             "colorbar": {
              "outlinewidth": 0,
              "ticks": ""
             }
            },
            "type": "scatter3d"
           }
          ],
          "scattercarpet": [
           {
            "marker": {
             "colorbar": {
              "outlinewidth": 0,
              "ticks": ""
             }
            },
            "type": "scattercarpet"
           }
          ],
          "scattergeo": [
           {
            "marker": {
             "colorbar": {
              "outlinewidth": 0,
              "ticks": ""
             }
            },
            "type": "scattergeo"
           }
          ],
          "scattergl": [
           {
            "marker": {
             "line": {
              "color": "#283442"
             }
            },
            "type": "scattergl"
           }
          ],
          "scattermapbox": [
           {
            "marker": {
             "colorbar": {
              "outlinewidth": 0,
              "ticks": ""
             }
            },
            "type": "scattermapbox"
           }
          ],
          "scatterpolar": [
           {
            "marker": {
             "colorbar": {
              "outlinewidth": 0,
              "ticks": ""
             }
            },
            "type": "scatterpolar"
           }
          ],
          "scatterpolargl": [
           {
            "marker": {
             "colorbar": {
              "outlinewidth": 0,
              "ticks": ""
             }
            },
            "type": "scatterpolargl"
           }
          ],
          "scatterternary": [
           {
            "marker": {
             "colorbar": {
              "outlinewidth": 0,
              "ticks": ""
             }
            },
            "type": "scatterternary"
           }
          ],
          "surface": [
           {
            "colorbar": {
             "outlinewidth": 0,
             "ticks": ""
            },
            "colorscale": [
             [
              0,
              "#0d0887"
             ],
             [
              0.1111111111111111,
              "#46039f"
             ],
             [
              0.2222222222222222,
              "#7201a8"
             ],
             [
              0.3333333333333333,
              "#9c179e"
             ],
             [
              0.4444444444444444,
              "#bd3786"
             ],
             [
              0.5555555555555556,
              "#d8576b"
             ],
             [
              0.6666666666666666,
              "#ed7953"
             ],
             [
              0.7777777777777778,
              "#fb9f3a"
             ],
             [
              0.8888888888888888,
              "#fdca26"
             ],
             [
              1,
              "#f0f921"
             ]
            ],
            "type": "surface"
           }
          ],
          "table": [
           {
            "cells": {
             "fill": {
              "color": "#506784"
             },
             "line": {
              "color": "rgb(17,17,17)"
             }
            },
            "header": {
             "fill": {
              "color": "#2a3f5f"
             },
             "line": {
              "color": "rgb(17,17,17)"
             }
            },
            "type": "table"
           }
          ]
         },
         "layout": {
          "annotationdefaults": {
           "arrowcolor": "#f2f5fa",
           "arrowhead": 0,
           "arrowwidth": 1
          },
          "autotypenumbers": "strict",
          "coloraxis": {
           "colorbar": {
            "outlinewidth": 0,
            "ticks": ""
           }
          },
          "colorscale": {
           "diverging": [
            [
             0,
             "#8e0152"
            ],
            [
             0.1,
             "#c51b7d"
            ],
            [
             0.2,
             "#de77ae"
            ],
            [
             0.3,
             "#f1b6da"
            ],
            [
             0.4,
             "#fde0ef"
            ],
            [
             0.5,
             "#f7f7f7"
            ],
            [
             0.6,
             "#e6f5d0"
            ],
            [
             0.7,
             "#b8e186"
            ],
            [
             0.8,
             "#7fbc41"
            ],
            [
             0.9,
             "#4d9221"
            ],
            [
             1,
             "#276419"
            ]
           ],
           "sequential": [
            [
             0,
             "#0d0887"
            ],
            [
             0.1111111111111111,
             "#46039f"
            ],
            [
             0.2222222222222222,
             "#7201a8"
            ],
            [
             0.3333333333333333,
             "#9c179e"
            ],
            [
             0.4444444444444444,
             "#bd3786"
            ],
            [
             0.5555555555555556,
             "#d8576b"
            ],
            [
             0.6666666666666666,
             "#ed7953"
            ],
            [
             0.7777777777777778,
             "#fb9f3a"
            ],
            [
             0.8888888888888888,
             "#fdca26"
            ],
            [
             1,
             "#f0f921"
            ]
           ],
           "sequentialminus": [
            [
             0,
             "#0d0887"
            ],
            [
             0.1111111111111111,
             "#46039f"
            ],
            [
             0.2222222222222222,
             "#7201a8"
            ],
            [
             0.3333333333333333,
             "#9c179e"
            ],
            [
             0.4444444444444444,
             "#bd3786"
            ],
            [
             0.5555555555555556,
             "#d8576b"
            ],
            [
             0.6666666666666666,
             "#ed7953"
            ],
            [
             0.7777777777777778,
             "#fb9f3a"
            ],
            [
             0.8888888888888888,
             "#fdca26"
            ],
            [
             1,
             "#f0f921"
            ]
           ]
          },
          "colorway": [
           "#636efa",
           "#EF553B",
           "#00cc96",
           "#ab63fa",
           "#FFA15A",
           "#19d3f3",
           "#FF6692",
           "#B6E880",
           "#FF97FF",
           "#FECB52"
          ],
          "font": {
           "color": "#f2f5fa"
          },
          "geo": {
           "bgcolor": "rgb(17,17,17)",
           "lakecolor": "rgb(17,17,17)",
           "landcolor": "rgb(17,17,17)",
           "showlakes": true,
           "showland": true,
           "subunitcolor": "#506784"
          },
          "hoverlabel": {
           "align": "left"
          },
          "hovermode": "closest",
          "mapbox": {
           "style": "dark"
          },
          "paper_bgcolor": "rgb(17,17,17)",
          "plot_bgcolor": "rgb(17,17,17)",
          "polar": {
           "angularaxis": {
            "gridcolor": "#506784",
            "linecolor": "#506784",
            "ticks": ""
           },
           "bgcolor": "rgb(17,17,17)",
           "radialaxis": {
            "gridcolor": "#506784",
            "linecolor": "#506784",
            "ticks": ""
           }
          },
          "scene": {
           "xaxis": {
            "backgroundcolor": "rgb(17,17,17)",
            "gridcolor": "#506784",
            "gridwidth": 2,
            "linecolor": "#506784",
            "showbackground": true,
            "ticks": "",
            "zerolinecolor": "#C8D4E3"
           },
           "yaxis": {
            "backgroundcolor": "rgb(17,17,17)",
            "gridcolor": "#506784",
            "gridwidth": 2,
            "linecolor": "#506784",
            "showbackground": true,
            "ticks": "",
            "zerolinecolor": "#C8D4E3"
           },
           "zaxis": {
            "backgroundcolor": "rgb(17,17,17)",
            "gridcolor": "#506784",
            "gridwidth": 2,
            "linecolor": "#506784",
            "showbackground": true,
            "ticks": "",
            "zerolinecolor": "#C8D4E3"
           }
          },
          "shapedefaults": {
           "line": {
            "color": "#f2f5fa"
           }
          },
          "sliderdefaults": {
           "bgcolor": "#C8D4E3",
           "bordercolor": "rgb(17,17,17)",
           "borderwidth": 1,
           "tickwidth": 0
          },
          "ternary": {
           "aaxis": {
            "gridcolor": "#506784",
            "linecolor": "#506784",
            "ticks": ""
           },
           "baxis": {
            "gridcolor": "#506784",
            "linecolor": "#506784",
            "ticks": ""
           },
           "bgcolor": "rgb(17,17,17)",
           "caxis": {
            "gridcolor": "#506784",
            "linecolor": "#506784",
            "ticks": ""
           }
          },
          "title": {
           "x": 0.05
          },
          "updatemenudefaults": {
           "bgcolor": "#506784",
           "borderwidth": 0
          },
          "xaxis": {
           "automargin": true,
           "gridcolor": "#283442",
           "linecolor": "#506784",
           "ticks": "",
           "title": {
            "standoff": 15
           },
           "zerolinecolor": "#283442",
           "zerolinewidth": 2
          },
          "yaxis": {
           "automargin": true,
           "gridcolor": "#283442",
           "linecolor": "#506784",
           "ticks": "",
           "title": {
            "standoff": 15
           },
           "zerolinecolor": "#283442",
           "zerolinewidth": 2
          }
         }
        },
        "title": {
         "text": "Top 10 Countries by Defense spend value_usd"
        },
        "xaxis": {
         "showticklabels": false
        }
       }
      }
     },
     "metadata": {},
     "output_type": "display_data"
    }
   ],
   "source": [
    "def plot_flagpole_chart(dataframe, column_name, column_format, denominator=None):\n",
    "\n",
    "    data = filter_dataframe(dataframe, 2023, column_name, count=10).sort_values(by=column_name)\n",
    "    avg_value = data[column_name].mean()\n",
    "    countries = data['countryname'].values\n",
    "    values = data[column_name].values - avg_value\n",
    "    text = data[column_name].values\n",
    "\n",
    "    if column_format == '$':\n",
    "        text_format = '$%{text:,.0f}B'\n",
    "    \n",
    "    if column_format == '%':\n",
    "        text_format = '%{text:.0%}'\n",
    "\n",
    "    if denominator:\n",
    "        text = text / denominator\n",
    "\n",
    "    fig = go.Figure(\n",
    "        go.Bar(\n",
    "            x=values,\n",
    "            y=countries,\n",
    "            orientation='h',\n",
    "            text=text,\n",
    "            texttemplate=text_format\n",
    "        )\n",
    "    )\n",
    "\n",
    "    fig.update_layout(\n",
    "        title=f\"Top 10 Countries by Defense spend {column_name}\",\n",
    "        xaxis=dict(\n",
    "            showticklabels=False\n",
    "        )\n",
    "    )\n",
    "\n",
    "    fig.add_vline(\n",
    "        x=0,\n",
    "        annotation_text='Mean',\n",
    "        annotation_position='top'\n",
    "    )\n",
    "\n",
    "    return fig\n",
    "\n",
    "plot = plot_flagpole_chart(defense_country, 'value_usd', '$', denominator=1000000000)\n",
    "plot.show()"
   ]
  },
  {
   "cell_type": "code",
   "execution_count": 590,
   "metadata": {},
   "outputs": [
    {
     "data": {
      "application/vnd.plotly.v1+json": {
       "config": {
        "plotlyServerURL": "https://plot.ly"
       },
       "data": [
        {
         "name": "Africa",
         "type": "box",
         "x": [
          0.0337161682546139,
          0.0348527505993843,
          0.0705788657069206,
          0.0201911181211472,
          0.034242857247591,
          0.0175663270056248,
          0.027385676279664,
          0.0143547691404819,
          0.017353093251586,
          0.0116238817572594,
          0.0040483339689672,
          0.0229962803423405,
          0.0353615991771221,
          0.0195749066770077,
          0.0139319999143481,
          0.0080080172047019,
          0.0144257778301835,
          0.0062904800288379,
          0.0113703357055783,
          0.0164641421288252,
          0.0036016330122948,
          0.0215022414922714,
          0.0120359286665916,
          0.0201887842267752,
          0.0062998188659549,
          0.0354814566671848,
          0.012335067614913,
          0.0498086810112,
          0.0141466669738293,
          0.0220012459903955,
          0.0086738467216492,
          0.001782565494068,
          0.009287491440773,
          0.0247502811253071,
          0.019032696262002,
          0.0072548808529973,
          0.0274701286107302,
          0.008331554941833,
          0.047170165926218,
          0.011650649830699,
          0.0326796025037766,
          0.0318542718887329,
          0.015958284959197,
          0.0232239849865437,
          0.0155581757426262,
          0.0173540506511927,
          0.0260871462523937,
          0.0105280242860317,
          0.0147446412593126,
          0.0165373682975769,
          0.0056570274755359,
          0.0102574164047837,
          0.0017159238923341
         ]
        },
        {
         "name": "Americas",
         "type": "box",
         "x": [
          0.0108102252706885,
          0.0098168393597007,
          0.0067172460258007,
          0.0096131386235356,
          0.0067662326619029,
          0.0102451983839273,
          0.0144504569470882,
          0.0192594323307276,
          0.0105846161022782,
          0.0101410383358598,
          0.0198200941085815,
          0.0095474971458316,
          0.011317016556859,
          0.0116740399971604,
          0.0027552014216781,
          0.0063605643808842,
          0.0091739622876048,
          0.0092054801061749,
          0.0073236445896327,
          0.0301987212151289,
          0.0107042454183102,
          0.0194255635142326,
          0.002087461296469,
          0.0249141249805689,
          0.0207885783165693,
          0.0008197439019568,
          0.0121616022661328,
          0.0096309129148722,
          0.0061041740700603,
          0.011190028861165,
          0.0097099207341671,
          0.0100864786654711,
          0.0128590101376176,
          0.0022110110148787,
          0.0080000692978501,
          0.0123450802639127,
          0.0065945889800787,
          0.0142251178622246,
          0.0064923455938697,
          0.0096447514370084,
          0.0089759062975645,
          0.0075346669182181,
          0.0286493729799986,
          0.010896191932261,
          0.0101053779944777,
          0.0051735755987465
         ]
        },
        {
         "name": "Asia",
         "type": "box",
         "x": [
          0.0728499740362167,
          0.0719950497150421,
          0.069301076233387,
          0.0462896302342415,
          0.0166936554014683,
          0.0492032095789909,
          0.0013372054090723,
          0.0038882722146809,
          0.0179280918091536,
          0.0175411589443684,
          0.0186472982168198,
          0.0028656658250839,
          0.0099711278453469,
          0.0505272559821606,
          0.012795714661479,
          0.0125774247571826,
          0.0153996404260397,
          0.0556750483810902,
          0.0114921806380153,
          0.053665179759264,
          0.0440820418298244,
          0.0108269350603223,
          0.0203532539308071,
          0.0038915802724659,
          0.0241049751639366,
          0.0338583290576935,
          0.008972623385489,
          0.0070110084488988,
          0.0306733399629593,
          0.008316757157445,
          0.0069449343718588,
          0.0317391231656075,
          0.0102332029491663,
          0.0110126724466681,
          0.1495947241783142,
          0.0123717403039336,
          0.0201738588511944,
          0.001303258119151,
          0.0132655678316951,
          0.0147162824869156,
          0.0360066294670105,
          0.0193444453179836,
          0.0009783703135327,
          0.0133280651643872,
          0.0216099433600903,
          0.0203448422253132,
          0.0204255934804678,
          0.015701275318861,
          0.0012484117178246,
          0.2447395026683807,
          0.0043857111595571,
          0.0020979596301913,
          0.0059226313605905
         ]
        },
        {
         "name": "Europe",
         "type": "box",
         "x": [
          0.0160941872745752,
          0.0087950406596065,
          0.0071816174313426,
          0.0303499083966017,
          0.0117529314011335,
          0.0154906865209341,
          0.0103505877777934,
          0.0203837286680937,
          0.0136311873793602,
          0.0127905160188675,
          0.0138951633125544,
          0.0276015996932983,
          0.0136050703004003,
          0.0153835471719503,
          0.0195367038249969,
          0.0129593517631292,
          0.0076588820666075,
          0.0134697463363409,
          0.0303058922290802,
          0.0121063571423292,
          0.0164879728108644,
          0.0042603993788362,
          0.0150013584643602,
          0.0049850293435156,
          0.0149990255013108,
          0.0078800152987242,
          0.0126153249293566,
          0.0106035694479942,
          0.0259543713182211,
          0.0037693430203944,
          0.0286427568644285,
          0.0234150383621454,
          0.0039742551743984,
          0.0278716087341309,
          0.0309941209852695,
          0.0066912919282913,
          0.0155719108879566,
          0.0146067207679152,
          0.0189520008862019,
          0.0098481150344014,
          0.017955569550395,
          0.0168762523680925,
          0.0143969506025314,
          0.0177455674856901,
          0.0211113691329956
         ]
        },
        {
         "name": "Oceania",
         "type": "box",
         "x": [
          0.0243028029799461,
          0.0221460592001677,
          0.0120756551623344,
          0.0080401990562677,
          0.0109148873016238,
          0.0120236640796065,
          0.0102531891316175,
          0.0143396211788058,
          0.0099382633343339,
          0.0043756728991866,
          0.0124798817560077,
          0.012445374391973,
          0.0095837153494358,
          0.0063682929612696,
          0.010143430903554,
          0.0107550416141748
         ]
        }
       ],
       "layout": {
        "template": {
         "data": {
          "bar": [
           {
            "error_x": {
             "color": "#f2f5fa"
            },
            "error_y": {
             "color": "#f2f5fa"
            },
            "marker": {
             "line": {
              "color": "rgb(17,17,17)",
              "width": 0.5
             },
             "pattern": {
              "fillmode": "overlay",
              "size": 10,
              "solidity": 0.2
             }
            },
            "type": "bar"
           }
          ],
          "barpolar": [
           {
            "marker": {
             "line": {
              "color": "rgb(17,17,17)",
              "width": 0.5
             },
             "pattern": {
              "fillmode": "overlay",
              "size": 10,
              "solidity": 0.2
             }
            },
            "type": "barpolar"
           }
          ],
          "carpet": [
           {
            "aaxis": {
             "endlinecolor": "#A2B1C6",
             "gridcolor": "#506784",
             "linecolor": "#506784",
             "minorgridcolor": "#506784",
             "startlinecolor": "#A2B1C6"
            },
            "baxis": {
             "endlinecolor": "#A2B1C6",
             "gridcolor": "#506784",
             "linecolor": "#506784",
             "minorgridcolor": "#506784",
             "startlinecolor": "#A2B1C6"
            },
            "type": "carpet"
           }
          ],
          "choropleth": [
           {
            "colorbar": {
             "outlinewidth": 0,
             "ticks": ""
            },
            "type": "choropleth"
           }
          ],
          "contour": [
           {
            "colorbar": {
             "outlinewidth": 0,
             "ticks": ""
            },
            "colorscale": [
             [
              0,
              "#0d0887"
             ],
             [
              0.1111111111111111,
              "#46039f"
             ],
             [
              0.2222222222222222,
              "#7201a8"
             ],
             [
              0.3333333333333333,
              "#9c179e"
             ],
             [
              0.4444444444444444,
              "#bd3786"
             ],
             [
              0.5555555555555556,
              "#d8576b"
             ],
             [
              0.6666666666666666,
              "#ed7953"
             ],
             [
              0.7777777777777778,
              "#fb9f3a"
             ],
             [
              0.8888888888888888,
              "#fdca26"
             ],
             [
              1,
              "#f0f921"
             ]
            ],
            "type": "contour"
           }
          ],
          "contourcarpet": [
           {
            "colorbar": {
             "outlinewidth": 0,
             "ticks": ""
            },
            "type": "contourcarpet"
           }
          ],
          "heatmap": [
           {
            "colorbar": {
             "outlinewidth": 0,
             "ticks": ""
            },
            "colorscale": [
             [
              0,
              "#0d0887"
             ],
             [
              0.1111111111111111,
              "#46039f"
             ],
             [
              0.2222222222222222,
              "#7201a8"
             ],
             [
              0.3333333333333333,
              "#9c179e"
             ],
             [
              0.4444444444444444,
              "#bd3786"
             ],
             [
              0.5555555555555556,
              "#d8576b"
             ],
             [
              0.6666666666666666,
              "#ed7953"
             ],
             [
              0.7777777777777778,
              "#fb9f3a"
             ],
             [
              0.8888888888888888,
              "#fdca26"
             ],
             [
              1,
              "#f0f921"
             ]
            ],
            "type": "heatmap"
           }
          ],
          "heatmapgl": [
           {
            "colorbar": {
             "outlinewidth": 0,
             "ticks": ""
            },
            "colorscale": [
             [
              0,
              "#0d0887"
             ],
             [
              0.1111111111111111,
              "#46039f"
             ],
             [
              0.2222222222222222,
              "#7201a8"
             ],
             [
              0.3333333333333333,
              "#9c179e"
             ],
             [
              0.4444444444444444,
              "#bd3786"
             ],
             [
              0.5555555555555556,
              "#d8576b"
             ],
             [
              0.6666666666666666,
              "#ed7953"
             ],
             [
              0.7777777777777778,
              "#fb9f3a"
             ],
             [
              0.8888888888888888,
              "#fdca26"
             ],
             [
              1,
              "#f0f921"
             ]
            ],
            "type": "heatmapgl"
           }
          ],
          "histogram": [
           {
            "marker": {
             "pattern": {
              "fillmode": "overlay",
              "size": 10,
              "solidity": 0.2
             }
            },
            "type": "histogram"
           }
          ],
          "histogram2d": [
           {
            "colorbar": {
             "outlinewidth": 0,
             "ticks": ""
            },
            "colorscale": [
             [
              0,
              "#0d0887"
             ],
             [
              0.1111111111111111,
              "#46039f"
             ],
             [
              0.2222222222222222,
              "#7201a8"
             ],
             [
              0.3333333333333333,
              "#9c179e"
             ],
             [
              0.4444444444444444,
              "#bd3786"
             ],
             [
              0.5555555555555556,
              "#d8576b"
             ],
             [
              0.6666666666666666,
              "#ed7953"
             ],
             [
              0.7777777777777778,
              "#fb9f3a"
             ],
             [
              0.8888888888888888,
              "#fdca26"
             ],
             [
              1,
              "#f0f921"
             ]
            ],
            "type": "histogram2d"
           }
          ],
          "histogram2dcontour": [
           {
            "colorbar": {
             "outlinewidth": 0,
             "ticks": ""
            },
            "colorscale": [
             [
              0,
              "#0d0887"
             ],
             [
              0.1111111111111111,
              "#46039f"
             ],
             [
              0.2222222222222222,
              "#7201a8"
             ],
             [
              0.3333333333333333,
              "#9c179e"
             ],
             [
              0.4444444444444444,
              "#bd3786"
             ],
             [
              0.5555555555555556,
              "#d8576b"
             ],
             [
              0.6666666666666666,
              "#ed7953"
             ],
             [
              0.7777777777777778,
              "#fb9f3a"
             ],
             [
              0.8888888888888888,
              "#fdca26"
             ],
             [
              1,
              "#f0f921"
             ]
            ],
            "type": "histogram2dcontour"
           }
          ],
          "mesh3d": [
           {
            "colorbar": {
             "outlinewidth": 0,
             "ticks": ""
            },
            "type": "mesh3d"
           }
          ],
          "parcoords": [
           {
            "line": {
             "colorbar": {
              "outlinewidth": 0,
              "ticks": ""
             }
            },
            "type": "parcoords"
           }
          ],
          "pie": [
           {
            "automargin": true,
            "type": "pie"
           }
          ],
          "scatter": [
           {
            "marker": {
             "line": {
              "color": "#283442"
             }
            },
            "type": "scatter"
           }
          ],
          "scatter3d": [
           {
            "line": {
             "colorbar": {
              "outlinewidth": 0,
              "ticks": ""
             }
            },
            "marker": {
             "colorbar": {
              "outlinewidth": 0,
              "ticks": ""
             }
            },
            "type": "scatter3d"
           }
          ],
          "scattercarpet": [
           {
            "marker": {
             "colorbar": {
              "outlinewidth": 0,
              "ticks": ""
             }
            },
            "type": "scattercarpet"
           }
          ],
          "scattergeo": [
           {
            "marker": {
             "colorbar": {
              "outlinewidth": 0,
              "ticks": ""
             }
            },
            "type": "scattergeo"
           }
          ],
          "scattergl": [
           {
            "marker": {
             "line": {
              "color": "#283442"
             }
            },
            "type": "scattergl"
           }
          ],
          "scattermapbox": [
           {
            "marker": {
             "colorbar": {
              "outlinewidth": 0,
              "ticks": ""
             }
            },
            "type": "scattermapbox"
           }
          ],
          "scatterpolar": [
           {
            "marker": {
             "colorbar": {
              "outlinewidth": 0,
              "ticks": ""
             }
            },
            "type": "scatterpolar"
           }
          ],
          "scatterpolargl": [
           {
            "marker": {
             "colorbar": {
              "outlinewidth": 0,
              "ticks": ""
             }
            },
            "type": "scatterpolargl"
           }
          ],
          "scatterternary": [
           {
            "marker": {
             "colorbar": {
              "outlinewidth": 0,
              "ticks": ""
             }
            },
            "type": "scatterternary"
           }
          ],
          "surface": [
           {
            "colorbar": {
             "outlinewidth": 0,
             "ticks": ""
            },
            "colorscale": [
             [
              0,
              "#0d0887"
             ],
             [
              0.1111111111111111,
              "#46039f"
             ],
             [
              0.2222222222222222,
              "#7201a8"
             ],
             [
              0.3333333333333333,
              "#9c179e"
             ],
             [
              0.4444444444444444,
              "#bd3786"
             ],
             [
              0.5555555555555556,
              "#d8576b"
             ],
             [
              0.6666666666666666,
              "#ed7953"
             ],
             [
              0.7777777777777778,
              "#fb9f3a"
             ],
             [
              0.8888888888888888,
              "#fdca26"
             ],
             [
              1,
              "#f0f921"
             ]
            ],
            "type": "surface"
           }
          ],
          "table": [
           {
            "cells": {
             "fill": {
              "color": "#506784"
             },
             "line": {
              "color": "rgb(17,17,17)"
             }
            },
            "header": {
             "fill": {
              "color": "#2a3f5f"
             },
             "line": {
              "color": "rgb(17,17,17)"
             }
            },
            "type": "table"
           }
          ]
         },
         "layout": {
          "annotationdefaults": {
           "arrowcolor": "#f2f5fa",
           "arrowhead": 0,
           "arrowwidth": 1
          },
          "autotypenumbers": "strict",
          "coloraxis": {
           "colorbar": {
            "outlinewidth": 0,
            "ticks": ""
           }
          },
          "colorscale": {
           "diverging": [
            [
             0,
             "#8e0152"
            ],
            [
             0.1,
             "#c51b7d"
            ],
            [
             0.2,
             "#de77ae"
            ],
            [
             0.3,
             "#f1b6da"
            ],
            [
             0.4,
             "#fde0ef"
            ],
            [
             0.5,
             "#f7f7f7"
            ],
            [
             0.6,
             "#e6f5d0"
            ],
            [
             0.7,
             "#b8e186"
            ],
            [
             0.8,
             "#7fbc41"
            ],
            [
             0.9,
             "#4d9221"
            ],
            [
             1,
             "#276419"
            ]
           ],
           "sequential": [
            [
             0,
             "#0d0887"
            ],
            [
             0.1111111111111111,
             "#46039f"
            ],
            [
             0.2222222222222222,
             "#7201a8"
            ],
            [
             0.3333333333333333,
             "#9c179e"
            ],
            [
             0.4444444444444444,
             "#bd3786"
            ],
            [
             0.5555555555555556,
             "#d8576b"
            ],
            [
             0.6666666666666666,
             "#ed7953"
            ],
            [
             0.7777777777777778,
             "#fb9f3a"
            ],
            [
             0.8888888888888888,
             "#fdca26"
            ],
            [
             1,
             "#f0f921"
            ]
           ],
           "sequentialminus": [
            [
             0,
             "#0d0887"
            ],
            [
             0.1111111111111111,
             "#46039f"
            ],
            [
             0.2222222222222222,
             "#7201a8"
            ],
            [
             0.3333333333333333,
             "#9c179e"
            ],
            [
             0.4444444444444444,
             "#bd3786"
            ],
            [
             0.5555555555555556,
             "#d8576b"
            ],
            [
             0.6666666666666666,
             "#ed7953"
            ],
            [
             0.7777777777777778,
             "#fb9f3a"
            ],
            [
             0.8888888888888888,
             "#fdca26"
            ],
            [
             1,
             "#f0f921"
            ]
           ]
          },
          "colorway": [
           "#636efa",
           "#EF553B",
           "#00cc96",
           "#ab63fa",
           "#FFA15A",
           "#19d3f3",
           "#FF6692",
           "#B6E880",
           "#FF97FF",
           "#FECB52"
          ],
          "font": {
           "color": "#f2f5fa"
          },
          "geo": {
           "bgcolor": "rgb(17,17,17)",
           "lakecolor": "rgb(17,17,17)",
           "landcolor": "rgb(17,17,17)",
           "showlakes": true,
           "showland": true,
           "subunitcolor": "#506784"
          },
          "hoverlabel": {
           "align": "left"
          },
          "hovermode": "closest",
          "mapbox": {
           "style": "dark"
          },
          "paper_bgcolor": "rgb(17,17,17)",
          "plot_bgcolor": "rgb(17,17,17)",
          "polar": {
           "angularaxis": {
            "gridcolor": "#506784",
            "linecolor": "#506784",
            "ticks": ""
           },
           "bgcolor": "rgb(17,17,17)",
           "radialaxis": {
            "gridcolor": "#506784",
            "linecolor": "#506784",
            "ticks": ""
           }
          },
          "scene": {
           "xaxis": {
            "backgroundcolor": "rgb(17,17,17)",
            "gridcolor": "#506784",
            "gridwidth": 2,
            "linecolor": "#506784",
            "showbackground": true,
            "ticks": "",
            "zerolinecolor": "#C8D4E3"
           },
           "yaxis": {
            "backgroundcolor": "rgb(17,17,17)",
            "gridcolor": "#506784",
            "gridwidth": 2,
            "linecolor": "#506784",
            "showbackground": true,
            "ticks": "",
            "zerolinecolor": "#C8D4E3"
           },
           "zaxis": {
            "backgroundcolor": "rgb(17,17,17)",
            "gridcolor": "#506784",
            "gridwidth": 2,
            "linecolor": "#506784",
            "showbackground": true,
            "ticks": "",
            "zerolinecolor": "#C8D4E3"
           }
          },
          "shapedefaults": {
           "line": {
            "color": "#f2f5fa"
           }
          },
          "sliderdefaults": {
           "bgcolor": "#C8D4E3",
           "bordercolor": "rgb(17,17,17)",
           "borderwidth": 1,
           "tickwidth": 0
          },
          "ternary": {
           "aaxis": {
            "gridcolor": "#506784",
            "linecolor": "#506784",
            "ticks": ""
           },
           "baxis": {
            "gridcolor": "#506784",
            "linecolor": "#506784",
            "ticks": ""
           },
           "bgcolor": "rgb(17,17,17)",
           "caxis": {
            "gridcolor": "#506784",
            "linecolor": "#506784",
            "ticks": ""
           }
          },
          "title": {
           "x": 0.05
          },
          "updatemenudefaults": {
           "bgcolor": "#506784",
           "borderwidth": 0
          },
          "xaxis": {
           "automargin": true,
           "gridcolor": "#283442",
           "linecolor": "#506784",
           "ticks": "",
           "title": {
            "standoff": 15
           },
           "zerolinecolor": "#283442",
           "zerolinewidth": 2
          },
          "yaxis": {
           "automargin": true,
           "gridcolor": "#283442",
           "linecolor": "#506784",
           "ticks": "",
           "title": {
            "standoff": 15
           },
           "zerolinecolor": "#283442",
           "zerolinewidth": 2
          }
         }
        },
        "title": {
         "text": "Distribution of Defense spend by region in 2023"
        }
       }
      }
     },
     "metadata": {},
     "output_type": "display_data"
    }
   ],
   "source": [
    "fig = go.Figure()\n",
    "\n",
    "year = 2023\n",
    "\n",
    "for region, data in defense_region.groupby('region'):\n",
    "\n",
    "    data = data[data['year'] == year]\n",
    "\n",
    "    fig.add_trace(\n",
    "        go.Box(\n",
    "            x=data['value_pct_national_income'],\n",
    "            name=region\n",
    "        )\n",
    "    )\n",
    "\n",
    "    fig.update_layout(\n",
    "        title=f\"Distribution of Defense spend by region in {year}\"\n",
    "    )\n",
    "\n",
    "fig.show()"
   ]
  },
  {
   "cell_type": "code",
   "execution_count": 591,
   "metadata": {},
   "outputs": [
    {
     "data": {
      "application/vnd.plotly.v1+json": {
       "config": {
        "plotlyServerURL": "https://plot.ly"
       },
       "data": [
        {
         "name": "Africa",
         "type": "scatter",
         "x": [
          1970,
          1971,
          1972,
          1973,
          1974,
          1975,
          1976,
          1977,
          1978,
          1979,
          1980,
          1981,
          1982,
          1983,
          1984,
          1985,
          1986,
          1987,
          1988,
          1989,
          1990,
          1991,
          1992,
          1993,
          1994,
          1995,
          1996,
          1997,
          1998,
          1999,
          2000,
          2001,
          2002,
          2003,
          2004,
          2005,
          2006,
          2007,
          2008,
          2009,
          2010,
          2011,
          2012,
          2013,
          2014,
          2015,
          2016,
          2017,
          2018,
          2019,
          2020,
          2021,
          2022,
          2023
         ],
         "y": [
          null,
          null,
          null,
          null,
          null,
          null,
          null,
          null,
          null,
          null,
          0.02265251112304505,
          0.022176101137137146,
          0.02322448273727513,
          0.023448021432279417,
          0.023758073515842998,
          0.023379461622340073,
          0.024077583716101594,
          0.022724632631750112,
          0.022343120478392358,
          0.022459504660218958,
          0.02240747251692842,
          0.023808010438685565,
          0.022255672589998762,
          0.02031318814260885,
          0.01973273671992159,
          0.01871054730914042,
          0.019081859645117424,
          0.01913536057526351,
          0.02026458757595633,
          0.02291241235029444,
          0.018284221113887875,
          0.018037995310359684,
          0.017992876924767674,
          0.017535720262149317,
          0.018642108041775532,
          0.017502258377993168,
          0.017479085707202344,
          0.01727768884014057,
          0.018225267871045767,
          0.019290662368425634,
          0.018502211442023932,
          0.018972530892944702,
          0.018883399570905516,
          0.01913180674057243,
          0.019382312773059136,
          0.020096616479041016,
          0.018181575464418613,
          0.017522637692789705,
          0.018179241633745576,
          0.01771084251286426,
          0.019113246085702102,
          0.018000559773700277,
          0.019217900154268677,
          0.01923205820131907
         ]
        },
        {
         "name": "Americas",
         "type": "scatter",
         "x": [
          1970,
          1971,
          1972,
          1973,
          1974,
          1975,
          1976,
          1977,
          1978,
          1979,
          1980,
          1981,
          1982,
          1983,
          1984,
          1985,
          1986,
          1987,
          1988,
          1989,
          1990,
          1991,
          1992,
          1993,
          1994,
          1995,
          1996,
          1997,
          1998,
          1999,
          2000,
          2001,
          2002,
          2003,
          2004,
          2005,
          2006,
          2007,
          2008,
          2009,
          2010,
          2011,
          2012,
          2013,
          2014,
          2015,
          2016,
          2017,
          2018,
          2019,
          2020,
          2021,
          2022,
          2023
         ],
         "y": [
          null,
          null,
          null,
          null,
          null,
          null,
          null,
          null,
          null,
          null,
          0.017239520166818376,
          0.01911948198887884,
          0.022517828544115884,
          0.018643113458022963,
          0.01793441232850613,
          0.018236701355224646,
          0.017551535330510338,
          0.0168056371191557,
          0.016880408182497253,
          0.01593294793248946,
          0.016684189123739285,
          0.013498198470029898,
          0.013488826954372873,
          0.012742822683598528,
          0.012759053393813743,
          0.012212439738821398,
          0.012603827316880867,
          0.010553261620731535,
          0.013960118854732207,
          0.012815155449535938,
          0.012943058561928492,
          0.01203185539697702,
          0.012336549436440697,
          0.012032618240007885,
          0.011771814138426078,
          0.011771364040095768,
          0.011633505544918798,
          0.01162803294288966,
          0.013282580356842474,
          0.012892429522015964,
          0.012645037133631343,
          0.012424607194312235,
          0.013213270111009477,
          0.012559883767212534,
          0.013269411799821839,
          -0.009862417200802944,
          0.01222790482089572,
          0.012590864303764764,
          0.01255965750644226,
          0.011682654574068025,
          0.01264637752446224,
          0.011975397682323566,
          0.011001823442158009,
          0.011024142328254952
         ]
        },
        {
         "name": "Asia",
         "type": "scatter",
         "x": [
          1959,
          1960,
          1961,
          1962,
          1963,
          1964,
          1965,
          1966,
          1967,
          1968,
          1969,
          1970,
          1971,
          1972,
          1973,
          1974,
          1975,
          1976,
          1977,
          1978,
          1979,
          1980,
          1981,
          1982,
          1983,
          1984,
          1985,
          1986,
          1987,
          1988,
          1989,
          1990,
          1991,
          1992,
          1993,
          1994,
          1995,
          1996,
          1997,
          1998,
          1999,
          2000,
          2001,
          2002,
          2003,
          2004,
          2005,
          2006,
          2007,
          2008,
          2009,
          2010,
          2011,
          2012,
          2013,
          2014,
          2015,
          2016,
          2017,
          2018,
          2019,
          2020,
          2021,
          2022,
          2023
         ],
         "y": [
          null,
          null,
          null,
          null,
          null,
          null,
          null,
          null,
          null,
          null,
          null,
          null,
          null,
          null,
          null,
          null,
          null,
          null,
          null,
          null,
          null,
          0.03435197115089428,
          0.03435925582867503,
          0.03294423835589288,
          0.03106345958515721,
          0.03096281630997458,
          0.03211441921962003,
          0.02904547654962132,
          0.029463096677747394,
          0.028974285506300698,
          0.029141352665698478,
          0.02915605224936955,
          0.0269996762442631,
          0.02750042996277049,
          0.02816676614885131,
          0.026988247774084498,
          0.026160697457117004,
          0.026273712499357133,
          0.025775681946092765,
          0.026442362243784063,
          0.024857942159902655,
          0.02563144116473543,
          0.026505713342284826,
          0.025448027455669674,
          0.02522344992030412,
          0.02422910337424222,
          0.023472142418987065,
          0.02311488825230385,
          0.02421099640306015,
          0.02512853212417367,
          0.02737234402799382,
          0.025127677635711457,
          0.02467438514028096,
          0.026419801833020208,
          0.025768371362608133,
          0.026368866470326085,
          0.02731738277526467,
          0.02818429744187391,
          0.02531660987802272,
          0.025285202397016003,
          0.0255053227038105,
          0.02674171134811949,
          0.024398114365297114,
          0.02773830717657956,
          0.02792874434391775
         ]
        },
        {
         "name": "Europe",
         "type": "scatter",
         "x": [
          1970,
          1971,
          1972,
          1973,
          1974,
          1975,
          1976,
          1977,
          1978,
          1979,
          1980,
          1981,
          1982,
          1983,
          1984,
          1985,
          1986,
          1987,
          1988,
          1989,
          1990,
          1991,
          1992,
          1993,
          1994,
          1995,
          1996,
          1997,
          1998,
          1999,
          2000,
          2001,
          2002,
          2003,
          2004,
          2005,
          2006,
          2007,
          2008,
          2009,
          2010,
          2011,
          2012,
          2013,
          2014,
          2015,
          2016,
          2017,
          2018,
          2019,
          2020,
          2021,
          2022,
          2023
         ],
         "y": [
          null,
          null,
          null,
          null,
          null,
          null,
          null,
          null,
          null,
          null,
          0.01818860785828696,
          0.018212235268826284,
          0.01823930363688204,
          0.01780227465141151,
          0.01758347472382916,
          0.01801995333905021,
          0.01808341237612897,
          0.018187980571140842,
          0.01791596674463815,
          0.017717897260768542,
          0.018575001311384967,
          0.018253678756041666,
          0.018258223610205782,
          0.01818948335324725,
          0.01801406289968226,
          0.018139227862573333,
          0.018267477810796757,
          0.01775706499401067,
          0.016924827038827868,
          0.01719264887376792,
          0.016417395975440736,
          0.01667059355208444,
          0.017056028720819287,
          0.017129245203816233,
          0.016452897205534906,
          0.016590811105238062,
          0.016106110557706818,
          0.015242108547439178,
          0.016364476239929593,
          0.016918096499931482,
          0.01775486454781559,
          0.014654810395505693,
          0.01836859850316413,
          0.013110189998729364,
          0.013795576705079943,
          0.015279426782702409,
          0.013951666704896419,
          0.014604413602501158,
          0.014141640563805903,
          0.01392396193308135,
          0.015479328297078607,
          0.015036733676162036,
          0.015596100734546777,
          0.015523392081053711
         ]
        },
        {
         "name": "Oceania",
         "type": "scatter",
         "x": [
          1970,
          1971,
          1972,
          1973,
          1974,
          1975,
          1976,
          1977,
          1978,
          1979,
          1980,
          1981,
          1982,
          1983,
          1984,
          1985,
          1986,
          1987,
          1988,
          1989,
          1990,
          1991,
          1992,
          1993,
          1994,
          1995,
          1996,
          1997,
          1998,
          1999,
          2000,
          2001,
          2002,
          2003,
          2004,
          2005,
          2006,
          2007,
          2008,
          2009,
          2010,
          2011,
          2012,
          2013,
          2014,
          2015,
          2016,
          2017,
          2018,
          2019,
          2020,
          2021,
          2022,
          2023
         ],
         "y": [
          null,
          null,
          null,
          null,
          null,
          null,
          null,
          null,
          null,
          null,
          0.014773928094655268,
          0.014421808766201137,
          0.013873303250875319,
          0.014803646074142307,
          0.016164047643542283,
          0.01621167652774602,
          0.015077736577950413,
          0.015321091632358732,
          0.014964508765842769,
          0.016951683792285625,
          0.017119350639404736,
          0.01599931967211887,
          0.014231057546567156,
          0.0137484118458815,
          0.01250723356497475,
          0.010356192069593819,
          0.012220570322824632,
          0.013640442048199475,
          0.012634435086511069,
          0.011675298563204706,
          0.011171607155120007,
          0.012570236023748294,
          0.012237622431712206,
          0.012196124647743993,
          0.011851231742184613,
          0.011081283271778382,
          0.010553819069173182,
          0.009379212482599531,
          0.010479689954081557,
          0.011806836904725069,
          0.01139374577905983,
          0.011985383986029781,
          0.012041450419928875,
          0.012212068133521837,
          0.013324164290679612,
          0.012571899947943162,
          0.012662150053074594,
          0.011279253449174576,
          0.0123103638907196,
          0.012696224963292469,
          0.011893694580066956,
          0.012487849540775638,
          0.01176156333531253,
          0.011886609456269057
         ]
        }
       ],
       "layout": {
        "template": {
         "data": {
          "bar": [
           {
            "error_x": {
             "color": "#f2f5fa"
            },
            "error_y": {
             "color": "#f2f5fa"
            },
            "marker": {
             "line": {
              "color": "rgb(17,17,17)",
              "width": 0.5
             },
             "pattern": {
              "fillmode": "overlay",
              "size": 10,
              "solidity": 0.2
             }
            },
            "type": "bar"
           }
          ],
          "barpolar": [
           {
            "marker": {
             "line": {
              "color": "rgb(17,17,17)",
              "width": 0.5
             },
             "pattern": {
              "fillmode": "overlay",
              "size": 10,
              "solidity": 0.2
             }
            },
            "type": "barpolar"
           }
          ],
          "carpet": [
           {
            "aaxis": {
             "endlinecolor": "#A2B1C6",
             "gridcolor": "#506784",
             "linecolor": "#506784",
             "minorgridcolor": "#506784",
             "startlinecolor": "#A2B1C6"
            },
            "baxis": {
             "endlinecolor": "#A2B1C6",
             "gridcolor": "#506784",
             "linecolor": "#506784",
             "minorgridcolor": "#506784",
             "startlinecolor": "#A2B1C6"
            },
            "type": "carpet"
           }
          ],
          "choropleth": [
           {
            "colorbar": {
             "outlinewidth": 0,
             "ticks": ""
            },
            "type": "choropleth"
           }
          ],
          "contour": [
           {
            "colorbar": {
             "outlinewidth": 0,
             "ticks": ""
            },
            "colorscale": [
             [
              0,
              "#0d0887"
             ],
             [
              0.1111111111111111,
              "#46039f"
             ],
             [
              0.2222222222222222,
              "#7201a8"
             ],
             [
              0.3333333333333333,
              "#9c179e"
             ],
             [
              0.4444444444444444,
              "#bd3786"
             ],
             [
              0.5555555555555556,
              "#d8576b"
             ],
             [
              0.6666666666666666,
              "#ed7953"
             ],
             [
              0.7777777777777778,
              "#fb9f3a"
             ],
             [
              0.8888888888888888,
              "#fdca26"
             ],
             [
              1,
              "#f0f921"
             ]
            ],
            "type": "contour"
           }
          ],
          "contourcarpet": [
           {
            "colorbar": {
             "outlinewidth": 0,
             "ticks": ""
            },
            "type": "contourcarpet"
           }
          ],
          "heatmap": [
           {
            "colorbar": {
             "outlinewidth": 0,
             "ticks": ""
            },
            "colorscale": [
             [
              0,
              "#0d0887"
             ],
             [
              0.1111111111111111,
              "#46039f"
             ],
             [
              0.2222222222222222,
              "#7201a8"
             ],
             [
              0.3333333333333333,
              "#9c179e"
             ],
             [
              0.4444444444444444,
              "#bd3786"
             ],
             [
              0.5555555555555556,
              "#d8576b"
             ],
             [
              0.6666666666666666,
              "#ed7953"
             ],
             [
              0.7777777777777778,
              "#fb9f3a"
             ],
             [
              0.8888888888888888,
              "#fdca26"
             ],
             [
              1,
              "#f0f921"
             ]
            ],
            "type": "heatmap"
           }
          ],
          "heatmapgl": [
           {
            "colorbar": {
             "outlinewidth": 0,
             "ticks": ""
            },
            "colorscale": [
             [
              0,
              "#0d0887"
             ],
             [
              0.1111111111111111,
              "#46039f"
             ],
             [
              0.2222222222222222,
              "#7201a8"
             ],
             [
              0.3333333333333333,
              "#9c179e"
             ],
             [
              0.4444444444444444,
              "#bd3786"
             ],
             [
              0.5555555555555556,
              "#d8576b"
             ],
             [
              0.6666666666666666,
              "#ed7953"
             ],
             [
              0.7777777777777778,
              "#fb9f3a"
             ],
             [
              0.8888888888888888,
              "#fdca26"
             ],
             [
              1,
              "#f0f921"
             ]
            ],
            "type": "heatmapgl"
           }
          ],
          "histogram": [
           {
            "marker": {
             "pattern": {
              "fillmode": "overlay",
              "size": 10,
              "solidity": 0.2
             }
            },
            "type": "histogram"
           }
          ],
          "histogram2d": [
           {
            "colorbar": {
             "outlinewidth": 0,
             "ticks": ""
            },
            "colorscale": [
             [
              0,
              "#0d0887"
             ],
             [
              0.1111111111111111,
              "#46039f"
             ],
             [
              0.2222222222222222,
              "#7201a8"
             ],
             [
              0.3333333333333333,
              "#9c179e"
             ],
             [
              0.4444444444444444,
              "#bd3786"
             ],
             [
              0.5555555555555556,
              "#d8576b"
             ],
             [
              0.6666666666666666,
              "#ed7953"
             ],
             [
              0.7777777777777778,
              "#fb9f3a"
             ],
             [
              0.8888888888888888,
              "#fdca26"
             ],
             [
              1,
              "#f0f921"
             ]
            ],
            "type": "histogram2d"
           }
          ],
          "histogram2dcontour": [
           {
            "colorbar": {
             "outlinewidth": 0,
             "ticks": ""
            },
            "colorscale": [
             [
              0,
              "#0d0887"
             ],
             [
              0.1111111111111111,
              "#46039f"
             ],
             [
              0.2222222222222222,
              "#7201a8"
             ],
             [
              0.3333333333333333,
              "#9c179e"
             ],
             [
              0.4444444444444444,
              "#bd3786"
             ],
             [
              0.5555555555555556,
              "#d8576b"
             ],
             [
              0.6666666666666666,
              "#ed7953"
             ],
             [
              0.7777777777777778,
              "#fb9f3a"
             ],
             [
              0.8888888888888888,
              "#fdca26"
             ],
             [
              1,
              "#f0f921"
             ]
            ],
            "type": "histogram2dcontour"
           }
          ],
          "mesh3d": [
           {
            "colorbar": {
             "outlinewidth": 0,
             "ticks": ""
            },
            "type": "mesh3d"
           }
          ],
          "parcoords": [
           {
            "line": {
             "colorbar": {
              "outlinewidth": 0,
              "ticks": ""
             }
            },
            "type": "parcoords"
           }
          ],
          "pie": [
           {
            "automargin": true,
            "type": "pie"
           }
          ],
          "scatter": [
           {
            "marker": {
             "line": {
              "color": "#283442"
             }
            },
            "type": "scatter"
           }
          ],
          "scatter3d": [
           {
            "line": {
             "colorbar": {
              "outlinewidth": 0,
              "ticks": ""
             }
            },
            "marker": {
             "colorbar": {
              "outlinewidth": 0,
              "ticks": ""
             }
            },
            "type": "scatter3d"
           }
          ],
          "scattercarpet": [
           {
            "marker": {
             "colorbar": {
              "outlinewidth": 0,
              "ticks": ""
             }
            },
            "type": "scattercarpet"
           }
          ],
          "scattergeo": [
           {
            "marker": {
             "colorbar": {
              "outlinewidth": 0,
              "ticks": ""
             }
            },
            "type": "scattergeo"
           }
          ],
          "scattergl": [
           {
            "marker": {
             "line": {
              "color": "#283442"
             }
            },
            "type": "scattergl"
           }
          ],
          "scattermapbox": [
           {
            "marker": {
             "colorbar": {
              "outlinewidth": 0,
              "ticks": ""
             }
            },
            "type": "scattermapbox"
           }
          ],
          "scatterpolar": [
           {
            "marker": {
             "colorbar": {
              "outlinewidth": 0,
              "ticks": ""
             }
            },
            "type": "scatterpolar"
           }
          ],
          "scatterpolargl": [
           {
            "marker": {
             "colorbar": {
              "outlinewidth": 0,
              "ticks": ""
             }
            },
            "type": "scatterpolargl"
           }
          ],
          "scatterternary": [
           {
            "marker": {
             "colorbar": {
              "outlinewidth": 0,
              "ticks": ""
             }
            },
            "type": "scatterternary"
           }
          ],
          "surface": [
           {
            "colorbar": {
             "outlinewidth": 0,
             "ticks": ""
            },
            "colorscale": [
             [
              0,
              "#0d0887"
             ],
             [
              0.1111111111111111,
              "#46039f"
             ],
             [
              0.2222222222222222,
              "#7201a8"
             ],
             [
              0.3333333333333333,
              "#9c179e"
             ],
             [
              0.4444444444444444,
              "#bd3786"
             ],
             [
              0.5555555555555556,
              "#d8576b"
             ],
             [
              0.6666666666666666,
              "#ed7953"
             ],
             [
              0.7777777777777778,
              "#fb9f3a"
             ],
             [
              0.8888888888888888,
              "#fdca26"
             ],
             [
              1,
              "#f0f921"
             ]
            ],
            "type": "surface"
           }
          ],
          "table": [
           {
            "cells": {
             "fill": {
              "color": "#506784"
             },
             "line": {
              "color": "rgb(17,17,17)"
             }
            },
            "header": {
             "fill": {
              "color": "#2a3f5f"
             },
             "line": {
              "color": "rgb(17,17,17)"
             }
            },
            "type": "table"
           }
          ]
         },
         "layout": {
          "annotationdefaults": {
           "arrowcolor": "#f2f5fa",
           "arrowhead": 0,
           "arrowwidth": 1
          },
          "autotypenumbers": "strict",
          "coloraxis": {
           "colorbar": {
            "outlinewidth": 0,
            "ticks": ""
           }
          },
          "colorscale": {
           "diverging": [
            [
             0,
             "#8e0152"
            ],
            [
             0.1,
             "#c51b7d"
            ],
            [
             0.2,
             "#de77ae"
            ],
            [
             0.3,
             "#f1b6da"
            ],
            [
             0.4,
             "#fde0ef"
            ],
            [
             0.5,
             "#f7f7f7"
            ],
            [
             0.6,
             "#e6f5d0"
            ],
            [
             0.7,
             "#b8e186"
            ],
            [
             0.8,
             "#7fbc41"
            ],
            [
             0.9,
             "#4d9221"
            ],
            [
             1,
             "#276419"
            ]
           ],
           "sequential": [
            [
             0,
             "#0d0887"
            ],
            [
             0.1111111111111111,
             "#46039f"
            ],
            [
             0.2222222222222222,
             "#7201a8"
            ],
            [
             0.3333333333333333,
             "#9c179e"
            ],
            [
             0.4444444444444444,
             "#bd3786"
            ],
            [
             0.5555555555555556,
             "#d8576b"
            ],
            [
             0.6666666666666666,
             "#ed7953"
            ],
            [
             0.7777777777777778,
             "#fb9f3a"
            ],
            [
             0.8888888888888888,
             "#fdca26"
            ],
            [
             1,
             "#f0f921"
            ]
           ],
           "sequentialminus": [
            [
             0,
             "#0d0887"
            ],
            [
             0.1111111111111111,
             "#46039f"
            ],
            [
             0.2222222222222222,
             "#7201a8"
            ],
            [
             0.3333333333333333,
             "#9c179e"
            ],
            [
             0.4444444444444444,
             "#bd3786"
            ],
            [
             0.5555555555555556,
             "#d8576b"
            ],
            [
             0.6666666666666666,
             "#ed7953"
            ],
            [
             0.7777777777777778,
             "#fb9f3a"
            ],
            [
             0.8888888888888888,
             "#fdca26"
            ],
            [
             1,
             "#f0f921"
            ]
           ]
          },
          "colorway": [
           "#636efa",
           "#EF553B",
           "#00cc96",
           "#ab63fa",
           "#FFA15A",
           "#19d3f3",
           "#FF6692",
           "#B6E880",
           "#FF97FF",
           "#FECB52"
          ],
          "font": {
           "color": "#f2f5fa"
          },
          "geo": {
           "bgcolor": "rgb(17,17,17)",
           "lakecolor": "rgb(17,17,17)",
           "landcolor": "rgb(17,17,17)",
           "showlakes": true,
           "showland": true,
           "subunitcolor": "#506784"
          },
          "hoverlabel": {
           "align": "left"
          },
          "hovermode": "closest",
          "mapbox": {
           "style": "dark"
          },
          "paper_bgcolor": "rgb(17,17,17)",
          "plot_bgcolor": "rgb(17,17,17)",
          "polar": {
           "angularaxis": {
            "gridcolor": "#506784",
            "linecolor": "#506784",
            "ticks": ""
           },
           "bgcolor": "rgb(17,17,17)",
           "radialaxis": {
            "gridcolor": "#506784",
            "linecolor": "#506784",
            "ticks": ""
           }
          },
          "scene": {
           "xaxis": {
            "backgroundcolor": "rgb(17,17,17)",
            "gridcolor": "#506784",
            "gridwidth": 2,
            "linecolor": "#506784",
            "showbackground": true,
            "ticks": "",
            "zerolinecolor": "#C8D4E3"
           },
           "yaxis": {
            "backgroundcolor": "rgb(17,17,17)",
            "gridcolor": "#506784",
            "gridwidth": 2,
            "linecolor": "#506784",
            "showbackground": true,
            "ticks": "",
            "zerolinecolor": "#C8D4E3"
           },
           "zaxis": {
            "backgroundcolor": "rgb(17,17,17)",
            "gridcolor": "#506784",
            "gridwidth": 2,
            "linecolor": "#506784",
            "showbackground": true,
            "ticks": "",
            "zerolinecolor": "#C8D4E3"
           }
          },
          "shapedefaults": {
           "line": {
            "color": "#f2f5fa"
           }
          },
          "sliderdefaults": {
           "bgcolor": "#C8D4E3",
           "bordercolor": "rgb(17,17,17)",
           "borderwidth": 1,
           "tickwidth": 0
          },
          "ternary": {
           "aaxis": {
            "gridcolor": "#506784",
            "linecolor": "#506784",
            "ticks": ""
           },
           "baxis": {
            "gridcolor": "#506784",
            "linecolor": "#506784",
            "ticks": ""
           },
           "bgcolor": "rgb(17,17,17)",
           "caxis": {
            "gridcolor": "#506784",
            "linecolor": "#506784",
            "ticks": ""
           }
          },
          "title": {
           "x": 0.05
          },
          "updatemenudefaults": {
           "bgcolor": "#506784",
           "borderwidth": 0
          },
          "xaxis": {
           "automargin": true,
           "gridcolor": "#283442",
           "linecolor": "#506784",
           "ticks": "",
           "title": {
            "standoff": 15
           },
           "zerolinecolor": "#283442",
           "zerolinewidth": 2
          },
          "yaxis": {
           "automargin": true,
           "gridcolor": "#283442",
           "linecolor": "#506784",
           "ticks": "",
           "title": {
            "standoff": 15
           },
           "zerolinecolor": "#283442",
           "zerolinewidth": 2
          }
         }
        }
       }
      }
     },
     "metadata": {},
     "output_type": "display_data"
    }
   ],
   "source": [
    "fig = go.Figure()\n",
    "\n",
    "for region, data in defense_region.groupby('region'):\n",
    "    subset = data.groupby('year')['value_pct_national_income'].mean()\n",
    "\n",
    "    fig.add_trace(\n",
    "        go.Scatter(\n",
    "            x=subset.index,\n",
    "            y=subset.values,\n",
    "            name=region\n",
    "        )\n",
    "    )\n",
    "\n",
    "fig.show()"
   ]
  },
  {
   "cell_type": "code",
   "execution_count": 592,
   "metadata": {},
   "outputs": [
    {
     "data": {
      "text/html": [
       "<div>\n",
       "<style scoped>\n",
       "    .dataframe tbody tr th:only-of-type {\n",
       "        vertical-align: middle;\n",
       "    }\n",
       "\n",
       "    .dataframe tbody tr th {\n",
       "        vertical-align: top;\n",
       "    }\n",
       "\n",
       "    .dataframe thead th {\n",
       "        text-align: right;\n",
       "    }\n",
       "</style>\n",
       "<table border=\"1\" class=\"dataframe\">\n",
       "  <thead>\n",
       "    <tr style=\"text-align: right;\">\n",
       "      <th></th>\n",
       "      <th>year</th>\n",
       "      <th>country</th>\n",
       "      <th>region</th>\n",
       "      <th>value_ppp</th>\n",
       "      <th>value_usd</th>\n",
       "      <th>value_usd_per_capita</th>\n",
       "      <th>value_pct_national_income</th>\n",
       "    </tr>\n",
       "  </thead>\n",
       "  <tbody>\n",
       "    <tr>\n",
       "      <th>7814</th>\n",
       "      <td>2015</td>\n",
       "      <td>BQ</td>\n",
       "      <td>Americas</td>\n",
       "      <td>5.492931e+06</td>\n",
       "      <td>7.667058e+06</td>\n",
       "      <td>331.000000</td>\n",
       "      <td>-0.987241</td>\n",
       "    </tr>\n",
       "    <tr>\n",
       "      <th>7872</th>\n",
       "      <td>2015</td>\n",
       "      <td>HT</td>\n",
       "      <td>Americas</td>\n",
       "      <td>2.019121e+08</td>\n",
       "      <td>8.695238e+07</td>\n",
       "      <td>8.231698</td>\n",
       "      <td>0.001297</td>\n",
       "    </tr>\n",
       "    <tr>\n",
       "      <th>7866</th>\n",
       "      <td>2015</td>\n",
       "      <td>GT</td>\n",
       "      <td>Americas</td>\n",
       "      <td>7.057692e+08</td>\n",
       "      <td>2.897562e+08</td>\n",
       "      <td>6.780046</td>\n",
       "      <td>0.001560</td>\n",
       "    </tr>\n",
       "    <tr>\n",
       "      <th>7940</th>\n",
       "      <td>2015</td>\n",
       "      <td>PA</td>\n",
       "      <td>Americas</td>\n",
       "      <td>2.258249e+08</td>\n",
       "      <td>1.207110e+08</td>\n",
       "      <td>30.500000</td>\n",
       "      <td>0.002258</td>\n",
       "    </tr>\n",
       "    <tr>\n",
       "      <th>7831</th>\n",
       "      <td>2015</td>\n",
       "      <td>CR</td>\n",
       "      <td>Americas</td>\n",
       "      <td>7.841606e+08</td>\n",
       "      <td>4.855207e+08</td>\n",
       "      <td>37.211883</td>\n",
       "      <td>0.003016</td>\n",
       "    </tr>\n",
       "  </tbody>\n",
       "</table>\n",
       "</div>"
      ],
      "text/plain": [
       "      year country    region     value_ppp     value_usd  \\\n",
       "7814  2015      BQ  Americas  5.492931e+06  7.667058e+06   \n",
       "7872  2015      HT  Americas  2.019121e+08  8.695238e+07   \n",
       "7866  2015      GT  Americas  7.057692e+08  2.897562e+08   \n",
       "7940  2015      PA  Americas  2.258249e+08  1.207110e+08   \n",
       "7831  2015      CR  Americas  7.841606e+08  4.855207e+08   \n",
       "\n",
       "      value_usd_per_capita  value_pct_national_income  \n",
       "7814            331.000000                  -0.987241  \n",
       "7872              8.231698                   0.001297  \n",
       "7866              6.780046                   0.001560  \n",
       "7940             30.500000                   0.002258  \n",
       "7831             37.211883                   0.003016  "
      ]
     },
     "execution_count": 592,
     "metadata": {},
     "output_type": "execute_result"
    }
   ],
   "source": [
    "defense_region[\n",
    "    (defense_region['region'] == 'Americas')\n",
    "      & (defense_region['year'] == 2015)\n",
    "      ].sort_values(by='value_pct_national_income').head(5)"
   ]
  },
  {
   "cell_type": "code",
   "execution_count": 593,
   "metadata": {},
   "outputs": [
    {
     "data": {
      "text/html": [
       "<div>\n",
       "<style scoped>\n",
       "    .dataframe tbody tr th:only-of-type {\n",
       "        vertical-align: middle;\n",
       "    }\n",
       "\n",
       "    .dataframe tbody tr th {\n",
       "        vertical-align: top;\n",
       "    }\n",
       "\n",
       "    .dataframe thead th {\n",
       "        text-align: right;\n",
       "    }\n",
       "</style>\n",
       "<table border=\"1\" class=\"dataframe\">\n",
       "  <thead>\n",
       "    <tr style=\"text-align: right;\">\n",
       "      <th></th>\n",
       "      <th>year</th>\n",
       "      <th>country</th>\n",
       "      <th>region</th>\n",
       "      <th>value_ppp</th>\n",
       "      <th>value_usd</th>\n",
       "      <th>value_usd_per_capita</th>\n",
       "      <th>value_pct_national_income</th>\n",
       "    </tr>\n",
       "  </thead>\n",
       "  <tbody>\n",
       "    <tr>\n",
       "      <th>7814</th>\n",
       "      <td>2015</td>\n",
       "      <td>BQ</td>\n",
       "      <td>Americas</td>\n",
       "      <td>5.492931e+06</td>\n",
       "      <td>7667058.0</td>\n",
       "      <td>331.0</td>\n",
       "      <td>-0.987241</td>\n",
       "    </tr>\n",
       "    <tr>\n",
       "      <th>3547</th>\n",
       "      <td>1995</td>\n",
       "      <td>BQ</td>\n",
       "      <td>Americas</td>\n",
       "      <td>5.655185e+06</td>\n",
       "      <td>7172856.0</td>\n",
       "      <td>543.2</td>\n",
       "      <td>0.011027</td>\n",
       "    </tr>\n",
       "    <tr>\n",
       "      <th>3760</th>\n",
       "      <td>1996</td>\n",
       "      <td>BQ</td>\n",
       "      <td>Americas</td>\n",
       "      <td>5.945646e+06</td>\n",
       "      <td>7642583.0</td>\n",
       "      <td>572.6</td>\n",
       "      <td>0.012377</td>\n",
       "    </tr>\n",
       "    <tr>\n",
       "      <th>2695</th>\n",
       "      <td>1991</td>\n",
       "      <td>BQ</td>\n",
       "      <td>Americas</td>\n",
       "      <td>5.553944e+06</td>\n",
       "      <td>6834262.0</td>\n",
       "      <td>537.0</td>\n",
       "      <td>0.012883</td>\n",
       "    </tr>\n",
       "    <tr>\n",
       "      <th>4186</th>\n",
       "      <td>1998</td>\n",
       "      <td>BQ</td>\n",
       "      <td>Americas</td>\n",
       "      <td>5.709410e+06</td>\n",
       "      <td>7486965.0</td>\n",
       "      <td>548.7</td>\n",
       "      <td>0.013006</td>\n",
       "    </tr>\n",
       "  </tbody>\n",
       "</table>\n",
       "</div>"
      ],
      "text/plain": [
       "      year country    region     value_ppp  value_usd  value_usd_per_capita  \\\n",
       "7814  2015      BQ  Americas  5.492931e+06  7667058.0                 331.0   \n",
       "3547  1995      BQ  Americas  5.655185e+06  7172856.0                 543.2   \n",
       "3760  1996      BQ  Americas  5.945646e+06  7642583.0                 572.6   \n",
       "2695  1991      BQ  Americas  5.553944e+06  6834262.0                 537.0   \n",
       "4186  1998      BQ  Americas  5.709410e+06  7486965.0                 548.7   \n",
       "\n",
       "      value_pct_national_income  \n",
       "7814                  -0.987241  \n",
       "3547                   0.011027  \n",
       "3760                   0.012377  \n",
       "2695                   0.012883  \n",
       "4186                   0.013006  "
      ]
     },
     "execution_count": 593,
     "metadata": {},
     "output_type": "execute_result"
    }
   ],
   "source": [
    "defense_region[\n",
    "    defense_region['country'] == 'BQ'\n",
    "      ].sort_values(by='value_pct_national_income').head(5)"
   ]
  },
  {
   "cell_type": "code",
   "execution_count": 594,
   "metadata": {},
   "outputs": [],
   "source": [
    "def manage_outliers(df, column_name):\n",
    "\n",
    "    df = df.copy()\n",
    "\n",
    "    q1 = df[column_name].quantile(.25)\n",
    "    q3 = df[column_name].quantile(.75)\n",
    "    IQR = q3 - q1\n",
    "    lower_bound = q1 - 1.5 * IQR\n",
    "    upper_bound = q3 + 1.5 * IQR\n",
    "\n",
    "    # replace lower outliers with lower_bound values\n",
    "    df.loc[df[column_name] < lower_bound, column_name] = lower_bound\n",
    "    \n",
    "    # replace upper outliers with upper_bound values\n",
    "    df.loc[df[column_name] > upper_bound, column_name] = upper_bound\n",
    "\n",
    "    return df"
   ]
  },
  {
   "cell_type": "code",
   "execution_count": 595,
   "metadata": {},
   "outputs": [
    {
     "data": {
      "application/vnd.plotly.v1+json": {
       "config": {
        "plotlyServerURL": "https://plot.ly"
       },
       "data": [
        {
         "name": "Africa",
         "type": "scatter",
         "x": [
          1980,
          1981,
          1982,
          1983,
          1984,
          1985,
          1986,
          1987,
          1988,
          1989,
          1990,
          1991,
          1992,
          1993,
          1994,
          1995,
          1996,
          1997,
          1998,
          1999,
          2000,
          2001,
          2002,
          2003,
          2004,
          2005,
          2006,
          2007,
          2008,
          2009,
          2010,
          2011,
          2012,
          2013,
          2014,
          2015,
          2016,
          2017,
          2018,
          2019,
          2020,
          2021,
          2022,
          2023
         ],
         "y": [
          0.02071944223376395,
          0.020668561474797936,
          0.021405100781264074,
          0.020903839738512377,
          0.02116734734220202,
          0.02110264260752372,
          0.021413362441136383,
          0.02047352758258195,
          0.01959529365544683,
          0.020016500770272515,
          0.02026083702243477,
          0.02027509958738075,
          0.01966576996030954,
          0.018982217865688555,
          0.018323304211799903,
          0.017164984302823705,
          0.016344434878226583,
          0.016577715576925087,
          0.017302623563358238,
          0.01747420767128889,
          0.017205194934745722,
          0.017483172556033953,
          0.017422946923377244,
          0.01652692973982754,
          0.01741490061263079,
          0.016833174995691435,
          0.016826550837579834,
          0.016668586497511365,
          0.0170097110940161,
          0.018280651690526246,
          0.01824127435288831,
          0.018500664923779386,
          0.01853396451179782,
          0.018818180410648293,
          0.019361553021776924,
          0.01945629655515318,
          0.018181575464418613,
          0.017522637692789705,
          0.018179241633745576,
          0.0176159800601385,
          0.01903066380643549,
          0.0179380080552842,
          0.018737207092169035,
          0.018748319890121667
         ]
        },
        {
         "name": "Americas",
         "type": "scatter",
         "x": [
          1980,
          1981,
          1982,
          1983,
          1984,
          1985,
          1986,
          1987,
          1988,
          1989,
          1990,
          1991,
          1992,
          1993,
          1994,
          1995,
          1996,
          1997,
          1998,
          1999,
          2000,
          2001,
          2002,
          2003,
          2004,
          2005,
          2006,
          2007,
          2008,
          2009,
          2010,
          2011,
          2012,
          2013,
          2014,
          2015,
          2016,
          2017,
          2018,
          2019,
          2020,
          2021,
          2022,
          2023
         ],
         "y": [
          0.013825326249428596,
          0.014498251295425835,
          0.015847937760712683,
          0.01440068093158874,
          0.013979142630452556,
          0.0140421915098357,
          0.013966724534681013,
          0.013648066302741211,
          0.013427735559399379,
          0.012775184595501879,
          0.013123961275635797,
          0.012029467339111182,
          0.012290993548484288,
          0.011729882379649632,
          0.011884312957788478,
          0.011509094463215913,
          0.011967782406946249,
          0.011590085631368043,
          0.012350537170119517,
          0.012363385486305174,
          0.012451027422566386,
          0.011977810424033805,
          0.011986483299709949,
          0.011525471269598478,
          0.01133771081778991,
          0.011376364990491841,
          0.011389686286945472,
          0.011181523818421473,
          0.01141577956529902,
          0.011876238497358799,
          0.011409913571855154,
          0.01126792941890334,
          0.011625814747632208,
          0.011790716823230948,
          0.011557912347716815,
          0.011114330043631573,
          0.011483739028968255,
          0.011740524498948269,
          0.011761167506768333,
          0.011486215602970978,
          0.012193812717906328,
          0.01168908245871654,
          0.010922566838258806,
          0.010945598267109903
         ]
        },
        {
         "name": "Asia",
         "type": "scatter",
         "x": [
          1980,
          1981,
          1982,
          1983,
          1984,
          1985,
          1986,
          1987,
          1988,
          1989,
          1990,
          1991,
          1992,
          1993,
          1994,
          1995,
          1996,
          1997,
          1998,
          1999,
          2000,
          2001,
          2002,
          2003,
          2004,
          2005,
          2006,
          2007,
          2008,
          2009,
          2010,
          2011,
          2012,
          2013,
          2014,
          2015,
          2016,
          2017,
          2018,
          2019,
          2020,
          2021,
          2022,
          2023
         ],
         "y": [
          0.02577981063634825,
          0.025534578666029466,
          0.02454471693128208,
          0.0242399873084582,
          0.023981936038735344,
          0.02396436952129182,
          0.023429195980875284,
          0.023051994637463172,
          0.02360719986773922,
          0.023547140270787876,
          0.023402320815223924,
          0.02211393348934164,
          0.023199510293845794,
          0.023284484166651968,
          0.022798077776623925,
          0.022055184751977472,
          0.02234613155959315,
          0.02250592221005135,
          0.023033561294828107,
          0.02184132894914035,
          0.022783632103555825,
          0.023128790616163256,
          0.02212392034905278,
          0.022130719750662744,
          0.02118690962516615,
          0.020883522303950675,
          0.02066824148092771,
          0.02153841757110127,
          0.023172603718022693,
          0.024334861881556525,
          0.02271877820076386,
          0.02248868176423646,
          0.02255434174978016,
          0.021781059564091265,
          0.022000966925297002,
          0.022928610077250822,
          0.02348289219662547,
          0.022056335690958467,
          0.02229841329807522,
          0.022513883177384304,
          0.02346763617956554,
          0.022379111404144125,
          0.023011610186483077,
          0.022891841024898423
         ]
        },
        {
         "name": "Europe",
         "type": "scatter",
         "x": [
          1980,
          1981,
          1982,
          1983,
          1984,
          1985,
          1986,
          1987,
          1988,
          1989,
          1990,
          1991,
          1992,
          1993,
          1994,
          1995,
          1996,
          1997,
          1998,
          1999,
          2000,
          2001,
          2002,
          2003,
          2004,
          2005,
          2006,
          2007,
          2008,
          2009,
          2010,
          2011,
          2012,
          2013,
          2014,
          2015,
          2016,
          2017,
          2018,
          2019,
          2020,
          2021,
          2022,
          2023
         ],
         "y": [
          0.017758035442481442,
          0.017842702430465984,
          0.017965972943541908,
          0.017587782882360955,
          0.01737829187574486,
          0.01747924250084907,
          0.01757624802541816,
          0.017673398339603512,
          0.01750697741905849,
          0.017220296309743494,
          0.017769106643067467,
          0.017824362673693247,
          0.01774669798711936,
          0.018110621754183546,
          0.017975490017690596,
          0.01806075596250594,
          0.018080003965749505,
          0.017643315671011815,
          0.01688125145673338,
          0.017013521037167974,
          0.016283648251555857,
          0.016634699849722292,
          0.01704905560602331,
          0.016931591283840444,
          0.016439397133783333,
          0.01633121587284323,
          0.016106110557706818,
          0.015242108547439178,
          0.015827753151663477,
          0.016539680202388107,
          0.016421750141307718,
          0.01457852726129608,
          0.014501735847443355,
          0.01309088650418239,
          0.013149047490312826,
          0.013327266930395532,
          0.013864130213753212,
          0.014255748003617761,
          0.014092736823173867,
          0.0138837911007512,
          0.015479328297078607,
          0.015036733676162036,
          0.015596100734546777,
          0.015523392081053711
         ]
        },
        {
         "name": "Oceania",
         "type": "scatter",
         "x": [
          1980,
          1981,
          1982,
          1983,
          1984,
          1985,
          1986,
          1987,
          1988,
          1989,
          1990,
          1991,
          1992,
          1993,
          1994,
          1995,
          1996,
          1997,
          1998,
          1999,
          2000,
          2001,
          2002,
          2003,
          2004,
          2005,
          2006,
          2007,
          2008,
          2009,
          2010,
          2011,
          2012,
          2013,
          2014,
          2015,
          2016,
          2017,
          2018,
          2019,
          2020,
          2021,
          2022,
          2023
         ],
         "y": [
          0.014773928094655268,
          0.014421808766201137,
          0.013673632376594469,
          0.014683850662549958,
          0.01599728249129839,
          0.01616735875722952,
          0.015028379188152025,
          0.015321091632358732,
          0.014964508765842769,
          0.016951683792285625,
          0.01704636093927548,
          0.015729474020190537,
          0.01407233483041635,
          0.0137484118458815,
          0.01250723356497475,
          0.010356192069593819,
          0.012220570322824632,
          0.013640442048199475,
          0.012634435086511069,
          0.011675298563204706,
          0.011171607155120007,
          0.012570236023748294,
          0.012237622431712206,
          0.012196124647743993,
          0.011851231742184613,
          0.011081283271778382,
          0.010553819069173182,
          0.009379212482599531,
          0.01046486495761202,
          0.011806836904725069,
          0.01139374577905983,
          0.011985383986029781,
          0.012041450419928875,
          0.012212068133521837,
          0.013322319719009101,
          0.012559185794088988,
          0.012528681108960896,
          0.01120701311447192,
          0.012122307685785932,
          0.012301128037506708,
          0.011384044046280913,
          0.012430843809852382,
          0.011684107594192032,
          0.01180753903463482
         ]
        }
       ],
       "layout": {
        "template": {
         "data": {
          "bar": [
           {
            "error_x": {
             "color": "#f2f5fa"
            },
            "error_y": {
             "color": "#f2f5fa"
            },
            "marker": {
             "line": {
              "color": "rgb(17,17,17)",
              "width": 0.5
             },
             "pattern": {
              "fillmode": "overlay",
              "size": 10,
              "solidity": 0.2
             }
            },
            "type": "bar"
           }
          ],
          "barpolar": [
           {
            "marker": {
             "line": {
              "color": "rgb(17,17,17)",
              "width": 0.5
             },
             "pattern": {
              "fillmode": "overlay",
              "size": 10,
              "solidity": 0.2
             }
            },
            "type": "barpolar"
           }
          ],
          "carpet": [
           {
            "aaxis": {
             "endlinecolor": "#A2B1C6",
             "gridcolor": "#506784",
             "linecolor": "#506784",
             "minorgridcolor": "#506784",
             "startlinecolor": "#A2B1C6"
            },
            "baxis": {
             "endlinecolor": "#A2B1C6",
             "gridcolor": "#506784",
             "linecolor": "#506784",
             "minorgridcolor": "#506784",
             "startlinecolor": "#A2B1C6"
            },
            "type": "carpet"
           }
          ],
          "choropleth": [
           {
            "colorbar": {
             "outlinewidth": 0,
             "ticks": ""
            },
            "type": "choropleth"
           }
          ],
          "contour": [
           {
            "colorbar": {
             "outlinewidth": 0,
             "ticks": ""
            },
            "colorscale": [
             [
              0,
              "#0d0887"
             ],
             [
              0.1111111111111111,
              "#46039f"
             ],
             [
              0.2222222222222222,
              "#7201a8"
             ],
             [
              0.3333333333333333,
              "#9c179e"
             ],
             [
              0.4444444444444444,
              "#bd3786"
             ],
             [
              0.5555555555555556,
              "#d8576b"
             ],
             [
              0.6666666666666666,
              "#ed7953"
             ],
             [
              0.7777777777777778,
              "#fb9f3a"
             ],
             [
              0.8888888888888888,
              "#fdca26"
             ],
             [
              1,
              "#f0f921"
             ]
            ],
            "type": "contour"
           }
          ],
          "contourcarpet": [
           {
            "colorbar": {
             "outlinewidth": 0,
             "ticks": ""
            },
            "type": "contourcarpet"
           }
          ],
          "heatmap": [
           {
            "colorbar": {
             "outlinewidth": 0,
             "ticks": ""
            },
            "colorscale": [
             [
              0,
              "#0d0887"
             ],
             [
              0.1111111111111111,
              "#46039f"
             ],
             [
              0.2222222222222222,
              "#7201a8"
             ],
             [
              0.3333333333333333,
              "#9c179e"
             ],
             [
              0.4444444444444444,
              "#bd3786"
             ],
             [
              0.5555555555555556,
              "#d8576b"
             ],
             [
              0.6666666666666666,
              "#ed7953"
             ],
             [
              0.7777777777777778,
              "#fb9f3a"
             ],
             [
              0.8888888888888888,
              "#fdca26"
             ],
             [
              1,
              "#f0f921"
             ]
            ],
            "type": "heatmap"
           }
          ],
          "heatmapgl": [
           {
            "colorbar": {
             "outlinewidth": 0,
             "ticks": ""
            },
            "colorscale": [
             [
              0,
              "#0d0887"
             ],
             [
              0.1111111111111111,
              "#46039f"
             ],
             [
              0.2222222222222222,
              "#7201a8"
             ],
             [
              0.3333333333333333,
              "#9c179e"
             ],
             [
              0.4444444444444444,
              "#bd3786"
             ],
             [
              0.5555555555555556,
              "#d8576b"
             ],
             [
              0.6666666666666666,
              "#ed7953"
             ],
             [
              0.7777777777777778,
              "#fb9f3a"
             ],
             [
              0.8888888888888888,
              "#fdca26"
             ],
             [
              1,
              "#f0f921"
             ]
            ],
            "type": "heatmapgl"
           }
          ],
          "histogram": [
           {
            "marker": {
             "pattern": {
              "fillmode": "overlay",
              "size": 10,
              "solidity": 0.2
             }
            },
            "type": "histogram"
           }
          ],
          "histogram2d": [
           {
            "colorbar": {
             "outlinewidth": 0,
             "ticks": ""
            },
            "colorscale": [
             [
              0,
              "#0d0887"
             ],
             [
              0.1111111111111111,
              "#46039f"
             ],
             [
              0.2222222222222222,
              "#7201a8"
             ],
             [
              0.3333333333333333,
              "#9c179e"
             ],
             [
              0.4444444444444444,
              "#bd3786"
             ],
             [
              0.5555555555555556,
              "#d8576b"
             ],
             [
              0.6666666666666666,
              "#ed7953"
             ],
             [
              0.7777777777777778,
              "#fb9f3a"
             ],
             [
              0.8888888888888888,
              "#fdca26"
             ],
             [
              1,
              "#f0f921"
             ]
            ],
            "type": "histogram2d"
           }
          ],
          "histogram2dcontour": [
           {
            "colorbar": {
             "outlinewidth": 0,
             "ticks": ""
            },
            "colorscale": [
             [
              0,
              "#0d0887"
             ],
             [
              0.1111111111111111,
              "#46039f"
             ],
             [
              0.2222222222222222,
              "#7201a8"
             ],
             [
              0.3333333333333333,
              "#9c179e"
             ],
             [
              0.4444444444444444,
              "#bd3786"
             ],
             [
              0.5555555555555556,
              "#d8576b"
             ],
             [
              0.6666666666666666,
              "#ed7953"
             ],
             [
              0.7777777777777778,
              "#fb9f3a"
             ],
             [
              0.8888888888888888,
              "#fdca26"
             ],
             [
              1,
              "#f0f921"
             ]
            ],
            "type": "histogram2dcontour"
           }
          ],
          "mesh3d": [
           {
            "colorbar": {
             "outlinewidth": 0,
             "ticks": ""
            },
            "type": "mesh3d"
           }
          ],
          "parcoords": [
           {
            "line": {
             "colorbar": {
              "outlinewidth": 0,
              "ticks": ""
             }
            },
            "type": "parcoords"
           }
          ],
          "pie": [
           {
            "automargin": true,
            "type": "pie"
           }
          ],
          "scatter": [
           {
            "marker": {
             "line": {
              "color": "#283442"
             }
            },
            "type": "scatter"
           }
          ],
          "scatter3d": [
           {
            "line": {
             "colorbar": {
              "outlinewidth": 0,
              "ticks": ""
             }
            },
            "marker": {
             "colorbar": {
              "outlinewidth": 0,
              "ticks": ""
             }
            },
            "type": "scatter3d"
           }
          ],
          "scattercarpet": [
           {
            "marker": {
             "colorbar": {
              "outlinewidth": 0,
              "ticks": ""
             }
            },
            "type": "scattercarpet"
           }
          ],
          "scattergeo": [
           {
            "marker": {
             "colorbar": {
              "outlinewidth": 0,
              "ticks": ""
             }
            },
            "type": "scattergeo"
           }
          ],
          "scattergl": [
           {
            "marker": {
             "line": {
              "color": "#283442"
             }
            },
            "type": "scattergl"
           }
          ],
          "scattermapbox": [
           {
            "marker": {
             "colorbar": {
              "outlinewidth": 0,
              "ticks": ""
             }
            },
            "type": "scattermapbox"
           }
          ],
          "scatterpolar": [
           {
            "marker": {
             "colorbar": {
              "outlinewidth": 0,
              "ticks": ""
             }
            },
            "type": "scatterpolar"
           }
          ],
          "scatterpolargl": [
           {
            "marker": {
             "colorbar": {
              "outlinewidth": 0,
              "ticks": ""
             }
            },
            "type": "scatterpolargl"
           }
          ],
          "scatterternary": [
           {
            "marker": {
             "colorbar": {
              "outlinewidth": 0,
              "ticks": ""
             }
            },
            "type": "scatterternary"
           }
          ],
          "surface": [
           {
            "colorbar": {
             "outlinewidth": 0,
             "ticks": ""
            },
            "colorscale": [
             [
              0,
              "#0d0887"
             ],
             [
              0.1111111111111111,
              "#46039f"
             ],
             [
              0.2222222222222222,
              "#7201a8"
             ],
             [
              0.3333333333333333,
              "#9c179e"
             ],
             [
              0.4444444444444444,
              "#bd3786"
             ],
             [
              0.5555555555555556,
              "#d8576b"
             ],
             [
              0.6666666666666666,
              "#ed7953"
             ],
             [
              0.7777777777777778,
              "#fb9f3a"
             ],
             [
              0.8888888888888888,
              "#fdca26"
             ],
             [
              1,
              "#f0f921"
             ]
            ],
            "type": "surface"
           }
          ],
          "table": [
           {
            "cells": {
             "fill": {
              "color": "#506784"
             },
             "line": {
              "color": "rgb(17,17,17)"
             }
            },
            "header": {
             "fill": {
              "color": "#2a3f5f"
             },
             "line": {
              "color": "rgb(17,17,17)"
             }
            },
            "type": "table"
           }
          ]
         },
         "layout": {
          "annotationdefaults": {
           "arrowcolor": "#f2f5fa",
           "arrowhead": 0,
           "arrowwidth": 1
          },
          "autotypenumbers": "strict",
          "coloraxis": {
           "colorbar": {
            "outlinewidth": 0,
            "ticks": ""
           }
          },
          "colorscale": {
           "diverging": [
            [
             0,
             "#8e0152"
            ],
            [
             0.1,
             "#c51b7d"
            ],
            [
             0.2,
             "#de77ae"
            ],
            [
             0.3,
             "#f1b6da"
            ],
            [
             0.4,
             "#fde0ef"
            ],
            [
             0.5,
             "#f7f7f7"
            ],
            [
             0.6,
             "#e6f5d0"
            ],
            [
             0.7,
             "#b8e186"
            ],
            [
             0.8,
             "#7fbc41"
            ],
            [
             0.9,
             "#4d9221"
            ],
            [
             1,
             "#276419"
            ]
           ],
           "sequential": [
            [
             0,
             "#0d0887"
            ],
            [
             0.1111111111111111,
             "#46039f"
            ],
            [
             0.2222222222222222,
             "#7201a8"
            ],
            [
             0.3333333333333333,
             "#9c179e"
            ],
            [
             0.4444444444444444,
             "#bd3786"
            ],
            [
             0.5555555555555556,
             "#d8576b"
            ],
            [
             0.6666666666666666,
             "#ed7953"
            ],
            [
             0.7777777777777778,
             "#fb9f3a"
            ],
            [
             0.8888888888888888,
             "#fdca26"
            ],
            [
             1,
             "#f0f921"
            ]
           ],
           "sequentialminus": [
            [
             0,
             "#0d0887"
            ],
            [
             0.1111111111111111,
             "#46039f"
            ],
            [
             0.2222222222222222,
             "#7201a8"
            ],
            [
             0.3333333333333333,
             "#9c179e"
            ],
            [
             0.4444444444444444,
             "#bd3786"
            ],
            [
             0.5555555555555556,
             "#d8576b"
            ],
            [
             0.6666666666666666,
             "#ed7953"
            ],
            [
             0.7777777777777778,
             "#fb9f3a"
            ],
            [
             0.8888888888888888,
             "#fdca26"
            ],
            [
             1,
             "#f0f921"
            ]
           ]
          },
          "colorway": [
           "#636efa",
           "#EF553B",
           "#00cc96",
           "#ab63fa",
           "#FFA15A",
           "#19d3f3",
           "#FF6692",
           "#B6E880",
           "#FF97FF",
           "#FECB52"
          ],
          "font": {
           "color": "#f2f5fa"
          },
          "geo": {
           "bgcolor": "rgb(17,17,17)",
           "lakecolor": "rgb(17,17,17)",
           "landcolor": "rgb(17,17,17)",
           "showlakes": true,
           "showland": true,
           "subunitcolor": "#506784"
          },
          "hoverlabel": {
           "align": "left"
          },
          "hovermode": "closest",
          "mapbox": {
           "style": "dark"
          },
          "paper_bgcolor": "rgb(17,17,17)",
          "plot_bgcolor": "rgb(17,17,17)",
          "polar": {
           "angularaxis": {
            "gridcolor": "#506784",
            "linecolor": "#506784",
            "ticks": ""
           },
           "bgcolor": "rgb(17,17,17)",
           "radialaxis": {
            "gridcolor": "#506784",
            "linecolor": "#506784",
            "ticks": ""
           }
          },
          "scene": {
           "xaxis": {
            "backgroundcolor": "rgb(17,17,17)",
            "gridcolor": "#506784",
            "gridwidth": 2,
            "linecolor": "#506784",
            "showbackground": true,
            "ticks": "",
            "zerolinecolor": "#C8D4E3"
           },
           "yaxis": {
            "backgroundcolor": "rgb(17,17,17)",
            "gridcolor": "#506784",
            "gridwidth": 2,
            "linecolor": "#506784",
            "showbackground": true,
            "ticks": "",
            "zerolinecolor": "#C8D4E3"
           },
           "zaxis": {
            "backgroundcolor": "rgb(17,17,17)",
            "gridcolor": "#506784",
            "gridwidth": 2,
            "linecolor": "#506784",
            "showbackground": true,
            "ticks": "",
            "zerolinecolor": "#C8D4E3"
           }
          },
          "shapedefaults": {
           "line": {
            "color": "#f2f5fa"
           }
          },
          "sliderdefaults": {
           "bgcolor": "#C8D4E3",
           "bordercolor": "rgb(17,17,17)",
           "borderwidth": 1,
           "tickwidth": 0
          },
          "ternary": {
           "aaxis": {
            "gridcolor": "#506784",
            "linecolor": "#506784",
            "ticks": ""
           },
           "baxis": {
            "gridcolor": "#506784",
            "linecolor": "#506784",
            "ticks": ""
           },
           "bgcolor": "rgb(17,17,17)",
           "caxis": {
            "gridcolor": "#506784",
            "linecolor": "#506784",
            "ticks": ""
           }
          },
          "title": {
           "x": 0.05
          },
          "updatemenudefaults": {
           "bgcolor": "#506784",
           "borderwidth": 0
          },
          "xaxis": {
           "automargin": true,
           "gridcolor": "#283442",
           "linecolor": "#506784",
           "ticks": "",
           "title": {
            "standoff": 15
           },
           "zerolinecolor": "#283442",
           "zerolinewidth": 2
          },
          "yaxis": {
           "automargin": true,
           "gridcolor": "#283442",
           "linecolor": "#506784",
           "ticks": "",
           "title": {
            "standoff": 15
           },
           "zerolinecolor": "#283442",
           "zerolinewidth": 2
          }
         }
        },
        "title": {
         "text": "Average Defense spend by region over time"
        }
       }
      }
     },
     "metadata": {},
     "output_type": "display_data"
    }
   ],
   "source": [
    "fig = go.Figure()\n",
    "\n",
    "for region, data in defense_region.groupby('region'):\n",
    "\n",
    "    # Manage outliers and missing values before continuing.\n",
    "    data_cleaned = manage_outliers(data, 'value_pct_national_income').dropna(subset='value_pct_national_income')\n",
    "    subset = data_cleaned.groupby('year')['value_pct_national_income'].mean()\n",
    "\n",
    "    fig.add_trace(\n",
    "        go.Scatter(\n",
    "            x=subset.index,\n",
    "            y=subset.values,\n",
    "            name=region\n",
    "        )\n",
    "    )\n",
    "\n",
    "    fig.update_layout(\n",
    "        title=\"Average Defense spend by region over time\"\n",
    "    )\n",
    "\n",
    "fig.show()"
   ]
  },
  {
   "cell_type": "code",
   "execution_count": 599,
   "metadata": {},
   "outputs": [
    {
     "data": {
      "application/vnd.plotly.v1+json": {
       "config": {
        "plotlyServerURL": "https://plot.ly"
       },
       "data": [
        {
         "name": "Africa",
         "type": "scatter",
         "x": [
          1970,
          1971,
          1972,
          1973,
          1974,
          1975,
          1976,
          1977,
          1978,
          1979,
          1980,
          1981,
          1982,
          1983,
          1984,
          1985,
          1986,
          1987,
          1988,
          1989,
          1990,
          1991,
          1992,
          1993,
          1994,
          1995,
          1996,
          1997,
          1998,
          1999,
          2000,
          2001,
          2002,
          2003,
          2004,
          2005,
          2006,
          2007,
          2008,
          2009,
          2010,
          2011,
          2012,
          2013,
          2014,
          2015,
          2016,
          2017,
          2018,
          2019,
          2020,
          2021,
          2022,
          2023
         ],
         "y": [
          8762236743.917505,
          7021307406.129111,
          5685621665.112325,
          11301623895.757748,
          6069846038.48013,
          6225162855.958808,
          5323017699.813454,
          4608662079.176295,
          4882950924.327488,
          6016201364.37618,
          5240034453.082266,
          5236517051.268779,
          5268683204.491083,
          5157569352.704172,
          5106223560.867802,
          4969634426.892643,
          4724922693.768279,
          4480084645.5008955,
          4374066610.234127,
          4229958491.912754,
          3982798537.025158,
          3874714554.949441,
          3857264831.7654443,
          3741758233.408941,
          3453493270.627081,
          3287967507.9690285,
          3192201418.1997347,
          3040415881.4728456,
          3037225577.4320455,
          2873465261.794458,
          2593326221.2592025,
          2673062476.312804,
          2557636350.6545143,
          2530862956.8415713,
          2458093506.8204856,
          2488924424.0928073,
          2512179682.8220425,
          2431297938.936593,
          2575990989.3940363,
          2662256373.528939,
          2673293568.1358504,
          2605280410.2623215,
          2587140240.058932,
          2584774913.765374,
          2642556200.63613,
          2643480665.07976,
          2453899402.0201187,
          2471921401.15144,
          2409091958.4411726,
          2407767859.908802,
          2387726354.685768,
          2253212509.245093,
          2338947009.991979,
          1977180883.6820543
         ]
        },
        {
         "name": "Americas",
         "type": "scatter",
         "x": [
          1970,
          1971,
          1972,
          1973,
          1974,
          1975,
          1976,
          1977,
          1978,
          1979,
          1980,
          1981,
          1982,
          1983,
          1984,
          1985,
          1986,
          1987,
          1988,
          1989,
          1990,
          1991,
          1992,
          1993,
          1994,
          1995,
          1996,
          1997,
          1998,
          1999,
          2000,
          2001,
          2002,
          2003,
          2004,
          2005,
          2006,
          2007,
          2008,
          2009,
          2010,
          2011,
          2012,
          2013,
          2014,
          2015,
          2016,
          2017,
          2018,
          2019,
          2020,
          2021,
          2022,
          2023
         ],
         "y": [
          6410626393.735523,
          6525062740.087018,
          5604679160.365839,
          5568265575.448483,
          5429237624.769174,
          4035340616.767917,
          4007527409.6083794,
          3174148735.136726,
          3277285339.3289967,
          3281804291.3834205,
          2935916356.2522817,
          2938548444.720552,
          2876392530.2294908,
          2819290139.1563983,
          2816504607.7152333,
          2698263367.4930167,
          2629025887.145115,
          2727517923.0597525,
          2612994315.227821,
          2543631014.837745,
          2456074128.977761,
          2286093852.833582,
          2258549151.2967525,
          2137953253.894538,
          2071673491.7868118,
          1915800831.0931227,
          1925612894.6891115,
          1903464308.1476586,
          1905443820.1782088,
          1890552180.6689088,
          1925506358.649208,
          1744501012.434601,
          1858267799.9464355,
          1809023895.3724716,
          1753400910.6951995,
          1767264886.7584913,
          1743739244.4082122,
          1770547920.5354514,
          1797388196.4641678,
          1764184417.5898285,
          1751731867.9291325,
          1730118856.6747024,
          1776367372.6233773,
          1818707815.6253467,
          1827150298.6633828,
          1880341285.940455,
          1813609968.3161674,
          1798989284.0920494,
          1801022775.1915565,
          1734169084.4275799,
          1664611417.956598,
          1683537883.5989616,
          1690344143.8169105,
          1699637574.1262112
         ]
        },
        {
         "name": "Asia",
         "type": "scatter",
         "x": [
          1959,
          1960,
          1961,
          1962,
          1963,
          1964,
          1965,
          1966,
          1967,
          1968,
          1969,
          1970,
          1971,
          1972,
          1973,
          1974,
          1975,
          1976,
          1977,
          1978,
          1979,
          1980,
          1981,
          1982,
          1983,
          1984,
          1985,
          1986,
          1987,
          1988,
          1989,
          1990,
          1991,
          1992,
          1993,
          1994,
          1995,
          1996,
          1997,
          1998,
          1999,
          2000,
          2001,
          2002,
          2003,
          2004,
          2005,
          2006,
          2007,
          2008,
          2009,
          2010,
          2011,
          2012,
          2013,
          2014,
          2015,
          2016,
          2017,
          2018,
          2019,
          2020,
          2021,
          2022,
          2023
         ],
         "y": [
          0,
          141168289609.17224,
          141168289609.17224,
          141168289609.17224,
          141168289609.17224,
          141168289609.17224,
          141168289609.17224,
          141168289609.17224,
          141168289609.17224,
          141168289609.17224,
          141168289609.17224,
          61214221258.223526,
          61600446982.64791,
          72629102068.2442,
          56271471167.450935,
          47005651203.36038,
          52773329454.95023,
          55131808390.58828,
          55377411390.68771,
          35337140416.816505,
          35692226889.55246,
          67541472744.364624,
          68816276604.08403,
          68187605995.36196,
          67901158214.118774,
          67714848201.86436,
          68119072714.3018,
          66807929133.91806,
          65336441235.37517,
          62518721846.50936,
          60413143655.593765,
          60937626911.23199,
          59360501004.53654,
          59314195711.94765,
          52986641038.32697,
          41811796710.66124,
          35620225294.09551,
          31420828432.802917,
          30823890542.47246,
          31581451348.162685,
          25032173217.95745,
          28036932137.987225,
          30323401787.56478,
          28538864779.985035,
          28342622509.25702,
          28426658693.393646,
          27685940493.19068,
          27868555499.829887,
          27988209334.04975,
          27028160022.433544,
          29738769058.884796,
          28381233423.32067,
          28034101573.653393,
          27309456046.456707,
          27873650035.70215,
          29293798612.966843,
          30662600902.324768,
          30664920993.85445,
          29510229892.365562,
          29634277949.75715,
          28988790641.9264,
          27662574047.594643,
          23013275825.624897,
          21607050354.143784,
          20452389507.174488
         ]
        },
        {
         "name": "Europe",
         "type": "scatter",
         "x": [
          1970,
          1971,
          1972,
          1973,
          1974,
          1975,
          1976,
          1977,
          1978,
          1979,
          1980,
          1981,
          1982,
          1983,
          1984,
          1985,
          1986,
          1987,
          1988,
          1989,
          1990,
          1991,
          1992,
          1993,
          1994,
          1995,
          1996,
          1997,
          1998,
          1999,
          2000,
          2001,
          2002,
          2003,
          2004,
          2005,
          2006,
          2007,
          2008,
          2009,
          2010,
          2011,
          2012,
          2013,
          2014,
          2015,
          2016,
          2017,
          2018,
          2019,
          2020,
          2021,
          2022,
          2023
         ],
         "y": [
          22296594663.713264,
          20363217954.847195,
          19955885461.01858,
          20005008131.832966,
          20455746307.172436,
          18863823436.132236,
          17002020996.99706,
          19463292511.871883,
          19912502560.705353,
          20978359597.600433,
          20668189482.561604,
          20765827632.824745,
          20851884912.18824,
          20737699800.751343,
          20626658349.36609,
          21135355456.585274,
          21055034155.59455,
          20948727026.02025,
          20591752726.39113,
          20401846400.19285,
          20578428657.401775,
          19436786128.13757,
          15769060014.779997,
          12872549794.916365,
          11399180287.672146,
          12940827256.180235,
          12807442831.937794,
          11757678466.350414,
          11393448295.89732,
          11516630786.16238,
          11334323919.398108,
          11252354213.314882,
          11241066432.691849,
          11501588818.388067,
          11332011175.875235,
          11436213949.45876,
          11367496503.83949,
          11145858533.792728,
          10855830049.66853,
          10665986350.39323,
          10734655309.651089,
          10246782883.089863,
          9906549380.141657,
          9965801965.463177,
          9996366416.271538,
          10197303332.925274,
          10648548958.99522,
          10866353127.958904,
          10946910142.378725,
          11027891690.366047,
          11318273607.330378,
          11470976855.404577,
          8437185089.285273,
          8315887586.41326
         ]
        },
        {
         "name": "Oceania",
         "type": "scatter",
         "x": [
          1970,
          1971,
          1972,
          1973,
          1974,
          1975,
          1976,
          1977,
          1978,
          1979,
          1980,
          1981,
          1982,
          1983,
          1984,
          1985,
          1986,
          1987,
          1988,
          1989,
          1990,
          1991,
          1992,
          1993,
          1994,
          1995,
          1996,
          1997,
          1998,
          1999,
          2000,
          2001,
          2002,
          2003,
          2004,
          2005,
          2006,
          2007,
          2008,
          2009,
          2010,
          2011,
          2012,
          2013,
          2014,
          2015,
          2016,
          2017,
          2018,
          2019,
          2020,
          2021,
          2022,
          2023
         ],
         "y": [
          289745861.41269916,
          289745861.41269916,
          302876389.67273307,
          232665964.42216557,
          227284629.54292038,
          224615613.27985442,
          230259245.60387507,
          237717609.9055123,
          257437396.80101094,
          266785510.01579088,
          111913303.96756673,
          114017503.44812177,
          113399149.92593911,
          115814062.58422916,
          118025066.21921536,
          116852971.18646373,
          113170485.22762398,
          116189978.74135563,
          116414239.63025403,
          124870423.30436406,
          126857978.59787022,
          124232932.71833542,
          119607858.10505487,
          118199135.0264417,
          114307990.51498383,
          105340646.19687817,
          116073866.554584,
          117424253.55450976,
          113138410.37492235,
          106048052.18221398,
          104324008.84836659,
          121159563.12989198,
          117557550.79891269,
          102125069.00922337,
          105950414.04241121,
          113371874.4541835,
          112146032.32463527,
          98457550.49620299,
          96119239.90942372,
          105447346.79801604,
          98063376.42248666,
          101565861.52647123,
          104338462.79623944,
          111978059.39711183,
          116041995.97521292,
          113421918.38794631,
          111893561.4398125,
          107135758.2124206,
          108628656.37059279,
          109561979.06831373,
          102869153.97072062,
          97895088.99554305,
          96321736.76195571,
          98962034.98477393
         ]
        }
       ],
       "layout": {
        "template": {
         "data": {
          "bar": [
           {
            "error_x": {
             "color": "#f2f5fa"
            },
            "error_y": {
             "color": "#f2f5fa"
            },
            "marker": {
             "line": {
              "color": "rgb(17,17,17)",
              "width": 0.5
             },
             "pattern": {
              "fillmode": "overlay",
              "size": 10,
              "solidity": 0.2
             }
            },
            "type": "bar"
           }
          ],
          "barpolar": [
           {
            "marker": {
             "line": {
              "color": "rgb(17,17,17)",
              "width": 0.5
             },
             "pattern": {
              "fillmode": "overlay",
              "size": 10,
              "solidity": 0.2
             }
            },
            "type": "barpolar"
           }
          ],
          "carpet": [
           {
            "aaxis": {
             "endlinecolor": "#A2B1C6",
             "gridcolor": "#506784",
             "linecolor": "#506784",
             "minorgridcolor": "#506784",
             "startlinecolor": "#A2B1C6"
            },
            "baxis": {
             "endlinecolor": "#A2B1C6",
             "gridcolor": "#506784",
             "linecolor": "#506784",
             "minorgridcolor": "#506784",
             "startlinecolor": "#A2B1C6"
            },
            "type": "carpet"
           }
          ],
          "choropleth": [
           {
            "colorbar": {
             "outlinewidth": 0,
             "ticks": ""
            },
            "type": "choropleth"
           }
          ],
          "contour": [
           {
            "colorbar": {
             "outlinewidth": 0,
             "ticks": ""
            },
            "colorscale": [
             [
              0,
              "#0d0887"
             ],
             [
              0.1111111111111111,
              "#46039f"
             ],
             [
              0.2222222222222222,
              "#7201a8"
             ],
             [
              0.3333333333333333,
              "#9c179e"
             ],
             [
              0.4444444444444444,
              "#bd3786"
             ],
             [
              0.5555555555555556,
              "#d8576b"
             ],
             [
              0.6666666666666666,
              "#ed7953"
             ],
             [
              0.7777777777777778,
              "#fb9f3a"
             ],
             [
              0.8888888888888888,
              "#fdca26"
             ],
             [
              1,
              "#f0f921"
             ]
            ],
            "type": "contour"
           }
          ],
          "contourcarpet": [
           {
            "colorbar": {
             "outlinewidth": 0,
             "ticks": ""
            },
            "type": "contourcarpet"
           }
          ],
          "heatmap": [
           {
            "colorbar": {
             "outlinewidth": 0,
             "ticks": ""
            },
            "colorscale": [
             [
              0,
              "#0d0887"
             ],
             [
              0.1111111111111111,
              "#46039f"
             ],
             [
              0.2222222222222222,
              "#7201a8"
             ],
             [
              0.3333333333333333,
              "#9c179e"
             ],
             [
              0.4444444444444444,
              "#bd3786"
             ],
             [
              0.5555555555555556,
              "#d8576b"
             ],
             [
              0.6666666666666666,
              "#ed7953"
             ],
             [
              0.7777777777777778,
              "#fb9f3a"
             ],
             [
              0.8888888888888888,
              "#fdca26"
             ],
             [
              1,
              "#f0f921"
             ]
            ],
            "type": "heatmap"
           }
          ],
          "heatmapgl": [
           {
            "colorbar": {
             "outlinewidth": 0,
             "ticks": ""
            },
            "colorscale": [
             [
              0,
              "#0d0887"
             ],
             [
              0.1111111111111111,
              "#46039f"
             ],
             [
              0.2222222222222222,
              "#7201a8"
             ],
             [
              0.3333333333333333,
              "#9c179e"
             ],
             [
              0.4444444444444444,
              "#bd3786"
             ],
             [
              0.5555555555555556,
              "#d8576b"
             ],
             [
              0.6666666666666666,
              "#ed7953"
             ],
             [
              0.7777777777777778,
              "#fb9f3a"
             ],
             [
              0.8888888888888888,
              "#fdca26"
             ],
             [
              1,
              "#f0f921"
             ]
            ],
            "type": "heatmapgl"
           }
          ],
          "histogram": [
           {
            "marker": {
             "pattern": {
              "fillmode": "overlay",
              "size": 10,
              "solidity": 0.2
             }
            },
            "type": "histogram"
           }
          ],
          "histogram2d": [
           {
            "colorbar": {
             "outlinewidth": 0,
             "ticks": ""
            },
            "colorscale": [
             [
              0,
              "#0d0887"
             ],
             [
              0.1111111111111111,
              "#46039f"
             ],
             [
              0.2222222222222222,
              "#7201a8"
             ],
             [
              0.3333333333333333,
              "#9c179e"
             ],
             [
              0.4444444444444444,
              "#bd3786"
             ],
             [
              0.5555555555555556,
              "#d8576b"
             ],
             [
              0.6666666666666666,
              "#ed7953"
             ],
             [
              0.7777777777777778,
              "#fb9f3a"
             ],
             [
              0.8888888888888888,
              "#fdca26"
             ],
             [
              1,
              "#f0f921"
             ]
            ],
            "type": "histogram2d"
           }
          ],
          "histogram2dcontour": [
           {
            "colorbar": {
             "outlinewidth": 0,
             "ticks": ""
            },
            "colorscale": [
             [
              0,
              "#0d0887"
             ],
             [
              0.1111111111111111,
              "#46039f"
             ],
             [
              0.2222222222222222,
              "#7201a8"
             ],
             [
              0.3333333333333333,
              "#9c179e"
             ],
             [
              0.4444444444444444,
              "#bd3786"
             ],
             [
              0.5555555555555556,
              "#d8576b"
             ],
             [
              0.6666666666666666,
              "#ed7953"
             ],
             [
              0.7777777777777778,
              "#fb9f3a"
             ],
             [
              0.8888888888888888,
              "#fdca26"
             ],
             [
              1,
              "#f0f921"
             ]
            ],
            "type": "histogram2dcontour"
           }
          ],
          "mesh3d": [
           {
            "colorbar": {
             "outlinewidth": 0,
             "ticks": ""
            },
            "type": "mesh3d"
           }
          ],
          "parcoords": [
           {
            "line": {
             "colorbar": {
              "outlinewidth": 0,
              "ticks": ""
             }
            },
            "type": "parcoords"
           }
          ],
          "pie": [
           {
            "automargin": true,
            "type": "pie"
           }
          ],
          "scatter": [
           {
            "marker": {
             "line": {
              "color": "#283442"
             }
            },
            "type": "scatter"
           }
          ],
          "scatter3d": [
           {
            "line": {
             "colorbar": {
              "outlinewidth": 0,
              "ticks": ""
             }
            },
            "marker": {
             "colorbar": {
              "outlinewidth": 0,
              "ticks": ""
             }
            },
            "type": "scatter3d"
           }
          ],
          "scattercarpet": [
           {
            "marker": {
             "colorbar": {
              "outlinewidth": 0,
              "ticks": ""
             }
            },
            "type": "scattercarpet"
           }
          ],
          "scattergeo": [
           {
            "marker": {
             "colorbar": {
              "outlinewidth": 0,
              "ticks": ""
             }
            },
            "type": "scattergeo"
           }
          ],
          "scattergl": [
           {
            "marker": {
             "line": {
              "color": "#283442"
             }
            },
            "type": "scattergl"
           }
          ],
          "scattermapbox": [
           {
            "marker": {
             "colorbar": {
              "outlinewidth": 0,
              "ticks": ""
             }
            },
            "type": "scattermapbox"
           }
          ],
          "scatterpolar": [
           {
            "marker": {
             "colorbar": {
              "outlinewidth": 0,
              "ticks": ""
             }
            },
            "type": "scatterpolar"
           }
          ],
          "scatterpolargl": [
           {
            "marker": {
             "colorbar": {
              "outlinewidth": 0,
              "ticks": ""
             }
            },
            "type": "scatterpolargl"
           }
          ],
          "scatterternary": [
           {
            "marker": {
             "colorbar": {
              "outlinewidth": 0,
              "ticks": ""
             }
            },
            "type": "scatterternary"
           }
          ],
          "surface": [
           {
            "colorbar": {
             "outlinewidth": 0,
             "ticks": ""
            },
            "colorscale": [
             [
              0,
              "#0d0887"
             ],
             [
              0.1111111111111111,
              "#46039f"
             ],
             [
              0.2222222222222222,
              "#7201a8"
             ],
             [
              0.3333333333333333,
              "#9c179e"
             ],
             [
              0.4444444444444444,
              "#bd3786"
             ],
             [
              0.5555555555555556,
              "#d8576b"
             ],
             [
              0.6666666666666666,
              "#ed7953"
             ],
             [
              0.7777777777777778,
              "#fb9f3a"
             ],
             [
              0.8888888888888888,
              "#fdca26"
             ],
             [
              1,
              "#f0f921"
             ]
            ],
            "type": "surface"
           }
          ],
          "table": [
           {
            "cells": {
             "fill": {
              "color": "#506784"
             },
             "line": {
              "color": "rgb(17,17,17)"
             }
            },
            "header": {
             "fill": {
              "color": "#2a3f5f"
             },
             "line": {
              "color": "rgb(17,17,17)"
             }
            },
            "type": "table"
           }
          ]
         },
         "layout": {
          "annotationdefaults": {
           "arrowcolor": "#f2f5fa",
           "arrowhead": 0,
           "arrowwidth": 1
          },
          "autotypenumbers": "strict",
          "coloraxis": {
           "colorbar": {
            "outlinewidth": 0,
            "ticks": ""
           }
          },
          "colorscale": {
           "diverging": [
            [
             0,
             "#8e0152"
            ],
            [
             0.1,
             "#c51b7d"
            ],
            [
             0.2,
             "#de77ae"
            ],
            [
             0.3,
             "#f1b6da"
            ],
            [
             0.4,
             "#fde0ef"
            ],
            [
             0.5,
             "#f7f7f7"
            ],
            [
             0.6,
             "#e6f5d0"
            ],
            [
             0.7,
             "#b8e186"
            ],
            [
             0.8,
             "#7fbc41"
            ],
            [
             0.9,
             "#4d9221"
            ],
            [
             1,
             "#276419"
            ]
           ],
           "sequential": [
            [
             0,
             "#0d0887"
            ],
            [
             0.1111111111111111,
             "#46039f"
            ],
            [
             0.2222222222222222,
             "#7201a8"
            ],
            [
             0.3333333333333333,
             "#9c179e"
            ],
            [
             0.4444444444444444,
             "#bd3786"
            ],
            [
             0.5555555555555556,
             "#d8576b"
            ],
            [
             0.6666666666666666,
             "#ed7953"
            ],
            [
             0.7777777777777778,
             "#fb9f3a"
            ],
            [
             0.8888888888888888,
             "#fdca26"
            ],
            [
             1,
             "#f0f921"
            ]
           ],
           "sequentialminus": [
            [
             0,
             "#0d0887"
            ],
            [
             0.1111111111111111,
             "#46039f"
            ],
            [
             0.2222222222222222,
             "#7201a8"
            ],
            [
             0.3333333333333333,
             "#9c179e"
            ],
            [
             0.4444444444444444,
             "#bd3786"
            ],
            [
             0.5555555555555556,
             "#d8576b"
            ],
            [
             0.6666666666666666,
             "#ed7953"
            ],
            [
             0.7777777777777778,
             "#fb9f3a"
            ],
            [
             0.8888888888888888,
             "#fdca26"
            ],
            [
             1,
             "#f0f921"
            ]
           ]
          },
          "colorway": [
           "#636efa",
           "#EF553B",
           "#00cc96",
           "#ab63fa",
           "#FFA15A",
           "#19d3f3",
           "#FF6692",
           "#B6E880",
           "#FF97FF",
           "#FECB52"
          ],
          "font": {
           "color": "#f2f5fa"
          },
          "geo": {
           "bgcolor": "rgb(17,17,17)",
           "lakecolor": "rgb(17,17,17)",
           "landcolor": "rgb(17,17,17)",
           "showlakes": true,
           "showland": true,
           "subunitcolor": "#506784"
          },
          "hoverlabel": {
           "align": "left"
          },
          "hovermode": "closest",
          "mapbox": {
           "style": "dark"
          },
          "paper_bgcolor": "rgb(17,17,17)",
          "plot_bgcolor": "rgb(17,17,17)",
          "polar": {
           "angularaxis": {
            "gridcolor": "#506784",
            "linecolor": "#506784",
            "ticks": ""
           },
           "bgcolor": "rgb(17,17,17)",
           "radialaxis": {
            "gridcolor": "#506784",
            "linecolor": "#506784",
            "ticks": ""
           }
          },
          "scene": {
           "xaxis": {
            "backgroundcolor": "rgb(17,17,17)",
            "gridcolor": "#506784",
            "gridwidth": 2,
            "linecolor": "#506784",
            "showbackground": true,
            "ticks": "",
            "zerolinecolor": "#C8D4E3"
           },
           "yaxis": {
            "backgroundcolor": "rgb(17,17,17)",
            "gridcolor": "#506784",
            "gridwidth": 2,
            "linecolor": "#506784",
            "showbackground": true,
            "ticks": "",
            "zerolinecolor": "#C8D4E3"
           },
           "zaxis": {
            "backgroundcolor": "rgb(17,17,17)",
            "gridcolor": "#506784",
            "gridwidth": 2,
            "linecolor": "#506784",
            "showbackground": true,
            "ticks": "",
            "zerolinecolor": "#C8D4E3"
           }
          },
          "shapedefaults": {
           "line": {
            "color": "#f2f5fa"
           }
          },
          "sliderdefaults": {
           "bgcolor": "#C8D4E3",
           "bordercolor": "rgb(17,17,17)",
           "borderwidth": 1,
           "tickwidth": 0
          },
          "ternary": {
           "aaxis": {
            "gridcolor": "#506784",
            "linecolor": "#506784",
            "ticks": ""
           },
           "baxis": {
            "gridcolor": "#506784",
            "linecolor": "#506784",
            "ticks": ""
           },
           "bgcolor": "rgb(17,17,17)",
           "caxis": {
            "gridcolor": "#506784",
            "linecolor": "#506784",
            "ticks": ""
           }
          },
          "title": {
           "x": 0.05
          },
          "updatemenudefaults": {
           "bgcolor": "#506784",
           "borderwidth": 0
          },
          "xaxis": {
           "automargin": true,
           "gridcolor": "#283442",
           "linecolor": "#506784",
           "ticks": "",
           "title": {
            "standoff": 15
           },
           "zerolinecolor": "#283442",
           "zerolinewidth": 2
          },
          "yaxis": {
           "automargin": true,
           "gridcolor": "#283442",
           "linecolor": "#506784",
           "ticks": "",
           "title": {
            "standoff": 15
           },
           "zerolinecolor": "#283442",
           "zerolinewidth": 2
          }
         }
        },
        "title": {
         "text": "Total Defense spend by region over time (PPP)"
        }
       }
      }
     },
     "metadata": {},
     "output_type": "display_data"
    }
   ],
   "source": [
    "fig = go.Figure()\n",
    "\n",
    "for region, data in defense_region.groupby('region'):\n",
    "\n",
    "    # Manage outliers and missing values before continuing.\n",
    "    data_cleaned = manage_outliers(data, 'value_ppp').dropna(subset='value_ppp')\n",
    "    subset = data_cleaned.groupby('year')['value_ppp'].mean()\n",
    "\n",
    "    fig.add_trace(\n",
    "        go.Scatter(\n",
    "            x=subset.index,\n",
    "            y=subset.values,\n",
    "            name=region\n",
    "        )\n",
    "    )\n",
    "\n",
    "    fig.update_layout(\n",
    "        title=\"Total Defense spend by region over time (PPP)\"\n",
    "    )\n",
    "\n",
    "fig.show()"
   ]
  },
  {
   "cell_type": "code",
   "execution_count": 597,
   "metadata": {},
   "outputs": [
    {
     "data": {
      "application/vnd.plotly.v1+json": {
       "config": {
        "plotlyServerURL": "https://plot.ly"
       },
       "data": [
        {
         "name": "Africa",
         "type": "scatter",
         "x": [
          1970,
          1971,
          1972,
          1973,
          1974,
          1975,
          1976,
          1977,
          1978,
          1979,
          1980,
          1981,
          1982,
          1983,
          1984,
          1985,
          1986,
          1987,
          1988,
          1989,
          1990,
          1991,
          1992,
          1993,
          1994,
          1995,
          1996,
          1997,
          1998,
          1999,
          2000,
          2001,
          2002,
          2003,
          2004,
          2005,
          2006,
          2007,
          2008,
          2009,
          2010,
          2011,
          2012,
          2013,
          2014,
          2015,
          2016,
          2017,
          2018,
          2019,
          2020,
          2021,
          2022,
          2023
         ],
         "y": [
          354.79057580886035,
          273.7996771047233,
          266.50027091217135,
          444.47692756989153,
          321.77186129959193,
          315.5405971484567,
          282.7147429714209,
          251.46513185054073,
          207.77680377769994,
          254.73149521601303,
          283.7037419995468,
          277.00155018079755,
          276.58126457359623,
          269.3373957148546,
          260.4869758327033,
          255.34495532169706,
          249.75935295731202,
          233.52807804732984,
          223.93648999998533,
          214.47118853326103,
          205.7730488915824,
          196.744637125004,
          186.41048495760597,
          179.20262711343926,
          158.8256856871523,
          147.1283464969931,
          138.31112593595358,
          131.13690307645032,
          126.12787007309049,
          108.29459956613788,
          97.00975476442352,
          96.94381576577223,
          90.24802410566421,
          89.02210079744172,
          91.2209737909997,
          88.55927742836899,
          90.11256926077914,
          90.58751484600229,
          92.36228258800121,
          94.43715694053563,
          91.2434290461418,
          89.55745319471235,
          90.16044880517124,
          90.83138638837849,
          89.19409889989859,
          82.42514623712034,
          74.13884903920807,
          68.27938742142062,
          65.49246839781979,
          61.56353560849383,
          52.260891782759586,
          44.197828278856754,
          41.62161220252428,
          36.618240636554596
         ]
        },
        {
         "name": "Americas",
         "type": "scatter",
         "x": [
          1970,
          1971,
          1972,
          1973,
          1974,
          1975,
          1976,
          1977,
          1978,
          1979,
          1980,
          1981,
          1982,
          1983,
          1984,
          1985,
          1986,
          1987,
          1988,
          1989,
          1990,
          1991,
          1992,
          1993,
          1994,
          1995,
          1996,
          1997,
          1998,
          1999,
          2000,
          2001,
          2002,
          2003,
          2004,
          2005,
          2006,
          2007,
          2008,
          2009,
          2010,
          2011,
          2012,
          2013,
          2014,
          2015,
          2016,
          2017,
          2018,
          2019,
          2020,
          2021,
          2022,
          2023
         ],
         "y": [
          757.164287298382,
          768.9017872983819,
          643.8609934703616,
          636.0913989217873,
          627.6314298387056,
          474.36742468687936,
          472.1377906817053,
          404.9884486544569,
          391.04338692518974,
          396.7919465919743,
          452.3766070226069,
          456.2678057327584,
          452.986617330008,
          432.56604904136844,
          421.61705673791164,
          390.9882866967584,
          391.9731756155268,
          384.4534193346841,
          378.97274480697985,
          369.041768373878,
          357.5665137324924,
          298.0054301521787,
          293.48670220038446,
          277.1864931578299,
          279.7068473228625,
          275.74142709363025,
          286.36839746563277,
          289.22869999108224,
          283.7227253917153,
          273.0554230738902,
          250.09112350859996,
          234.5727785312193,
          223.65430098668404,
          211.13908580440796,
          212.32499367832474,
          220.33043930504138,
          228.13516009513248,
          231.78116268766817,
          241.22784804313838,
          241.1094175521755,
          239.3613210243892,
          235.8234108460369,
          243.19471112353978,
          245.81703808308907,
          238.42417702422696,
          240.20487312076978,
          222.78836582174839,
          228.19885371474737,
          222.388599018231,
          220.18226132641774,
          202.23823592030018,
          196.66903903503731,
          210.78124504225133,
          217.09254331015117
         ]
        },
        {
         "name": "Asia",
         "type": "scatter",
         "x": [
          1960,
          1961,
          1962,
          1963,
          1964,
          1965,
          1966,
          1967,
          1968,
          1969,
          1970,
          1971,
          1972,
          1973,
          1974,
          1975,
          1976,
          1977,
          1978,
          1979,
          1980,
          1981,
          1982,
          1983,
          1984,
          1985,
          1986,
          1987,
          1988,
          1989,
          1990,
          1991,
          1992,
          1993,
          1994,
          1995,
          1996,
          1997,
          1998,
          1999,
          2000,
          2001,
          2002,
          2003,
          2004,
          2005,
          2006,
          2007,
          2008,
          2009,
          2010,
          2011,
          2012,
          2013,
          2014,
          2015,
          2016,
          2017,
          2018,
          2019,
          2020,
          2021,
          2022,
          2023
         ],
         "y": [
          3642.346868304686,
          3642.346868304686,
          3642.346868304686,
          3642.346868304686,
          3642.346868304686,
          3642.346868304686,
          3642.346868304686,
          3642.346868304686,
          3642.346868304686,
          3642.346868304686,
          1406.9208865660567,
          1431.741178689352,
          1652.0061987130912,
          1417.678527957545,
          1395.4726497262213,
          1499.473933420797,
          1576.6120339998154,
          1572.1838316174026,
          1490.8908450259005,
          1569.5330151507885,
          1920.983078912942,
          1918.096863615148,
          1857.5907838083265,
          1815.1281846444322,
          1786.3260821604738,
          1707.5390660389176,
          1634.5405426312593,
          1614.608593024303,
          1581.3554959175872,
          1555.2782213070332,
          1553.3920946047012,
          1463.616823444793,
          1531.933532304526,
          1374.7392100862128,
          1106.0932046161013,
          901.3810630480091,
          782.5559277545062,
          762.476757758495,
          748.3976321402146,
          615.2973423625439,
          581.4686876585183,
          594.1639602494895,
          542.6180030364874,
          582.9096885324683,
          597.0967383534249,
          580.9111853393729,
          594.9869562160333,
          598.8068856683714,
          618.6653788717184,
          630.0634311993716,
          593.9294156600854,
          603.1290621334769,
          601.3035753184763,
          589.6087246150064,
          591.532192846018,
          604.32434393856,
          602.6015498192202,
          538.9463091592794,
          532.4815606559418,
          533.1614166628494,
          435.4349383590918,
          372.3935737356648,
          373.3858238181173,
          374.8906527296365
         ]
        },
        {
         "name": "Europe",
         "type": "scatter",
         "x": [
          1970,
          1971,
          1972,
          1973,
          1974,
          1975,
          1976,
          1977,
          1978,
          1979,
          1980,
          1981,
          1982,
          1983,
          1984,
          1985,
          1986,
          1987,
          1988,
          1989,
          1990,
          1991,
          1992,
          1993,
          1994,
          1995,
          1996,
          1997,
          1998,
          1999,
          2000,
          2001,
          2002,
          2003,
          2004,
          2005,
          2006,
          2007,
          2008,
          2009,
          2010,
          2011,
          2012,
          2013,
          2014,
          2015,
          2016,
          2017,
          2018,
          2019,
          2020,
          2021,
          2022,
          2023
         ],
         "y": [
          1027.988386147763,
          950.2325076161607,
          967.2860881810834,
          1036.0460163926882,
          1066.069154016577,
          1054.0914955905525,
          981.9352584702226,
          1003.8288474676721,
          1032.5309163412244,
          966.5431339976462,
          1125.128284516225,
          1090.8651108881295,
          1025.5522270924184,
          956.9568093482361,
          907.2400123241414,
          901.5798644641387,
          993.949526396616,
          1035.3647055657618,
          1051.8296781981096,
          1015.6031772697854,
          1034.5628629415949,
          1040.9757543030162,
          866.2863247768863,
          649.0692588109359,
          611.0821675123557,
          656.160015936837,
          614.673967781385,
          505.6647302948822,
          477.71475040018873,
          468.191302667223,
          434.8586089180677,
          426.2903447352218,
          459.45488498482666,
          526.9208917202491,
          583.2519150524895,
          595.2480162150906,
          612.0673297449965,
          670.4851176410248,
          682.6016672122632,
          638.2811189252711,
          607.2679634226673,
          604.6971824789373,
          558.3476846298104,
          557.4542641709838,
          563.3523221261343,
          490.31100748094997,
          500.3330257259984,
          507.86004103816026,
          544.8886137524282,
          533.258053751353,
          554.2772238359066,
          577.300935737708,
          592.1313366978086,
          603.2894527739262
         ]
        },
        {
         "name": "Oceania",
         "type": "scatter",
         "x": [
          1970,
          1971,
          1972,
          1973,
          1974,
          1975,
          1976,
          1977,
          1978,
          1979,
          1980,
          1981,
          1982,
          1983,
          1984,
          1985,
          1986,
          1987,
          1988,
          1989,
          1990,
          1991,
          1992,
          1993,
          1994,
          1995,
          1996,
          1997,
          1998,
          1999,
          2000,
          2001,
          2002,
          2003,
          2004,
          2005,
          2006,
          2007,
          2008,
          2009,
          2010,
          2011,
          2012,
          2013,
          2014,
          2015,
          2016,
          2017,
          2018,
          2019,
          2020,
          2021,
          2022,
          2023
         ],
         "y": [
          257.0419994587756,
          279.10666875416507,
          277.32943713615526,
          258.69229699395964,
          255.3375493424842,
          253.25248249720948,
          258.37175996890784,
          263.9762924353449,
          283.19170411189333,
          291.40958567255274,
          195.67816802627996,
          181.58111097061465,
          163.74719847580474,
          160.7773184620112,
          159.77762982959212,
          156.71905956504736,
          156.08018463098244,
          167.34565003286983,
          173.2357716670616,
          187.60959242174965,
          187.63227388504401,
          168.07106435745155,
          151.6317166562409,
          144.60633660992158,
          138.17791095580836,
          122.96413405026188,
          135.28162392804012,
          139.75203892636566,
          123.05032213143365,
          114.23041182327546,
          104.92276933332329,
          107.53504881104189,
          107.15770708565061,
          122.5441211487264,
          130.15649328632597,
          123.73849632519884,
          117.28784273525552,
          120.5246081425376,
          135.8747986488948,
          148.88155970750833,
          143.73932378574068,
          157.64551038747712,
          155.42801781488174,
          164.0216984863054,
          172.45226515141903,
          160.7494366721149,
          161.04602439572957,
          152.19670747759173,
          163.82812895660385,
          155.16870448642803,
          143.78201679338042,
          154.6842646779972,
          144.4895566128627,
          147.27762901961307
         ]
        }
       ],
       "layout": {
        "template": {
         "data": {
          "bar": [
           {
            "error_x": {
             "color": "#f2f5fa"
            },
            "error_y": {
             "color": "#f2f5fa"
            },
            "marker": {
             "line": {
              "color": "rgb(17,17,17)",
              "width": 0.5
             },
             "pattern": {
              "fillmode": "overlay",
              "size": 10,
              "solidity": 0.2
             }
            },
            "type": "bar"
           }
          ],
          "barpolar": [
           {
            "marker": {
             "line": {
              "color": "rgb(17,17,17)",
              "width": 0.5
             },
             "pattern": {
              "fillmode": "overlay",
              "size": 10,
              "solidity": 0.2
             }
            },
            "type": "barpolar"
           }
          ],
          "carpet": [
           {
            "aaxis": {
             "endlinecolor": "#A2B1C6",
             "gridcolor": "#506784",
             "linecolor": "#506784",
             "minorgridcolor": "#506784",
             "startlinecolor": "#A2B1C6"
            },
            "baxis": {
             "endlinecolor": "#A2B1C6",
             "gridcolor": "#506784",
             "linecolor": "#506784",
             "minorgridcolor": "#506784",
             "startlinecolor": "#A2B1C6"
            },
            "type": "carpet"
           }
          ],
          "choropleth": [
           {
            "colorbar": {
             "outlinewidth": 0,
             "ticks": ""
            },
            "type": "choropleth"
           }
          ],
          "contour": [
           {
            "colorbar": {
             "outlinewidth": 0,
             "ticks": ""
            },
            "colorscale": [
             [
              0,
              "#0d0887"
             ],
             [
              0.1111111111111111,
              "#46039f"
             ],
             [
              0.2222222222222222,
              "#7201a8"
             ],
             [
              0.3333333333333333,
              "#9c179e"
             ],
             [
              0.4444444444444444,
              "#bd3786"
             ],
             [
              0.5555555555555556,
              "#d8576b"
             ],
             [
              0.6666666666666666,
              "#ed7953"
             ],
             [
              0.7777777777777778,
              "#fb9f3a"
             ],
             [
              0.8888888888888888,
              "#fdca26"
             ],
             [
              1,
              "#f0f921"
             ]
            ],
            "type": "contour"
           }
          ],
          "contourcarpet": [
           {
            "colorbar": {
             "outlinewidth": 0,
             "ticks": ""
            },
            "type": "contourcarpet"
           }
          ],
          "heatmap": [
           {
            "colorbar": {
             "outlinewidth": 0,
             "ticks": ""
            },
            "colorscale": [
             [
              0,
              "#0d0887"
             ],
             [
              0.1111111111111111,
              "#46039f"
             ],
             [
              0.2222222222222222,
              "#7201a8"
             ],
             [
              0.3333333333333333,
              "#9c179e"
             ],
             [
              0.4444444444444444,
              "#bd3786"
             ],
             [
              0.5555555555555556,
              "#d8576b"
             ],
             [
              0.6666666666666666,
              "#ed7953"
             ],
             [
              0.7777777777777778,
              "#fb9f3a"
             ],
             [
              0.8888888888888888,
              "#fdca26"
             ],
             [
              1,
              "#f0f921"
             ]
            ],
            "type": "heatmap"
           }
          ],
          "heatmapgl": [
           {
            "colorbar": {
             "outlinewidth": 0,
             "ticks": ""
            },
            "colorscale": [
             [
              0,
              "#0d0887"
             ],
             [
              0.1111111111111111,
              "#46039f"
             ],
             [
              0.2222222222222222,
              "#7201a8"
             ],
             [
              0.3333333333333333,
              "#9c179e"
             ],
             [
              0.4444444444444444,
              "#bd3786"
             ],
             [
              0.5555555555555556,
              "#d8576b"
             ],
             [
              0.6666666666666666,
              "#ed7953"
             ],
             [
              0.7777777777777778,
              "#fb9f3a"
             ],
             [
              0.8888888888888888,
              "#fdca26"
             ],
             [
              1,
              "#f0f921"
             ]
            ],
            "type": "heatmapgl"
           }
          ],
          "histogram": [
           {
            "marker": {
             "pattern": {
              "fillmode": "overlay",
              "size": 10,
              "solidity": 0.2
             }
            },
            "type": "histogram"
           }
          ],
          "histogram2d": [
           {
            "colorbar": {
             "outlinewidth": 0,
             "ticks": ""
            },
            "colorscale": [
             [
              0,
              "#0d0887"
             ],
             [
              0.1111111111111111,
              "#46039f"
             ],
             [
              0.2222222222222222,
              "#7201a8"
             ],
             [
              0.3333333333333333,
              "#9c179e"
             ],
             [
              0.4444444444444444,
              "#bd3786"
             ],
             [
              0.5555555555555556,
              "#d8576b"
             ],
             [
              0.6666666666666666,
              "#ed7953"
             ],
             [
              0.7777777777777778,
              "#fb9f3a"
             ],
             [
              0.8888888888888888,
              "#fdca26"
             ],
             [
              1,
              "#f0f921"
             ]
            ],
            "type": "histogram2d"
           }
          ],
          "histogram2dcontour": [
           {
            "colorbar": {
             "outlinewidth": 0,
             "ticks": ""
            },
            "colorscale": [
             [
              0,
              "#0d0887"
             ],
             [
              0.1111111111111111,
              "#46039f"
             ],
             [
              0.2222222222222222,
              "#7201a8"
             ],
             [
              0.3333333333333333,
              "#9c179e"
             ],
             [
              0.4444444444444444,
              "#bd3786"
             ],
             [
              0.5555555555555556,
              "#d8576b"
             ],
             [
              0.6666666666666666,
              "#ed7953"
             ],
             [
              0.7777777777777778,
              "#fb9f3a"
             ],
             [
              0.8888888888888888,
              "#fdca26"
             ],
             [
              1,
              "#f0f921"
             ]
            ],
            "type": "histogram2dcontour"
           }
          ],
          "mesh3d": [
           {
            "colorbar": {
             "outlinewidth": 0,
             "ticks": ""
            },
            "type": "mesh3d"
           }
          ],
          "parcoords": [
           {
            "line": {
             "colorbar": {
              "outlinewidth": 0,
              "ticks": ""
             }
            },
            "type": "parcoords"
           }
          ],
          "pie": [
           {
            "automargin": true,
            "type": "pie"
           }
          ],
          "scatter": [
           {
            "marker": {
             "line": {
              "color": "#283442"
             }
            },
            "type": "scatter"
           }
          ],
          "scatter3d": [
           {
            "line": {
             "colorbar": {
              "outlinewidth": 0,
              "ticks": ""
             }
            },
            "marker": {
             "colorbar": {
              "outlinewidth": 0,
              "ticks": ""
             }
            },
            "type": "scatter3d"
           }
          ],
          "scattercarpet": [
           {
            "marker": {
             "colorbar": {
              "outlinewidth": 0,
              "ticks": ""
             }
            },
            "type": "scattercarpet"
           }
          ],
          "scattergeo": [
           {
            "marker": {
             "colorbar": {
              "outlinewidth": 0,
              "ticks": ""
             }
            },
            "type": "scattergeo"
           }
          ],
          "scattergl": [
           {
            "marker": {
             "line": {
              "color": "#283442"
             }
            },
            "type": "scattergl"
           }
          ],
          "scattermapbox": [
           {
            "marker": {
             "colorbar": {
              "outlinewidth": 0,
              "ticks": ""
             }
            },
            "type": "scattermapbox"
           }
          ],
          "scatterpolar": [
           {
            "marker": {
             "colorbar": {
              "outlinewidth": 0,
              "ticks": ""
             }
            },
            "type": "scatterpolar"
           }
          ],
          "scatterpolargl": [
           {
            "marker": {
             "colorbar": {
              "outlinewidth": 0,
              "ticks": ""
             }
            },
            "type": "scatterpolargl"
           }
          ],
          "scatterternary": [
           {
            "marker": {
             "colorbar": {
              "outlinewidth": 0,
              "ticks": ""
             }
            },
            "type": "scatterternary"
           }
          ],
          "surface": [
           {
            "colorbar": {
             "outlinewidth": 0,
             "ticks": ""
            },
            "colorscale": [
             [
              0,
              "#0d0887"
             ],
             [
              0.1111111111111111,
              "#46039f"
             ],
             [
              0.2222222222222222,
              "#7201a8"
             ],
             [
              0.3333333333333333,
              "#9c179e"
             ],
             [
              0.4444444444444444,
              "#bd3786"
             ],
             [
              0.5555555555555556,
              "#d8576b"
             ],
             [
              0.6666666666666666,
              "#ed7953"
             ],
             [
              0.7777777777777778,
              "#fb9f3a"
             ],
             [
              0.8888888888888888,
              "#fdca26"
             ],
             [
              1,
              "#f0f921"
             ]
            ],
            "type": "surface"
           }
          ],
          "table": [
           {
            "cells": {
             "fill": {
              "color": "#506784"
             },
             "line": {
              "color": "rgb(17,17,17)"
             }
            },
            "header": {
             "fill": {
              "color": "#2a3f5f"
             },
             "line": {
              "color": "rgb(17,17,17)"
             }
            },
            "type": "table"
           }
          ]
         },
         "layout": {
          "annotationdefaults": {
           "arrowcolor": "#f2f5fa",
           "arrowhead": 0,
           "arrowwidth": 1
          },
          "autotypenumbers": "strict",
          "coloraxis": {
           "colorbar": {
            "outlinewidth": 0,
            "ticks": ""
           }
          },
          "colorscale": {
           "diverging": [
            [
             0,
             "#8e0152"
            ],
            [
             0.1,
             "#c51b7d"
            ],
            [
             0.2,
             "#de77ae"
            ],
            [
             0.3,
             "#f1b6da"
            ],
            [
             0.4,
             "#fde0ef"
            ],
            [
             0.5,
             "#f7f7f7"
            ],
            [
             0.6,
             "#e6f5d0"
            ],
            [
             0.7,
             "#b8e186"
            ],
            [
             0.8,
             "#7fbc41"
            ],
            [
             0.9,
             "#4d9221"
            ],
            [
             1,
             "#276419"
            ]
           ],
           "sequential": [
            [
             0,
             "#0d0887"
            ],
            [
             0.1111111111111111,
             "#46039f"
            ],
            [
             0.2222222222222222,
             "#7201a8"
            ],
            [
             0.3333333333333333,
             "#9c179e"
            ],
            [
             0.4444444444444444,
             "#bd3786"
            ],
            [
             0.5555555555555556,
             "#d8576b"
            ],
            [
             0.6666666666666666,
             "#ed7953"
            ],
            [
             0.7777777777777778,
             "#fb9f3a"
            ],
            [
             0.8888888888888888,
             "#fdca26"
            ],
            [
             1,
             "#f0f921"
            ]
           ],
           "sequentialminus": [
            [
             0,
             "#0d0887"
            ],
            [
             0.1111111111111111,
             "#46039f"
            ],
            [
             0.2222222222222222,
             "#7201a8"
            ],
            [
             0.3333333333333333,
             "#9c179e"
            ],
            [
             0.4444444444444444,
             "#bd3786"
            ],
            [
             0.5555555555555556,
             "#d8576b"
            ],
            [
             0.6666666666666666,
             "#ed7953"
            ],
            [
             0.7777777777777778,
             "#fb9f3a"
            ],
            [
             0.8888888888888888,
             "#fdca26"
            ],
            [
             1,
             "#f0f921"
            ]
           ]
          },
          "colorway": [
           "#636efa",
           "#EF553B",
           "#00cc96",
           "#ab63fa",
           "#FFA15A",
           "#19d3f3",
           "#FF6692",
           "#B6E880",
           "#FF97FF",
           "#FECB52"
          ],
          "font": {
           "color": "#f2f5fa"
          },
          "geo": {
           "bgcolor": "rgb(17,17,17)",
           "lakecolor": "rgb(17,17,17)",
           "landcolor": "rgb(17,17,17)",
           "showlakes": true,
           "showland": true,
           "subunitcolor": "#506784"
          },
          "hoverlabel": {
           "align": "left"
          },
          "hovermode": "closest",
          "mapbox": {
           "style": "dark"
          },
          "paper_bgcolor": "rgb(17,17,17)",
          "plot_bgcolor": "rgb(17,17,17)",
          "polar": {
           "angularaxis": {
            "gridcolor": "#506784",
            "linecolor": "#506784",
            "ticks": ""
           },
           "bgcolor": "rgb(17,17,17)",
           "radialaxis": {
            "gridcolor": "#506784",
            "linecolor": "#506784",
            "ticks": ""
           }
          },
          "scene": {
           "xaxis": {
            "backgroundcolor": "rgb(17,17,17)",
            "gridcolor": "#506784",
            "gridwidth": 2,
            "linecolor": "#506784",
            "showbackground": true,
            "ticks": "",
            "zerolinecolor": "#C8D4E3"
           },
           "yaxis": {
            "backgroundcolor": "rgb(17,17,17)",
            "gridcolor": "#506784",
            "gridwidth": 2,
            "linecolor": "#506784",
            "showbackground": true,
            "ticks": "",
            "zerolinecolor": "#C8D4E3"
           },
           "zaxis": {
            "backgroundcolor": "rgb(17,17,17)",
            "gridcolor": "#506784",
            "gridwidth": 2,
            "linecolor": "#506784",
            "showbackground": true,
            "ticks": "",
            "zerolinecolor": "#C8D4E3"
           }
          },
          "shapedefaults": {
           "line": {
            "color": "#f2f5fa"
           }
          },
          "sliderdefaults": {
           "bgcolor": "#C8D4E3",
           "bordercolor": "rgb(17,17,17)",
           "borderwidth": 1,
           "tickwidth": 0
          },
          "ternary": {
           "aaxis": {
            "gridcolor": "#506784",
            "linecolor": "#506784",
            "ticks": ""
           },
           "baxis": {
            "gridcolor": "#506784",
            "linecolor": "#506784",
            "ticks": ""
           },
           "bgcolor": "rgb(17,17,17)",
           "caxis": {
            "gridcolor": "#506784",
            "linecolor": "#506784",
            "ticks": ""
           }
          },
          "title": {
           "x": 0.05
          },
          "updatemenudefaults": {
           "bgcolor": "#506784",
           "borderwidth": 0
          },
          "xaxis": {
           "automargin": true,
           "gridcolor": "#283442",
           "linecolor": "#506784",
           "ticks": "",
           "title": {
            "standoff": 15
           },
           "zerolinecolor": "#283442",
           "zerolinewidth": 2
          },
          "yaxis": {
           "automargin": true,
           "gridcolor": "#283442",
           "linecolor": "#506784",
           "ticks": "",
           "title": {
            "standoff": 15
           },
           "zerolinecolor": "#283442",
           "zerolinewidth": 2
          }
         }
        },
        "title": {
         "text": "Average Defense spend by region over time (USD per capita)"
        }
       }
      }
     },
     "metadata": {},
     "output_type": "display_data"
    }
   ],
   "source": [
    "fig = go.Figure()\n",
    "\n",
    "for region, data in defense_region.groupby('region'):\n",
    "\n",
    "    # Manage outliers and missing values before continuing.\n",
    "    data_cleaned = manage_outliers(data, 'value_usd_per_capita').dropna(subset='value_usd_per_capita')\n",
    "    subset = data_cleaned.groupby('year')['value_usd_per_capita'].mean()\n",
    "\n",
    "    fig.add_trace(\n",
    "        go.Scatter(\n",
    "            x=subset.index,\n",
    "            y=subset.values,\n",
    "            name=region\n",
    "        )\n",
    "    )\n",
    "\n",
    "    fig.update_layout(\n",
    "        title=\"Average Defense spend by region over time (USD per capita)\"\n",
    "    )\n",
    "\n",
    "fig.show()"
   ]
  }
 ],
 "metadata": {
  "kernelspec": {
   "display_name": "inequality-venv",
   "language": "python",
   "name": "python3"
  },
  "language_info": {
   "codemirror_mode": {
    "name": "ipython",
    "version": 3
   },
   "file_extension": ".py",
   "mimetype": "text/x-python",
   "name": "python",
   "nbconvert_exporter": "python",
   "pygments_lexer": "ipython3",
   "version": "3.9.6"
  }
 },
 "nbformat": 4,
 "nbformat_minor": 2
}
