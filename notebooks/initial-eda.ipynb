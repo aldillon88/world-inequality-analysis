{
 "cells": [
  {
   "cell_type": "code",
   "execution_count": 442,
   "metadata": {},
   "outputs": [],
   "source": [
    "import pandas as pd\n",
    "import plotly.graph_objects as go\n",
    "import plotly.io as pio\n",
    "import numpy as np\n",
    "\n",
    "# Set the default template to dark\n",
    "pio.templates.default = \"plotly_dark\""
   ]
  },
  {
   "cell_type": "code",
   "execution_count": 443,
   "metadata": {},
   "outputs": [
    {
     "data": {
      "text/html": [
       "<div>\n",
       "<style scoped>\n",
       "    .dataframe tbody tr th:only-of-type {\n",
       "        vertical-align: middle;\n",
       "    }\n",
       "\n",
       "    .dataframe tbody tr th {\n",
       "        vertical-align: top;\n",
       "    }\n",
       "\n",
       "    .dataframe thead th {\n",
       "        text-align: right;\n",
       "    }\n",
       "</style>\n",
       "<table border=\"1\" class=\"dataframe\">\n",
       "  <thead>\n",
       "    <tr style=\"text-align: right;\">\n",
       "      <th></th>\n",
       "      <th>alpha2</th>\n",
       "      <th>titlename</th>\n",
       "      <th>shortname</th>\n",
       "      <th>region</th>\n",
       "      <th>region2</th>\n",
       "    </tr>\n",
       "  </thead>\n",
       "  <tbody>\n",
       "    <tr>\n",
       "      <th>45</th>\n",
       "      <td>CN-RU</td>\n",
       "      <td>rural China</td>\n",
       "      <td>Rural China</td>\n",
       "      <td>NaN</td>\n",
       "      <td>NaN</td>\n",
       "    </tr>\n",
       "    <tr>\n",
       "      <th>46</th>\n",
       "      <td>CN-UR</td>\n",
       "      <td>urban China</td>\n",
       "      <td>Urban China</td>\n",
       "      <td>NaN</td>\n",
       "      <td>NaN</td>\n",
       "    </tr>\n",
       "    <tr>\n",
       "      <th>57</th>\n",
       "      <td>DE-BD</td>\n",
       "      <td>Baden</td>\n",
       "      <td>Baden</td>\n",
       "      <td>NaN</td>\n",
       "      <td>NaN</td>\n",
       "    </tr>\n",
       "    <tr>\n",
       "      <th>58</th>\n",
       "      <td>DE-BY</td>\n",
       "      <td>Bavaria</td>\n",
       "      <td>Bavaria</td>\n",
       "      <td>NaN</td>\n",
       "      <td>NaN</td>\n",
       "    </tr>\n",
       "    <tr>\n",
       "      <th>59</th>\n",
       "      <td>DE-HB</td>\n",
       "      <td>Bremen</td>\n",
       "      <td>Bremen</td>\n",
       "      <td>NaN</td>\n",
       "      <td>NaN</td>\n",
       "    </tr>\n",
       "    <tr>\n",
       "      <th>60</th>\n",
       "      <td>DE-HE</td>\n",
       "      <td>Hesse</td>\n",
       "      <td>Hesse</td>\n",
       "      <td>NaN</td>\n",
       "      <td>NaN</td>\n",
       "    </tr>\n",
       "    <tr>\n",
       "      <th>61</th>\n",
       "      <td>DE-HH</td>\n",
       "      <td>Hamburg</td>\n",
       "      <td>Hamburg</td>\n",
       "      <td>NaN</td>\n",
       "      <td>NaN</td>\n",
       "    </tr>\n",
       "    <tr>\n",
       "      <th>62</th>\n",
       "      <td>DE-PR</td>\n",
       "      <td>Prussia</td>\n",
       "      <td>Prussia</td>\n",
       "      <td>NaN</td>\n",
       "      <td>NaN</td>\n",
       "    </tr>\n",
       "    <tr>\n",
       "      <th>63</th>\n",
       "      <td>DE-SN</td>\n",
       "      <td>Saxony</td>\n",
       "      <td>Saxony</td>\n",
       "      <td>NaN</td>\n",
       "      <td>NaN</td>\n",
       "    </tr>\n",
       "    <tr>\n",
       "      <th>64</th>\n",
       "      <td>DE-WU</td>\n",
       "      <td>Wurttemberg</td>\n",
       "      <td>Wurttemberg</td>\n",
       "      <td>NaN</td>\n",
       "      <td>NaN</td>\n",
       "    </tr>\n",
       "    <tr>\n",
       "      <th>173</th>\n",
       "      <td>OA</td>\n",
       "      <td>Other Russia &amp; Central Asia</td>\n",
       "      <td>Other Russia &amp; Central Asia</td>\n",
       "      <td>NaN</td>\n",
       "      <td>NaN</td>\n",
       "    </tr>\n",
       "    <tr>\n",
       "      <th>174</th>\n",
       "      <td>OA-MER</td>\n",
       "      <td>Other Russia &amp; Central Asia (at market exchang...</td>\n",
       "      <td>Other Russia &amp; Central Asia (at market exchang...</td>\n",
       "      <td>NaN</td>\n",
       "      <td>NaN</td>\n",
       "    </tr>\n",
       "    <tr>\n",
       "      <th>175</th>\n",
       "      <td>OB</td>\n",
       "      <td>Other East Asia</td>\n",
       "      <td>Other East Asia</td>\n",
       "      <td>NaN</td>\n",
       "      <td>NaN</td>\n",
       "    </tr>\n",
       "    <tr>\n",
       "      <th>176</th>\n",
       "      <td>OB-MER</td>\n",
       "      <td>Other East Asia (at market exchange rate)</td>\n",
       "      <td>Other East Asia (at market exchange rate)</td>\n",
       "      <td>NaN</td>\n",
       "      <td>NaN</td>\n",
       "    </tr>\n",
       "    <tr>\n",
       "      <th>177</th>\n",
       "      <td>OC</td>\n",
       "      <td>Other Western Europe</td>\n",
       "      <td>Other Western Europe</td>\n",
       "      <td>NaN</td>\n",
       "      <td>NaN</td>\n",
       "    </tr>\n",
       "    <tr>\n",
       "      <th>178</th>\n",
       "      <td>OC-MER</td>\n",
       "      <td>Other Western Europe (at market exchange rate)</td>\n",
       "      <td>Other Western Europe (at market exchange rate)</td>\n",
       "      <td>NaN</td>\n",
       "      <td>NaN</td>\n",
       "    </tr>\n",
       "    <tr>\n",
       "      <th>179</th>\n",
       "      <td>OD</td>\n",
       "      <td>Other Latin America</td>\n",
       "      <td>Other Latin America</td>\n",
       "      <td>NaN</td>\n",
       "      <td>NaN</td>\n",
       "    </tr>\n",
       "    <tr>\n",
       "      <th>180</th>\n",
       "      <td>OD-MER</td>\n",
       "      <td>Other Latin America (at market exchange rate)</td>\n",
       "      <td>Other Latin America (at market exchange rate)</td>\n",
       "      <td>NaN</td>\n",
       "      <td>NaN</td>\n",
       "    </tr>\n",
       "    <tr>\n",
       "      <th>181</th>\n",
       "      <td>OE</td>\n",
       "      <td>Other MENA</td>\n",
       "      <td>Other MENA</td>\n",
       "      <td>NaN</td>\n",
       "      <td>NaN</td>\n",
       "    </tr>\n",
       "    <tr>\n",
       "      <th>182</th>\n",
       "      <td>OE-MER</td>\n",
       "      <td>Other MENA (at market exchange rate)</td>\n",
       "      <td>Other MENA (at market exchange rate)</td>\n",
       "      <td>NaN</td>\n",
       "      <td>NaN</td>\n",
       "    </tr>\n",
       "    <tr>\n",
       "      <th>183</th>\n",
       "      <td>OH</td>\n",
       "      <td>Other North America &amp; Oceania</td>\n",
       "      <td>Other North America &amp; Oceania</td>\n",
       "      <td>NaN</td>\n",
       "      <td>NaN</td>\n",
       "    </tr>\n",
       "    <tr>\n",
       "      <th>184</th>\n",
       "      <td>OH-MER</td>\n",
       "      <td>Other North America &amp; Oceania (at market excha...</td>\n",
       "      <td>Other North America &amp; Oceania (at market excha...</td>\n",
       "      <td>NaN</td>\n",
       "      <td>NaN</td>\n",
       "    </tr>\n",
       "    <tr>\n",
       "      <th>185</th>\n",
       "      <td>OI</td>\n",
       "      <td>Other South &amp; South-East Asia</td>\n",
       "      <td>Other South &amp; South-East Asia</td>\n",
       "      <td>NaN</td>\n",
       "      <td>NaN</td>\n",
       "    </tr>\n",
       "    <tr>\n",
       "      <th>186</th>\n",
       "      <td>OI-MER</td>\n",
       "      <td>Other South &amp; South-East Asia (at market excha...</td>\n",
       "      <td>Other South &amp; South-East Asia (at market excha...</td>\n",
       "      <td>NaN</td>\n",
       "      <td>NaN</td>\n",
       "    </tr>\n",
       "    <tr>\n",
       "      <th>187</th>\n",
       "      <td>OJ</td>\n",
       "      <td>Other Sub-Saharan Africa</td>\n",
       "      <td>Other Sub-Saharan Africa</td>\n",
       "      <td>NaN</td>\n",
       "      <td>NaN</td>\n",
       "    </tr>\n",
       "    <tr>\n",
       "      <th>188</th>\n",
       "      <td>OJ-MER</td>\n",
       "      <td>Other Sub-Saharan Africa (at market exchange r...</td>\n",
       "      <td>Other Sub-Saharan Africa (at market exchange r...</td>\n",
       "      <td>NaN</td>\n",
       "      <td>NaN</td>\n",
       "    </tr>\n",
       "    <tr>\n",
       "      <th>204</th>\n",
       "      <td>QB</td>\n",
       "      <td>Africa</td>\n",
       "      <td>Africa</td>\n",
       "      <td>NaN</td>\n",
       "      <td>NaN</td>\n",
       "    </tr>\n",
       "    <tr>\n",
       "      <th>205</th>\n",
       "      <td>QB-MER</td>\n",
       "      <td>Africa (at market exchange rate)</td>\n",
       "      <td>Africa (at market exchange rate)</td>\n",
       "      <td>NaN</td>\n",
       "      <td>NaN</td>\n",
       "    </tr>\n",
       "    <tr>\n",
       "      <th>206</th>\n",
       "      <td>QC</td>\n",
       "      <td>Americas</td>\n",
       "      <td>Americas</td>\n",
       "      <td>NaN</td>\n",
       "      <td>NaN</td>\n",
       "    </tr>\n",
       "    <tr>\n",
       "      <th>207</th>\n",
       "      <td>QC-MER</td>\n",
       "      <td>Americas (at market exchange rate)</td>\n",
       "      <td>Americas (at market exchange rate)</td>\n",
       "      <td>NaN</td>\n",
       "      <td>NaN</td>\n",
       "    </tr>\n",
       "    <tr>\n",
       "      <th>208</th>\n",
       "      <td>QD</td>\n",
       "      <td>Asia</td>\n",
       "      <td>Asia</td>\n",
       "      <td>NaN</td>\n",
       "      <td>NaN</td>\n",
       "    </tr>\n",
       "    <tr>\n",
       "      <th>209</th>\n",
       "      <td>QD-MER</td>\n",
       "      <td>Asia (at market exchange rate)</td>\n",
       "      <td>Asia (at market exchange rate)</td>\n",
       "      <td>NaN</td>\n",
       "      <td>NaN</td>\n",
       "    </tr>\n",
       "    <tr>\n",
       "      <th>210</th>\n",
       "      <td>QE</td>\n",
       "      <td>Europe</td>\n",
       "      <td>Europe</td>\n",
       "      <td>NaN</td>\n",
       "      <td>NaN</td>\n",
       "    </tr>\n",
       "    <tr>\n",
       "      <th>211</th>\n",
       "      <td>QE-MER</td>\n",
       "      <td>Europe (at market exchange rate)</td>\n",
       "      <td>Europe (at market exchange rate)</td>\n",
       "      <td>NaN</td>\n",
       "      <td>NaN</td>\n",
       "    </tr>\n",
       "    <tr>\n",
       "      <th>212</th>\n",
       "      <td>QF</td>\n",
       "      <td>Oceania</td>\n",
       "      <td>Oceania</td>\n",
       "      <td>NaN</td>\n",
       "      <td>NaN</td>\n",
       "    </tr>\n",
       "    <tr>\n",
       "      <th>213</th>\n",
       "      <td>QF-MER</td>\n",
       "      <td>Oceania (at market exchange rate)</td>\n",
       "      <td>Oceania (at market exchange rate)</td>\n",
       "      <td>NaN</td>\n",
       "      <td>NaN</td>\n",
       "    </tr>\n",
       "    <tr>\n",
       "      <th>214</th>\n",
       "      <td>QG</td>\n",
       "      <td>Australia and New Zealand</td>\n",
       "      <td>Australia and New Zealand</td>\n",
       "      <td>NaN</td>\n",
       "      <td>NaN</td>\n",
       "    </tr>\n",
       "    <tr>\n",
       "      <th>215</th>\n",
       "      <td>QG-MER</td>\n",
       "      <td>Australia and New Zealand (at market exchange ...</td>\n",
       "      <td>Australia and New Zealand (at market exchange ...</td>\n",
       "      <td>NaN</td>\n",
       "      <td>NaN</td>\n",
       "    </tr>\n",
       "    <tr>\n",
       "      <th>216</th>\n",
       "      <td>QH</td>\n",
       "      <td>the Caribbean</td>\n",
       "      <td>Caribbean</td>\n",
       "      <td>NaN</td>\n",
       "      <td>NaN</td>\n",
       "    </tr>\n",
       "    <tr>\n",
       "      <th>217</th>\n",
       "      <td>QH-MER</td>\n",
       "      <td>the Caribbean (at market exchange rate)</td>\n",
       "      <td>Caribbean (at market exchange rate)</td>\n",
       "      <td>NaN</td>\n",
       "      <td>NaN</td>\n",
       "    </tr>\n",
       "    <tr>\n",
       "      <th>218</th>\n",
       "      <td>QI</td>\n",
       "      <td>Central America</td>\n",
       "      <td>Central America</td>\n",
       "      <td>NaN</td>\n",
       "      <td>NaN</td>\n",
       "    </tr>\n",
       "    <tr>\n",
       "      <th>219</th>\n",
       "      <td>QI-MER</td>\n",
       "      <td>Central America (at market exchange rate)</td>\n",
       "      <td>Central America (at market exchange rate)</td>\n",
       "      <td>NaN</td>\n",
       "      <td>NaN</td>\n",
       "    </tr>\n",
       "    <tr>\n",
       "      <th>220</th>\n",
       "      <td>QJ</td>\n",
       "      <td>Central Asia</td>\n",
       "      <td>Central Asia</td>\n",
       "      <td>NaN</td>\n",
       "      <td>NaN</td>\n",
       "    </tr>\n",
       "    <tr>\n",
       "      <th>221</th>\n",
       "      <td>QJ-MER</td>\n",
       "      <td>Central Asia (at market exchange rate)</td>\n",
       "      <td>Central Asia (at market exchange rate)</td>\n",
       "      <td>NaN</td>\n",
       "      <td>NaN</td>\n",
       "    </tr>\n",
       "    <tr>\n",
       "      <th>222</th>\n",
       "      <td>QK</td>\n",
       "      <td>East Africa</td>\n",
       "      <td>East Africa</td>\n",
       "      <td>NaN</td>\n",
       "      <td>NaN</td>\n",
       "    </tr>\n",
       "    <tr>\n",
       "      <th>223</th>\n",
       "      <td>QK-MER</td>\n",
       "      <td>East Africa (at market exchange rate)</td>\n",
       "      <td>East Africa (at market exchange rate)</td>\n",
       "      <td>NaN</td>\n",
       "      <td>NaN</td>\n",
       "    </tr>\n",
       "    <tr>\n",
       "      <th>224</th>\n",
       "      <td>QL</td>\n",
       "      <td>East Asia</td>\n",
       "      <td>East Asia</td>\n",
       "      <td>NaN</td>\n",
       "      <td>NaN</td>\n",
       "    </tr>\n",
       "    <tr>\n",
       "      <th>225</th>\n",
       "      <td>QL-MER</td>\n",
       "      <td>East Asia (at market exchange rate)</td>\n",
       "      <td>East Asia (at market exchange rate)</td>\n",
       "      <td>NaN</td>\n",
       "      <td>NaN</td>\n",
       "    </tr>\n",
       "    <tr>\n",
       "      <th>226</th>\n",
       "      <td>QM</td>\n",
       "      <td>Eastern Europe</td>\n",
       "      <td>Eastern Europe</td>\n",
       "      <td>NaN</td>\n",
       "      <td>NaN</td>\n",
       "    </tr>\n",
       "    <tr>\n",
       "      <th>227</th>\n",
       "      <td>QM-MER</td>\n",
       "      <td>Eastern Europe (at market exchange rate)</td>\n",
       "      <td>Eastern Europe (at market exchange rate)</td>\n",
       "      <td>NaN</td>\n",
       "      <td>NaN</td>\n",
       "    </tr>\n",
       "    <tr>\n",
       "      <th>228</th>\n",
       "      <td>QN</td>\n",
       "      <td>Middle Africa</td>\n",
       "      <td>Middle Africa</td>\n",
       "      <td>NaN</td>\n",
       "      <td>NaN</td>\n",
       "    </tr>\n",
       "    <tr>\n",
       "      <th>229</th>\n",
       "      <td>QN-MER</td>\n",
       "      <td>Middle Africa (at market exchange rate)</td>\n",
       "      <td>Middle Africa (at market exchange rate)</td>\n",
       "      <td>NaN</td>\n",
       "      <td>NaN</td>\n",
       "    </tr>\n",
       "    <tr>\n",
       "      <th>230</th>\n",
       "      <td>QO</td>\n",
       "      <td>North Africa</td>\n",
       "      <td>North Africa</td>\n",
       "      <td>NaN</td>\n",
       "      <td>NaN</td>\n",
       "    </tr>\n",
       "    <tr>\n",
       "      <th>231</th>\n",
       "      <td>QO-MER</td>\n",
       "      <td>North Africa (at market exchange rate)</td>\n",
       "      <td>North Africa (at market exchange rate)</td>\n",
       "      <td>NaN</td>\n",
       "      <td>NaN</td>\n",
       "    </tr>\n",
       "    <tr>\n",
       "      <th>232</th>\n",
       "      <td>QP</td>\n",
       "      <td>North America</td>\n",
       "      <td>North America</td>\n",
       "      <td>NaN</td>\n",
       "      <td>NaN</td>\n",
       "    </tr>\n",
       "    <tr>\n",
       "      <th>233</th>\n",
       "      <td>QP-MER</td>\n",
       "      <td>North America (at market exchange rate)</td>\n",
       "      <td>North America (at market exchange rate)</td>\n",
       "      <td>NaN</td>\n",
       "      <td>NaN</td>\n",
       "    </tr>\n",
       "    <tr>\n",
       "      <th>234</th>\n",
       "      <td>QQ</td>\n",
       "      <td>Oceania (excl. Australia and New Zealand)</td>\n",
       "      <td>Oceania (excl. Australia and New Zealand)</td>\n",
       "      <td>NaN</td>\n",
       "      <td>NaN</td>\n",
       "    </tr>\n",
       "    <tr>\n",
       "      <th>235</th>\n",
       "      <td>QQ-MER</td>\n",
       "      <td>Oceania (excl. Australia and New Zealand) (at ...</td>\n",
       "      <td>Oceania (excl. Australia and New Zealand) (at ...</td>\n",
       "      <td>NaN</td>\n",
       "      <td>NaN</td>\n",
       "    </tr>\n",
       "    <tr>\n",
       "      <th>236</th>\n",
       "      <td>QR</td>\n",
       "      <td>South America</td>\n",
       "      <td>South America</td>\n",
       "      <td>NaN</td>\n",
       "      <td>NaN</td>\n",
       "    </tr>\n",
       "    <tr>\n",
       "      <th>237</th>\n",
       "      <td>QR-MER</td>\n",
       "      <td>South America (at market exchange rate)</td>\n",
       "      <td>South America (at market exchange rate)</td>\n",
       "      <td>NaN</td>\n",
       "      <td>NaN</td>\n",
       "    </tr>\n",
       "    <tr>\n",
       "      <th>238</th>\n",
       "      <td>QS</td>\n",
       "      <td>South-East Asia</td>\n",
       "      <td>South-East Asia</td>\n",
       "      <td>NaN</td>\n",
       "      <td>NaN</td>\n",
       "    </tr>\n",
       "    <tr>\n",
       "      <th>239</th>\n",
       "      <td>QS-MER</td>\n",
       "      <td>South-East Asia (at market exchange rate)</td>\n",
       "      <td>South-East Asia (at market exchange rate)</td>\n",
       "      <td>NaN</td>\n",
       "      <td>NaN</td>\n",
       "    </tr>\n",
       "    <tr>\n",
       "      <th>240</th>\n",
       "      <td>QT</td>\n",
       "      <td>South Africa</td>\n",
       "      <td>South Africa</td>\n",
       "      <td>NaN</td>\n",
       "      <td>NaN</td>\n",
       "    </tr>\n",
       "    <tr>\n",
       "      <th>241</th>\n",
       "      <td>QT-MER</td>\n",
       "      <td>South Africa (at market exchange rate)</td>\n",
       "      <td>South Africa (at market exchange rate)</td>\n",
       "      <td>NaN</td>\n",
       "      <td>NaN</td>\n",
       "    </tr>\n",
       "    <tr>\n",
       "      <th>242</th>\n",
       "      <td>QU</td>\n",
       "      <td>South Asia</td>\n",
       "      <td>South Asia</td>\n",
       "      <td>NaN</td>\n",
       "      <td>NaN</td>\n",
       "    </tr>\n",
       "    <tr>\n",
       "      <th>243</th>\n",
       "      <td>QU-MER</td>\n",
       "      <td>South Asia (at market exchange rate)</td>\n",
       "      <td>South Asia (at market exchange rate)</td>\n",
       "      <td>NaN</td>\n",
       "      <td>NaN</td>\n",
       "    </tr>\n",
       "    <tr>\n",
       "      <th>244</th>\n",
       "      <td>QV</td>\n",
       "      <td>West Africa</td>\n",
       "      <td>West Africa</td>\n",
       "      <td>NaN</td>\n",
       "      <td>NaN</td>\n",
       "    </tr>\n",
       "    <tr>\n",
       "      <th>245</th>\n",
       "      <td>QV-MER</td>\n",
       "      <td>West Africa (at market exchange rate)</td>\n",
       "      <td>West Africa (at market exchange rate)</td>\n",
       "      <td>NaN</td>\n",
       "      <td>NaN</td>\n",
       "    </tr>\n",
       "    <tr>\n",
       "      <th>246</th>\n",
       "      <td>QW</td>\n",
       "      <td>West Asia</td>\n",
       "      <td>West Asia</td>\n",
       "      <td>NaN</td>\n",
       "      <td>NaN</td>\n",
       "    </tr>\n",
       "    <tr>\n",
       "      <th>247</th>\n",
       "      <td>QW-MER</td>\n",
       "      <td>West Asia (at market exchange rate)</td>\n",
       "      <td>West Asia (at market exchange rate)</td>\n",
       "      <td>NaN</td>\n",
       "      <td>NaN</td>\n",
       "    </tr>\n",
       "    <tr>\n",
       "      <th>248</th>\n",
       "      <td>QX</td>\n",
       "      <td>Western Europe</td>\n",
       "      <td>Western Europe</td>\n",
       "      <td>NaN</td>\n",
       "      <td>NaN</td>\n",
       "    </tr>\n",
       "    <tr>\n",
       "      <th>249</th>\n",
       "      <td>QX-MER</td>\n",
       "      <td>Western Europe (at market exchange rate)</td>\n",
       "      <td>Western Europe (at market exchange rate)</td>\n",
       "      <td>NaN</td>\n",
       "      <td>NaN</td>\n",
       "    </tr>\n",
       "    <tr>\n",
       "      <th>250</th>\n",
       "      <td>QY</td>\n",
       "      <td>European Union</td>\n",
       "      <td>European Union</td>\n",
       "      <td>NaN</td>\n",
       "      <td>NaN</td>\n",
       "    </tr>\n",
       "    <tr>\n",
       "      <th>251</th>\n",
       "      <td>QY-MER</td>\n",
       "      <td>European Union (at market exchange rate)</td>\n",
       "      <td>European Union (at market exchange rate)</td>\n",
       "      <td>NaN</td>\n",
       "      <td>NaN</td>\n",
       "    </tr>\n",
       "    <tr>\n",
       "      <th>274</th>\n",
       "      <td>SW</td>\n",
       "      <td>NaN</td>\n",
       "      <td>NaN</td>\n",
       "      <td>NaN</td>\n",
       "      <td>NaN</td>\n",
       "    </tr>\n",
       "    <tr>\n",
       "      <th>296</th>\n",
       "      <td>US-AK</td>\n",
       "      <td>Alaska</td>\n",
       "      <td>Alaska</td>\n",
       "      <td>NaN</td>\n",
       "      <td>NaN</td>\n",
       "    </tr>\n",
       "    <tr>\n",
       "      <th>297</th>\n",
       "      <td>US-AL</td>\n",
       "      <td>Alabama</td>\n",
       "      <td>Alabama</td>\n",
       "      <td>NaN</td>\n",
       "      <td>NaN</td>\n",
       "    </tr>\n",
       "    <tr>\n",
       "      <th>298</th>\n",
       "      <td>US-AR</td>\n",
       "      <td>Arkansas</td>\n",
       "      <td>Arkansas</td>\n",
       "      <td>NaN</td>\n",
       "      <td>NaN</td>\n",
       "    </tr>\n",
       "    <tr>\n",
       "      <th>299</th>\n",
       "      <td>US-AZ</td>\n",
       "      <td>Arizona</td>\n",
       "      <td>Arizona</td>\n",
       "      <td>NaN</td>\n",
       "      <td>NaN</td>\n",
       "    </tr>\n",
       "    <tr>\n",
       "      <th>300</th>\n",
       "      <td>US-CA</td>\n",
       "      <td>California</td>\n",
       "      <td>California</td>\n",
       "      <td>NaN</td>\n",
       "      <td>NaN</td>\n",
       "    </tr>\n",
       "    <tr>\n",
       "      <th>301</th>\n",
       "      <td>US-CO</td>\n",
       "      <td>Colorado</td>\n",
       "      <td>Colorado</td>\n",
       "      <td>NaN</td>\n",
       "      <td>NaN</td>\n",
       "    </tr>\n",
       "    <tr>\n",
       "      <th>302</th>\n",
       "      <td>US-CT</td>\n",
       "      <td>Connecticut</td>\n",
       "      <td>Connecticut</td>\n",
       "      <td>NaN</td>\n",
       "      <td>NaN</td>\n",
       "    </tr>\n",
       "    <tr>\n",
       "      <th>303</th>\n",
       "      <td>US-DC</td>\n",
       "      <td>District of Columbia</td>\n",
       "      <td>District of Columbia</td>\n",
       "      <td>NaN</td>\n",
       "      <td>NaN</td>\n",
       "    </tr>\n",
       "    <tr>\n",
       "      <th>304</th>\n",
       "      <td>US-DE</td>\n",
       "      <td>Delaware</td>\n",
       "      <td>Delaware</td>\n",
       "      <td>NaN</td>\n",
       "      <td>NaN</td>\n",
       "    </tr>\n",
       "    <tr>\n",
       "      <th>305</th>\n",
       "      <td>US-FL</td>\n",
       "      <td>Florida</td>\n",
       "      <td>Florida</td>\n",
       "      <td>NaN</td>\n",
       "      <td>NaN</td>\n",
       "    </tr>\n",
       "    <tr>\n",
       "      <th>306</th>\n",
       "      <td>US-GA</td>\n",
       "      <td>Georgia</td>\n",
       "      <td>Georgia</td>\n",
       "      <td>NaN</td>\n",
       "      <td>NaN</td>\n",
       "    </tr>\n",
       "    <tr>\n",
       "      <th>307</th>\n",
       "      <td>US-HI</td>\n",
       "      <td>Hawaii</td>\n",
       "      <td>Hawaii</td>\n",
       "      <td>NaN</td>\n",
       "      <td>NaN</td>\n",
       "    </tr>\n",
       "    <tr>\n",
       "      <th>308</th>\n",
       "      <td>US-IA</td>\n",
       "      <td>Iowa</td>\n",
       "      <td>Iowa</td>\n",
       "      <td>NaN</td>\n",
       "      <td>NaN</td>\n",
       "    </tr>\n",
       "    <tr>\n",
       "      <th>309</th>\n",
       "      <td>US-ID</td>\n",
       "      <td>Idaho</td>\n",
       "      <td>Idaho</td>\n",
       "      <td>NaN</td>\n",
       "      <td>NaN</td>\n",
       "    </tr>\n",
       "    <tr>\n",
       "      <th>310</th>\n",
       "      <td>US-IL</td>\n",
       "      <td>Illinois</td>\n",
       "      <td>Illinois</td>\n",
       "      <td>NaN</td>\n",
       "      <td>NaN</td>\n",
       "    </tr>\n",
       "    <tr>\n",
       "      <th>311</th>\n",
       "      <td>US-IN</td>\n",
       "      <td>Indiana</td>\n",
       "      <td>Indiana</td>\n",
       "      <td>NaN</td>\n",
       "      <td>NaN</td>\n",
       "    </tr>\n",
       "    <tr>\n",
       "      <th>312</th>\n",
       "      <td>US-KS</td>\n",
       "      <td>Kansas</td>\n",
       "      <td>Kansas</td>\n",
       "      <td>NaN</td>\n",
       "      <td>NaN</td>\n",
       "    </tr>\n",
       "    <tr>\n",
       "      <th>313</th>\n",
       "      <td>US-KY</td>\n",
       "      <td>Kentucky</td>\n",
       "      <td>Kentucky</td>\n",
       "      <td>NaN</td>\n",
       "      <td>NaN</td>\n",
       "    </tr>\n",
       "    <tr>\n",
       "      <th>314</th>\n",
       "      <td>US-LA</td>\n",
       "      <td>Louisiana</td>\n",
       "      <td>Louisiana</td>\n",
       "      <td>NaN</td>\n",
       "      <td>NaN</td>\n",
       "    </tr>\n",
       "    <tr>\n",
       "      <th>315</th>\n",
       "      <td>US-MA</td>\n",
       "      <td>Massachusetts</td>\n",
       "      <td>Massachusetts</td>\n",
       "      <td>NaN</td>\n",
       "      <td>NaN</td>\n",
       "    </tr>\n",
       "    <tr>\n",
       "      <th>316</th>\n",
       "      <td>US-MD</td>\n",
       "      <td>Maryland</td>\n",
       "      <td>Maryland</td>\n",
       "      <td>NaN</td>\n",
       "      <td>NaN</td>\n",
       "    </tr>\n",
       "    <tr>\n",
       "      <th>317</th>\n",
       "      <td>US-ME</td>\n",
       "      <td>Maine</td>\n",
       "      <td>Maine</td>\n",
       "      <td>NaN</td>\n",
       "      <td>NaN</td>\n",
       "    </tr>\n",
       "    <tr>\n",
       "      <th>318</th>\n",
       "      <td>US-MI</td>\n",
       "      <td>Michigan</td>\n",
       "      <td>Michigan</td>\n",
       "      <td>NaN</td>\n",
       "      <td>NaN</td>\n",
       "    </tr>\n",
       "    <tr>\n",
       "      <th>319</th>\n",
       "      <td>US-MN</td>\n",
       "      <td>Minnesota</td>\n",
       "      <td>Minnesota</td>\n",
       "      <td>NaN</td>\n",
       "      <td>NaN</td>\n",
       "    </tr>\n",
       "    <tr>\n",
       "      <th>320</th>\n",
       "      <td>US-MO</td>\n",
       "      <td>Missouri</td>\n",
       "      <td>Missouri</td>\n",
       "      <td>NaN</td>\n",
       "      <td>NaN</td>\n",
       "    </tr>\n",
       "    <tr>\n",
       "      <th>321</th>\n",
       "      <td>US-MS</td>\n",
       "      <td>Mississippi</td>\n",
       "      <td>Mississippi</td>\n",
       "      <td>NaN</td>\n",
       "      <td>NaN</td>\n",
       "    </tr>\n",
       "    <tr>\n",
       "      <th>322</th>\n",
       "      <td>US-MT</td>\n",
       "      <td>Montana</td>\n",
       "      <td>Montana</td>\n",
       "      <td>NaN</td>\n",
       "      <td>NaN</td>\n",
       "    </tr>\n",
       "    <tr>\n",
       "      <th>323</th>\n",
       "      <td>US-NC</td>\n",
       "      <td>North Carolina</td>\n",
       "      <td>North Carolina</td>\n",
       "      <td>NaN</td>\n",
       "      <td>NaN</td>\n",
       "    </tr>\n",
       "    <tr>\n",
       "      <th>324</th>\n",
       "      <td>US-ND</td>\n",
       "      <td>North Dakota</td>\n",
       "      <td>North Dakota</td>\n",
       "      <td>NaN</td>\n",
       "      <td>NaN</td>\n",
       "    </tr>\n",
       "    <tr>\n",
       "      <th>325</th>\n",
       "      <td>US-NE</td>\n",
       "      <td>Nebraska</td>\n",
       "      <td>Nebraska</td>\n",
       "      <td>NaN</td>\n",
       "      <td>NaN</td>\n",
       "    </tr>\n",
       "    <tr>\n",
       "      <th>326</th>\n",
       "      <td>US-NH</td>\n",
       "      <td>New Hampshire</td>\n",
       "      <td>New Hampshire</td>\n",
       "      <td>NaN</td>\n",
       "      <td>NaN</td>\n",
       "    </tr>\n",
       "    <tr>\n",
       "      <th>327</th>\n",
       "      <td>US-NJ</td>\n",
       "      <td>New Jersey</td>\n",
       "      <td>New Jersey</td>\n",
       "      <td>NaN</td>\n",
       "      <td>NaN</td>\n",
       "    </tr>\n",
       "    <tr>\n",
       "      <th>328</th>\n",
       "      <td>US-NM</td>\n",
       "      <td>New Mexico</td>\n",
       "      <td>New Mexico</td>\n",
       "      <td>NaN</td>\n",
       "      <td>NaN</td>\n",
       "    </tr>\n",
       "    <tr>\n",
       "      <th>329</th>\n",
       "      <td>US-NV</td>\n",
       "      <td>Nevada</td>\n",
       "      <td>Nevada</td>\n",
       "      <td>NaN</td>\n",
       "      <td>NaN</td>\n",
       "    </tr>\n",
       "    <tr>\n",
       "      <th>330</th>\n",
       "      <td>US-NY</td>\n",
       "      <td>New York</td>\n",
       "      <td>New York</td>\n",
       "      <td>NaN</td>\n",
       "      <td>NaN</td>\n",
       "    </tr>\n",
       "    <tr>\n",
       "      <th>331</th>\n",
       "      <td>US-OH</td>\n",
       "      <td>Ohio</td>\n",
       "      <td>Ohio</td>\n",
       "      <td>NaN</td>\n",
       "      <td>NaN</td>\n",
       "    </tr>\n",
       "    <tr>\n",
       "      <th>332</th>\n",
       "      <td>US-OK</td>\n",
       "      <td>Oklahoma</td>\n",
       "      <td>Oklahoma</td>\n",
       "      <td>NaN</td>\n",
       "      <td>NaN</td>\n",
       "    </tr>\n",
       "    <tr>\n",
       "      <th>333</th>\n",
       "      <td>US-OR</td>\n",
       "      <td>Oregon</td>\n",
       "      <td>Oregon</td>\n",
       "      <td>NaN</td>\n",
       "      <td>NaN</td>\n",
       "    </tr>\n",
       "    <tr>\n",
       "      <th>334</th>\n",
       "      <td>US-PA</td>\n",
       "      <td>Pennsylvania</td>\n",
       "      <td>Pennsylvania</td>\n",
       "      <td>NaN</td>\n",
       "      <td>NaN</td>\n",
       "    </tr>\n",
       "    <tr>\n",
       "      <th>335</th>\n",
       "      <td>US-RI</td>\n",
       "      <td>Rhode Island</td>\n",
       "      <td>Rhode Island</td>\n",
       "      <td>NaN</td>\n",
       "      <td>NaN</td>\n",
       "    </tr>\n",
       "    <tr>\n",
       "      <th>336</th>\n",
       "      <td>US-SC</td>\n",
       "      <td>South Carolina</td>\n",
       "      <td>South Carolina</td>\n",
       "      <td>NaN</td>\n",
       "      <td>NaN</td>\n",
       "    </tr>\n",
       "    <tr>\n",
       "      <th>337</th>\n",
       "      <td>US-SD</td>\n",
       "      <td>South Dakota</td>\n",
       "      <td>South Dakota</td>\n",
       "      <td>NaN</td>\n",
       "      <td>NaN</td>\n",
       "    </tr>\n",
       "    <tr>\n",
       "      <th>338</th>\n",
       "      <td>US-TN</td>\n",
       "      <td>Tennessee</td>\n",
       "      <td>Tennessee</td>\n",
       "      <td>NaN</td>\n",
       "      <td>NaN</td>\n",
       "    </tr>\n",
       "    <tr>\n",
       "      <th>339</th>\n",
       "      <td>US-TX</td>\n",
       "      <td>Texas</td>\n",
       "      <td>Texas</td>\n",
       "      <td>NaN</td>\n",
       "      <td>NaN</td>\n",
       "    </tr>\n",
       "    <tr>\n",
       "      <th>340</th>\n",
       "      <td>US-UT</td>\n",
       "      <td>Utah</td>\n",
       "      <td>Utah</td>\n",
       "      <td>NaN</td>\n",
       "      <td>NaN</td>\n",
       "    </tr>\n",
       "    <tr>\n",
       "      <th>341</th>\n",
       "      <td>US-VA</td>\n",
       "      <td>Virginia</td>\n",
       "      <td>Virginia</td>\n",
       "      <td>NaN</td>\n",
       "      <td>NaN</td>\n",
       "    </tr>\n",
       "    <tr>\n",
       "      <th>342</th>\n",
       "      <td>US-VT</td>\n",
       "      <td>Vermont</td>\n",
       "      <td>Vermont</td>\n",
       "      <td>NaN</td>\n",
       "      <td>NaN</td>\n",
       "    </tr>\n",
       "    <tr>\n",
       "      <th>343</th>\n",
       "      <td>US-WA</td>\n",
       "      <td>Washington</td>\n",
       "      <td>Washington</td>\n",
       "      <td>NaN</td>\n",
       "      <td>NaN</td>\n",
       "    </tr>\n",
       "    <tr>\n",
       "      <th>344</th>\n",
       "      <td>US-WI</td>\n",
       "      <td>Wisconsin</td>\n",
       "      <td>Wisconsin</td>\n",
       "      <td>NaN</td>\n",
       "      <td>NaN</td>\n",
       "    </tr>\n",
       "    <tr>\n",
       "      <th>345</th>\n",
       "      <td>US-WV</td>\n",
       "      <td>West Virginia</td>\n",
       "      <td>West Virginia</td>\n",
       "      <td>NaN</td>\n",
       "      <td>NaN</td>\n",
       "    </tr>\n",
       "    <tr>\n",
       "      <th>346</th>\n",
       "      <td>US-WY</td>\n",
       "      <td>Wyoming</td>\n",
       "      <td>Wyoming</td>\n",
       "      <td>NaN</td>\n",
       "      <td>NaN</td>\n",
       "    </tr>\n",
       "    <tr>\n",
       "      <th>357</th>\n",
       "      <td>WO</td>\n",
       "      <td>the World</td>\n",
       "      <td>World</td>\n",
       "      <td>NaN</td>\n",
       "      <td>NaN</td>\n",
       "    </tr>\n",
       "    <tr>\n",
       "      <th>358</th>\n",
       "      <td>WO-MER</td>\n",
       "      <td>the World (at market exchange rate)</td>\n",
       "      <td>World (at market exchange rate)</td>\n",
       "      <td>NaN</td>\n",
       "      <td>NaN</td>\n",
       "    </tr>\n",
       "    <tr>\n",
       "      <th>360</th>\n",
       "      <td>XA</td>\n",
       "      <td>Asia (excluding Middle East)</td>\n",
       "      <td>Asia (excl. Middle East)</td>\n",
       "      <td>NaN</td>\n",
       "      <td>NaN</td>\n",
       "    </tr>\n",
       "    <tr>\n",
       "      <th>361</th>\n",
       "      <td>XA-MER</td>\n",
       "      <td>Asia (excluding Middle East) (at market exchan...</td>\n",
       "      <td>Asia (excl. Middle East) (at market exchange r...</td>\n",
       "      <td>NaN</td>\n",
       "      <td>NaN</td>\n",
       "    </tr>\n",
       "    <tr>\n",
       "      <th>362</th>\n",
       "      <td>XB</td>\n",
       "      <td>North America &amp; Oceania</td>\n",
       "      <td>North America &amp; Oceania</td>\n",
       "      <td>NaN</td>\n",
       "      <td>NaN</td>\n",
       "    </tr>\n",
       "    <tr>\n",
       "      <th>363</th>\n",
       "      <td>XB-MER</td>\n",
       "      <td>North America &amp; Oceania (at market exchange rate)</td>\n",
       "      <td>North America &amp; Oceania (at market exchange rate)</td>\n",
       "      <td>NaN</td>\n",
       "      <td>NaN</td>\n",
       "    </tr>\n",
       "    <tr>\n",
       "      <th>366</th>\n",
       "      <td>XF</td>\n",
       "      <td>Sub-Saharan Africa</td>\n",
       "      <td>Sub-Saharan Africa</td>\n",
       "      <td>NaN</td>\n",
       "      <td>NaN</td>\n",
       "    </tr>\n",
       "    <tr>\n",
       "      <th>367</th>\n",
       "      <td>XF-MER</td>\n",
       "      <td>Sub-Saharan Africa (at market exchange rate)</td>\n",
       "      <td>Sub-Saharan Africa (at market exchange rate)</td>\n",
       "      <td>NaN</td>\n",
       "      <td>NaN</td>\n",
       "    </tr>\n",
       "    <tr>\n",
       "      <th>370</th>\n",
       "      <td>XL</td>\n",
       "      <td>Latin America</td>\n",
       "      <td>Latin America</td>\n",
       "      <td>NaN</td>\n",
       "      <td>NaN</td>\n",
       "    </tr>\n",
       "    <tr>\n",
       "      <th>371</th>\n",
       "      <td>XL-MER</td>\n",
       "      <td>Latin America (at market exchange rate)</td>\n",
       "      <td>Latin America (at market exchange rate)</td>\n",
       "      <td>NaN</td>\n",
       "      <td>NaN</td>\n",
       "    </tr>\n",
       "    <tr>\n",
       "      <th>372</th>\n",
       "      <td>XM</td>\n",
       "      <td>the Middle East</td>\n",
       "      <td>Middle East</td>\n",
       "      <td>NaN</td>\n",
       "      <td>NaN</td>\n",
       "    </tr>\n",
       "    <tr>\n",
       "      <th>373</th>\n",
       "      <td>XM-MER</td>\n",
       "      <td>the Middle East (at market exchange rate)</td>\n",
       "      <td>Middle East (at market exchange rate)</td>\n",
       "      <td>NaN</td>\n",
       "      <td>NaN</td>\n",
       "    </tr>\n",
       "    <tr>\n",
       "      <th>374</th>\n",
       "      <td>XN</td>\n",
       "      <td>MENA</td>\n",
       "      <td>MENA</td>\n",
       "      <td>NaN</td>\n",
       "      <td>NaN</td>\n",
       "    </tr>\n",
       "    <tr>\n",
       "      <th>375</th>\n",
       "      <td>XN-MER</td>\n",
       "      <td>MENA (at market exchange rate)</td>\n",
       "      <td>MENA (at market exchange rate)</td>\n",
       "      <td>NaN</td>\n",
       "      <td>NaN</td>\n",
       "    </tr>\n",
       "    <tr>\n",
       "      <th>376</th>\n",
       "      <td>XQ</td>\n",
       "      <td>NaN</td>\n",
       "      <td>NaN</td>\n",
       "      <td>NaN</td>\n",
       "      <td>NaN</td>\n",
       "    </tr>\n",
       "    <tr>\n",
       "      <th>377</th>\n",
       "      <td>XQ-MER</td>\n",
       "      <td>NaN</td>\n",
       "      <td>NaN</td>\n",
       "      <td>NaN</td>\n",
       "      <td>NaN</td>\n",
       "    </tr>\n",
       "    <tr>\n",
       "      <th>378</th>\n",
       "      <td>XR</td>\n",
       "      <td>Russia &amp; Central Asia</td>\n",
       "      <td>Russia &amp; Central Asia</td>\n",
       "      <td>NaN</td>\n",
       "      <td>NaN</td>\n",
       "    </tr>\n",
       "    <tr>\n",
       "      <th>379</th>\n",
       "      <td>XR-MER</td>\n",
       "      <td>Russia &amp; Central Asia (at market exchange rate)</td>\n",
       "      <td>Russia &amp; Central Asia (at market exchange rate)</td>\n",
       "      <td>NaN</td>\n",
       "      <td>NaN</td>\n",
       "    </tr>\n",
       "    <tr>\n",
       "      <th>380</th>\n",
       "      <td>XS</td>\n",
       "      <td>South &amp; South-East Asia</td>\n",
       "      <td>South &amp; South-East Asia</td>\n",
       "      <td>NaN</td>\n",
       "      <td>NaN</td>\n",
       "    </tr>\n",
       "    <tr>\n",
       "      <th>381</th>\n",
       "      <td>XS-MER</td>\n",
       "      <td>South &amp; South-East Asia (at market exchange rate)</td>\n",
       "      <td>South &amp; South-East Asia (at market exchange rate)</td>\n",
       "      <td>NaN</td>\n",
       "      <td>NaN</td>\n",
       "    </tr>\n",
       "  </tbody>\n",
       "</table>\n",
       "</div>"
      ],
      "text/plain": [
       "     alpha2                                          titlename  \\\n",
       "45    CN-RU                                        rural China   \n",
       "46    CN-UR                                        urban China   \n",
       "57    DE-BD                                              Baden   \n",
       "58    DE-BY                                            Bavaria   \n",
       "59    DE-HB                                             Bremen   \n",
       "60    DE-HE                                              Hesse   \n",
       "61    DE-HH                                            Hamburg   \n",
       "62    DE-PR                                            Prussia   \n",
       "63    DE-SN                                             Saxony   \n",
       "64    DE-WU                                        Wurttemberg   \n",
       "173      OA                        Other Russia & Central Asia   \n",
       "174  OA-MER  Other Russia & Central Asia (at market exchang...   \n",
       "175      OB                                    Other East Asia   \n",
       "176  OB-MER          Other East Asia (at market exchange rate)   \n",
       "177      OC                               Other Western Europe   \n",
       "178  OC-MER     Other Western Europe (at market exchange rate)   \n",
       "179      OD                                Other Latin America   \n",
       "180  OD-MER      Other Latin America (at market exchange rate)   \n",
       "181      OE                                         Other MENA   \n",
       "182  OE-MER               Other MENA (at market exchange rate)   \n",
       "183      OH                      Other North America & Oceania   \n",
       "184  OH-MER  Other North America & Oceania (at market excha...   \n",
       "185      OI                      Other South & South-East Asia   \n",
       "186  OI-MER  Other South & South-East Asia (at market excha...   \n",
       "187      OJ                           Other Sub-Saharan Africa   \n",
       "188  OJ-MER  Other Sub-Saharan Africa (at market exchange r...   \n",
       "204      QB                                             Africa   \n",
       "205  QB-MER                   Africa (at market exchange rate)   \n",
       "206      QC                                           Americas   \n",
       "207  QC-MER                 Americas (at market exchange rate)   \n",
       "208      QD                                               Asia   \n",
       "209  QD-MER                     Asia (at market exchange rate)   \n",
       "210      QE                                             Europe   \n",
       "211  QE-MER                   Europe (at market exchange rate)   \n",
       "212      QF                                            Oceania   \n",
       "213  QF-MER                  Oceania (at market exchange rate)   \n",
       "214      QG                          Australia and New Zealand   \n",
       "215  QG-MER  Australia and New Zealand (at market exchange ...   \n",
       "216      QH                                      the Caribbean   \n",
       "217  QH-MER            the Caribbean (at market exchange rate)   \n",
       "218      QI                                    Central America   \n",
       "219  QI-MER          Central America (at market exchange rate)   \n",
       "220      QJ                                       Central Asia   \n",
       "221  QJ-MER             Central Asia (at market exchange rate)   \n",
       "222      QK                                        East Africa   \n",
       "223  QK-MER              East Africa (at market exchange rate)   \n",
       "224      QL                                          East Asia   \n",
       "225  QL-MER                East Asia (at market exchange rate)   \n",
       "226      QM                                     Eastern Europe   \n",
       "227  QM-MER           Eastern Europe (at market exchange rate)   \n",
       "228      QN                                      Middle Africa   \n",
       "229  QN-MER            Middle Africa (at market exchange rate)   \n",
       "230      QO                                       North Africa   \n",
       "231  QO-MER             North Africa (at market exchange rate)   \n",
       "232      QP                                      North America   \n",
       "233  QP-MER            North America (at market exchange rate)   \n",
       "234      QQ          Oceania (excl. Australia and New Zealand)   \n",
       "235  QQ-MER  Oceania (excl. Australia and New Zealand) (at ...   \n",
       "236      QR                                      South America   \n",
       "237  QR-MER            South America (at market exchange rate)   \n",
       "238      QS                                    South-East Asia   \n",
       "239  QS-MER          South-East Asia (at market exchange rate)   \n",
       "240      QT                                       South Africa   \n",
       "241  QT-MER             South Africa (at market exchange rate)   \n",
       "242      QU                                         South Asia   \n",
       "243  QU-MER               South Asia (at market exchange rate)   \n",
       "244      QV                                        West Africa   \n",
       "245  QV-MER              West Africa (at market exchange rate)   \n",
       "246      QW                                          West Asia   \n",
       "247  QW-MER                West Asia (at market exchange rate)   \n",
       "248      QX                                     Western Europe   \n",
       "249  QX-MER           Western Europe (at market exchange rate)   \n",
       "250      QY                                     European Union   \n",
       "251  QY-MER           European Union (at market exchange rate)   \n",
       "274      SW                                                NaN   \n",
       "296   US-AK                                             Alaska   \n",
       "297   US-AL                                            Alabama   \n",
       "298   US-AR                                           Arkansas   \n",
       "299   US-AZ                                            Arizona   \n",
       "300   US-CA                                         California   \n",
       "301   US-CO                                           Colorado   \n",
       "302   US-CT                                        Connecticut   \n",
       "303   US-DC                               District of Columbia   \n",
       "304   US-DE                                           Delaware   \n",
       "305   US-FL                                            Florida   \n",
       "306   US-GA                                            Georgia   \n",
       "307   US-HI                                             Hawaii   \n",
       "308   US-IA                                               Iowa   \n",
       "309   US-ID                                              Idaho   \n",
       "310   US-IL                                           Illinois   \n",
       "311   US-IN                                            Indiana   \n",
       "312   US-KS                                             Kansas   \n",
       "313   US-KY                                           Kentucky   \n",
       "314   US-LA                                          Louisiana   \n",
       "315   US-MA                                      Massachusetts   \n",
       "316   US-MD                                           Maryland   \n",
       "317   US-ME                                              Maine   \n",
       "318   US-MI                                           Michigan   \n",
       "319   US-MN                                          Minnesota   \n",
       "320   US-MO                                           Missouri   \n",
       "321   US-MS                                        Mississippi   \n",
       "322   US-MT                                            Montana   \n",
       "323   US-NC                                     North Carolina   \n",
       "324   US-ND                                       North Dakota   \n",
       "325   US-NE                                           Nebraska   \n",
       "326   US-NH                                      New Hampshire   \n",
       "327   US-NJ                                         New Jersey   \n",
       "328   US-NM                                         New Mexico   \n",
       "329   US-NV                                             Nevada   \n",
       "330   US-NY                                           New York   \n",
       "331   US-OH                                               Ohio   \n",
       "332   US-OK                                           Oklahoma   \n",
       "333   US-OR                                             Oregon   \n",
       "334   US-PA                                       Pennsylvania   \n",
       "335   US-RI                                       Rhode Island   \n",
       "336   US-SC                                     South Carolina   \n",
       "337   US-SD                                       South Dakota   \n",
       "338   US-TN                                          Tennessee   \n",
       "339   US-TX                                              Texas   \n",
       "340   US-UT                                               Utah   \n",
       "341   US-VA                                           Virginia   \n",
       "342   US-VT                                            Vermont   \n",
       "343   US-WA                                         Washington   \n",
       "344   US-WI                                          Wisconsin   \n",
       "345   US-WV                                      West Virginia   \n",
       "346   US-WY                                            Wyoming   \n",
       "357      WO                                          the World   \n",
       "358  WO-MER                the World (at market exchange rate)   \n",
       "360      XA                       Asia (excluding Middle East)   \n",
       "361  XA-MER  Asia (excluding Middle East) (at market exchan...   \n",
       "362      XB                            North America & Oceania   \n",
       "363  XB-MER  North America & Oceania (at market exchange rate)   \n",
       "366      XF                                 Sub-Saharan Africa   \n",
       "367  XF-MER       Sub-Saharan Africa (at market exchange rate)   \n",
       "370      XL                                      Latin America   \n",
       "371  XL-MER            Latin America (at market exchange rate)   \n",
       "372      XM                                    the Middle East   \n",
       "373  XM-MER          the Middle East (at market exchange rate)   \n",
       "374      XN                                               MENA   \n",
       "375  XN-MER                     MENA (at market exchange rate)   \n",
       "376      XQ                                                NaN   \n",
       "377  XQ-MER                                                NaN   \n",
       "378      XR                              Russia & Central Asia   \n",
       "379  XR-MER    Russia & Central Asia (at market exchange rate)   \n",
       "380      XS                            South & South-East Asia   \n",
       "381  XS-MER  South & South-East Asia (at market exchange rate)   \n",
       "\n",
       "                                             shortname region region2  \n",
       "45                                         Rural China    NaN     NaN  \n",
       "46                                         Urban China    NaN     NaN  \n",
       "57                                               Baden    NaN     NaN  \n",
       "58                                             Bavaria    NaN     NaN  \n",
       "59                                              Bremen    NaN     NaN  \n",
       "60                                               Hesse    NaN     NaN  \n",
       "61                                             Hamburg    NaN     NaN  \n",
       "62                                             Prussia    NaN     NaN  \n",
       "63                                              Saxony    NaN     NaN  \n",
       "64                                         Wurttemberg    NaN     NaN  \n",
       "173                        Other Russia & Central Asia    NaN     NaN  \n",
       "174  Other Russia & Central Asia (at market exchang...    NaN     NaN  \n",
       "175                                    Other East Asia    NaN     NaN  \n",
       "176          Other East Asia (at market exchange rate)    NaN     NaN  \n",
       "177                               Other Western Europe    NaN     NaN  \n",
       "178     Other Western Europe (at market exchange rate)    NaN     NaN  \n",
       "179                                Other Latin America    NaN     NaN  \n",
       "180      Other Latin America (at market exchange rate)    NaN     NaN  \n",
       "181                                         Other MENA    NaN     NaN  \n",
       "182               Other MENA (at market exchange rate)    NaN     NaN  \n",
       "183                      Other North America & Oceania    NaN     NaN  \n",
       "184  Other North America & Oceania (at market excha...    NaN     NaN  \n",
       "185                      Other South & South-East Asia    NaN     NaN  \n",
       "186  Other South & South-East Asia (at market excha...    NaN     NaN  \n",
       "187                           Other Sub-Saharan Africa    NaN     NaN  \n",
       "188  Other Sub-Saharan Africa (at market exchange r...    NaN     NaN  \n",
       "204                                             Africa    NaN     NaN  \n",
       "205                   Africa (at market exchange rate)    NaN     NaN  \n",
       "206                                           Americas    NaN     NaN  \n",
       "207                 Americas (at market exchange rate)    NaN     NaN  \n",
       "208                                               Asia    NaN     NaN  \n",
       "209                     Asia (at market exchange rate)    NaN     NaN  \n",
       "210                                             Europe    NaN     NaN  \n",
       "211                   Europe (at market exchange rate)    NaN     NaN  \n",
       "212                                            Oceania    NaN     NaN  \n",
       "213                  Oceania (at market exchange rate)    NaN     NaN  \n",
       "214                          Australia and New Zealand    NaN     NaN  \n",
       "215  Australia and New Zealand (at market exchange ...    NaN     NaN  \n",
       "216                                          Caribbean    NaN     NaN  \n",
       "217                Caribbean (at market exchange rate)    NaN     NaN  \n",
       "218                                    Central America    NaN     NaN  \n",
       "219          Central America (at market exchange rate)    NaN     NaN  \n",
       "220                                       Central Asia    NaN     NaN  \n",
       "221             Central Asia (at market exchange rate)    NaN     NaN  \n",
       "222                                        East Africa    NaN     NaN  \n",
       "223              East Africa (at market exchange rate)    NaN     NaN  \n",
       "224                                          East Asia    NaN     NaN  \n",
       "225                East Asia (at market exchange rate)    NaN     NaN  \n",
       "226                                     Eastern Europe    NaN     NaN  \n",
       "227           Eastern Europe (at market exchange rate)    NaN     NaN  \n",
       "228                                      Middle Africa    NaN     NaN  \n",
       "229            Middle Africa (at market exchange rate)    NaN     NaN  \n",
       "230                                       North Africa    NaN     NaN  \n",
       "231             North Africa (at market exchange rate)    NaN     NaN  \n",
       "232                                      North America    NaN     NaN  \n",
       "233            North America (at market exchange rate)    NaN     NaN  \n",
       "234          Oceania (excl. Australia and New Zealand)    NaN     NaN  \n",
       "235  Oceania (excl. Australia and New Zealand) (at ...    NaN     NaN  \n",
       "236                                      South America    NaN     NaN  \n",
       "237            South America (at market exchange rate)    NaN     NaN  \n",
       "238                                    South-East Asia    NaN     NaN  \n",
       "239          South-East Asia (at market exchange rate)    NaN     NaN  \n",
       "240                                       South Africa    NaN     NaN  \n",
       "241             South Africa (at market exchange rate)    NaN     NaN  \n",
       "242                                         South Asia    NaN     NaN  \n",
       "243               South Asia (at market exchange rate)    NaN     NaN  \n",
       "244                                        West Africa    NaN     NaN  \n",
       "245              West Africa (at market exchange rate)    NaN     NaN  \n",
       "246                                          West Asia    NaN     NaN  \n",
       "247                West Asia (at market exchange rate)    NaN     NaN  \n",
       "248                                     Western Europe    NaN     NaN  \n",
       "249           Western Europe (at market exchange rate)    NaN     NaN  \n",
       "250                                     European Union    NaN     NaN  \n",
       "251           European Union (at market exchange rate)    NaN     NaN  \n",
       "274                                                NaN    NaN     NaN  \n",
       "296                                             Alaska    NaN     NaN  \n",
       "297                                            Alabama    NaN     NaN  \n",
       "298                                           Arkansas    NaN     NaN  \n",
       "299                                            Arizona    NaN     NaN  \n",
       "300                                         California    NaN     NaN  \n",
       "301                                           Colorado    NaN     NaN  \n",
       "302                                        Connecticut    NaN     NaN  \n",
       "303                               District of Columbia    NaN     NaN  \n",
       "304                                           Delaware    NaN     NaN  \n",
       "305                                            Florida    NaN     NaN  \n",
       "306                                            Georgia    NaN     NaN  \n",
       "307                                             Hawaii    NaN     NaN  \n",
       "308                                               Iowa    NaN     NaN  \n",
       "309                                              Idaho    NaN     NaN  \n",
       "310                                           Illinois    NaN     NaN  \n",
       "311                                            Indiana    NaN     NaN  \n",
       "312                                             Kansas    NaN     NaN  \n",
       "313                                           Kentucky    NaN     NaN  \n",
       "314                                          Louisiana    NaN     NaN  \n",
       "315                                      Massachusetts    NaN     NaN  \n",
       "316                                           Maryland    NaN     NaN  \n",
       "317                                              Maine    NaN     NaN  \n",
       "318                                           Michigan    NaN     NaN  \n",
       "319                                          Minnesota    NaN     NaN  \n",
       "320                                           Missouri    NaN     NaN  \n",
       "321                                        Mississippi    NaN     NaN  \n",
       "322                                            Montana    NaN     NaN  \n",
       "323                                     North Carolina    NaN     NaN  \n",
       "324                                       North Dakota    NaN     NaN  \n",
       "325                                           Nebraska    NaN     NaN  \n",
       "326                                      New Hampshire    NaN     NaN  \n",
       "327                                         New Jersey    NaN     NaN  \n",
       "328                                         New Mexico    NaN     NaN  \n",
       "329                                             Nevada    NaN     NaN  \n",
       "330                                           New York    NaN     NaN  \n",
       "331                                               Ohio    NaN     NaN  \n",
       "332                                           Oklahoma    NaN     NaN  \n",
       "333                                             Oregon    NaN     NaN  \n",
       "334                                       Pennsylvania    NaN     NaN  \n",
       "335                                       Rhode Island    NaN     NaN  \n",
       "336                                     South Carolina    NaN     NaN  \n",
       "337                                       South Dakota    NaN     NaN  \n",
       "338                                          Tennessee    NaN     NaN  \n",
       "339                                              Texas    NaN     NaN  \n",
       "340                                               Utah    NaN     NaN  \n",
       "341                                           Virginia    NaN     NaN  \n",
       "342                                            Vermont    NaN     NaN  \n",
       "343                                         Washington    NaN     NaN  \n",
       "344                                          Wisconsin    NaN     NaN  \n",
       "345                                      West Virginia    NaN     NaN  \n",
       "346                                            Wyoming    NaN     NaN  \n",
       "357                                              World    NaN     NaN  \n",
       "358                    World (at market exchange rate)    NaN     NaN  \n",
       "360                           Asia (excl. Middle East)    NaN     NaN  \n",
       "361  Asia (excl. Middle East) (at market exchange r...    NaN     NaN  \n",
       "362                            North America & Oceania    NaN     NaN  \n",
       "363  North America & Oceania (at market exchange rate)    NaN     NaN  \n",
       "366                                 Sub-Saharan Africa    NaN     NaN  \n",
       "367       Sub-Saharan Africa (at market exchange rate)    NaN     NaN  \n",
       "370                                      Latin America    NaN     NaN  \n",
       "371            Latin America (at market exchange rate)    NaN     NaN  \n",
       "372                                        Middle East    NaN     NaN  \n",
       "373              Middle East (at market exchange rate)    NaN     NaN  \n",
       "374                                               MENA    NaN     NaN  \n",
       "375                     MENA (at market exchange rate)    NaN     NaN  \n",
       "376                                                NaN    NaN     NaN  \n",
       "377                                                NaN    NaN     NaN  \n",
       "378                              Russia & Central Asia    NaN     NaN  \n",
       "379    Russia & Central Asia (at market exchange rate)    NaN     NaN  \n",
       "380                            South & South-East Asia    NaN     NaN  \n",
       "381  South & South-East Asia (at market exchange rate)    NaN     NaN  "
      ]
     },
     "execution_count": 443,
     "metadata": {},
     "output_type": "execute_result"
    }
   ],
   "source": [
    "countries_path = '../data/unprocessed/WID_countries.csv'\n",
    "countries_df = pd.read_csv(filepath_or_buffer=countries_path, delimiter=';')\n",
    "#countries_df['region2'].unique()\n",
    "countries_df[countries_df['region2'].isna()]"
   ]
  },
  {
   "cell_type": "code",
   "execution_count": 444,
   "metadata": {},
   "outputs": [
    {
     "data": {
      "text/html": [
       "<div>\n",
       "<style scoped>\n",
       "    .dataframe tbody tr th:only-of-type {\n",
       "        vertical-align: middle;\n",
       "    }\n",
       "\n",
       "    .dataframe tbody tr th {\n",
       "        vertical-align: top;\n",
       "    }\n",
       "\n",
       "    .dataframe thead th {\n",
       "        text-align: right;\n",
       "    }\n",
       "</style>\n",
       "<table border=\"1\" class=\"dataframe\">\n",
       "  <thead>\n",
       "    <tr style=\"text-align: right;\">\n",
       "      <th></th>\n",
       "      <th>country</th>\n",
       "      <th>variable</th>\n",
       "      <th>percentile</th>\n",
       "      <th>year</th>\n",
       "      <th>value</th>\n",
       "      <th>age</th>\n",
       "      <th>pop</th>\n",
       "    </tr>\n",
       "  </thead>\n",
       "  <tbody>\n",
       "    <tr>\n",
       "      <th>0</th>\n",
       "      <td>AU</td>\n",
       "      <td>ehfcari999</td>\n",
       "      <td>p0p100</td>\n",
       "      <td>1990</td>\n",
       "      <td>100.573195</td>\n",
       "      <td>999</td>\n",
       "      <td>i</td>\n",
       "    </tr>\n",
       "  </tbody>\n",
       "</table>\n",
       "</div>"
      ],
      "text/plain": [
       "  country    variable percentile  year       value  age pop\n",
       "0      AU  ehfcari999     p0p100  1990  100.573195  999   i"
      ]
     },
     "execution_count": 444,
     "metadata": {},
     "output_type": "execute_result"
    }
   ],
   "source": [
    "country_code = 'AU'\n",
    "country_path = f\"../data/unprocessed/WID_data_{country_code}.csv\"\n",
    "country = pd.read_csv(filepath_or_buffer=country_path, delimiter=';')\n",
    "country.head(1)"
   ]
  },
  {
   "cell_type": "code",
   "execution_count": 445,
   "metadata": {},
   "outputs": [
    {
     "data": {
      "text/html": [
       "<div>\n",
       "<style scoped>\n",
       "    .dataframe tbody tr th:only-of-type {\n",
       "        vertical-align: middle;\n",
       "    }\n",
       "\n",
       "    .dataframe tbody tr th {\n",
       "        vertical-align: top;\n",
       "    }\n",
       "\n",
       "    .dataframe thead th {\n",
       "        text-align: right;\n",
       "    }\n",
       "</style>\n",
       "<table border=\"1\" class=\"dataframe\">\n",
       "  <thead>\n",
       "    <tr style=\"text-align: right;\">\n",
       "      <th></th>\n",
       "      <th>country</th>\n",
       "      <th>variable</th>\n",
       "      <th>countryname</th>\n",
       "      <th>shortname</th>\n",
       "      <th>simpledes</th>\n",
       "      <th>technicaldes</th>\n",
       "      <th>shorttype</th>\n",
       "      <th>longtype</th>\n",
       "      <th>shortpop</th>\n",
       "      <th>longpop</th>\n",
       "      <th>shortage</th>\n",
       "      <th>longage</th>\n",
       "      <th>unit</th>\n",
       "      <th>source</th>\n",
       "      <th>method</th>\n",
       "      <th>extrapolation</th>\n",
       "      <th>data_points</th>\n",
       "    </tr>\n",
       "  </thead>\n",
       "  <tbody>\n",
       "    <tr>\n",
       "      <th>0</th>\n",
       "      <td>AU</td>\n",
       "      <td>accmhni992</td>\n",
       "      <td>Australia</td>\n",
       "      <td>Consumption of fixed capital attributable to m...</td>\n",
       "      <td>NaN</td>\n",
       "      <td>NaN</td>\n",
       "      <td>Average</td>\n",
       "      <td>Average income or wealth between two percentil...</td>\n",
       "      <td>individuals</td>\n",
       "      <td>The base unit is the individual (rather than t...</td>\n",
       "      <td>Adults</td>\n",
       "      <td>The population is comprised of individuals ove...</td>\n",
       "      <td>AUD</td>\n",
       "      <td>See [URL][URL_LINK]https://wid.world/document/...</td>\n",
       "      <td>WID.world estimations as a proportion of GDP b...</td>\n",
       "      <td>NaN</td>\n",
       "      <td>NaN</td>\n",
       "    </tr>\n",
       "  </tbody>\n",
       "</table>\n",
       "</div>"
      ],
      "text/plain": [
       "  country    variable countryname  \\\n",
       "0      AU  accmhni992   Australia   \n",
       "\n",
       "                                           shortname simpledes technicaldes  \\\n",
       "0  Consumption of fixed capital attributable to m...       NaN          NaN   \n",
       "\n",
       "  shorttype                                           longtype     shortpop  \\\n",
       "0   Average  Average income or wealth between two percentil...  individuals   \n",
       "\n",
       "                                             longpop shortage  \\\n",
       "0  The base unit is the individual (rather than t...   Adults   \n",
       "\n",
       "                                             longage unit  \\\n",
       "0  The population is comprised of individuals ove...  AUD   \n",
       "\n",
       "                                              source  \\\n",
       "0  See [URL][URL_LINK]https://wid.world/document/...   \n",
       "\n",
       "                                              method extrapolation data_points  \n",
       "0  WID.world estimations as a proportion of GDP b...           NaN         NaN  "
      ]
     },
     "execution_count": 445,
     "metadata": {},
     "output_type": "execute_result"
    }
   ],
   "source": [
    "meta_path = f\"../data/unprocessed/WID_metadata_{country_code}.csv\"\n",
    "meta = pd.read_csv(meta_path, delimiter=';').drop(columns=['age', 'pop'])\n",
    "meta.head(1)"
   ]
  },
  {
   "cell_type": "code",
   "execution_count": 446,
   "metadata": {},
   "outputs": [
    {
     "name": "stdout",
     "output_type": "stream",
     "text": [
      "The data file contains 7 columns and 521651 rows\n",
      "The metadata file contains 17 columns and 1138 rows\n",
      "There are 1138 and 1138 unique values for 'variable' in the data and metadata files respectively.\n"
     ]
    }
   ],
   "source": [
    "print(f\"The data file contains {country.shape[1]} columns and {country.shape[0]} rows\")\n",
    "print(f\"The metadata file contains {meta.shape[1]} columns and {meta.shape[0]} rows\")\n",
    "print(f\"There are {country.variable.nunique()} and {meta.variable.nunique()} unique values for 'variable' in the data and metadata files respectively.\")"
   ]
  },
  {
   "cell_type": "code",
   "execution_count": 447,
   "metadata": {},
   "outputs": [
    {
     "data": {
      "text/html": [
       "<div>\n",
       "<style scoped>\n",
       "    .dataframe tbody tr th:only-of-type {\n",
       "        vertical-align: middle;\n",
       "    }\n",
       "\n",
       "    .dataframe tbody tr th {\n",
       "        vertical-align: top;\n",
       "    }\n",
       "\n",
       "    .dataframe thead th {\n",
       "        text-align: right;\n",
       "    }\n",
       "</style>\n",
       "<table border=\"1\" class=\"dataframe\">\n",
       "  <thead>\n",
       "    <tr style=\"text-align: right;\">\n",
       "      <th></th>\n",
       "      <th>no_of_nulls</th>\n",
       "      <th>no_of_unique</th>\n",
       "    </tr>\n",
       "    <tr>\n",
       "      <th>cols</th>\n",
       "      <th></th>\n",
       "      <th></th>\n",
       "    </tr>\n",
       "  </thead>\n",
       "  <tbody>\n",
       "    <tr>\n",
       "      <th>country</th>\n",
       "      <td>0</td>\n",
       "      <td>1</td>\n",
       "    </tr>\n",
       "    <tr>\n",
       "      <th>variable</th>\n",
       "      <td>0</td>\n",
       "      <td>1138</td>\n",
       "    </tr>\n",
       "    <tr>\n",
       "      <th>countryname</th>\n",
       "      <td>0</td>\n",
       "      <td>1</td>\n",
       "    </tr>\n",
       "    <tr>\n",
       "      <th>shortname</th>\n",
       "      <td>0</td>\n",
       "      <td>286</td>\n",
       "    </tr>\n",
       "    <tr>\n",
       "      <th>simpledes</th>\n",
       "      <td>632</td>\n",
       "      <td>105</td>\n",
       "    </tr>\n",
       "    <tr>\n",
       "      <th>technicaldes</th>\n",
       "      <td>735</td>\n",
       "      <td>107</td>\n",
       "    </tr>\n",
       "    <tr>\n",
       "      <th>shorttype</th>\n",
       "      <td>0</td>\n",
       "      <td>14</td>\n",
       "    </tr>\n",
       "    <tr>\n",
       "      <th>longtype</th>\n",
       "      <td>0</td>\n",
       "      <td>14</td>\n",
       "    </tr>\n",
       "    <tr>\n",
       "      <th>shortpop</th>\n",
       "      <td>0</td>\n",
       "      <td>5</td>\n",
       "    </tr>\n",
       "    <tr>\n",
       "      <th>longpop</th>\n",
       "      <td>0</td>\n",
       "      <td>5</td>\n",
       "    </tr>\n",
       "    <tr>\n",
       "      <th>shortage</th>\n",
       "      <td>0</td>\n",
       "      <td>38</td>\n",
       "    </tr>\n",
       "    <tr>\n",
       "      <th>longage</th>\n",
       "      <td>0</td>\n",
       "      <td>38</td>\n",
       "    </tr>\n",
       "    <tr>\n",
       "      <th>unit</th>\n",
       "      <td>20</td>\n",
       "      <td>8</td>\n",
       "    </tr>\n",
       "    <tr>\n",
       "      <th>source</th>\n",
       "      <td>229</td>\n",
       "      <td>32</td>\n",
       "    </tr>\n",
       "    <tr>\n",
       "      <th>method</th>\n",
       "      <td>663</td>\n",
       "      <td>49</td>\n",
       "    </tr>\n",
       "    <tr>\n",
       "      <th>extrapolation</th>\n",
       "      <td>1058</td>\n",
       "      <td>8</td>\n",
       "    </tr>\n",
       "    <tr>\n",
       "      <th>data_points</th>\n",
       "      <td>1130</td>\n",
       "      <td>1</td>\n",
       "    </tr>\n",
       "  </tbody>\n",
       "</table>\n",
       "</div>"
      ],
      "text/plain": [
       "               no_of_nulls  no_of_unique\n",
       "cols                                    \n",
       "country                  0             1\n",
       "variable                 0          1138\n",
       "countryname              0             1\n",
       "shortname                0           286\n",
       "simpledes              632           105\n",
       "technicaldes           735           107\n",
       "shorttype                0            14\n",
       "longtype                 0            14\n",
       "shortpop                 0             5\n",
       "longpop                  0             5\n",
       "shortage                 0            38\n",
       "longage                  0            38\n",
       "unit                    20             8\n",
       "source                 229            32\n",
       "method                 663            49\n",
       "extrapolation         1058             8\n",
       "data_points           1130             1"
      ]
     },
     "execution_count": 447,
     "metadata": {},
     "output_type": "execute_result"
    }
   ],
   "source": [
    "cols = meta.columns\n",
    "nulls = [val for val in meta.isna().sum().values]\n",
    "unique_vals = [meta[col].nunique() for col in meta.columns]\n",
    "\n",
    "summary_dict = {\n",
    "    'cols': cols,\n",
    "    'no_of_nulls': nulls,\n",
    "    'no_of_unique': unique_vals\n",
    "}\n",
    "\n",
    "summary = pd.DataFrame(summary_dict)\n",
    "summary.set_index('cols', inplace=True)\n",
    "summary"
   ]
  },
  {
   "cell_type": "code",
   "execution_count": 448,
   "metadata": {},
   "outputs": [
    {
     "data": {
      "text/plain": [
       "country               1\n",
       "variable           1138\n",
       "percentile          389\n",
       "year                127\n",
       "value            290527\n",
       "age                  38\n",
       "pop                   5\n",
       "countryname           1\n",
       "shortname           286\n",
       "simpledes           105\n",
       "technicaldes        107\n",
       "shorttype            14\n",
       "longtype             14\n",
       "shortpop              5\n",
       "longpop               5\n",
       "shortage             38\n",
       "longage              38\n",
       "unit                  8\n",
       "source               32\n",
       "method               49\n",
       "extrapolation         8\n",
       "data_points           1\n",
       "dtype: int64"
      ]
     },
     "execution_count": 448,
     "metadata": {},
     "output_type": "execute_result"
    }
   ],
   "source": [
    "df = pd.merge(left=country, right=meta, how='left', on=['country', 'variable'], suffixes=('', '_x'))\n",
    "df.nunique()"
   ]
  },
  {
   "cell_type": "code",
   "execution_count": 449,
   "metadata": {},
   "outputs": [
    {
     "data": {
      "text/html": [
       "<div>\n",
       "<style scoped>\n",
       "    .dataframe tbody tr th:only-of-type {\n",
       "        vertical-align: middle;\n",
       "    }\n",
       "\n",
       "    .dataframe tbody tr th {\n",
       "        vertical-align: top;\n",
       "    }\n",
       "\n",
       "    .dataframe thead th {\n",
       "        text-align: right;\n",
       "    }\n",
       "</style>\n",
       "<table border=\"1\" class=\"dataframe\">\n",
       "  <thead>\n",
       "    <tr style=\"text-align: right;\">\n",
       "      <th></th>\n",
       "      <th>variable</th>\n",
       "      <th>shortname</th>\n",
       "      <th>pop</th>\n",
       "      <th>shortpop</th>\n",
       "      <th>shortage</th>\n",
       "      <th>unit</th>\n",
       "      <th>shorttype</th>\n",
       "      <th>longtype</th>\n",
       "    </tr>\n",
       "  </thead>\n",
       "  <tbody>\n",
       "    <tr>\n",
       "      <th>0</th>\n",
       "      <td>accmhni992</td>\n",
       "      <td>Consumption of fixed capital attributable to m...</td>\n",
       "      <td>i</td>\n",
       "      <td>individuals</td>\n",
       "      <td>Adults</td>\n",
       "      <td>AUD</td>\n",
       "      <td>Average</td>\n",
       "      <td>Average income or wealth between two percentil...</td>\n",
       "    </tr>\n",
       "    <tr>\n",
       "      <th>1</th>\n",
       "      <td>accmhni999</td>\n",
       "      <td>Consumption of fixed capital attributable to m...</td>\n",
       "      <td>i</td>\n",
       "      <td>individuals</td>\n",
       "      <td>All Ages</td>\n",
       "      <td>AUD</td>\n",
       "      <td>Average</td>\n",
       "      <td>Average income or wealth between two percentil...</td>\n",
       "    </tr>\n",
       "    <tr>\n",
       "      <th>2</th>\n",
       "      <td>accmhoi992</td>\n",
       "      <td>Consumption of fixed capital attributable to m...</td>\n",
       "      <td>i</td>\n",
       "      <td>individuals</td>\n",
       "      <td>Adults</td>\n",
       "      <td>AUD</td>\n",
       "      <td>Average</td>\n",
       "      <td>Average income or wealth between two percentil...</td>\n",
       "    </tr>\n",
       "    <tr>\n",
       "      <th>3</th>\n",
       "      <td>accmhoi999</td>\n",
       "      <td>Consumption of fixed capital attributable to m...</td>\n",
       "      <td>i</td>\n",
       "      <td>individuals</td>\n",
       "      <td>All Ages</td>\n",
       "      <td>AUD</td>\n",
       "      <td>Average</td>\n",
       "      <td>Average income or wealth between two percentil...</td>\n",
       "    </tr>\n",
       "    <tr>\n",
       "      <th>4</th>\n",
       "      <td>accshni992</td>\n",
       "      <td>Consumption of fixed capital attributable to o...</td>\n",
       "      <td>i</td>\n",
       "      <td>individuals</td>\n",
       "      <td>Adults</td>\n",
       "      <td>AUD</td>\n",
       "      <td>Average</td>\n",
       "      <td>Average income or wealth between two percentil...</td>\n",
       "    </tr>\n",
       "  </tbody>\n",
       "</table>\n",
       "</div>"
      ],
      "text/plain": [
       "     variable                                          shortname pop  \\\n",
       "0  accmhni992  Consumption of fixed capital attributable to m...   i   \n",
       "1  accmhni999  Consumption of fixed capital attributable to m...   i   \n",
       "2  accmhoi992  Consumption of fixed capital attributable to m...   i   \n",
       "3  accmhoi999  Consumption of fixed capital attributable to m...   i   \n",
       "4  accshni992  Consumption of fixed capital attributable to o...   i   \n",
       "\n",
       "      shortpop  shortage unit shorttype  \\\n",
       "0  individuals    Adults  AUD   Average   \n",
       "1  individuals  All Ages  AUD   Average   \n",
       "2  individuals    Adults  AUD   Average   \n",
       "3  individuals  All Ages  AUD   Average   \n",
       "4  individuals    Adults  AUD   Average   \n",
       "\n",
       "                                            longtype  \n",
       "0  Average income or wealth between two percentil...  \n",
       "1  Average income or wealth between two percentil...  \n",
       "2  Average income or wealth between two percentil...  \n",
       "3  Average income or wealth between two percentil...  \n",
       "4  Average income or wealth between two percentil...  "
      ]
     },
     "execution_count": 449,
     "metadata": {},
     "output_type": "execute_result"
    }
   ],
   "source": [
    "# Create a summary of all unique variables in the dataset.\n",
    "ls = []\n",
    "for variable, data in df.groupby('variable'):\n",
    "    summary = {\n",
    "        'variable': variable,\n",
    "        'shortname': data['shortname'].unique()[0],\n",
    "        'pop': data['pop'].unique()[0],\n",
    "        'shortpop': data['shortpop'].unique()[0],\n",
    "        'shortage': data['shortage'].unique()[0],\n",
    "        'unit': data['unit'].unique()[0],\n",
    "        'shorttype': data['shorttype'].unique()[0],\n",
    "        'longtype': data['longtype'].unique()[0]\n",
    "    }\n",
    "    ls.append(summary)\n",
    "\n",
    "var_df = pd.DataFrame(ls)\n",
    "var_df.head()"
   ]
  },
  {
   "cell_type": "code",
   "execution_count": 450,
   "metadata": {},
   "outputs": [],
   "source": [
    "# Manually list some of the variables that would be interesting to analyze.\n",
    "vars_of_interest = [\n",
    "    'wpwdebi999',\n",
    "    'wpweali999',\n",
    "    'wexpgoi999',\n",
    "    'wgdproi999',\n",
    "    'mgninci999',\n",
    "    'agninci999',\n",
    "    'agdproi999',\n",
    "    'mgdproi999',\n",
    "    'enfcari999',\n",
    "    'enfghgi999',\n",
    "    'knfcari999',\n",
    "    'knfghgi999',\n",
    "    'iqualii999',\n",
    "    'xlcuspi999',\n",
    "    'xlcusxi999',\n",
    "    'npopuli999',\n",
    "    'apwdebi999',\n",
    "    'mpwdebi999',\n",
    "    'wwealhi999',\n",
    "    'wwealgi999',\n",
    "    'wwealni999',\n",
    "    'wwealpi999',\n",
    "    'ahwealj992',\n",
    "    'ahweali992',\n",
    "    'bhwealj992',\n",
    "    'ghwealj992',\n",
    "    'ahweali999',\n",
    "    'mhweali999',\n",
    "    'rhwealj992',\n",
    "    'shwealj992',\n",
    "    'thwealj992'\n",
    "]\n",
    "\n",
    "# Extend the list of variables using some filter criteria. This is based on observations from the var_df created earlier.\n",
    "var_descriptions = var_df[(var_df['variable'].isin(vars_of_interest)) | ((var_df['variable'].str.contains('gei', case=False)) & (var_df['shortage'] == 'All Ages'))]\n",
    "\n",
    "# Create a CSV with descriptions of the variables chosen for analysis.\n",
    "var_descriptions.to_csv('../data/reference/variable_descriptions.csv', index=False)\n",
    "\n",
    "# Create a CSV of only the variable - i.e. excluding the additional variable information.\n",
    "vars = pd.Series(var_descriptions['variable'].unique())\n",
    "vars.to_csv('../data/reference/variables_to_analyze.csv', header=['variable'], index=False)"
   ]
  },
  {
   "cell_type": "code",
   "execution_count": 451,
   "metadata": {},
   "outputs": [],
   "source": [
    "# Create a filtered dataframe including only the variables of interest.\n",
    "final_df = df[df['variable'].isin(vars)].copy()"
   ]
  },
  {
   "cell_type": "code",
   "execution_count": 457,
   "metadata": {},
   "outputs": [
    {
     "data": {
      "text/html": [
       "<div>\n",
       "<style scoped>\n",
       "    .dataframe tbody tr th:only-of-type {\n",
       "        vertical-align: middle;\n",
       "    }\n",
       "\n",
       "    .dataframe tbody tr th {\n",
       "        vertical-align: top;\n",
       "    }\n",
       "\n",
       "    .dataframe thead th {\n",
       "        text-align: right;\n",
       "    }\n",
       "</style>\n",
       "<table border=\"1\" class=\"dataframe\">\n",
       "  <thead>\n",
       "    <tr style=\"text-align: right;\">\n",
       "      <th></th>\n",
       "      <th>variable</th>\n",
       "      <th>shortname</th>\n",
       "      <th>pop</th>\n",
       "      <th>shortpop</th>\n",
       "      <th>shortage</th>\n",
       "      <th>unit</th>\n",
       "      <th>shorttype</th>\n",
       "      <th>longtype</th>\n",
       "    </tr>\n",
       "  </thead>\n",
       "  <tbody>\n",
       "    <tr>\n",
       "      <th>209</th>\n",
       "      <td>ahweali992</td>\n",
       "      <td>Net personal wealth</td>\n",
       "      <td>i</td>\n",
       "      <td>individuals</td>\n",
       "      <td>Adults</td>\n",
       "      <td>AUD</td>\n",
       "      <td>Average</td>\n",
       "      <td>Average income or wealth between two percentil...</td>\n",
       "    </tr>\n",
       "    <tr>\n",
       "      <th>210</th>\n",
       "      <td>ahweali999</td>\n",
       "      <td>Net personal wealth</td>\n",
       "      <td>i</td>\n",
       "      <td>individuals</td>\n",
       "      <td>All Ages</td>\n",
       "      <td>AUD</td>\n",
       "      <td>Average</td>\n",
       "      <td>Average income or wealth between two percentil...</td>\n",
       "    </tr>\n",
       "    <tr>\n",
       "      <th>211</th>\n",
       "      <td>ahwealj992</td>\n",
       "      <td>Net personal wealth</td>\n",
       "      <td>j</td>\n",
       "      <td>equal-split adults</td>\n",
       "      <td>Adults</td>\n",
       "      <td>AUD</td>\n",
       "      <td>Average</td>\n",
       "      <td>Average income or wealth between two percentil...</td>\n",
       "    </tr>\n",
       "  </tbody>\n",
       "</table>\n",
       "</div>"
      ],
      "text/plain": [
       "       variable            shortname pop            shortpop  shortage unit  \\\n",
       "209  ahweali992  Net personal wealth   i         individuals    Adults  AUD   \n",
       "210  ahweali999  Net personal wealth   i         individuals  All Ages  AUD   \n",
       "211  ahwealj992  Net personal wealth   j  equal-split adults    Adults  AUD   \n",
       "\n",
       "    shorttype                                           longtype  \n",
       "209   Average  Average income or wealth between two percentil...  \n",
       "210   Average  Average income or wealth between two percentil...  \n",
       "211   Average  Average income or wealth between two percentil...  "
      ]
     },
     "execution_count": 457,
     "metadata": {},
     "output_type": "execute_result"
    }
   ],
   "source": [
    "per_capita = var_df[(var_df['variable'].isin(vars.values)) & (var_df['unit'] == 'AUD') & (var_df['shorttype'] == 'Average')]\n",
    "per_capita[per_capita['shortname'] == 'Net personal wealth']"
   ]
  },
  {
   "cell_type": "code",
   "execution_count": 430,
   "metadata": {},
   "outputs": [
    {
     "data": {
      "text/plain": [
       "array(['Average', 'Total', 'Threshold'], dtype=object)"
      ]
     },
     "execution_count": 430,
     "metadata": {},
     "output_type": "execute_result"
    }
   ],
   "source": [
    "# Create CSV files for the variables that need to be converted from local currency to USD during processing.\n",
    "vars_for_currency_conversion_avg = pd.Series(final_df[(final_df['unit'] == 'AUD') & (final_df['shorttype'] == 'Average')]['variable'].unique())\n",
    "vars_for_currency_conversion_avg.to_csv('../data/reference/vars_for_currency_conversion_avg.csv', header=['variable'], index=False)\n",
    "\n",
    "vars_for_currency_conversion_total = pd.Series(final_df[(final_df['unit'] == 'AUD') & (final_df['shorttype'] == 'Total')]['variable'].unique())\n",
    "vars_for_currency_conversion_total.to_csv('../data/reference/vars_for_currency_conversion_total.csv', header=['variable'], index=False)\n",
    "\n",
    "final_df[final_df['unit'] == 'AUD']['shorttype'].unique()"
   ]
  },
  {
   "cell_type": "code",
   "execution_count": 431,
   "metadata": {},
   "outputs": [
    {
     "data": {
      "text/html": [
       "<div>\n",
       "<style scoped>\n",
       "    .dataframe tbody tr th:only-of-type {\n",
       "        vertical-align: middle;\n",
       "    }\n",
       "\n",
       "    .dataframe tbody tr th {\n",
       "        vertical-align: top;\n",
       "    }\n",
       "\n",
       "    .dataframe thead th {\n",
       "        text-align: right;\n",
       "    }\n",
       "</style>\n",
       "<table border=\"1\" class=\"dataframe\">\n",
       "  <thead>\n",
       "    <tr style=\"text-align: right;\">\n",
       "      <th></th>\n",
       "      <th>year</th>\n",
       "      <th>value</th>\n",
       "      <th>shortname</th>\n",
       "    </tr>\n",
       "  </thead>\n",
       "  <tbody>\n",
       "    <tr>\n",
       "      <th>419920</th>\n",
       "      <td>1820</td>\n",
       "      <td>331000.0</td>\n",
       "      <td>Population</td>\n",
       "    </tr>\n",
       "  </tbody>\n",
       "</table>\n",
       "</div>"
      ],
      "text/plain": [
       "        year     value   shortname\n",
       "419920  1820  331000.0  Population"
      ]
     },
     "execution_count": 431,
     "metadata": {},
     "output_type": "execute_result"
    }
   ],
   "source": [
    "gdp = df[(df['shortname'] == 'Gross domestic product') & (df['unit'] == '% of national income')][['shortname', 'year', 'value', 'shortage', 'shorttype', 'longtype', 'unit']].copy()\n",
    "total_pop = df[(df['shortname'] == 'Population') & (df['shortpop'] == 'individuals') & (df['shortage'] == 'All Ages')][['year', 'value', 'shortname']]\n",
    "total_pop.head(1)"
   ]
  },
  {
   "cell_type": "code",
   "execution_count": 432,
   "metadata": {},
   "outputs": [
    {
     "data": {
      "application/vnd.plotly.v1+json": {
       "config": {
        "plotlyServerURL": "https://plot.ly"
       },
       "data": [
        {
         "type": "scatter",
         "x": [
          1950,
          1951,
          1952,
          1953,
          1954,
          1955,
          1956,
          1957,
          1958,
          1959,
          1960,
          1961,
          1962,
          1963,
          1964,
          1965,
          1966,
          1967,
          1968,
          1969,
          1970,
          1971,
          1972,
          1973,
          1974,
          1975,
          1976,
          1977,
          1978,
          1979,
          1980,
          1981,
          1982,
          1983,
          1984,
          1985,
          1986,
          1987,
          1988,
          1989,
          1990,
          1991,
          1992,
          1993,
          1994,
          1995,
          1996,
          1997,
          1998,
          1999,
          2000,
          2001,
          2002,
          2003,
          2004,
          2005,
          2006,
          2007,
          2008,
          2009,
          2010,
          2011,
          2012,
          2013,
          2014,
          2015,
          2016,
          2017,
          2018,
          2019,
          2020,
          2021,
          2022,
          2023
         ],
         "y": [
          1.17501437664032,
          1.174412965774536,
          1.18103551864624,
          1.184163331985474,
          1.181899428367615,
          1.181486845016479,
          1.18508517742157,
          1.191874146461487,
          1.192901492118835,
          1.191652059555054,
          1.192026495933533,
          1.191150188446045,
          1.192094087600708,
          1.189705848693848,
          1.187457799911499,
          1.195630788803101,
          1.197458505630493,
          1.193249583244324,
          1.199386715888977,
          1.188253879547119,
          1.225024700164795,
          1.223392009735107,
          1.214963555335999,
          1.203410744667053,
          1.194730997085571,
          1.184755086898804,
          1.192257761955261,
          1.185991287231445,
          1.194095373153687,
          1.192693114280701,
          1.193930506706238,
          1.188858270645142,
          1.190627694129944,
          1.197569727897644,
          1.204171776771545,
          1.205663442611694,
          1.217233657836914,
          1.229190349578857,
          1.228534817695618,
          1.230127215385437,
          1.241974353790283,
          1.256258964538574,
          1.25025737285614,
          1.240692496299744,
          1.237377166748047,
          1.239252924919128,
          1.231464982032776,
          1.219973206520081,
          1.223055243492126,
          1.219216227531433,
          1.214701771736145,
          1.221450924873352,
          1.209607005119324,
          1.207068204879761,
          1.202768325805664,
          1.215092539787292,
          1.220693588256836,
          1.217650651931763,
          1.214997887611389,
          1.212331414222717,
          1.213461637496948,
          1.210484385490417,
          1.213054656982422,
          1.211754083633423,
          1.217842936515808,
          1.225152492523193,
          1.218754887580872,
          1.223718047142029,
          1.222486734390259,
          1.224390149116516,
          1.201906085014343,
          1.200029969215393,
          1.234811782836914,
          1.238752722740173
         ]
        }
       ],
       "layout": {
        "template": {
         "data": {
          "bar": [
           {
            "error_x": {
             "color": "#f2f5fa"
            },
            "error_y": {
             "color": "#f2f5fa"
            },
            "marker": {
             "line": {
              "color": "rgb(17,17,17)",
              "width": 0.5
             },
             "pattern": {
              "fillmode": "overlay",
              "size": 10,
              "solidity": 0.2
             }
            },
            "type": "bar"
           }
          ],
          "barpolar": [
           {
            "marker": {
             "line": {
              "color": "rgb(17,17,17)",
              "width": 0.5
             },
             "pattern": {
              "fillmode": "overlay",
              "size": 10,
              "solidity": 0.2
             }
            },
            "type": "barpolar"
           }
          ],
          "carpet": [
           {
            "aaxis": {
             "endlinecolor": "#A2B1C6",
             "gridcolor": "#506784",
             "linecolor": "#506784",
             "minorgridcolor": "#506784",
             "startlinecolor": "#A2B1C6"
            },
            "baxis": {
             "endlinecolor": "#A2B1C6",
             "gridcolor": "#506784",
             "linecolor": "#506784",
             "minorgridcolor": "#506784",
             "startlinecolor": "#A2B1C6"
            },
            "type": "carpet"
           }
          ],
          "choropleth": [
           {
            "colorbar": {
             "outlinewidth": 0,
             "ticks": ""
            },
            "type": "choropleth"
           }
          ],
          "contour": [
           {
            "colorbar": {
             "outlinewidth": 0,
             "ticks": ""
            },
            "colorscale": [
             [
              0,
              "#0d0887"
             ],
             [
              0.1111111111111111,
              "#46039f"
             ],
             [
              0.2222222222222222,
              "#7201a8"
             ],
             [
              0.3333333333333333,
              "#9c179e"
             ],
             [
              0.4444444444444444,
              "#bd3786"
             ],
             [
              0.5555555555555556,
              "#d8576b"
             ],
             [
              0.6666666666666666,
              "#ed7953"
             ],
             [
              0.7777777777777778,
              "#fb9f3a"
             ],
             [
              0.8888888888888888,
              "#fdca26"
             ],
             [
              1,
              "#f0f921"
             ]
            ],
            "type": "contour"
           }
          ],
          "contourcarpet": [
           {
            "colorbar": {
             "outlinewidth": 0,
             "ticks": ""
            },
            "type": "contourcarpet"
           }
          ],
          "heatmap": [
           {
            "colorbar": {
             "outlinewidth": 0,
             "ticks": ""
            },
            "colorscale": [
             [
              0,
              "#0d0887"
             ],
             [
              0.1111111111111111,
              "#46039f"
             ],
             [
              0.2222222222222222,
              "#7201a8"
             ],
             [
              0.3333333333333333,
              "#9c179e"
             ],
             [
              0.4444444444444444,
              "#bd3786"
             ],
             [
              0.5555555555555556,
              "#d8576b"
             ],
             [
              0.6666666666666666,
              "#ed7953"
             ],
             [
              0.7777777777777778,
              "#fb9f3a"
             ],
             [
              0.8888888888888888,
              "#fdca26"
             ],
             [
              1,
              "#f0f921"
             ]
            ],
            "type": "heatmap"
           }
          ],
          "heatmapgl": [
           {
            "colorbar": {
             "outlinewidth": 0,
             "ticks": ""
            },
            "colorscale": [
             [
              0,
              "#0d0887"
             ],
             [
              0.1111111111111111,
              "#46039f"
             ],
             [
              0.2222222222222222,
              "#7201a8"
             ],
             [
              0.3333333333333333,
              "#9c179e"
             ],
             [
              0.4444444444444444,
              "#bd3786"
             ],
             [
              0.5555555555555556,
              "#d8576b"
             ],
             [
              0.6666666666666666,
              "#ed7953"
             ],
             [
              0.7777777777777778,
              "#fb9f3a"
             ],
             [
              0.8888888888888888,
              "#fdca26"
             ],
             [
              1,
              "#f0f921"
             ]
            ],
            "type": "heatmapgl"
           }
          ],
          "histogram": [
           {
            "marker": {
             "pattern": {
              "fillmode": "overlay",
              "size": 10,
              "solidity": 0.2
             }
            },
            "type": "histogram"
           }
          ],
          "histogram2d": [
           {
            "colorbar": {
             "outlinewidth": 0,
             "ticks": ""
            },
            "colorscale": [
             [
              0,
              "#0d0887"
             ],
             [
              0.1111111111111111,
              "#46039f"
             ],
             [
              0.2222222222222222,
              "#7201a8"
             ],
             [
              0.3333333333333333,
              "#9c179e"
             ],
             [
              0.4444444444444444,
              "#bd3786"
             ],
             [
              0.5555555555555556,
              "#d8576b"
             ],
             [
              0.6666666666666666,
              "#ed7953"
             ],
             [
              0.7777777777777778,
              "#fb9f3a"
             ],
             [
              0.8888888888888888,
              "#fdca26"
             ],
             [
              1,
              "#f0f921"
             ]
            ],
            "type": "histogram2d"
           }
          ],
          "histogram2dcontour": [
           {
            "colorbar": {
             "outlinewidth": 0,
             "ticks": ""
            },
            "colorscale": [
             [
              0,
              "#0d0887"
             ],
             [
              0.1111111111111111,
              "#46039f"
             ],
             [
              0.2222222222222222,
              "#7201a8"
             ],
             [
              0.3333333333333333,
              "#9c179e"
             ],
             [
              0.4444444444444444,
              "#bd3786"
             ],
             [
              0.5555555555555556,
              "#d8576b"
             ],
             [
              0.6666666666666666,
              "#ed7953"
             ],
             [
              0.7777777777777778,
              "#fb9f3a"
             ],
             [
              0.8888888888888888,
              "#fdca26"
             ],
             [
              1,
              "#f0f921"
             ]
            ],
            "type": "histogram2dcontour"
           }
          ],
          "mesh3d": [
           {
            "colorbar": {
             "outlinewidth": 0,
             "ticks": ""
            },
            "type": "mesh3d"
           }
          ],
          "parcoords": [
           {
            "line": {
             "colorbar": {
              "outlinewidth": 0,
              "ticks": ""
             }
            },
            "type": "parcoords"
           }
          ],
          "pie": [
           {
            "automargin": true,
            "type": "pie"
           }
          ],
          "scatter": [
           {
            "marker": {
             "line": {
              "color": "#283442"
             }
            },
            "type": "scatter"
           }
          ],
          "scatter3d": [
           {
            "line": {
             "colorbar": {
              "outlinewidth": 0,
              "ticks": ""
             }
            },
            "marker": {
             "colorbar": {
              "outlinewidth": 0,
              "ticks": ""
             }
            },
            "type": "scatter3d"
           }
          ],
          "scattercarpet": [
           {
            "marker": {
             "colorbar": {
              "outlinewidth": 0,
              "ticks": ""
             }
            },
            "type": "scattercarpet"
           }
          ],
          "scattergeo": [
           {
            "marker": {
             "colorbar": {
              "outlinewidth": 0,
              "ticks": ""
             }
            },
            "type": "scattergeo"
           }
          ],
          "scattergl": [
           {
            "marker": {
             "line": {
              "color": "#283442"
             }
            },
            "type": "scattergl"
           }
          ],
          "scattermapbox": [
           {
            "marker": {
             "colorbar": {
              "outlinewidth": 0,
              "ticks": ""
             }
            },
            "type": "scattermapbox"
           }
          ],
          "scatterpolar": [
           {
            "marker": {
             "colorbar": {
              "outlinewidth": 0,
              "ticks": ""
             }
            },
            "type": "scatterpolar"
           }
          ],
          "scatterpolargl": [
           {
            "marker": {
             "colorbar": {
              "outlinewidth": 0,
              "ticks": ""
             }
            },
            "type": "scatterpolargl"
           }
          ],
          "scatterternary": [
           {
            "marker": {
             "colorbar": {
              "outlinewidth": 0,
              "ticks": ""
             }
            },
            "type": "scatterternary"
           }
          ],
          "surface": [
           {
            "colorbar": {
             "outlinewidth": 0,
             "ticks": ""
            },
            "colorscale": [
             [
              0,
              "#0d0887"
             ],
             [
              0.1111111111111111,
              "#46039f"
             ],
             [
              0.2222222222222222,
              "#7201a8"
             ],
             [
              0.3333333333333333,
              "#9c179e"
             ],
             [
              0.4444444444444444,
              "#bd3786"
             ],
             [
              0.5555555555555556,
              "#d8576b"
             ],
             [
              0.6666666666666666,
              "#ed7953"
             ],
             [
              0.7777777777777778,
              "#fb9f3a"
             ],
             [
              0.8888888888888888,
              "#fdca26"
             ],
             [
              1,
              "#f0f921"
             ]
            ],
            "type": "surface"
           }
          ],
          "table": [
           {
            "cells": {
             "fill": {
              "color": "#506784"
             },
             "line": {
              "color": "rgb(17,17,17)"
             }
            },
            "header": {
             "fill": {
              "color": "#2a3f5f"
             },
             "line": {
              "color": "rgb(17,17,17)"
             }
            },
            "type": "table"
           }
          ]
         },
         "layout": {
          "annotationdefaults": {
           "arrowcolor": "#f2f5fa",
           "arrowhead": 0,
           "arrowwidth": 1
          },
          "autotypenumbers": "strict",
          "coloraxis": {
           "colorbar": {
            "outlinewidth": 0,
            "ticks": ""
           }
          },
          "colorscale": {
           "diverging": [
            [
             0,
             "#8e0152"
            ],
            [
             0.1,
             "#c51b7d"
            ],
            [
             0.2,
             "#de77ae"
            ],
            [
             0.3,
             "#f1b6da"
            ],
            [
             0.4,
             "#fde0ef"
            ],
            [
             0.5,
             "#f7f7f7"
            ],
            [
             0.6,
             "#e6f5d0"
            ],
            [
             0.7,
             "#b8e186"
            ],
            [
             0.8,
             "#7fbc41"
            ],
            [
             0.9,
             "#4d9221"
            ],
            [
             1,
             "#276419"
            ]
           ],
           "sequential": [
            [
             0,
             "#0d0887"
            ],
            [
             0.1111111111111111,
             "#46039f"
            ],
            [
             0.2222222222222222,
             "#7201a8"
            ],
            [
             0.3333333333333333,
             "#9c179e"
            ],
            [
             0.4444444444444444,
             "#bd3786"
            ],
            [
             0.5555555555555556,
             "#d8576b"
            ],
            [
             0.6666666666666666,
             "#ed7953"
            ],
            [
             0.7777777777777778,
             "#fb9f3a"
            ],
            [
             0.8888888888888888,
             "#fdca26"
            ],
            [
             1,
             "#f0f921"
            ]
           ],
           "sequentialminus": [
            [
             0,
             "#0d0887"
            ],
            [
             0.1111111111111111,
             "#46039f"
            ],
            [
             0.2222222222222222,
             "#7201a8"
            ],
            [
             0.3333333333333333,
             "#9c179e"
            ],
            [
             0.4444444444444444,
             "#bd3786"
            ],
            [
             0.5555555555555556,
             "#d8576b"
            ],
            [
             0.6666666666666666,
             "#ed7953"
            ],
            [
             0.7777777777777778,
             "#fb9f3a"
            ],
            [
             0.8888888888888888,
             "#fdca26"
            ],
            [
             1,
             "#f0f921"
            ]
           ]
          },
          "colorway": [
           "#636efa",
           "#EF553B",
           "#00cc96",
           "#ab63fa",
           "#FFA15A",
           "#19d3f3",
           "#FF6692",
           "#B6E880",
           "#FF97FF",
           "#FECB52"
          ],
          "font": {
           "color": "#f2f5fa"
          },
          "geo": {
           "bgcolor": "rgb(17,17,17)",
           "lakecolor": "rgb(17,17,17)",
           "landcolor": "rgb(17,17,17)",
           "showlakes": true,
           "showland": true,
           "subunitcolor": "#506784"
          },
          "hoverlabel": {
           "align": "left"
          },
          "hovermode": "closest",
          "mapbox": {
           "style": "dark"
          },
          "paper_bgcolor": "rgb(17,17,17)",
          "plot_bgcolor": "rgb(17,17,17)",
          "polar": {
           "angularaxis": {
            "gridcolor": "#506784",
            "linecolor": "#506784",
            "ticks": ""
           },
           "bgcolor": "rgb(17,17,17)",
           "radialaxis": {
            "gridcolor": "#506784",
            "linecolor": "#506784",
            "ticks": ""
           }
          },
          "scene": {
           "xaxis": {
            "backgroundcolor": "rgb(17,17,17)",
            "gridcolor": "#506784",
            "gridwidth": 2,
            "linecolor": "#506784",
            "showbackground": true,
            "ticks": "",
            "zerolinecolor": "#C8D4E3"
           },
           "yaxis": {
            "backgroundcolor": "rgb(17,17,17)",
            "gridcolor": "#506784",
            "gridwidth": 2,
            "linecolor": "#506784",
            "showbackground": true,
            "ticks": "",
            "zerolinecolor": "#C8D4E3"
           },
           "zaxis": {
            "backgroundcolor": "rgb(17,17,17)",
            "gridcolor": "#506784",
            "gridwidth": 2,
            "linecolor": "#506784",
            "showbackground": true,
            "ticks": "",
            "zerolinecolor": "#C8D4E3"
           }
          },
          "shapedefaults": {
           "line": {
            "color": "#f2f5fa"
           }
          },
          "sliderdefaults": {
           "bgcolor": "#C8D4E3",
           "bordercolor": "rgb(17,17,17)",
           "borderwidth": 1,
           "tickwidth": 0
          },
          "ternary": {
           "aaxis": {
            "gridcolor": "#506784",
            "linecolor": "#506784",
            "ticks": ""
           },
           "baxis": {
            "gridcolor": "#506784",
            "linecolor": "#506784",
            "ticks": ""
           },
           "bgcolor": "rgb(17,17,17)",
           "caxis": {
            "gridcolor": "#506784",
            "linecolor": "#506784",
            "ticks": ""
           }
          },
          "title": {
           "x": 0.05
          },
          "updatemenudefaults": {
           "bgcolor": "#506784",
           "borderwidth": 0
          },
          "xaxis": {
           "automargin": true,
           "gridcolor": "#283442",
           "linecolor": "#506784",
           "ticks": "",
           "title": {
            "standoff": 15
           },
           "zerolinecolor": "#283442",
           "zerolinewidth": 2
          },
          "yaxis": {
           "automargin": true,
           "gridcolor": "#283442",
           "linecolor": "#506784",
           "ticks": "",
           "title": {
            "standoff": 15
           },
           "zerolinecolor": "#283442",
           "zerolinewidth": 2
          }
         }
        },
        "title": {
         "text": "Gross Domestic Product over time"
        }
       }
      }
     },
     "metadata": {},
     "output_type": "display_data"
    }
   ],
   "source": [
    "fig = go.Figure()\n",
    "\n",
    "fig.add_trace(\n",
    "        go.Scatter(\n",
    "        x=gdp['year'],\n",
    "        y=gdp['value']\n",
    "        )\n",
    "    )\n",
    "\n",
    "fig.update_layout(\n",
    "    title='Gross Domestic Product over time'\n",
    ")\n",
    "\n",
    "fig.show()"
   ]
  },
  {
   "cell_type": "code",
   "execution_count": 433,
   "metadata": {},
   "outputs": [],
   "source": [
    "shortname_list = [\n",
    "    'Defense',\n",
    "    'Economic affairs',\n",
    "    'Education',\n",
    "    'Environmental protection',\n",
    "    'Health',\n",
    "    'Housing and community amenities',\n",
    "    'Public order and safety',\n",
    "    'Recreation and culture',\n",
    "    'Social protection'\n",
    "]\n",
    "\n",
    "cols_to_keep = ['year', 'value', 'shortname', 'shorttype', 'longtype', 'variable']\n",
    "\n",
    "a = df[(df['shortname'].isin(shortname_list)) & (df['shorttype'] == 'Total')][cols_to_keep]\n",
    "\n",
    "total_pop = df[(df['shortname'] == 'Population') & (df['shortpop'] == 'individuals') & (df['shortage'] == 'All Ages')][['year', 'value']]\n",
    "fx = df[df['shortname'] == 'PPP conversion factor, LCU per USD'][['year', 'value']].rename(columns={'value': 'local_currency_per_usd'})\n",
    "public_spending = df.loc[(df['shortname'] == 'Total Public Spending (excluding interest payment)') & (df['shorttype'] == 'Total')][['year', 'value']].rename(columns={'value': 'total_public_spending'})"
   ]
  },
  {
   "cell_type": "code",
   "execution_count": 434,
   "metadata": {},
   "outputs": [
    {
     "data": {
      "application/vnd.plotly.v1+json": {
       "config": {
        "plotlyServerURL": "https://plot.ly"
       },
       "data": [
        {
         "type": "scatter",
         "x": [
          1980,
          1981,
          1982,
          1983,
          1984,
          1985,
          1986,
          1987,
          1988,
          1989,
          1990,
          1991,
          1992,
          1993,
          1994,
          1995,
          1996,
          1997,
          1998,
          1999,
          2000,
          2001,
          2002,
          2003,
          2004,
          2005,
          2006,
          2007,
          2008,
          2009,
          2010,
          2011,
          2012,
          2013,
          2014,
          2015,
          2016,
          2017,
          2018,
          2019,
          2020,
          2021,
          2022,
          2023
         ],
         "y": [
          214124003328,
          220265005056,
          243332268032,
          247771267072,
          267223236608,
          278957293568,
          283989245952,
          278455549952,
          278401646592,
          290300329984,
          313898565632,
          335906603008,
          347037696000,
          356886478848,
          366464303104,
          372653686784,
          385371766784,
          394093166592,
          420485005312,
          436180451328,
          465799413760,
          475040776192,
          483510845440,
          505924321280,
          527375990784,
          532208189440,
          547880239104,
          566446260224,
          625702535168,
          648767406080,
          674414788608,
          680597520384,
          703940788224,
          718751858688,
          742422740992,
          771168141312,
          791359717376,
          801888796672,
          825743310848,
          882858590208,
          1022039818240,
          999125745664,
          930348007424,
          947529121792
         ]
        }
       ],
       "layout": {
        "template": {
         "data": {
          "bar": [
           {
            "error_x": {
             "color": "#f2f5fa"
            },
            "error_y": {
             "color": "#f2f5fa"
            },
            "marker": {
             "line": {
              "color": "rgb(17,17,17)",
              "width": 0.5
             },
             "pattern": {
              "fillmode": "overlay",
              "size": 10,
              "solidity": 0.2
             }
            },
            "type": "bar"
           }
          ],
          "barpolar": [
           {
            "marker": {
             "line": {
              "color": "rgb(17,17,17)",
              "width": 0.5
             },
             "pattern": {
              "fillmode": "overlay",
              "size": 10,
              "solidity": 0.2
             }
            },
            "type": "barpolar"
           }
          ],
          "carpet": [
           {
            "aaxis": {
             "endlinecolor": "#A2B1C6",
             "gridcolor": "#506784",
             "linecolor": "#506784",
             "minorgridcolor": "#506784",
             "startlinecolor": "#A2B1C6"
            },
            "baxis": {
             "endlinecolor": "#A2B1C6",
             "gridcolor": "#506784",
             "linecolor": "#506784",
             "minorgridcolor": "#506784",
             "startlinecolor": "#A2B1C6"
            },
            "type": "carpet"
           }
          ],
          "choropleth": [
           {
            "colorbar": {
             "outlinewidth": 0,
             "ticks": ""
            },
            "type": "choropleth"
           }
          ],
          "contour": [
           {
            "colorbar": {
             "outlinewidth": 0,
             "ticks": ""
            },
            "colorscale": [
             [
              0,
              "#0d0887"
             ],
             [
              0.1111111111111111,
              "#46039f"
             ],
             [
              0.2222222222222222,
              "#7201a8"
             ],
             [
              0.3333333333333333,
              "#9c179e"
             ],
             [
              0.4444444444444444,
              "#bd3786"
             ],
             [
              0.5555555555555556,
              "#d8576b"
             ],
             [
              0.6666666666666666,
              "#ed7953"
             ],
             [
              0.7777777777777778,
              "#fb9f3a"
             ],
             [
              0.8888888888888888,
              "#fdca26"
             ],
             [
              1,
              "#f0f921"
             ]
            ],
            "type": "contour"
           }
          ],
          "contourcarpet": [
           {
            "colorbar": {
             "outlinewidth": 0,
             "ticks": ""
            },
            "type": "contourcarpet"
           }
          ],
          "heatmap": [
           {
            "colorbar": {
             "outlinewidth": 0,
             "ticks": ""
            },
            "colorscale": [
             [
              0,
              "#0d0887"
             ],
             [
              0.1111111111111111,
              "#46039f"
             ],
             [
              0.2222222222222222,
              "#7201a8"
             ],
             [
              0.3333333333333333,
              "#9c179e"
             ],
             [
              0.4444444444444444,
              "#bd3786"
             ],
             [
              0.5555555555555556,
              "#d8576b"
             ],
             [
              0.6666666666666666,
              "#ed7953"
             ],
             [
              0.7777777777777778,
              "#fb9f3a"
             ],
             [
              0.8888888888888888,
              "#fdca26"
             ],
             [
              1,
              "#f0f921"
             ]
            ],
            "type": "heatmap"
           }
          ],
          "heatmapgl": [
           {
            "colorbar": {
             "outlinewidth": 0,
             "ticks": ""
            },
            "colorscale": [
             [
              0,
              "#0d0887"
             ],
             [
              0.1111111111111111,
              "#46039f"
             ],
             [
              0.2222222222222222,
              "#7201a8"
             ],
             [
              0.3333333333333333,
              "#9c179e"
             ],
             [
              0.4444444444444444,
              "#bd3786"
             ],
             [
              0.5555555555555556,
              "#d8576b"
             ],
             [
              0.6666666666666666,
              "#ed7953"
             ],
             [
              0.7777777777777778,
              "#fb9f3a"
             ],
             [
              0.8888888888888888,
              "#fdca26"
             ],
             [
              1,
              "#f0f921"
             ]
            ],
            "type": "heatmapgl"
           }
          ],
          "histogram": [
           {
            "marker": {
             "pattern": {
              "fillmode": "overlay",
              "size": 10,
              "solidity": 0.2
             }
            },
            "type": "histogram"
           }
          ],
          "histogram2d": [
           {
            "colorbar": {
             "outlinewidth": 0,
             "ticks": ""
            },
            "colorscale": [
             [
              0,
              "#0d0887"
             ],
             [
              0.1111111111111111,
              "#46039f"
             ],
             [
              0.2222222222222222,
              "#7201a8"
             ],
             [
              0.3333333333333333,
              "#9c179e"
             ],
             [
              0.4444444444444444,
              "#bd3786"
             ],
             [
              0.5555555555555556,
              "#d8576b"
             ],
             [
              0.6666666666666666,
              "#ed7953"
             ],
             [
              0.7777777777777778,
              "#fb9f3a"
             ],
             [
              0.8888888888888888,
              "#fdca26"
             ],
             [
              1,
              "#f0f921"
             ]
            ],
            "type": "histogram2d"
           }
          ],
          "histogram2dcontour": [
           {
            "colorbar": {
             "outlinewidth": 0,
             "ticks": ""
            },
            "colorscale": [
             [
              0,
              "#0d0887"
             ],
             [
              0.1111111111111111,
              "#46039f"
             ],
             [
              0.2222222222222222,
              "#7201a8"
             ],
             [
              0.3333333333333333,
              "#9c179e"
             ],
             [
              0.4444444444444444,
              "#bd3786"
             ],
             [
              0.5555555555555556,
              "#d8576b"
             ],
             [
              0.6666666666666666,
              "#ed7953"
             ],
             [
              0.7777777777777778,
              "#fb9f3a"
             ],
             [
              0.8888888888888888,
              "#fdca26"
             ],
             [
              1,
              "#f0f921"
             ]
            ],
            "type": "histogram2dcontour"
           }
          ],
          "mesh3d": [
           {
            "colorbar": {
             "outlinewidth": 0,
             "ticks": ""
            },
            "type": "mesh3d"
           }
          ],
          "parcoords": [
           {
            "line": {
             "colorbar": {
              "outlinewidth": 0,
              "ticks": ""
             }
            },
            "type": "parcoords"
           }
          ],
          "pie": [
           {
            "automargin": true,
            "type": "pie"
           }
          ],
          "scatter": [
           {
            "marker": {
             "line": {
              "color": "#283442"
             }
            },
            "type": "scatter"
           }
          ],
          "scatter3d": [
           {
            "line": {
             "colorbar": {
              "outlinewidth": 0,
              "ticks": ""
             }
            },
            "marker": {
             "colorbar": {
              "outlinewidth": 0,
              "ticks": ""
             }
            },
            "type": "scatter3d"
           }
          ],
          "scattercarpet": [
           {
            "marker": {
             "colorbar": {
              "outlinewidth": 0,
              "ticks": ""
             }
            },
            "type": "scattercarpet"
           }
          ],
          "scattergeo": [
           {
            "marker": {
             "colorbar": {
              "outlinewidth": 0,
              "ticks": ""
             }
            },
            "type": "scattergeo"
           }
          ],
          "scattergl": [
           {
            "marker": {
             "line": {
              "color": "#283442"
             }
            },
            "type": "scattergl"
           }
          ],
          "scattermapbox": [
           {
            "marker": {
             "colorbar": {
              "outlinewidth": 0,
              "ticks": ""
             }
            },
            "type": "scattermapbox"
           }
          ],
          "scatterpolar": [
           {
            "marker": {
             "colorbar": {
              "outlinewidth": 0,
              "ticks": ""
             }
            },
            "type": "scatterpolar"
           }
          ],
          "scatterpolargl": [
           {
            "marker": {
             "colorbar": {
              "outlinewidth": 0,
              "ticks": ""
             }
            },
            "type": "scatterpolargl"
           }
          ],
          "scatterternary": [
           {
            "marker": {
             "colorbar": {
              "outlinewidth": 0,
              "ticks": ""
             }
            },
            "type": "scatterternary"
           }
          ],
          "surface": [
           {
            "colorbar": {
             "outlinewidth": 0,
             "ticks": ""
            },
            "colorscale": [
             [
              0,
              "#0d0887"
             ],
             [
              0.1111111111111111,
              "#46039f"
             ],
             [
              0.2222222222222222,
              "#7201a8"
             ],
             [
              0.3333333333333333,
              "#9c179e"
             ],
             [
              0.4444444444444444,
              "#bd3786"
             ],
             [
              0.5555555555555556,
              "#d8576b"
             ],
             [
              0.6666666666666666,
              "#ed7953"
             ],
             [
              0.7777777777777778,
              "#fb9f3a"
             ],
             [
              0.8888888888888888,
              "#fdca26"
             ],
             [
              1,
              "#f0f921"
             ]
            ],
            "type": "surface"
           }
          ],
          "table": [
           {
            "cells": {
             "fill": {
              "color": "#506784"
             },
             "line": {
              "color": "rgb(17,17,17)"
             }
            },
            "header": {
             "fill": {
              "color": "#2a3f5f"
             },
             "line": {
              "color": "rgb(17,17,17)"
             }
            },
            "type": "table"
           }
          ]
         },
         "layout": {
          "annotationdefaults": {
           "arrowcolor": "#f2f5fa",
           "arrowhead": 0,
           "arrowwidth": 1
          },
          "autotypenumbers": "strict",
          "coloraxis": {
           "colorbar": {
            "outlinewidth": 0,
            "ticks": ""
           }
          },
          "colorscale": {
           "diverging": [
            [
             0,
             "#8e0152"
            ],
            [
             0.1,
             "#c51b7d"
            ],
            [
             0.2,
             "#de77ae"
            ],
            [
             0.3,
             "#f1b6da"
            ],
            [
             0.4,
             "#fde0ef"
            ],
            [
             0.5,
             "#f7f7f7"
            ],
            [
             0.6,
             "#e6f5d0"
            ],
            [
             0.7,
             "#b8e186"
            ],
            [
             0.8,
             "#7fbc41"
            ],
            [
             0.9,
             "#4d9221"
            ],
            [
             1,
             "#276419"
            ]
           ],
           "sequential": [
            [
             0,
             "#0d0887"
            ],
            [
             0.1111111111111111,
             "#46039f"
            ],
            [
             0.2222222222222222,
             "#7201a8"
            ],
            [
             0.3333333333333333,
             "#9c179e"
            ],
            [
             0.4444444444444444,
             "#bd3786"
            ],
            [
             0.5555555555555556,
             "#d8576b"
            ],
            [
             0.6666666666666666,
             "#ed7953"
            ],
            [
             0.7777777777777778,
             "#fb9f3a"
            ],
            [
             0.8888888888888888,
             "#fdca26"
            ],
            [
             1,
             "#f0f921"
            ]
           ],
           "sequentialminus": [
            [
             0,
             "#0d0887"
            ],
            [
             0.1111111111111111,
             "#46039f"
            ],
            [
             0.2222222222222222,
             "#7201a8"
            ],
            [
             0.3333333333333333,
             "#9c179e"
            ],
            [
             0.4444444444444444,
             "#bd3786"
            ],
            [
             0.5555555555555556,
             "#d8576b"
            ],
            [
             0.6666666666666666,
             "#ed7953"
            ],
            [
             0.7777777777777778,
             "#fb9f3a"
            ],
            [
             0.8888888888888888,
             "#fdca26"
            ],
            [
             1,
             "#f0f921"
            ]
           ]
          },
          "colorway": [
           "#636efa",
           "#EF553B",
           "#00cc96",
           "#ab63fa",
           "#FFA15A",
           "#19d3f3",
           "#FF6692",
           "#B6E880",
           "#FF97FF",
           "#FECB52"
          ],
          "font": {
           "color": "#f2f5fa"
          },
          "geo": {
           "bgcolor": "rgb(17,17,17)",
           "lakecolor": "rgb(17,17,17)",
           "landcolor": "rgb(17,17,17)",
           "showlakes": true,
           "showland": true,
           "subunitcolor": "#506784"
          },
          "hoverlabel": {
           "align": "left"
          },
          "hovermode": "closest",
          "mapbox": {
           "style": "dark"
          },
          "paper_bgcolor": "rgb(17,17,17)",
          "plot_bgcolor": "rgb(17,17,17)",
          "polar": {
           "angularaxis": {
            "gridcolor": "#506784",
            "linecolor": "#506784",
            "ticks": ""
           },
           "bgcolor": "rgb(17,17,17)",
           "radialaxis": {
            "gridcolor": "#506784",
            "linecolor": "#506784",
            "ticks": ""
           }
          },
          "scene": {
           "xaxis": {
            "backgroundcolor": "rgb(17,17,17)",
            "gridcolor": "#506784",
            "gridwidth": 2,
            "linecolor": "#506784",
            "showbackground": true,
            "ticks": "",
            "zerolinecolor": "#C8D4E3"
           },
           "yaxis": {
            "backgroundcolor": "rgb(17,17,17)",
            "gridcolor": "#506784",
            "gridwidth": 2,
            "linecolor": "#506784",
            "showbackground": true,
            "ticks": "",
            "zerolinecolor": "#C8D4E3"
           },
           "zaxis": {
            "backgroundcolor": "rgb(17,17,17)",
            "gridcolor": "#506784",
            "gridwidth": 2,
            "linecolor": "#506784",
            "showbackground": true,
            "ticks": "",
            "zerolinecolor": "#C8D4E3"
           }
          },
          "shapedefaults": {
           "line": {
            "color": "#f2f5fa"
           }
          },
          "sliderdefaults": {
           "bgcolor": "#C8D4E3",
           "bordercolor": "rgb(17,17,17)",
           "borderwidth": 1,
           "tickwidth": 0
          },
          "ternary": {
           "aaxis": {
            "gridcolor": "#506784",
            "linecolor": "#506784",
            "ticks": ""
           },
           "baxis": {
            "gridcolor": "#506784",
            "linecolor": "#506784",
            "ticks": ""
           },
           "bgcolor": "rgb(17,17,17)",
           "caxis": {
            "gridcolor": "#506784",
            "linecolor": "#506784",
            "ticks": ""
           }
          },
          "title": {
           "x": 0.05
          },
          "updatemenudefaults": {
           "bgcolor": "#506784",
           "borderwidth": 0
          },
          "xaxis": {
           "automargin": true,
           "gridcolor": "#283442",
           "linecolor": "#506784",
           "ticks": "",
           "title": {
            "standoff": 15
           },
           "zerolinecolor": "#283442",
           "zerolinewidth": 2
          },
          "yaxis": {
           "automargin": true,
           "gridcolor": "#283442",
           "linecolor": "#506784",
           "ticks": "",
           "title": {
            "standoff": 15
           },
           "zerolinecolor": "#283442",
           "zerolinewidth": 2
          }
         }
        },
        "title": {
         "text": "Total public spending"
        }
       }
      }
     },
     "metadata": {},
     "output_type": "display_data"
    }
   ],
   "source": [
    "fig = go.Figure()\n",
    "\n",
    "fig.add_trace(go.Scatter(\n",
    "    x=public_spending['year'],\n",
    "    y=public_spending['total_public_spending']\n",
    "))\n",
    "\n",
    "fig.update_layout(\n",
    "    title='Total public spending'\n",
    ")\n",
    "\n",
    "fig.show()"
   ]
  },
  {
   "cell_type": "code",
   "execution_count": 435,
   "metadata": {},
   "outputs": [
    {
     "data": {
      "application/vnd.plotly.v1+json": {
       "config": {
        "plotlyServerURL": "https://plot.ly"
       },
       "data": [
        {
         "groupnorm": "percent",
         "mode": "lines",
         "name": "Defense",
         "stackgroup": "one",
         "type": "scatter",
         "x": [
          1980,
          1981,
          1982,
          1983,
          1984,
          1985,
          1986,
          1987,
          1988,
          1989,
          1990,
          1991,
          1992,
          1993,
          1994,
          1995,
          1996,
          1997,
          1998,
          1999,
          2000,
          2001,
          2002,
          2003,
          2004,
          2005,
          2006,
          2007,
          2008,
          2009,
          2010,
          2011,
          2012,
          2013,
          2014,
          2015,
          2016,
          2017,
          2018,
          2019,
          2020,
          2021,
          2022,
          2023
         ],
         "y": [
          12135067648,
          12474992640,
          16487606272,
          15793991680,
          16975775744,
          16384350208,
          16809881600,
          15359541248,
          15351729152,
          16754079744,
          19239299072,
          20582903808,
          20654243840,
          19076112384,
          19728420864,
          19361794048,
          19947345920,
          20396664832,
          21737111552,
          22138263552,
          25494982656,
          23433629696,
          23228198912,
          28009871360,
          26168606720,
          25516916736,
          27400644608,
          28987545600,
          34442887168,
          32896739328,
          34458103808,
          34325786624,
          34465058816,
          35384049664,
          37237678080,
          40849473536,
          43570413568,
          44807217152,
          46847811584,
          56222380032,
          61399932928,
          48024698880,
          49761742848,
          50680721408
         ]
        },
        {
         "groupnorm": "percent",
         "mode": "lines",
         "name": "Economic affairs",
         "stackgroup": "one",
         "type": "scatter",
         "x": [
          1980,
          1981,
          1982,
          1983,
          1984,
          1985,
          1986,
          1987,
          1988,
          1989,
          1990,
          1991,
          1992,
          1993,
          1994,
          1995,
          1996,
          1997,
          1998,
          1999,
          2000,
          2001,
          2002,
          2003,
          2004,
          2005,
          2006,
          2007,
          2008,
          2009,
          2010,
          2011,
          2012,
          2013,
          2014,
          2015,
          2016,
          2017,
          2018,
          2019,
          2020,
          2021,
          2022,
          2023
         ],
         "y": [
          32202573824,
          33104627712,
          43752820736,
          41912193024,
          45048262656,
          43478810624,
          44608028672,
          40759300096,
          40738562048,
          44459958272,
          51054923776,
          54620422144,
          54809739264,
          50621878272,
          52352897024,
          51379990528,
          52933861376,
          54126202880,
          57683316736,
          58747846656,
          62963113984,
          57114263552,
          58671833088,
          62953054208,
          65381183488,
          59643482112,
          63555403776,
          66755297280,
          87987576832,
          78565433344,
          83097313280,
          79690842112,
          86295994368,
          87051296768,
          92873834496,
          94276583424,
          90332258304,
          92307546112,
          103761952768,
          121075326976,
          194383020032,
          187284389888,
          124652503040,
          126954536960
         ]
        },
        {
         "groupnorm": "percent",
         "mode": "lines",
         "name": "Education",
         "stackgroup": "one",
         "type": "scatter",
         "x": [
          1980,
          1981,
          1982,
          1983,
          1984,
          1985,
          1986,
          1987,
          1988,
          1989,
          1990,
          1991,
          1992,
          1993,
          1994,
          1995,
          1996,
          1997,
          1998,
          1999,
          2000,
          2001,
          2002,
          2003,
          2004,
          2005,
          2006,
          2007,
          2008,
          2009,
          2010,
          2011,
          2012,
          2013,
          2014,
          2015,
          2016,
          2017,
          2018,
          2019,
          2020,
          2021,
          2022,
          2023
         ],
         "y": [
          40970866688,
          41693208576,
          41191174144,
          40906919936,
          43049156608,
          45170528256,
          45524725760,
          45562732544,
          46326247424,
          46403035136,
          46388576256,
          47564537856,
          47603617792,
          58154381312,
          57601523712,
          58545156096,
          61954146304,
          63560269824,
          65531265024,
          67310845952,
          68406272000,
          76952387584,
          81188495360,
          83263700992,
          85784903680,
          90175315968,
          91064336384,
          90956578816,
          92580716544,
          100001415168,
          121831112704,
          122357456896,
          114079784960,
          117460516864,
          117139652608,
          120585568256,
          124834144256,
          125550518272,
          131229442048,
          134113484800,
          145484038144,
          143388278784,
          140604948480,
          143201550336
         ]
        },
        {
         "groupnorm": "percent",
         "mode": "lines",
         "name": "Environmental protection",
         "stackgroup": "one",
         "type": "scatter",
         "x": [
          1980,
          1981,
          1982,
          1983,
          1984,
          1985,
          1986,
          1987,
          1988,
          1989,
          1990,
          1991,
          1992,
          1993,
          1994,
          1995,
          1996,
          1997,
          1998,
          1999,
          2000,
          2001,
          2002,
          2003,
          2004,
          2005,
          2006,
          2007,
          2008,
          2009,
          2010,
          2011,
          2012,
          2013,
          2014,
          2015,
          2016,
          2017,
          2018,
          2019,
          2020,
          2021,
          2022,
          2023
         ],
         "y": [
          3352972544,
          3446895104,
          4555598848,
          4363948544,
          4690481664,
          4527067648,
          4644643840,
          4243909120,
          4241749760,
          4629225984,
          5315902464,
          5687145984,
          5706857984,
          5270813184,
          5451048960,
          5349748224,
          5511539200,
          5635687936,
          6006059008,
          6116898816,
          6998053376,
          6345125376,
          6624872960,
          7648265728,
          7645878784,
          8056030720,
          8694029312,
          10008698880,
          12587510784,
          12092733440,
          14125601792,
          16588430336,
          19546462208,
          20881086464,
          21276289024,
          17256730624,
          18016886784,
          18750763008,
          20363372544,
          23465299968,
          24686366720,
          19553271808,
          19360538624,
          19718078464
         ]
        },
        {
         "groupnorm": "percent",
         "mode": "lines",
         "name": "Health",
         "stackgroup": "one",
         "type": "scatter",
         "x": [
          1980,
          1981,
          1982,
          1983,
          1984,
          1985,
          1986,
          1987,
          1988,
          1989,
          1990,
          1991,
          1992,
          1993,
          1994,
          1995,
          1996,
          1997,
          1998,
          1999,
          2000,
          2001,
          2002,
          2003,
          2004,
          2005,
          2006,
          2007,
          2008,
          2009,
          2010,
          2011,
          2012,
          2013,
          2014,
          2015,
          2016,
          2017,
          2018,
          2019,
          2020,
          2021,
          2022,
          2023
         ],
         "y": [
          30780676096,
          32133888000,
          26343714816,
          27972939776,
          31502342144,
          43037184000,
          43870781440,
          46031507456,
          47337713664,
          47996653568,
          48380411904,
          49635016704,
          52655595520,
          56002494464,
          58753961984,
          61805031424,
          63170535424,
          66877067264,
          69693636608,
          78473396224,
          77960683520,
          81854144512,
          87327342592,
          90986119168,
          94950727680,
          102686171136,
          105286942720,
          108253085696,
          112643866624,
          119034372096,
          127140675584,
          131543023616,
          140628836352,
          142573060096,
          144616570880,
          150331506688,
          160120160256,
          168481406976,
          170257743872,
          170037116928,
          180597211136,
          194809479168,
          201364684800,
          205083344896
         ]
        },
        {
         "groupnorm": "percent",
         "mode": "lines",
         "name": "Housing and community amenities",
         "stackgroup": "one",
         "type": "scatter",
         "x": [
          1980,
          1981,
          1982,
          1983,
          1984,
          1985,
          1986,
          1987,
          1988,
          1989,
          1990,
          1991,
          1992,
          1993,
          1994,
          1995,
          1996,
          1997,
          1998,
          1999,
          2000,
          2001,
          2002,
          2003,
          2004,
          2005,
          2006,
          2007,
          2008,
          2009,
          2010,
          2011,
          2012,
          2013,
          2014,
          2015,
          2016,
          2017,
          2018,
          2019,
          2020,
          2021,
          2022,
          2023
         ],
         "y": [
          5265278464,
          5412768256,
          7153799168,
          6852846592,
          7365610496,
          7108997632,
          7293631488,
          6664344064,
          6660953600,
          7269419008,
          8347729408,
          8930706432,
          8961659904,
          8276924416,
          8559953920,
          8400879104,
          8654944256,
          8849899520,
          9431504896,
          9605559296,
          10509179904,
          7866814976,
          8194118656,
          8914535424,
          9584086016,
          9092811776,
          10058053632,
          10488148992,
          14421441536,
          12738284544,
          13883699200,
          12809767936,
          11036945408,
          10969028608,
          11187290112,
          12009827328,
          11347637248,
          11141987328,
          12083543040,
          15553826816,
          16222109696,
          13899237376,
          14786003968,
          15059065856
         ]
        },
        {
         "groupnorm": "percent",
         "mode": "lines",
         "name": "Public order and safety",
         "stackgroup": "one",
         "type": "scatter",
         "x": [
          1980,
          1981,
          1982,
          1983,
          1984,
          1985,
          1986,
          1987,
          1988,
          1989,
          1990,
          1991,
          1992,
          1993,
          1994,
          1995,
          1996,
          1997,
          1998,
          1999,
          2000,
          2001,
          2002,
          2003,
          2004,
          2005,
          2006,
          2007,
          2008,
          2009,
          2010,
          2011,
          2012,
          2013,
          2014,
          2015,
          2016,
          2017,
          2018,
          2019,
          2020,
          2021,
          2022,
          2023
         ],
         "y": [
          11116888064,
          11428291584,
          15104231424,
          14468812800,
          15551440896,
          15009637376,
          15399467008,
          14070816768,
          14063657984,
          15348347904,
          17625044992,
          18855913472,
          18921271296,
          17475553280,
          18073128960,
          17737263104,
          18273687552,
          18685306880,
          19913279488,
          20280776704,
          24275402752,
          23106101248,
          23306760192,
          26020857856,
          27545802752,
          25756819456,
          26999558144,
          29065662464,
          36498247680,
          31943784448,
          33386620928,
          34857361408,
          35913252864,
          36442419200,
          37189017600,
          40094277632,
          40921436160,
          41796407296,
          45201543168,
          53644058624,
          55712149504,
          44352827392,
          44747698176,
          45574074368
         ]
        },
        {
         "groupnorm": "percent",
         "mode": "lines",
         "name": "Recreation and culture",
         "stackgroup": "one",
         "type": "scatter",
         "x": [
          1980,
          1981,
          1982,
          1983,
          1984,
          1985,
          1986,
          1987,
          1988,
          1989,
          1990,
          1991,
          1992,
          1993,
          1994,
          1995,
          1996,
          1997,
          1998,
          1999,
          2000,
          2001,
          2002,
          2003,
          2004,
          2005,
          2006,
          2007,
          2008,
          2009,
          2010,
          2011,
          2012,
          2013,
          2014,
          2015,
          2016,
          2017,
          2018,
          2019,
          2020,
          2021,
          2022,
          2023
         ],
         "y": [
          5837565440,
          6001086464,
          7931352064,
          7597688320,
          8166184448,
          7881680384,
          8086382080,
          7388696576,
          7384937472,
          8059538944,
          9255051264,
          9901390848,
          9935710208,
          9176549376,
          9490342912,
          9313978368,
          9595657216,
          9811801088,
          10456622080,
          10649595904,
          13471008768,
          13298520064,
          12166798336,
          13138029568,
          14175365120,
          13008425984,
          13968256000,
          14175160320,
          17960728576,
          15708403712,
          17007071232,
          17540478976,
          17709965312,
          17680855040,
          18109313024,
          18514915328,
          19459780608,
          19016613888,
          21385734144,
          23939872768,
          24295944192,
          19151808512,
          19054569472,
          19406462976
         ]
        },
        {
         "groupnorm": "percent",
         "mode": "lines",
         "name": "Social protection",
         "stackgroup": "one",
         "type": "scatter",
         "x": [
          1980,
          1981,
          1982,
          1983,
          1984,
          1985,
          1986,
          1987,
          1988,
          1989,
          1990,
          1991,
          1992,
          1993,
          1994,
          1995,
          1996,
          1997,
          1998,
          1999,
          2000,
          2001,
          2002,
          2003,
          2004,
          2005,
          2006,
          2007,
          2008,
          2009,
          2010,
          2011,
          2012,
          2013,
          2014,
          2015,
          2016,
          2017,
          2018,
          2019,
          2020,
          2021,
          2022,
          2023
         ],
         "y": [
          54600658944,
          56207466496,
          56544063488,
          64654942208,
          69887549440,
          72243118080,
          73009438720,
          75767177216,
          73700065280,
          74719952896,
          79973572608,
          89832833024,
          97388306432,
          104753848320,
          107414994944,
          112261423104,
          115969810432,
          116128661504,
          128037658624,
          130272296960,
          134722125824,
          151407460352,
          153009225728,
          153561071616,
          165310185472,
          165647155200,
          165940477952,
          169822896128,
          170633150464,
          206857043968,
          186730659840,
          188312207360,
          197803491328,
          205845577728,
          215009050624,
          228232151040,
          235660558336,
          230693601280,
          230577209344,
          232122449920,
          263320829952,
          290135015424,
          272518414336,
          277551120384
         ]
        }
       ],
       "layout": {
        "template": {
         "data": {
          "bar": [
           {
            "error_x": {
             "color": "#f2f5fa"
            },
            "error_y": {
             "color": "#f2f5fa"
            },
            "marker": {
             "line": {
              "color": "rgb(17,17,17)",
              "width": 0.5
             },
             "pattern": {
              "fillmode": "overlay",
              "size": 10,
              "solidity": 0.2
             }
            },
            "type": "bar"
           }
          ],
          "barpolar": [
           {
            "marker": {
             "line": {
              "color": "rgb(17,17,17)",
              "width": 0.5
             },
             "pattern": {
              "fillmode": "overlay",
              "size": 10,
              "solidity": 0.2
             }
            },
            "type": "barpolar"
           }
          ],
          "carpet": [
           {
            "aaxis": {
             "endlinecolor": "#A2B1C6",
             "gridcolor": "#506784",
             "linecolor": "#506784",
             "minorgridcolor": "#506784",
             "startlinecolor": "#A2B1C6"
            },
            "baxis": {
             "endlinecolor": "#A2B1C6",
             "gridcolor": "#506784",
             "linecolor": "#506784",
             "minorgridcolor": "#506784",
             "startlinecolor": "#A2B1C6"
            },
            "type": "carpet"
           }
          ],
          "choropleth": [
           {
            "colorbar": {
             "outlinewidth": 0,
             "ticks": ""
            },
            "type": "choropleth"
           }
          ],
          "contour": [
           {
            "colorbar": {
             "outlinewidth": 0,
             "ticks": ""
            },
            "colorscale": [
             [
              0,
              "#0d0887"
             ],
             [
              0.1111111111111111,
              "#46039f"
             ],
             [
              0.2222222222222222,
              "#7201a8"
             ],
             [
              0.3333333333333333,
              "#9c179e"
             ],
             [
              0.4444444444444444,
              "#bd3786"
             ],
             [
              0.5555555555555556,
              "#d8576b"
             ],
             [
              0.6666666666666666,
              "#ed7953"
             ],
             [
              0.7777777777777778,
              "#fb9f3a"
             ],
             [
              0.8888888888888888,
              "#fdca26"
             ],
             [
              1,
              "#f0f921"
             ]
            ],
            "type": "contour"
           }
          ],
          "contourcarpet": [
           {
            "colorbar": {
             "outlinewidth": 0,
             "ticks": ""
            },
            "type": "contourcarpet"
           }
          ],
          "heatmap": [
           {
            "colorbar": {
             "outlinewidth": 0,
             "ticks": ""
            },
            "colorscale": [
             [
              0,
              "#0d0887"
             ],
             [
              0.1111111111111111,
              "#46039f"
             ],
             [
              0.2222222222222222,
              "#7201a8"
             ],
             [
              0.3333333333333333,
              "#9c179e"
             ],
             [
              0.4444444444444444,
              "#bd3786"
             ],
             [
              0.5555555555555556,
              "#d8576b"
             ],
             [
              0.6666666666666666,
              "#ed7953"
             ],
             [
              0.7777777777777778,
              "#fb9f3a"
             ],
             [
              0.8888888888888888,
              "#fdca26"
             ],
             [
              1,
              "#f0f921"
             ]
            ],
            "type": "heatmap"
           }
          ],
          "heatmapgl": [
           {
            "colorbar": {
             "outlinewidth": 0,
             "ticks": ""
            },
            "colorscale": [
             [
              0,
              "#0d0887"
             ],
             [
              0.1111111111111111,
              "#46039f"
             ],
             [
              0.2222222222222222,
              "#7201a8"
             ],
             [
              0.3333333333333333,
              "#9c179e"
             ],
             [
              0.4444444444444444,
              "#bd3786"
             ],
             [
              0.5555555555555556,
              "#d8576b"
             ],
             [
              0.6666666666666666,
              "#ed7953"
             ],
             [
              0.7777777777777778,
              "#fb9f3a"
             ],
             [
              0.8888888888888888,
              "#fdca26"
             ],
             [
              1,
              "#f0f921"
             ]
            ],
            "type": "heatmapgl"
           }
          ],
          "histogram": [
           {
            "marker": {
             "pattern": {
              "fillmode": "overlay",
              "size": 10,
              "solidity": 0.2
             }
            },
            "type": "histogram"
           }
          ],
          "histogram2d": [
           {
            "colorbar": {
             "outlinewidth": 0,
             "ticks": ""
            },
            "colorscale": [
             [
              0,
              "#0d0887"
             ],
             [
              0.1111111111111111,
              "#46039f"
             ],
             [
              0.2222222222222222,
              "#7201a8"
             ],
             [
              0.3333333333333333,
              "#9c179e"
             ],
             [
              0.4444444444444444,
              "#bd3786"
             ],
             [
              0.5555555555555556,
              "#d8576b"
             ],
             [
              0.6666666666666666,
              "#ed7953"
             ],
             [
              0.7777777777777778,
              "#fb9f3a"
             ],
             [
              0.8888888888888888,
              "#fdca26"
             ],
             [
              1,
              "#f0f921"
             ]
            ],
            "type": "histogram2d"
           }
          ],
          "histogram2dcontour": [
           {
            "colorbar": {
             "outlinewidth": 0,
             "ticks": ""
            },
            "colorscale": [
             [
              0,
              "#0d0887"
             ],
             [
              0.1111111111111111,
              "#46039f"
             ],
             [
              0.2222222222222222,
              "#7201a8"
             ],
             [
              0.3333333333333333,
              "#9c179e"
             ],
             [
              0.4444444444444444,
              "#bd3786"
             ],
             [
              0.5555555555555556,
              "#d8576b"
             ],
             [
              0.6666666666666666,
              "#ed7953"
             ],
             [
              0.7777777777777778,
              "#fb9f3a"
             ],
             [
              0.8888888888888888,
              "#fdca26"
             ],
             [
              1,
              "#f0f921"
             ]
            ],
            "type": "histogram2dcontour"
           }
          ],
          "mesh3d": [
           {
            "colorbar": {
             "outlinewidth": 0,
             "ticks": ""
            },
            "type": "mesh3d"
           }
          ],
          "parcoords": [
           {
            "line": {
             "colorbar": {
              "outlinewidth": 0,
              "ticks": ""
             }
            },
            "type": "parcoords"
           }
          ],
          "pie": [
           {
            "automargin": true,
            "type": "pie"
           }
          ],
          "scatter": [
           {
            "marker": {
             "line": {
              "color": "#283442"
             }
            },
            "type": "scatter"
           }
          ],
          "scatter3d": [
           {
            "line": {
             "colorbar": {
              "outlinewidth": 0,
              "ticks": ""
             }
            },
            "marker": {
             "colorbar": {
              "outlinewidth": 0,
              "ticks": ""
             }
            },
            "type": "scatter3d"
           }
          ],
          "scattercarpet": [
           {
            "marker": {
             "colorbar": {
              "outlinewidth": 0,
              "ticks": ""
             }
            },
            "type": "scattercarpet"
           }
          ],
          "scattergeo": [
           {
            "marker": {
             "colorbar": {
              "outlinewidth": 0,
              "ticks": ""
             }
            },
            "type": "scattergeo"
           }
          ],
          "scattergl": [
           {
            "marker": {
             "line": {
              "color": "#283442"
             }
            },
            "type": "scattergl"
           }
          ],
          "scattermapbox": [
           {
            "marker": {
             "colorbar": {
              "outlinewidth": 0,
              "ticks": ""
             }
            },
            "type": "scattermapbox"
           }
          ],
          "scatterpolar": [
           {
            "marker": {
             "colorbar": {
              "outlinewidth": 0,
              "ticks": ""
             }
            },
            "type": "scatterpolar"
           }
          ],
          "scatterpolargl": [
           {
            "marker": {
             "colorbar": {
              "outlinewidth": 0,
              "ticks": ""
             }
            },
            "type": "scatterpolargl"
           }
          ],
          "scatterternary": [
           {
            "marker": {
             "colorbar": {
              "outlinewidth": 0,
              "ticks": ""
             }
            },
            "type": "scatterternary"
           }
          ],
          "surface": [
           {
            "colorbar": {
             "outlinewidth": 0,
             "ticks": ""
            },
            "colorscale": [
             [
              0,
              "#0d0887"
             ],
             [
              0.1111111111111111,
              "#46039f"
             ],
             [
              0.2222222222222222,
              "#7201a8"
             ],
             [
              0.3333333333333333,
              "#9c179e"
             ],
             [
              0.4444444444444444,
              "#bd3786"
             ],
             [
              0.5555555555555556,
              "#d8576b"
             ],
             [
              0.6666666666666666,
              "#ed7953"
             ],
             [
              0.7777777777777778,
              "#fb9f3a"
             ],
             [
              0.8888888888888888,
              "#fdca26"
             ],
             [
              1,
              "#f0f921"
             ]
            ],
            "type": "surface"
           }
          ],
          "table": [
           {
            "cells": {
             "fill": {
              "color": "#506784"
             },
             "line": {
              "color": "rgb(17,17,17)"
             }
            },
            "header": {
             "fill": {
              "color": "#2a3f5f"
             },
             "line": {
              "color": "rgb(17,17,17)"
             }
            },
            "type": "table"
           }
          ]
         },
         "layout": {
          "annotationdefaults": {
           "arrowcolor": "#f2f5fa",
           "arrowhead": 0,
           "arrowwidth": 1
          },
          "autotypenumbers": "strict",
          "coloraxis": {
           "colorbar": {
            "outlinewidth": 0,
            "ticks": ""
           }
          },
          "colorscale": {
           "diverging": [
            [
             0,
             "#8e0152"
            ],
            [
             0.1,
             "#c51b7d"
            ],
            [
             0.2,
             "#de77ae"
            ],
            [
             0.3,
             "#f1b6da"
            ],
            [
             0.4,
             "#fde0ef"
            ],
            [
             0.5,
             "#f7f7f7"
            ],
            [
             0.6,
             "#e6f5d0"
            ],
            [
             0.7,
             "#b8e186"
            ],
            [
             0.8,
             "#7fbc41"
            ],
            [
             0.9,
             "#4d9221"
            ],
            [
             1,
             "#276419"
            ]
           ],
           "sequential": [
            [
             0,
             "#0d0887"
            ],
            [
             0.1111111111111111,
             "#46039f"
            ],
            [
             0.2222222222222222,
             "#7201a8"
            ],
            [
             0.3333333333333333,
             "#9c179e"
            ],
            [
             0.4444444444444444,
             "#bd3786"
            ],
            [
             0.5555555555555556,
             "#d8576b"
            ],
            [
             0.6666666666666666,
             "#ed7953"
            ],
            [
             0.7777777777777778,
             "#fb9f3a"
            ],
            [
             0.8888888888888888,
             "#fdca26"
            ],
            [
             1,
             "#f0f921"
            ]
           ],
           "sequentialminus": [
            [
             0,
             "#0d0887"
            ],
            [
             0.1111111111111111,
             "#46039f"
            ],
            [
             0.2222222222222222,
             "#7201a8"
            ],
            [
             0.3333333333333333,
             "#9c179e"
            ],
            [
             0.4444444444444444,
             "#bd3786"
            ],
            [
             0.5555555555555556,
             "#d8576b"
            ],
            [
             0.6666666666666666,
             "#ed7953"
            ],
            [
             0.7777777777777778,
             "#fb9f3a"
            ],
            [
             0.8888888888888888,
             "#fdca26"
            ],
            [
             1,
             "#f0f921"
            ]
           ]
          },
          "colorway": [
           "#636efa",
           "#EF553B",
           "#00cc96",
           "#ab63fa",
           "#FFA15A",
           "#19d3f3",
           "#FF6692",
           "#B6E880",
           "#FF97FF",
           "#FECB52"
          ],
          "font": {
           "color": "#f2f5fa"
          },
          "geo": {
           "bgcolor": "rgb(17,17,17)",
           "lakecolor": "rgb(17,17,17)",
           "landcolor": "rgb(17,17,17)",
           "showlakes": true,
           "showland": true,
           "subunitcolor": "#506784"
          },
          "hoverlabel": {
           "align": "left"
          },
          "hovermode": "closest",
          "mapbox": {
           "style": "dark"
          },
          "paper_bgcolor": "rgb(17,17,17)",
          "plot_bgcolor": "rgb(17,17,17)",
          "polar": {
           "angularaxis": {
            "gridcolor": "#506784",
            "linecolor": "#506784",
            "ticks": ""
           },
           "bgcolor": "rgb(17,17,17)",
           "radialaxis": {
            "gridcolor": "#506784",
            "linecolor": "#506784",
            "ticks": ""
           }
          },
          "scene": {
           "xaxis": {
            "backgroundcolor": "rgb(17,17,17)",
            "gridcolor": "#506784",
            "gridwidth": 2,
            "linecolor": "#506784",
            "showbackground": true,
            "ticks": "",
            "zerolinecolor": "#C8D4E3"
           },
           "yaxis": {
            "backgroundcolor": "rgb(17,17,17)",
            "gridcolor": "#506784",
            "gridwidth": 2,
            "linecolor": "#506784",
            "showbackground": true,
            "ticks": "",
            "zerolinecolor": "#C8D4E3"
           },
           "zaxis": {
            "backgroundcolor": "rgb(17,17,17)",
            "gridcolor": "#506784",
            "gridwidth": 2,
            "linecolor": "#506784",
            "showbackground": true,
            "ticks": "",
            "zerolinecolor": "#C8D4E3"
           }
          },
          "shapedefaults": {
           "line": {
            "color": "#f2f5fa"
           }
          },
          "sliderdefaults": {
           "bgcolor": "#C8D4E3",
           "bordercolor": "rgb(17,17,17)",
           "borderwidth": 1,
           "tickwidth": 0
          },
          "ternary": {
           "aaxis": {
            "gridcolor": "#506784",
            "linecolor": "#506784",
            "ticks": ""
           },
           "baxis": {
            "gridcolor": "#506784",
            "linecolor": "#506784",
            "ticks": ""
           },
           "bgcolor": "rgb(17,17,17)",
           "caxis": {
            "gridcolor": "#506784",
            "linecolor": "#506784",
            "ticks": ""
           }
          },
          "title": {
           "x": 0.05
          },
          "updatemenudefaults": {
           "bgcolor": "#506784",
           "borderwidth": 0
          },
          "xaxis": {
           "automargin": true,
           "gridcolor": "#283442",
           "linecolor": "#506784",
           "ticks": "",
           "title": {
            "standoff": 15
           },
           "zerolinecolor": "#283442",
           "zerolinewidth": 2
          },
          "yaxis": {
           "automargin": true,
           "gridcolor": "#283442",
           "linecolor": "#506784",
           "ticks": "",
           "title": {
            "standoff": 15
           },
           "zerolinecolor": "#283442",
           "zerolinewidth": 2
          }
         }
        },
        "title": {
         "text": "Share of public spending"
        }
       }
      }
     },
     "metadata": {},
     "output_type": "display_data"
    }
   ],
   "source": [
    "fig = go.Figure()\n",
    "\n",
    "for _, group in a.groupby('shortname'):\n",
    "\n",
    "    if len(group['variable'].unique()) > 1:\n",
    "        group = group[group['variable'] == group['variable'].unique()[0]]\n",
    "\n",
    "    name = group['shortname'].unique()[0]\n",
    "    fig.add_trace(\n",
    "        go.Scatter(\n",
    "            x=group['year'],\n",
    "            y=group['value'],\n",
    "            name=name,\n",
    "            mode='lines',\n",
    "            stackgroup='one',\n",
    "            groupnorm='percent'\n",
    "        )\n",
    "    )\n",
    "\n",
    "fig.update_layout(\n",
    "    title='Share of public spending'\n",
    ")\n",
    "\n",
    "fig.show()"
   ]
  },
  {
   "cell_type": "code",
   "execution_count": 436,
   "metadata": {},
   "outputs": [
    {
     "data": {
      "application/vnd.plotly.v1+json": {
       "config": {
        "plotlyServerURL": "https://plot.ly"
       },
       "data": [
        {
         "mode": "lines+markers",
         "name": "Defense",
         "type": "scatter",
         "x": [
          1980,
          1981,
          1982,
          1983,
          1984,
          1985,
          1986,
          1987,
          1988,
          1989,
          1990,
          1991,
          1992,
          1993,
          1994,
          1995,
          1996,
          1997,
          1998,
          1999,
          2000,
          2001,
          2002,
          2003,
          2004,
          2005,
          2006,
          2007,
          2008,
          2009,
          2010,
          2011,
          2012,
          2013,
          2014,
          2015,
          2016,
          2017,
          2018,
          2019,
          2020,
          2021,
          2022,
          2023
         ],
         "y": [
          825.7756836921814,
          835.942859670072,
          1085.8362796653664,
          1026.0188006968149,
          1089.630252170961,
          1037.7518640371434,
          1049.41405325767,
          944.3962273687068,
          928.5976809811468,
          996.4116353490957,
          1127.4043225459545,
          1190.8621231753973,
          1181.6851739280555,
          1081.7306536028063,
          1107.9978837961462,
          1075.3635623937996,
          1094.5185702511312,
          1107.1282564324222,
          1168.1855931430969,
          1176.7995363024886,
          1339.8101812189752,
          1215.7713728477552,
          1191.482364744981,
          1420.3257900554122,
          1312.8466207475326,
          1264.6634298208382,
          1339.8215325378762,
          1391.7837379610596,
          1620.9028475849843,
          1516.5621231355674,
          1564.020280186549,
          1536.5152080409582,
          1516.3971159421221,
          1530.6241040947511,
          1586.2492952166745,
          1714.4884381551917,
          1800.3115814345467,
          1821.703662246142,
          1875.013621359552,
          2216.6778283879826,
          2391.3069171782795,
          1852.2754987521698,
          1900.4788476779834,
          1916.4173144251533
         ]
        },
        {
         "mode": "lines+markers",
         "name": "Economic affairs",
         "type": "scatter",
         "x": [
          1980,
          1981,
          1982,
          1983,
          1984,
          1985,
          1986,
          1987,
          1988,
          1989,
          1990,
          1991,
          1992,
          1993,
          1994,
          1995,
          1996,
          1997,
          1998,
          1999,
          2000,
          2001,
          2002,
          2003,
          2004,
          2005,
          2006,
          2007,
          2008,
          2009,
          2010,
          2011,
          2012,
          2013,
          2014,
          2015,
          2016,
          2017,
          2018,
          2019,
          2020,
          2021,
          2022,
          2023
         ],
         "y": [
          2191.343566225956,
          2218.3241270339054,
          2881.461341876222,
          2722.7251281582217,
          2891.529114071275,
          2753.860616891787,
          2784.8079653647223,
          2506.1249303825152,
          2464.200212869894,
          2644.157148960749,
          2991.769166688934,
          3160.165955683036,
          3135.813481087053,
          2870.5658871931014,
          2940.2707653626403,
          2853.669939519737,
          2904.501406026206,
          2937.9630991350664,
          3099.9895922006854,
          3122.848300236484,
          3308.832263008465,
          2963.1724794070738,
          3009.5512224797785,
          3192.2262442828583,
          3280.0930795101644,
          2956.0362419415046,
          3107.6969066400093,
          3205.1329374039915,
          4140.747932757371,
          3621.920069623094,
          3771.7073441737493,
          3567.17799909257,
          3796.859818972456,
          3765.6179660342427,
          3956.2363205582037,
          3956.8713688996268,
          3732.4917870705717,
          3752.899766900146,
          4152.9170358368065,
          4773.632719208407,
          7570.520653981873,
          7223.414092717181,
          4760.674200283901,
          4800.600031249107
         ]
        },
        {
         "mode": "lines+markers",
         "name": "Education",
         "type": "scatter",
         "x": [
          1980,
          1981,
          1982,
          1983,
          1984,
          1985,
          1986,
          1987,
          1988,
          1989,
          1990,
          1991,
          1992,
          1993,
          1994,
          1995,
          1996,
          1997,
          1998,
          1999,
          2000,
          2001,
          2002,
          2003,
          2004,
          2005,
          2006,
          2007,
          2008,
          2009,
          2010,
          2011,
          2012,
          2013,
          2014,
          2015,
          2016,
          2017,
          2018,
          2019,
          2020,
          2021,
          2022,
          2023
         ],
         "y": [
          2788.0145733114596,
          2793.8405265337465,
          2712.757118874581,
          2657.41997231034,
          2763.2117717566753,
          2861.0106169677924,
          2842.035900077099,
          2801.468613443513,
          2802.188958686836,
          2759.7173244672904,
          2718.3257140526575,
          2751.934667111316,
          2723.531774191749,
          3297.7042512739577,
          3235.046880654864,
          3251.6267585647047,
          3399.44792183077,
          3450.0429990994426,
          3521.750326318559,
          3578.030052735811,
          3594.8806446144113,
          3992.403699751296,
          4164.535563351203,
          4222.139415580665,
          4303.722476037141,
          4469.247815366963,
          4452.813445780507,
          4367.113000994545,
          4356.903831716198,
          4610.133454006479,
          5529.7973471921205,
          5477.051273355839,
          5019.293825209803,
          5081.0435803334285,
          4989.91078316358,
          5061.082669794672,
          5158.095534525904,
          5104.441950883233,
          5252.262230482718,
          5287.687715724641,
          5666.0808923152035,
          5530.375031887108,
          5369.923060800361,
          5414.957066359278
         ]
        },
        {
         "mode": "lines+markers",
         "name": "Environmental protection",
         "type": "scatter",
         "x": [
          1980,
          1981,
          1982,
          1983,
          1984,
          1985,
          1986,
          1987,
          1988,
          1989,
          1990,
          1991,
          1992,
          1993,
          1994,
          1995,
          1996,
          1997,
          1998,
          1999,
          2000,
          2001,
          2002,
          2003,
          2004,
          2005,
          2006,
          2007,
          2008,
          2009,
          2010,
          2011,
          2012,
          2013,
          2014,
          2015,
          2016,
          2017,
          2018,
          2019,
          2020,
          2021,
          2022,
          2023
         ],
         "y": [
          228.165451997216,
          230.97467336225463,
          300.0213871652641,
          283.4934538484885,
          301.0696415540248,
          286.7353804510577,
          289.957694768812,
          260.94085086984813,
          256.57559167692744,
          275.31292100778285,
          311.50674427991396,
          329.04039218617686,
          326.50478621471296,
          298.8869050346338,
          306.1446607300634,
          297.1276470459512,
          302.4202833429914,
          305.9043922020023,
          322.7747894621892,
          325.154846646847,
          367.7611116033474,
          329.1944905396976,
          339.82054873992126,
          387.8285952497617,
          383.58427835395486,
          399.2711010701178,
          425.1158264113294,
          480.5492859434457,
          592.3757777410809,
          557.4832604965605,
          641.147516288992,
          742.5430848239017,
          860.0072054808961,
          903.2627572304845,
          906.3266081370632,
          724.2802066746965,
          744.4503570756243,
          762.3399937047509,
          815.0135429134822,
          925.1655683365511,
          961.4453417524046,
          754.1545732727756,
          739.4092736453147,
          745.6102818938652
         ]
        },
        {
         "mode": "lines+markers",
         "name": "Health",
         "type": "scatter",
         "x": [
          1980,
          1981,
          1982,
          1983,
          1984,
          1985,
          1986,
          1987,
          1988,
          1989,
          1990,
          1991,
          1992,
          1993,
          1994,
          1995,
          1996,
          1997,
          1998,
          1999,
          2000,
          2001,
          2002,
          2003,
          2004,
          2005,
          2006,
          2007,
          2008,
          2009,
          2010,
          2011,
          2012,
          2013,
          2014,
          2015,
          2016,
          2017,
          2018,
          2019,
          2020,
          2021,
          2022,
          2023
         ],
         "y": [
          2094.5852619017874,
          2153.275356725005,
          1734.9371895754857,
          1817.1949626439052,
          2022.0522191143416,
          2725.888872730663,
          2738.7827984779956,
          2830.291691635093,
          2863.370679361758,
          2854.4942368500933,
          2835.045357057972,
          2871.7260658332348,
          3012.569089062161,
          3175.6792851955065,
          3299.7707212188975,
          3432.6818372927964,
          3466.191662368029,
          3630.078323351356,
          3745.4425361186063,
          4171.3956504118805,
          4096.983274091559,
          4246.7141001045875,
          4479.425591824864,
          4613.728136428167,
          4763.560525250891,
          5089.3078786751785,
          5148.262567156974,
          5197.5729968596515,
          5301.087660951361,
          5487.565751489755,
          5770.793313468063,
          5888.222126171396,
          6187.401652234264,
          6167.348408385026,
          6160.371576934054,
          6309.54594506297,
          6616.0992132915535,
          6849.860705863144,
          6814.311663833936,
          6704.04751422446,
          7033.612898552237,
          7513.650967165786,
          7690.432493505907,
          7754.926570498272
         ]
        },
        {
         "mode": "lines+markers",
         "name": "Housing and community amenities",
         "type": "scatter",
         "x": [
          1980,
          1981,
          1982,
          1983,
          1984,
          1985,
          1986,
          1987,
          1988,
          1989,
          1990,
          1991,
          1992,
          1993,
          1994,
          1995,
          1996,
          1997,
          1998,
          1999,
          2000,
          2001,
          2002,
          2003,
          2004,
          2005,
          2006,
          2007,
          2008,
          2009,
          2010,
          2011,
          2012,
          2013,
          2014,
          2015,
          2016,
          2017,
          2018,
          2019,
          2020,
          2021,
          2022,
          2023
         ],
         "y": [
          358.2954005333386,
          362.7068251843096,
          471.1329556217045,
          445.1787479783638,
          472.77910259778446,
          450.26964453198036,
          455.3297616795737,
          409.76363097746577,
          402.90875411107703,
          432.33252989577517,
          489.168871631083,
          516.7026053405582,
          512.7208105209588,
          469.3515470086207,
          480.7486059900251,
          466.5889564841358,
          474.9001321114284,
          480.371369823553,
          506.8634862000354,
          510.60091948528896,
          552.27753717759,
          408.14199794850254,
          420.3144596031538,
          452.0386547419602,
          480.821737041233,
          450.6558000844929,
          491.81313156552113,
          503.5692020913381,
          678.6816545884859,
          587.2436067458759,
          630.1677896671848,
          573.3999182811979,
          485.60463148643095,
          474.49231349546227,
          476.55578893560465,
          504.06304698027475,
          468.87970727219806,
          452.9939686114097,
          483.62574532771606,
          613.2401906498794,
          631.7929234997492,
          536.0828374423573,
          564.7006349576868,
          569.4365380708955
         ]
        },
        {
         "mode": "lines+markers",
         "name": "Public order and safety",
         "type": "scatter",
         "x": [
          1980,
          1981,
          1982,
          1983,
          1984,
          1985,
          1986,
          1987,
          1988,
          1989,
          1990,
          1991,
          1992,
          1993,
          1994,
          1995,
          1996,
          1997,
          1998,
          1999,
          2000,
          2001,
          2002,
          2003,
          2004,
          2005,
          2006,
          2007,
          2008,
          2009,
          2010,
          2011,
          2012,
          2013,
          2014,
          2015,
          2016,
          2017,
          2018,
          2019,
          2020,
          2021,
          2022,
          2023
         ],
         "y": [
          756.4898777545777,
          765.803958652466,
          994.7303560064586,
          939.9317321004644,
          998.2059565742974,
          950.6803118661451,
          961.364123520837,
          865.1577581085539,
          850.6846401959235,
          912.8088602066227,
          1032.810594330145,
          1090.943890188611,
          1082.5371258110258,
          990.9692966319792,
          1015.0325147308681,
          985.1363149172541,
          1002.6842895714387,
          1014.2359742316102,
          1070.170070870028,
          1078.0614552294185,
          1275.7189208232867,
          1198.7787124687434,
          1195.512138212412,
          1319.4668057284066,
          1381.938841669492,
          1276.5534320431877,
          1320.209428933577,
          1395.5343756478776,
          1717.6293412283446,
          1472.6302531208664,
          1515.386700012482,
          1560.3099355667657,
          1580.1149029749492,
          1576.4064816977689,
          1584.176457808846,
          1682.7921998962313,
          1690.8569236508204,
          1699.2947359699167,
          1809.124189173818,
          2115.022439620757,
          2169.7881760882447,
          1710.654254883809,
          1708.9846335473487,
          1723.3169296194794
         ]
        },
        {
         "mode": "lines+markers",
         "name": "Recreation and culture",
         "type": "scatter",
         "x": [
          1980,
          1981,
          1982,
          1983,
          1984,
          1985,
          1986,
          1987,
          1988,
          1989,
          1990,
          1991,
          1992,
          1993,
          1994,
          1995,
          1996,
          1997,
          1998,
          1999,
          2000,
          2001,
          2002,
          2003,
          2004,
          2005,
          2006,
          2007,
          2008,
          2009,
          2010,
          2011,
          2012,
          2013,
          2014,
          2015,
          2016,
          2017,
          2018,
          2019,
          2020,
          2021,
          2022,
          2023
         ],
         "y": [
          397.23879026816365,
          402.1297266146941,
          522.3408223009017,
          493.5656049525409,
          524.1658321560836,
          499.2098195171213,
          504.8199146603739,
          454.3011447334135,
          446.7011984637946,
          479.3231560346788,
          542.3370550751216,
          572.86335483217,
          568.4488638843937,
          520.3657094537123,
          533.0015988346951,
          517.3029386140937,
          526.5174153392469,
          532.5832591010917,
          561.9548502374086,
          566.0985782466162,
          707.9273181779914,
          689.9468927689203,
          624.0916787251842,
          666.2037817349321,
          711.1605289031774,
          644.7205511426862,
          683.0120396268812,
          680.5942761972539,
          845.2426171922998,
          724.1681264217162,
          771.9346503114823,
          785.1593613328258,
          779.2048307802262,
          764.8288752195316,
          771.4198763807066,
          777.0873285625871,
          804.0701368620482,
          773.1485543003455,
          855.9320375269989,
          943.8765336695244,
          946.2397861873288,
          738.6704443938588,
          727.7238328199369,
          733.8269982298727
         ]
        },
        {
         "mode": "lines+markers",
         "name": "Social protection",
         "type": "scatter",
         "x": [
          1980,
          1981,
          1982,
          1983,
          1984,
          1985,
          1986,
          1987,
          1988,
          1989,
          1990,
          1991,
          1992,
          1993,
          1994,
          1995,
          1996,
          1997,
          1998,
          1999,
          2000,
          2001,
          2002,
          2003,
          2004,
          2005,
          2006,
          2007,
          2008,
          2009,
          2010,
          2011,
          2012,
          2013,
          2014,
          2015,
          2016,
          2017,
          2018,
          2019,
          2020,
          2021,
          2022,
          2023
         ],
         "y": [
          3715.504336472012,
          3766.433506887905,
          3723.863520397159,
          4200.153299268677,
          4485.897390982741,
          4575.734130412421,
          4557.86262130619,
          4658.618064552148,
          4457.980532978017,
          4443.80303758394,
          4686.374025908273,
          5197.44537815126,
          5571.848512884444,
          5940.17515359396,
          6032.6970874340395,
          6235.054642624151,
          6363.308262432107,
          6303.4483133264075,
          6880.939439746719,
          6924.860131667299,
          7079.905809309488,
          7855.243012693167,
          7848.554887482617,
          7786.781580019043,
          8293.407466978168,
          8209.7653726222,
          8114.06551416691,
          8153.734311483087,
          8030.098003411799,
          9536.250831967485,
          8475.525541094103,
          8429.364595132038,
          8702.977858659975,
          8904.356793064964,
          9158.947942049728,
          9579.104705682967,
          9737.397415277901,
          9379.189448050087,
          9228.508091992266,
          9151.88378570782,
          10255.400813543754,
          11190.28318621616,
          10407.904796066208,
          10495.18945201984
         ]
        }
       ],
       "layout": {
        "template": {
         "data": {
          "bar": [
           {
            "error_x": {
             "color": "#f2f5fa"
            },
            "error_y": {
             "color": "#f2f5fa"
            },
            "marker": {
             "line": {
              "color": "rgb(17,17,17)",
              "width": 0.5
             },
             "pattern": {
              "fillmode": "overlay",
              "size": 10,
              "solidity": 0.2
             }
            },
            "type": "bar"
           }
          ],
          "barpolar": [
           {
            "marker": {
             "line": {
              "color": "rgb(17,17,17)",
              "width": 0.5
             },
             "pattern": {
              "fillmode": "overlay",
              "size": 10,
              "solidity": 0.2
             }
            },
            "type": "barpolar"
           }
          ],
          "carpet": [
           {
            "aaxis": {
             "endlinecolor": "#A2B1C6",
             "gridcolor": "#506784",
             "linecolor": "#506784",
             "minorgridcolor": "#506784",
             "startlinecolor": "#A2B1C6"
            },
            "baxis": {
             "endlinecolor": "#A2B1C6",
             "gridcolor": "#506784",
             "linecolor": "#506784",
             "minorgridcolor": "#506784",
             "startlinecolor": "#A2B1C6"
            },
            "type": "carpet"
           }
          ],
          "choropleth": [
           {
            "colorbar": {
             "outlinewidth": 0,
             "ticks": ""
            },
            "type": "choropleth"
           }
          ],
          "contour": [
           {
            "colorbar": {
             "outlinewidth": 0,
             "ticks": ""
            },
            "colorscale": [
             [
              0,
              "#0d0887"
             ],
             [
              0.1111111111111111,
              "#46039f"
             ],
             [
              0.2222222222222222,
              "#7201a8"
             ],
             [
              0.3333333333333333,
              "#9c179e"
             ],
             [
              0.4444444444444444,
              "#bd3786"
             ],
             [
              0.5555555555555556,
              "#d8576b"
             ],
             [
              0.6666666666666666,
              "#ed7953"
             ],
             [
              0.7777777777777778,
              "#fb9f3a"
             ],
             [
              0.8888888888888888,
              "#fdca26"
             ],
             [
              1,
              "#f0f921"
             ]
            ],
            "type": "contour"
           }
          ],
          "contourcarpet": [
           {
            "colorbar": {
             "outlinewidth": 0,
             "ticks": ""
            },
            "type": "contourcarpet"
           }
          ],
          "heatmap": [
           {
            "colorbar": {
             "outlinewidth": 0,
             "ticks": ""
            },
            "colorscale": [
             [
              0,
              "#0d0887"
             ],
             [
              0.1111111111111111,
              "#46039f"
             ],
             [
              0.2222222222222222,
              "#7201a8"
             ],
             [
              0.3333333333333333,
              "#9c179e"
             ],
             [
              0.4444444444444444,
              "#bd3786"
             ],
             [
              0.5555555555555556,
              "#d8576b"
             ],
             [
              0.6666666666666666,
              "#ed7953"
             ],
             [
              0.7777777777777778,
              "#fb9f3a"
             ],
             [
              0.8888888888888888,
              "#fdca26"
             ],
             [
              1,
              "#f0f921"
             ]
            ],
            "type": "heatmap"
           }
          ],
          "heatmapgl": [
           {
            "colorbar": {
             "outlinewidth": 0,
             "ticks": ""
            },
            "colorscale": [
             [
              0,
              "#0d0887"
             ],
             [
              0.1111111111111111,
              "#46039f"
             ],
             [
              0.2222222222222222,
              "#7201a8"
             ],
             [
              0.3333333333333333,
              "#9c179e"
             ],
             [
              0.4444444444444444,
              "#bd3786"
             ],
             [
              0.5555555555555556,
              "#d8576b"
             ],
             [
              0.6666666666666666,
              "#ed7953"
             ],
             [
              0.7777777777777778,
              "#fb9f3a"
             ],
             [
              0.8888888888888888,
              "#fdca26"
             ],
             [
              1,
              "#f0f921"
             ]
            ],
            "type": "heatmapgl"
           }
          ],
          "histogram": [
           {
            "marker": {
             "pattern": {
              "fillmode": "overlay",
              "size": 10,
              "solidity": 0.2
             }
            },
            "type": "histogram"
           }
          ],
          "histogram2d": [
           {
            "colorbar": {
             "outlinewidth": 0,
             "ticks": ""
            },
            "colorscale": [
             [
              0,
              "#0d0887"
             ],
             [
              0.1111111111111111,
              "#46039f"
             ],
             [
              0.2222222222222222,
              "#7201a8"
             ],
             [
              0.3333333333333333,
              "#9c179e"
             ],
             [
              0.4444444444444444,
              "#bd3786"
             ],
             [
              0.5555555555555556,
              "#d8576b"
             ],
             [
              0.6666666666666666,
              "#ed7953"
             ],
             [
              0.7777777777777778,
              "#fb9f3a"
             ],
             [
              0.8888888888888888,
              "#fdca26"
             ],
             [
              1,
              "#f0f921"
             ]
            ],
            "type": "histogram2d"
           }
          ],
          "histogram2dcontour": [
           {
            "colorbar": {
             "outlinewidth": 0,
             "ticks": ""
            },
            "colorscale": [
             [
              0,
              "#0d0887"
             ],
             [
              0.1111111111111111,
              "#46039f"
             ],
             [
              0.2222222222222222,
              "#7201a8"
             ],
             [
              0.3333333333333333,
              "#9c179e"
             ],
             [
              0.4444444444444444,
              "#bd3786"
             ],
             [
              0.5555555555555556,
              "#d8576b"
             ],
             [
              0.6666666666666666,
              "#ed7953"
             ],
             [
              0.7777777777777778,
              "#fb9f3a"
             ],
             [
              0.8888888888888888,
              "#fdca26"
             ],
             [
              1,
              "#f0f921"
             ]
            ],
            "type": "histogram2dcontour"
           }
          ],
          "mesh3d": [
           {
            "colorbar": {
             "outlinewidth": 0,
             "ticks": ""
            },
            "type": "mesh3d"
           }
          ],
          "parcoords": [
           {
            "line": {
             "colorbar": {
              "outlinewidth": 0,
              "ticks": ""
             }
            },
            "type": "parcoords"
           }
          ],
          "pie": [
           {
            "automargin": true,
            "type": "pie"
           }
          ],
          "scatter": [
           {
            "marker": {
             "line": {
              "color": "#283442"
             }
            },
            "type": "scatter"
           }
          ],
          "scatter3d": [
           {
            "line": {
             "colorbar": {
              "outlinewidth": 0,
              "ticks": ""
             }
            },
            "marker": {
             "colorbar": {
              "outlinewidth": 0,
              "ticks": ""
             }
            },
            "type": "scatter3d"
           }
          ],
          "scattercarpet": [
           {
            "marker": {
             "colorbar": {
              "outlinewidth": 0,
              "ticks": ""
             }
            },
            "type": "scattercarpet"
           }
          ],
          "scattergeo": [
           {
            "marker": {
             "colorbar": {
              "outlinewidth": 0,
              "ticks": ""
             }
            },
            "type": "scattergeo"
           }
          ],
          "scattergl": [
           {
            "marker": {
             "line": {
              "color": "#283442"
             }
            },
            "type": "scattergl"
           }
          ],
          "scattermapbox": [
           {
            "marker": {
             "colorbar": {
              "outlinewidth": 0,
              "ticks": ""
             }
            },
            "type": "scattermapbox"
           }
          ],
          "scatterpolar": [
           {
            "marker": {
             "colorbar": {
              "outlinewidth": 0,
              "ticks": ""
             }
            },
            "type": "scatterpolar"
           }
          ],
          "scatterpolargl": [
           {
            "marker": {
             "colorbar": {
              "outlinewidth": 0,
              "ticks": ""
             }
            },
            "type": "scatterpolargl"
           }
          ],
          "scatterternary": [
           {
            "marker": {
             "colorbar": {
              "outlinewidth": 0,
              "ticks": ""
             }
            },
            "type": "scatterternary"
           }
          ],
          "surface": [
           {
            "colorbar": {
             "outlinewidth": 0,
             "ticks": ""
            },
            "colorscale": [
             [
              0,
              "#0d0887"
             ],
             [
              0.1111111111111111,
              "#46039f"
             ],
             [
              0.2222222222222222,
              "#7201a8"
             ],
             [
              0.3333333333333333,
              "#9c179e"
             ],
             [
              0.4444444444444444,
              "#bd3786"
             ],
             [
              0.5555555555555556,
              "#d8576b"
             ],
             [
              0.6666666666666666,
              "#ed7953"
             ],
             [
              0.7777777777777778,
              "#fb9f3a"
             ],
             [
              0.8888888888888888,
              "#fdca26"
             ],
             [
              1,
              "#f0f921"
             ]
            ],
            "type": "surface"
           }
          ],
          "table": [
           {
            "cells": {
             "fill": {
              "color": "#506784"
             },
             "line": {
              "color": "rgb(17,17,17)"
             }
            },
            "header": {
             "fill": {
              "color": "#2a3f5f"
             },
             "line": {
              "color": "rgb(17,17,17)"
             }
            },
            "type": "table"
           }
          ]
         },
         "layout": {
          "annotationdefaults": {
           "arrowcolor": "#f2f5fa",
           "arrowhead": 0,
           "arrowwidth": 1
          },
          "autotypenumbers": "strict",
          "coloraxis": {
           "colorbar": {
            "outlinewidth": 0,
            "ticks": ""
           }
          },
          "colorscale": {
           "diverging": [
            [
             0,
             "#8e0152"
            ],
            [
             0.1,
             "#c51b7d"
            ],
            [
             0.2,
             "#de77ae"
            ],
            [
             0.3,
             "#f1b6da"
            ],
            [
             0.4,
             "#fde0ef"
            ],
            [
             0.5,
             "#f7f7f7"
            ],
            [
             0.6,
             "#e6f5d0"
            ],
            [
             0.7,
             "#b8e186"
            ],
            [
             0.8,
             "#7fbc41"
            ],
            [
             0.9,
             "#4d9221"
            ],
            [
             1,
             "#276419"
            ]
           ],
           "sequential": [
            [
             0,
             "#0d0887"
            ],
            [
             0.1111111111111111,
             "#46039f"
            ],
            [
             0.2222222222222222,
             "#7201a8"
            ],
            [
             0.3333333333333333,
             "#9c179e"
            ],
            [
             0.4444444444444444,
             "#bd3786"
            ],
            [
             0.5555555555555556,
             "#d8576b"
            ],
            [
             0.6666666666666666,
             "#ed7953"
            ],
            [
             0.7777777777777778,
             "#fb9f3a"
            ],
            [
             0.8888888888888888,
             "#fdca26"
            ],
            [
             1,
             "#f0f921"
            ]
           ],
           "sequentialminus": [
            [
             0,
             "#0d0887"
            ],
            [
             0.1111111111111111,
             "#46039f"
            ],
            [
             0.2222222222222222,
             "#7201a8"
            ],
            [
             0.3333333333333333,
             "#9c179e"
            ],
            [
             0.4444444444444444,
             "#bd3786"
            ],
            [
             0.5555555555555556,
             "#d8576b"
            ],
            [
             0.6666666666666666,
             "#ed7953"
            ],
            [
             0.7777777777777778,
             "#fb9f3a"
            ],
            [
             0.8888888888888888,
             "#fdca26"
            ],
            [
             1,
             "#f0f921"
            ]
           ]
          },
          "colorway": [
           "#636efa",
           "#EF553B",
           "#00cc96",
           "#ab63fa",
           "#FFA15A",
           "#19d3f3",
           "#FF6692",
           "#B6E880",
           "#FF97FF",
           "#FECB52"
          ],
          "font": {
           "color": "#f2f5fa"
          },
          "geo": {
           "bgcolor": "rgb(17,17,17)",
           "lakecolor": "rgb(17,17,17)",
           "landcolor": "rgb(17,17,17)",
           "showlakes": true,
           "showland": true,
           "subunitcolor": "#506784"
          },
          "hoverlabel": {
           "align": "left"
          },
          "hovermode": "closest",
          "mapbox": {
           "style": "dark"
          },
          "paper_bgcolor": "rgb(17,17,17)",
          "plot_bgcolor": "rgb(17,17,17)",
          "polar": {
           "angularaxis": {
            "gridcolor": "#506784",
            "linecolor": "#506784",
            "ticks": ""
           },
           "bgcolor": "rgb(17,17,17)",
           "radialaxis": {
            "gridcolor": "#506784",
            "linecolor": "#506784",
            "ticks": ""
           }
          },
          "scene": {
           "xaxis": {
            "backgroundcolor": "rgb(17,17,17)",
            "gridcolor": "#506784",
            "gridwidth": 2,
            "linecolor": "#506784",
            "showbackground": true,
            "ticks": "",
            "zerolinecolor": "#C8D4E3"
           },
           "yaxis": {
            "backgroundcolor": "rgb(17,17,17)",
            "gridcolor": "#506784",
            "gridwidth": 2,
            "linecolor": "#506784",
            "showbackground": true,
            "ticks": "",
            "zerolinecolor": "#C8D4E3"
           },
           "zaxis": {
            "backgroundcolor": "rgb(17,17,17)",
            "gridcolor": "#506784",
            "gridwidth": 2,
            "linecolor": "#506784",
            "showbackground": true,
            "ticks": "",
            "zerolinecolor": "#C8D4E3"
           }
          },
          "shapedefaults": {
           "line": {
            "color": "#f2f5fa"
           }
          },
          "sliderdefaults": {
           "bgcolor": "#C8D4E3",
           "bordercolor": "rgb(17,17,17)",
           "borderwidth": 1,
           "tickwidth": 0
          },
          "ternary": {
           "aaxis": {
            "gridcolor": "#506784",
            "linecolor": "#506784",
            "ticks": ""
           },
           "baxis": {
            "gridcolor": "#506784",
            "linecolor": "#506784",
            "ticks": ""
           },
           "bgcolor": "rgb(17,17,17)",
           "caxis": {
            "gridcolor": "#506784",
            "linecolor": "#506784",
            "ticks": ""
           }
          },
          "title": {
           "x": 0.05
          },
          "updatemenudefaults": {
           "bgcolor": "#506784",
           "borderwidth": 0
          },
          "xaxis": {
           "automargin": true,
           "gridcolor": "#283442",
           "linecolor": "#506784",
           "ticks": "",
           "title": {
            "standoff": 15
           },
           "zerolinecolor": "#283442",
           "zerolinewidth": 2
          },
          "yaxis": {
           "automargin": true,
           "gridcolor": "#283442",
           "linecolor": "#506784",
           "ticks": "",
           "title": {
            "standoff": 15
           },
           "zerolinecolor": "#283442",
           "zerolinewidth": 2
          }
         }
        },
        "title": {
         "text": "Per capita public spending"
        }
       }
      }
     },
     "metadata": {},
     "output_type": "display_data"
    }
   ],
   "source": [
    "fig = go.Figure()\n",
    "\n",
    "for _, group in a.groupby('shortname'):\n",
    "\n",
    "    if len(group['variable'].unique()) > 1:\n",
    "        group = group[group['variable'] == group['variable'].unique()[0]]\n",
    "        \n",
    "    data = group.merge(total_pop, how='inner', on='year', suffixes=('', '_pop')).merge(fx, how='inner', on='year')\n",
    "    data['per_capita_local'] = data['value'] / data['value_pop']\n",
    "    data['per_capita_usd'] = data['per_capita_local'] / data['local_currency_per_usd']\n",
    "\n",
    "    name = data['shortname'].unique()[0]\n",
    "    fig.add_trace(\n",
    "        go.Scatter(\n",
    "            x=data['year'],\n",
    "            y=data['per_capita_local'],\n",
    "            name=name,\n",
    "            mode='lines+markers'\n",
    "        )\n",
    "    )\n",
    "\n",
    "fig.update_layout(\n",
    "    title='Per capita public spending'\n",
    ")\n",
    "\n",
    "fig.show()"
   ]
  },
  {
   "cell_type": "code",
   "execution_count": 437,
   "metadata": {},
   "outputs": [
    {
     "data": {
      "application/vnd.plotly.v1+json": {
       "config": {
        "plotlyServerURL": "https://plot.ly"
       },
       "data": [
        {
         "name": "Private debt",
         "type": "scatter",
         "x": [
          1977,
          1978,
          1979,
          1980,
          1981,
          1982,
          1983,
          1984,
          1985,
          1986,
          1987,
          1988,
          1989,
          1990,
          1991,
          1992,
          1993,
          1994,
          1995,
          1996,
          1997,
          1998,
          1999,
          2000,
          2001,
          2002,
          2003,
          2004,
          2005,
          2006,
          2007,
          2008,
          2009,
          2010,
          2011,
          2012,
          2013,
          2014,
          2015,
          2016,
          2017,
          2018,
          2019,
          2020,
          2021,
          2022
         ],
         "y": [
          0.2289742639588583,
          0.2568112535532923,
          0.2305470570534922,
          0.2829543035824582,
          0.2863663204198645,
          0.2122871611438083,
          0.2596469613809104,
          0.2542966544571648,
          0.3442602167833594,
          0.3812915178580056,
          0.4497294052692222,
          0.5328245348193216,
          0.5845712200829595,
          0.606706672632144,
          0.618807484198241,
          0.6394523375205678,
          0.6422443447563084,
          0.6736655462947434,
          0.707552545348913,
          0.7467003588469663,
          0.7685545093891257,
          0.8285254706824344,
          0.8717149791099644,
          0.9260287360553842,
          0.9547658125449858,
          1.027220502690567,
          1.127615120976415,
          1.21148658101673,
          1.287543495309873,
          1.338856376993157,
          1.400969901516474,
          1.406039375596412,
          1.389504220087941,
          1.453998081242234,
          1.428859370630683,
          1.428271562733926,
          1.447895004612162,
          1.496735867493753,
          1.57663405649991,
          1.595875591448158,
          1.614857805907601,
          1.617518584116467,
          1.622777361868202,
          1.596272173670322,
          1.539840753473577,
          1.479830222294501
         ]
        },
        {
         "name": "Net private wealth",
         "type": "scatter",
         "x": [
          1959,
          1960,
          1961,
          1962,
          1963,
          1964,
          1965,
          1966,
          1967,
          1968,
          1969,
          1970,
          1971,
          1972,
          1973,
          1974,
          1975,
          1976,
          1977,
          1978,
          1979,
          1980,
          1981,
          1982,
          1983,
          1984,
          1985,
          1986,
          1987,
          1988,
          1989,
          1990,
          1991,
          1992,
          1993,
          1994,
          1995,
          1996,
          1997,
          1998,
          1999,
          2000,
          2001,
          2002,
          2003,
          2004,
          2005,
          2006,
          2007,
          2008,
          2009,
          2010,
          2011,
          2012,
          2013,
          2014,
          2015,
          2016,
          2017,
          2018,
          2019,
          2020,
          2021,
          2022
         ],
         "y": [
          3.513060290230584,
          3.496176059230529,
          3.567326116580632,
          3.801250638945409,
          3.718872569677306,
          3.747148904553121,
          3.745355047121492,
          3.881516481486542,
          3.627259067019509,
          3.660005878262879,
          3.591131480466246,
          3.632949473089644,
          3.739090119804191,
          3.782314409129292,
          3.879052657029839,
          4.016370294458507,
          3.871418026708778,
          3.837342457903972,
          3.739083725657296,
          3.763652495073045,
          3.680940229170442,
          3.759975563788603,
          3.875038660514963,
          3.774864158768299,
          3.819485931083821,
          3.817183396463554,
          3.846974114842295,
          3.820543140786624,
          3.87467049013859,
          4.090812266561801,
          4.261277192480796,
          4.182255513635133,
          4.280333735924766,
          4.357770971095712,
          4.295215609270749,
          4.361372225857152,
          4.316862747812804,
          4.205673171427796,
          4.413798311643358,
          4.398586214702403,
          4.550188452004449,
          4.715802705261379,
          4.839498070788205,
          4.997874952404763,
          5.289960886116229,
          5.572838272676959,
          5.716010281218098,
          5.929099195501515,
          6.195735609962436,
          5.78730858881916,
          5.26661438749865,
          5.867823046779337,
          5.513691563948041,
          5.326337548748203,
          5.477296288733653,
          5.880231526354216,
          6.486600110557998,
          6.611089013400671,
          6.984926347513962,
          6.898460734509643,
          6.826886007476296,
          6.943527645657261,
          7.625471178275514,
          7.425851907475204
         ]
        }
       ],
       "layout": {
        "template": {
         "data": {
          "bar": [
           {
            "error_x": {
             "color": "#f2f5fa"
            },
            "error_y": {
             "color": "#f2f5fa"
            },
            "marker": {
             "line": {
              "color": "rgb(17,17,17)",
              "width": 0.5
             },
             "pattern": {
              "fillmode": "overlay",
              "size": 10,
              "solidity": 0.2
             }
            },
            "type": "bar"
           }
          ],
          "barpolar": [
           {
            "marker": {
             "line": {
              "color": "rgb(17,17,17)",
              "width": 0.5
             },
             "pattern": {
              "fillmode": "overlay",
              "size": 10,
              "solidity": 0.2
             }
            },
            "type": "barpolar"
           }
          ],
          "carpet": [
           {
            "aaxis": {
             "endlinecolor": "#A2B1C6",
             "gridcolor": "#506784",
             "linecolor": "#506784",
             "minorgridcolor": "#506784",
             "startlinecolor": "#A2B1C6"
            },
            "baxis": {
             "endlinecolor": "#A2B1C6",
             "gridcolor": "#506784",
             "linecolor": "#506784",
             "minorgridcolor": "#506784",
             "startlinecolor": "#A2B1C6"
            },
            "type": "carpet"
           }
          ],
          "choropleth": [
           {
            "colorbar": {
             "outlinewidth": 0,
             "ticks": ""
            },
            "type": "choropleth"
           }
          ],
          "contour": [
           {
            "colorbar": {
             "outlinewidth": 0,
             "ticks": ""
            },
            "colorscale": [
             [
              0,
              "#0d0887"
             ],
             [
              0.1111111111111111,
              "#46039f"
             ],
             [
              0.2222222222222222,
              "#7201a8"
             ],
             [
              0.3333333333333333,
              "#9c179e"
             ],
             [
              0.4444444444444444,
              "#bd3786"
             ],
             [
              0.5555555555555556,
              "#d8576b"
             ],
             [
              0.6666666666666666,
              "#ed7953"
             ],
             [
              0.7777777777777778,
              "#fb9f3a"
             ],
             [
              0.8888888888888888,
              "#fdca26"
             ],
             [
              1,
              "#f0f921"
             ]
            ],
            "type": "contour"
           }
          ],
          "contourcarpet": [
           {
            "colorbar": {
             "outlinewidth": 0,
             "ticks": ""
            },
            "type": "contourcarpet"
           }
          ],
          "heatmap": [
           {
            "colorbar": {
             "outlinewidth": 0,
             "ticks": ""
            },
            "colorscale": [
             [
              0,
              "#0d0887"
             ],
             [
              0.1111111111111111,
              "#46039f"
             ],
             [
              0.2222222222222222,
              "#7201a8"
             ],
             [
              0.3333333333333333,
              "#9c179e"
             ],
             [
              0.4444444444444444,
              "#bd3786"
             ],
             [
              0.5555555555555556,
              "#d8576b"
             ],
             [
              0.6666666666666666,
              "#ed7953"
             ],
             [
              0.7777777777777778,
              "#fb9f3a"
             ],
             [
              0.8888888888888888,
              "#fdca26"
             ],
             [
              1,
              "#f0f921"
             ]
            ],
            "type": "heatmap"
           }
          ],
          "heatmapgl": [
           {
            "colorbar": {
             "outlinewidth": 0,
             "ticks": ""
            },
            "colorscale": [
             [
              0,
              "#0d0887"
             ],
             [
              0.1111111111111111,
              "#46039f"
             ],
             [
              0.2222222222222222,
              "#7201a8"
             ],
             [
              0.3333333333333333,
              "#9c179e"
             ],
             [
              0.4444444444444444,
              "#bd3786"
             ],
             [
              0.5555555555555556,
              "#d8576b"
             ],
             [
              0.6666666666666666,
              "#ed7953"
             ],
             [
              0.7777777777777778,
              "#fb9f3a"
             ],
             [
              0.8888888888888888,
              "#fdca26"
             ],
             [
              1,
              "#f0f921"
             ]
            ],
            "type": "heatmapgl"
           }
          ],
          "histogram": [
           {
            "marker": {
             "pattern": {
              "fillmode": "overlay",
              "size": 10,
              "solidity": 0.2
             }
            },
            "type": "histogram"
           }
          ],
          "histogram2d": [
           {
            "colorbar": {
             "outlinewidth": 0,
             "ticks": ""
            },
            "colorscale": [
             [
              0,
              "#0d0887"
             ],
             [
              0.1111111111111111,
              "#46039f"
             ],
             [
              0.2222222222222222,
              "#7201a8"
             ],
             [
              0.3333333333333333,
              "#9c179e"
             ],
             [
              0.4444444444444444,
              "#bd3786"
             ],
             [
              0.5555555555555556,
              "#d8576b"
             ],
             [
              0.6666666666666666,
              "#ed7953"
             ],
             [
              0.7777777777777778,
              "#fb9f3a"
             ],
             [
              0.8888888888888888,
              "#fdca26"
             ],
             [
              1,
              "#f0f921"
             ]
            ],
            "type": "histogram2d"
           }
          ],
          "histogram2dcontour": [
           {
            "colorbar": {
             "outlinewidth": 0,
             "ticks": ""
            },
            "colorscale": [
             [
              0,
              "#0d0887"
             ],
             [
              0.1111111111111111,
              "#46039f"
             ],
             [
              0.2222222222222222,
              "#7201a8"
             ],
             [
              0.3333333333333333,
              "#9c179e"
             ],
             [
              0.4444444444444444,
              "#bd3786"
             ],
             [
              0.5555555555555556,
              "#d8576b"
             ],
             [
              0.6666666666666666,
              "#ed7953"
             ],
             [
              0.7777777777777778,
              "#fb9f3a"
             ],
             [
              0.8888888888888888,
              "#fdca26"
             ],
             [
              1,
              "#f0f921"
             ]
            ],
            "type": "histogram2dcontour"
           }
          ],
          "mesh3d": [
           {
            "colorbar": {
             "outlinewidth": 0,
             "ticks": ""
            },
            "type": "mesh3d"
           }
          ],
          "parcoords": [
           {
            "line": {
             "colorbar": {
              "outlinewidth": 0,
              "ticks": ""
             }
            },
            "type": "parcoords"
           }
          ],
          "pie": [
           {
            "automargin": true,
            "type": "pie"
           }
          ],
          "scatter": [
           {
            "marker": {
             "line": {
              "color": "#283442"
             }
            },
            "type": "scatter"
           }
          ],
          "scatter3d": [
           {
            "line": {
             "colorbar": {
              "outlinewidth": 0,
              "ticks": ""
             }
            },
            "marker": {
             "colorbar": {
              "outlinewidth": 0,
              "ticks": ""
             }
            },
            "type": "scatter3d"
           }
          ],
          "scattercarpet": [
           {
            "marker": {
             "colorbar": {
              "outlinewidth": 0,
              "ticks": ""
             }
            },
            "type": "scattercarpet"
           }
          ],
          "scattergeo": [
           {
            "marker": {
             "colorbar": {
              "outlinewidth": 0,
              "ticks": ""
             }
            },
            "type": "scattergeo"
           }
          ],
          "scattergl": [
           {
            "marker": {
             "line": {
              "color": "#283442"
             }
            },
            "type": "scattergl"
           }
          ],
          "scattermapbox": [
           {
            "marker": {
             "colorbar": {
              "outlinewidth": 0,
              "ticks": ""
             }
            },
            "type": "scattermapbox"
           }
          ],
          "scatterpolar": [
           {
            "marker": {
             "colorbar": {
              "outlinewidth": 0,
              "ticks": ""
             }
            },
            "type": "scatterpolar"
           }
          ],
          "scatterpolargl": [
           {
            "marker": {
             "colorbar": {
              "outlinewidth": 0,
              "ticks": ""
             }
            },
            "type": "scatterpolargl"
           }
          ],
          "scatterternary": [
           {
            "marker": {
             "colorbar": {
              "outlinewidth": 0,
              "ticks": ""
             }
            },
            "type": "scatterternary"
           }
          ],
          "surface": [
           {
            "colorbar": {
             "outlinewidth": 0,
             "ticks": ""
            },
            "colorscale": [
             [
              0,
              "#0d0887"
             ],
             [
              0.1111111111111111,
              "#46039f"
             ],
             [
              0.2222222222222222,
              "#7201a8"
             ],
             [
              0.3333333333333333,
              "#9c179e"
             ],
             [
              0.4444444444444444,
              "#bd3786"
             ],
             [
              0.5555555555555556,
              "#d8576b"
             ],
             [
              0.6666666666666666,
              "#ed7953"
             ],
             [
              0.7777777777777778,
              "#fb9f3a"
             ],
             [
              0.8888888888888888,
              "#fdca26"
             ],
             [
              1,
              "#f0f921"
             ]
            ],
            "type": "surface"
           }
          ],
          "table": [
           {
            "cells": {
             "fill": {
              "color": "#506784"
             },
             "line": {
              "color": "rgb(17,17,17)"
             }
            },
            "header": {
             "fill": {
              "color": "#2a3f5f"
             },
             "line": {
              "color": "rgb(17,17,17)"
             }
            },
            "type": "table"
           }
          ]
         },
         "layout": {
          "annotationdefaults": {
           "arrowcolor": "#f2f5fa",
           "arrowhead": 0,
           "arrowwidth": 1
          },
          "autotypenumbers": "strict",
          "coloraxis": {
           "colorbar": {
            "outlinewidth": 0,
            "ticks": ""
           }
          },
          "colorscale": {
           "diverging": [
            [
             0,
             "#8e0152"
            ],
            [
             0.1,
             "#c51b7d"
            ],
            [
             0.2,
             "#de77ae"
            ],
            [
             0.3,
             "#f1b6da"
            ],
            [
             0.4,
             "#fde0ef"
            ],
            [
             0.5,
             "#f7f7f7"
            ],
            [
             0.6,
             "#e6f5d0"
            ],
            [
             0.7,
             "#b8e186"
            ],
            [
             0.8,
             "#7fbc41"
            ],
            [
             0.9,
             "#4d9221"
            ],
            [
             1,
             "#276419"
            ]
           ],
           "sequential": [
            [
             0,
             "#0d0887"
            ],
            [
             0.1111111111111111,
             "#46039f"
            ],
            [
             0.2222222222222222,
             "#7201a8"
            ],
            [
             0.3333333333333333,
             "#9c179e"
            ],
            [
             0.4444444444444444,
             "#bd3786"
            ],
            [
             0.5555555555555556,
             "#d8576b"
            ],
            [
             0.6666666666666666,
             "#ed7953"
            ],
            [
             0.7777777777777778,
             "#fb9f3a"
            ],
            [
             0.8888888888888888,
             "#fdca26"
            ],
            [
             1,
             "#f0f921"
            ]
           ],
           "sequentialminus": [
            [
             0,
             "#0d0887"
            ],
            [
             0.1111111111111111,
             "#46039f"
            ],
            [
             0.2222222222222222,
             "#7201a8"
            ],
            [
             0.3333333333333333,
             "#9c179e"
            ],
            [
             0.4444444444444444,
             "#bd3786"
            ],
            [
             0.5555555555555556,
             "#d8576b"
            ],
            [
             0.6666666666666666,
             "#ed7953"
            ],
            [
             0.7777777777777778,
             "#fb9f3a"
            ],
            [
             0.8888888888888888,
             "#fdca26"
            ],
            [
             1,
             "#f0f921"
            ]
           ]
          },
          "colorway": [
           "#636efa",
           "#EF553B",
           "#00cc96",
           "#ab63fa",
           "#FFA15A",
           "#19d3f3",
           "#FF6692",
           "#B6E880",
           "#FF97FF",
           "#FECB52"
          ],
          "font": {
           "color": "#f2f5fa"
          },
          "geo": {
           "bgcolor": "rgb(17,17,17)",
           "lakecolor": "rgb(17,17,17)",
           "landcolor": "rgb(17,17,17)",
           "showlakes": true,
           "showland": true,
           "subunitcolor": "#506784"
          },
          "hoverlabel": {
           "align": "left"
          },
          "hovermode": "closest",
          "mapbox": {
           "style": "dark"
          },
          "paper_bgcolor": "rgb(17,17,17)",
          "plot_bgcolor": "rgb(17,17,17)",
          "polar": {
           "angularaxis": {
            "gridcolor": "#506784",
            "linecolor": "#506784",
            "ticks": ""
           },
           "bgcolor": "rgb(17,17,17)",
           "radialaxis": {
            "gridcolor": "#506784",
            "linecolor": "#506784",
            "ticks": ""
           }
          },
          "scene": {
           "xaxis": {
            "backgroundcolor": "rgb(17,17,17)",
            "gridcolor": "#506784",
            "gridwidth": 2,
            "linecolor": "#506784",
            "showbackground": true,
            "ticks": "",
            "zerolinecolor": "#C8D4E3"
           },
           "yaxis": {
            "backgroundcolor": "rgb(17,17,17)",
            "gridcolor": "#506784",
            "gridwidth": 2,
            "linecolor": "#506784",
            "showbackground": true,
            "ticks": "",
            "zerolinecolor": "#C8D4E3"
           },
           "zaxis": {
            "backgroundcolor": "rgb(17,17,17)",
            "gridcolor": "#506784",
            "gridwidth": 2,
            "linecolor": "#506784",
            "showbackground": true,
            "ticks": "",
            "zerolinecolor": "#C8D4E3"
           }
          },
          "shapedefaults": {
           "line": {
            "color": "#f2f5fa"
           }
          },
          "sliderdefaults": {
           "bgcolor": "#C8D4E3",
           "bordercolor": "rgb(17,17,17)",
           "borderwidth": 1,
           "tickwidth": 0
          },
          "ternary": {
           "aaxis": {
            "gridcolor": "#506784",
            "linecolor": "#506784",
            "ticks": ""
           },
           "baxis": {
            "gridcolor": "#506784",
            "linecolor": "#506784",
            "ticks": ""
           },
           "bgcolor": "rgb(17,17,17)",
           "caxis": {
            "gridcolor": "#506784",
            "linecolor": "#506784",
            "ticks": ""
           }
          },
          "title": {
           "x": 0.05
          },
          "updatemenudefaults": {
           "bgcolor": "#506784",
           "borderwidth": 0
          },
          "xaxis": {
           "automargin": true,
           "gridcolor": "#283442",
           "linecolor": "#506784",
           "ticks": "",
           "title": {
            "standoff": 15
           },
           "zerolinecolor": "#283442",
           "zerolinewidth": 2
          },
          "yaxis": {
           "automargin": true,
           "gridcolor": "#283442",
           "linecolor": "#506784",
           "ticks": "",
           "title": {
            "standoff": 15
           },
           "zerolinecolor": "#283442",
           "zerolinewidth": 2
          }
         }
        },
        "title": {
         "text": "Private debt and private wealth as a % of national income"
        }
       }
      }
     },
     "metadata": {},
     "output_type": "display_data"
    }
   ],
   "source": [
    "variables = [\n",
    "    'wpwdebi999',\n",
    "    'wpweali999'\n",
    "]\n",
    "\n",
    "private_debt_wealth = df.loc[df['variable'].isin(variables)].copy()\n",
    "\n",
    "fig = go.Figure()\n",
    "\n",
    "for _, group in private_debt_wealth.groupby('variable'):\n",
    "    fig.add_trace(\n",
    "        go.Scatter(\n",
    "            x=group['year'],\n",
    "            y=group['value'],\n",
    "            name=group['shortname'].unique()[0]\n",
    "        )\n",
    "    )\n",
    "\n",
    "fig.update_layout(\n",
    "    title='Private debt and private wealth as a % of national income'\n",
    ")\n",
    "\n",
    "fig.show()"
   ]
  },
  {
   "cell_type": "code",
   "execution_count": 438,
   "metadata": {},
   "outputs": [
    {
     "data": {
      "text/plain": [
       "array(['ahwealj992', 'ahweali992', 'bhwealj992', 'ghwealj992',\n",
       "       'ahweali999', 'mhweali999', 'rhwealj992', 'shwealj992',\n",
       "       'thwealj992'], dtype=object)"
      ]
     },
     "execution_count": 438,
     "metadata": {},
     "output_type": "execute_result"
    }
   ],
   "source": [
    "wealth = [\n",
    "    'Net personal wealth'\n",
    "]\n",
    "\n",
    "ages = [\n",
    "    'All Ages',\n",
    "    'Adults'\n",
    "]\n",
    "\n",
    "df[(df['shortname'].isin(wealth)) & (df['shortage'] == 'All Ages')]['shorttype'].unique()\n",
    "df[(df['shortname'].isin(wealth)) & (df['shortage'].isin(ages))]['variable'].unique()"
   ]
  },
  {
   "cell_type": "code",
   "execution_count": 439,
   "metadata": {},
   "outputs": [
    {
     "name": "stdout",
     "output_type": "stream",
     "text": [
      "Environment protection\n",
      "Gross domestic product\n",
      "Private financial assets excluding currency & deposits\n",
      "Gross operating surplus and miscellaneous\n",
      "Net secondary income/Net saving of financial corporations\n",
      "Gross foreign assets\n",
      "National income\n",
      "Government agricultural land\n",
      "Other primary income paid to the rest of the world\n",
      "Net mixed income of households and NPISH\n",
      "Private natural capital\n",
      "Government dwellings\n",
      "Corporate non-financial assets \n",
      "Government financial assets excluding cash\n",
      "Recreation, culture and religion\n",
      "Public order and safety\n",
      "Taxes on products and production\n",
      "Gross primary income of financial corporations\n",
      "Gross national savings\n",
      "Net operating surplus of corporations\n",
      "Private equity, fund shares & offshore wealth\n",
      "Exports of goods and services\n",
      "Remittances paid to the rest of the world\n",
      "Portfolio equity liabilities\n",
      "Property income paid from the rest of the world\n",
      "Government housing assets\n",
      "Total Public Spending (excluding interest payment)\n",
      "Capital transfers paid to  the rest of the world\n",
      "Personal income tax\n",
      "Other government spending\n",
      "Foreign income received from the rest of the world\n",
      "Health\n",
      "Government bonds & loans\n",
      "Net operating surplus and mixed income of households and NPISH\n",
      "Net foreign labor and capital income\n",
      "Portfolio assets\n",
      "Social contributions to private employer social insurance\n",
      "Property and wealth taxes\n",
      "Gross primary income of households and NPISH\n",
      "Net property income of non-financial corporations\n",
      "Gross secondary income of households and NPISH\n",
      "Net portfolio income\n",
      "Portfolio liabilities\n",
      "Social protection: social assistance in kind\n",
      "Private dwellings\n",
      "Portfolio debt assets\n",
      "National non-financial assets\n",
      "Subsidies on production received from the rest of the world\n",
      "Corporate land underlying dwellings \n",
      "Corporate equity, fund shares & offshore wealth\n",
      "Gross secondary income/Gross saving of corporations\n",
      "Net foreign labor income\n",
      "Capital Account\n",
      "Subsidies on production and imports\n",
      "Private business assets\n",
      "Corporate business and other non-financial assets \n",
      "Net savings of households and NPISH\n",
      "Corporate equities\n",
      "Labor and capital income from the rest of the world\n",
      "Net secondary income/Net saving of corporations\n",
      "Corporate pension funds & life insurance\n",
      "Net secondary income of the general government\n",
      "Gross primary income of the general government\n",
      "National natural capital\n",
      "Compensation of employees paid from the rest of the world\n",
      "Other primary income received from the rest of the world\n",
      "Consumption of fixed capital of households and NPISH\n",
      "Education: Tertiary\n",
      "Foreign direct investments liabilities\n",
      "Net personal wealth\n",
      "National land underlying dwellings\n",
      "Private currency, deposits, bonds & loans\n",
      "Equity income received from the rest of the world\n",
      "Consumption of fixed capital of financial coporations\n",
      "Capital transfers received from the rest of the world\n",
      "Private pension funds & life insurance\n",
      "Reinvested earnings on foreign portfolio investment, paid to the rest of the world\n",
      "Gross national income\n",
      "Net foreign capital income\n",
      "Net property income of the government\n",
      "Corporate financial assets excluding cash\n",
      "Net mixed income of households\n",
      "Net property income of financial corporations\n",
      "Private financial assets\n",
      "Consumption of fixed capital of the general goverment\n",
      "Education\n",
      "Corporate financial assets\n",
      "Government land underlying dwellings\n",
      "Market-value national wealth \n",
      "Net remittances\n",
      "Non-tax revenue\n",
      "Individual consumption expenditures\n",
      "Domestic financial assets\n",
      "Corporate debt (non-equity liability)\n",
      "Net operating surplus of financial corporations\n",
      "Corporate other domestic capital\n",
      "Personal taxes on income and wealth\n",
      "Gross savings of households and NPISH\n",
      "Consumption of fixed capital attributable to operating surplus\n",
      "Private expenditures of households and NPISH\n",
      "Economic affairs\n",
      "Other domestic private capital\n",
      "Market value of corporations (equity liability)\n",
      "General public services\n",
      "Portfolio equity assets\n",
      "Net primary income of non-financial corporations\n",
      "Net portfolio income, officially recorded\n",
      "Book-value national wealth\n",
      "Private currency & deposits\n",
      "Portfolio and other income paid to the rest of the world\n",
      "Taxes on production and imports\n",
      "Indirect taxes\n",
      "Labor and capital income paid to the rest of the world\n",
      "Private housing assets\n",
      "Net primary income of the general government\n",
      "Net operating surplus and miscellaneous\n",
      "Debt Income received from the rest of the world\n",
      "Gross savings of the general government\n",
      "Reinvested earnings on foreign portfolio investment, received from the rest of the world\n",
      "Government equity, fund shares & offshore wealth\n",
      "Foreign direct investments assets\n",
      "Corporate dwellings \n",
      "Domestic financial liabilities\n",
      "Net domestic product\n",
      "Net foreign assets\n",
      "Net other primary income \n",
      "Net national savings\n",
      "Private bonds & loans\n",
      "Social contributions\n",
      "Private land underlying dwellings\n",
      "Net private wealth\n",
      "Private equities\n",
      "Fiscal income \n",
      "Final consumption expenditures\n",
      "Government equities\n",
      "Corporate bonds & loans\n",
      "National business and other non-financial assets\n",
      "Interest paid by the governement\n",
      "Recreation and culture\n",
      "Foreign income received from tax havens\n",
      "Net savings of the general government\n",
      "Social benefits from private employer social insurance\n",
      "Corporate tax\n",
      "Consumption of fixed capital of corporations\n",
      "Corporate natural capital\n",
      "Net public wealth\n",
      "Gross secondary income/Gross saving of non-financial corporations\n",
      "Foreign direct investment income received  from the rest of the world\n",
      "Gross primary income of corporations\n",
      "Education: Primary\n",
      "Private agricultural land\n",
      "Net property income of corporations\n",
      "Private non-financial assets\n",
      "Corporate housing assets \n",
      "Imports of goods and services\n",
      "Direct taxes on income and wealth\n",
      "Compensation of employees \n",
      "Corporate currency & deposits\n",
      "Other taxes\n",
      "Foreign direct investment income paid to the rest of the world\n",
      "Current Account = pinnx + comnx + tbnnx + taxnx + scgnx\n",
      "Government currency & deposits\n",
      "Gross primary income of non-financial corporations\n",
      "National housing assets\n",
      "Net primary income of financial corporations\n",
      "Gross operating surplus and mixed income\n",
      "Net reinvested earnings on foreign portfolio investment\n",
      "Net property income of households and NPISH\n",
      "Corporate income tax\n",
      "National other domestic capital\n",
      "Portfolio and other income received from the rest of the world, officially recorded\n",
      "Residual corporate wealth\n",
      "Social protection: social assistance in cash\n",
      "Direct taxes\n",
      "Defense\n",
      "Foreign reserve exchange assets\n",
      "Net secondary income of households and NPISH\n",
      "Government other domestic capital\n",
      "Trade balance (exports-imports)\n",
      "Pure capital income\n",
      "Government non-financial assets\n",
      "Government financial assets\n",
      "Consumption of fixed capital of non-financial coporations\n",
      "Environmental protection\n",
      "Compensation of employees received from the rest of the world\n",
      "Education: Secondary\n",
      "Total Public Revenue (excluding non-tax revenue)\n",
      "Portfolio and other income paid to the rest of the world, officially recorded\n",
      "Reserves income received from the rest of the world\n",
      "Gross mixed income\n",
      "Foreign income paid to the rest of the world\n",
      "Social protection\n",
      "National dwellings\n",
      "Net secondary income/Net saving of non-financial corporations\n",
      "Consumption of fixed capital attributable to mixed income\n",
      "National agricultural land\n",
      "Debt Income paid from the rest of the world\n",
      "Government pension funds & life insurance\n",
      "Net foreign direct investment income\n",
      "Corporate agricultural land\n",
      "Consumption of fixed capital\n",
      "Net operating surplus of households and NPISH\n",
      "Social benefits other than social transfers in kind\n",
      "Offshore wealth\n",
      "Housing and community amenities\n",
      "Portfolio and other income received from the rest of the world\n",
      "Net foreign income\n",
      "General public services (excluding interest payments)\n",
      "Government debt\n",
      "Gross operating surplus\n",
      "Net operating surplus of non-financial corporations\n",
      "Book value of corporations\n",
      "Net primary income of corporations\n",
      "Government business and other non-financial assets\n",
      "Collective consumption expenditure\n",
      "Taxes on production paid to the rest of the world\n",
      "Remittances received from the rest of the world\n",
      "Portfolio debt liabilities\n",
      "Government currency, deposits, bonds & loans\n",
      "Total Public Revenue\n",
      "Private debt\n",
      "Foreign subsidies less taxes on production and imports\n",
      "Primary surplus of the governement\n",
      "Equity Income paid from the rest of the world\n",
      "Gross secondary income of the general government\n",
      "Property income received from the rest of the world\n",
      "Government natural capital\n",
      "Social protection: social insurance\n",
      "Gross secondary income/Gross saving of financial corporations\n",
      "Net primary income of households and NPISH\n",
      "Corporate currency, deposits, bonds & loans\n",
      "Gross foreign liabilities\n"
     ]
    }
   ],
   "source": [
    "# Can Average and Total subsets be easily combined into one variable? Does it makes sense?\n",
    "\n",
    "df_list = []\n",
    "my_set = set()\n",
    "\n",
    "for name, data in df.groupby('shortname'):\n",
    "    if np.all(np.isin(['Average', 'Total'], data['shorttype'].unique())):\n",
    "        my_set.add(name)\n",
    "    \n",
    "    shorttype_avg = data[data['shorttype'] == 'Average'][['shortname', 'year', 'value']]\n",
    "    shorttype_total = data[data['shorttype'] == 'Total']\n",
    "    combined = pd.merge(left=shorttype_total, right=shorttype_avg, on=['shortname', 'year'], how='left')\n",
    "    df_list.append(combined)\n",
    "\n",
    "for item in my_set:\n",
    "    print(item)\n",
    "#df_list[0]"
   ]
  },
  {
   "cell_type": "code",
   "execution_count": 440,
   "metadata": {},
   "outputs": [
    {
     "data": {
      "text/html": [
       "<div>\n",
       "<style scoped>\n",
       "    .dataframe tbody tr th:only-of-type {\n",
       "        vertical-align: middle;\n",
       "    }\n",
       "\n",
       "    .dataframe tbody tr th {\n",
       "        vertical-align: top;\n",
       "    }\n",
       "\n",
       "    .dataframe thead th {\n",
       "        text-align: right;\n",
       "    }\n",
       "</style>\n",
       "<table border=\"1\" class=\"dataframe\">\n",
       "  <thead>\n",
       "    <tr style=\"text-align: right;\">\n",
       "      <th></th>\n",
       "      <th>variable</th>\n",
       "      <th>shortname</th>\n",
       "      <th>shorttype</th>\n",
       "      <th>unit</th>\n",
       "    </tr>\n",
       "  </thead>\n",
       "  <tbody>\n",
       "    <tr>\n",
       "      <th>0</th>\n",
       "      <td>adefgei999</td>\n",
       "      <td>Defense</td>\n",
       "      <td>Average</td>\n",
       "      <td>AUD</td>\n",
       "    </tr>\n",
       "    <tr>\n",
       "      <th>53</th>\n",
       "      <td>wdefgei999</td>\n",
       "      <td>Defense</td>\n",
       "      <td>Wealth-income ratio</td>\n",
       "      <td>% of national income</td>\n",
       "    </tr>\n",
       "    <tr>\n",
       "      <th>29</th>\n",
       "      <td>mdefgei999</td>\n",
       "      <td>Defense</td>\n",
       "      <td>Total</td>\n",
       "      <td>AUD</td>\n",
       "    </tr>\n",
       "    <tr>\n",
       "      <th>1</th>\n",
       "      <td>aecogei999</td>\n",
       "      <td>Economic affairs</td>\n",
       "      <td>Average</td>\n",
       "      <td>AUD</td>\n",
       "    </tr>\n",
       "    <tr>\n",
       "      <th>54</th>\n",
       "      <td>wecogei999</td>\n",
       "      <td>Economic affairs</td>\n",
       "      <td>Wealth-income ratio</td>\n",
       "      <td>% of national income</td>\n",
       "    </tr>\n",
       "    <tr>\n",
       "      <th>30</th>\n",
       "      <td>mecogei999</td>\n",
       "      <td>Economic affairs</td>\n",
       "      <td>Total</td>\n",
       "      <td>AUD</td>\n",
       "    </tr>\n",
       "    <tr>\n",
       "      <th>58</th>\n",
       "      <td>wedugei999</td>\n",
       "      <td>Education</td>\n",
       "      <td>Wealth-income ratio</td>\n",
       "      <td>% of national income</td>\n",
       "    </tr>\n",
       "    <tr>\n",
       "      <th>5</th>\n",
       "      <td>aedugei999</td>\n",
       "      <td>Education</td>\n",
       "      <td>Average</td>\n",
       "      <td>AUD</td>\n",
       "    </tr>\n",
       "    <tr>\n",
       "      <th>34</th>\n",
       "      <td>medugei999</td>\n",
       "      <td>Education</td>\n",
       "      <td>Total</td>\n",
       "      <td>AUD</td>\n",
       "    </tr>\n",
       "    <tr>\n",
       "      <th>31</th>\n",
       "      <td>medpgei999</td>\n",
       "      <td>Education: Primary</td>\n",
       "      <td>Total</td>\n",
       "      <td>AUD</td>\n",
       "    </tr>\n",
       "    <tr>\n",
       "      <th>55</th>\n",
       "      <td>wedpgei999</td>\n",
       "      <td>Education: Primary</td>\n",
       "      <td>Wealth-income ratio</td>\n",
       "      <td>% of national income</td>\n",
       "    </tr>\n",
       "    <tr>\n",
       "      <th>2</th>\n",
       "      <td>aedpgei999</td>\n",
       "      <td>Education: Primary</td>\n",
       "      <td>Average</td>\n",
       "      <td>AUD</td>\n",
       "    </tr>\n",
       "    <tr>\n",
       "      <th>32</th>\n",
       "      <td>medsgei999</td>\n",
       "      <td>Education: Secondary</td>\n",
       "      <td>Total</td>\n",
       "      <td>AUD</td>\n",
       "    </tr>\n",
       "    <tr>\n",
       "      <th>3</th>\n",
       "      <td>aedsgei999</td>\n",
       "      <td>Education: Secondary</td>\n",
       "      <td>Average</td>\n",
       "      <td>AUD</td>\n",
       "    </tr>\n",
       "    <tr>\n",
       "      <th>56</th>\n",
       "      <td>wedsgei999</td>\n",
       "      <td>Education: Secondary</td>\n",
       "      <td>Wealth-income ratio</td>\n",
       "      <td>% of national income</td>\n",
       "    </tr>\n",
       "    <tr>\n",
       "      <th>57</th>\n",
       "      <td>wedtgei999</td>\n",
       "      <td>Education: Tertiary</td>\n",
       "      <td>Wealth-income ratio</td>\n",
       "      <td>% of national income</td>\n",
       "    </tr>\n",
       "    <tr>\n",
       "      <th>33</th>\n",
       "      <td>medtgei999</td>\n",
       "      <td>Education: Tertiary</td>\n",
       "      <td>Total</td>\n",
       "      <td>AUD</td>\n",
       "    </tr>\n",
       "    <tr>\n",
       "      <th>4</th>\n",
       "      <td>aedtgei999</td>\n",
       "      <td>Education: Tertiary</td>\n",
       "      <td>Average</td>\n",
       "      <td>AUD</td>\n",
       "    </tr>\n",
       "    <tr>\n",
       "      <th>35</th>\n",
       "      <td>menvgei999</td>\n",
       "      <td>Environmental protection</td>\n",
       "      <td>Total</td>\n",
       "      <td>AUD</td>\n",
       "    </tr>\n",
       "    <tr>\n",
       "      <th>6</th>\n",
       "      <td>aenvgei999</td>\n",
       "      <td>Environmental protection</td>\n",
       "      <td>Average</td>\n",
       "      <td>AUD</td>\n",
       "    </tr>\n",
       "    <tr>\n",
       "      <th>59</th>\n",
       "      <td>wenvgei999</td>\n",
       "      <td>Environmental protection</td>\n",
       "      <td>Wealth-income ratio</td>\n",
       "      <td>% of national income</td>\n",
       "    </tr>\n",
       "    <tr>\n",
       "      <th>62</th>\n",
       "      <td>wgpsgei999</td>\n",
       "      <td>General public services (excluding interest pa...</td>\n",
       "      <td>Wealth-income ratio</td>\n",
       "      <td>% of national income</td>\n",
       "    </tr>\n",
       "    <tr>\n",
       "      <th>9</th>\n",
       "      <td>agpsgei999</td>\n",
       "      <td>General public services (excluding interest pa...</td>\n",
       "      <td>Average</td>\n",
       "      <td>AUD</td>\n",
       "    </tr>\n",
       "    <tr>\n",
       "      <th>38</th>\n",
       "      <td>mgpsgei999</td>\n",
       "      <td>General public services (excluding interest pa...</td>\n",
       "      <td>Total</td>\n",
       "      <td>AUD</td>\n",
       "    </tr>\n",
       "    <tr>\n",
       "      <th>61</th>\n",
       "      <td>wgdproi999</td>\n",
       "      <td>Gross domestic product</td>\n",
       "      <td>Wealth-income ratio</td>\n",
       "      <td>% of national income</td>\n",
       "    </tr>\n",
       "    <tr>\n",
       "      <th>36</th>\n",
       "      <td>mgdproi999</td>\n",
       "      <td>Gross domestic product</td>\n",
       "      <td>Total</td>\n",
       "      <td>AUD</td>\n",
       "    </tr>\n",
       "    <tr>\n",
       "      <th>7</th>\n",
       "      <td>agdproi999</td>\n",
       "      <td>Gross domestic product</td>\n",
       "      <td>Average</td>\n",
       "      <td>AUD</td>\n",
       "    </tr>\n",
       "    <tr>\n",
       "      <th>8</th>\n",
       "      <td>agninci999</td>\n",
       "      <td>Gross national income</td>\n",
       "      <td>Average</td>\n",
       "      <td>AUD</td>\n",
       "    </tr>\n",
       "    <tr>\n",
       "      <th>37</th>\n",
       "      <td>mgninci999</td>\n",
       "      <td>Gross national income</td>\n",
       "      <td>Total</td>\n",
       "      <td>AUD</td>\n",
       "    </tr>\n",
       "    <tr>\n",
       "      <th>63</th>\n",
       "      <td>wheagei999</td>\n",
       "      <td>Health</td>\n",
       "      <td>Wealth-income ratio</td>\n",
       "      <td>% of national income</td>\n",
       "    </tr>\n",
       "    <tr>\n",
       "      <th>39</th>\n",
       "      <td>mheagei999</td>\n",
       "      <td>Health</td>\n",
       "      <td>Total</td>\n",
       "      <td>AUD</td>\n",
       "    </tr>\n",
       "    <tr>\n",
       "      <th>10</th>\n",
       "      <td>aheagei999</td>\n",
       "      <td>Health</td>\n",
       "      <td>Average</td>\n",
       "      <td>AUD</td>\n",
       "    </tr>\n",
       "    <tr>\n",
       "      <th>64</th>\n",
       "      <td>whougei999</td>\n",
       "      <td>Housing and community amenities</td>\n",
       "      <td>Wealth-income ratio</td>\n",
       "      <td>% of national income</td>\n",
       "    </tr>\n",
       "    <tr>\n",
       "      <th>11</th>\n",
       "      <td>ahougei999</td>\n",
       "      <td>Housing and community amenities</td>\n",
       "      <td>Average</td>\n",
       "      <td>AUD</td>\n",
       "    </tr>\n",
       "    <tr>\n",
       "      <th>40</th>\n",
       "      <td>mhougei999</td>\n",
       "      <td>Housing and community amenities</td>\n",
       "      <td>Total</td>\n",
       "      <td>AUD</td>\n",
       "    </tr>\n",
       "    <tr>\n",
       "      <th>26</th>\n",
       "      <td>iqualii999</td>\n",
       "      <td>Inequality transparency index</td>\n",
       "      <td>Indices</td>\n",
       "      <td>NaN</td>\n",
       "    </tr>\n",
       "    <tr>\n",
       "      <th>78</th>\n",
       "      <td>xlcusxi999</td>\n",
       "      <td>Market exchange rate, LCU per USD</td>\n",
       "      <td>Exchange rates</td>\n",
       "      <td>local currency per foreign currency</td>\n",
       "    </tr>\n",
       "    <tr>\n",
       "      <th>27</th>\n",
       "      <td>knfcari999</td>\n",
       "      <td>National CO2 footprint</td>\n",
       "      <td>Per-capita emissions</td>\n",
       "      <td>tCO2e</td>\n",
       "    </tr>\n",
       "    <tr>\n",
       "      <th>23</th>\n",
       "      <td>enfcari999</td>\n",
       "      <td>National CO2 footprint</td>\n",
       "      <td>Total emissions</td>\n",
       "      <td>MtCO2e</td>\n",
       "    </tr>\n",
       "    <tr>\n",
       "      <th>24</th>\n",
       "      <td>enfghgi999</td>\n",
       "      <td>National carbon footprint</td>\n",
       "      <td>Total emissions</td>\n",
       "      <td>MtCO2e</td>\n",
       "    </tr>\n",
       "    <tr>\n",
       "      <th>28</th>\n",
       "      <td>knfghgi999</td>\n",
       "      <td>National carbon footprint</td>\n",
       "      <td>Per-capita emissions</td>\n",
       "      <td>tCO2e</td>\n",
       "    </tr>\n",
       "    <tr>\n",
       "      <th>74</th>\n",
       "      <td>wwealhi999</td>\n",
       "      <td>Net Personal Wealth to Net National Income Ratio</td>\n",
       "      <td>Wealth-income ratio</td>\n",
       "      <td>% of national income</td>\n",
       "    </tr>\n",
       "    <tr>\n",
       "      <th>76</th>\n",
       "      <td>wwealpi999</td>\n",
       "      <td>Net Private Wealth to Net National Income Ratio</td>\n",
       "      <td>Wealth-income ratio</td>\n",
       "      <td>% of national income</td>\n",
       "    </tr>\n",
       "    <tr>\n",
       "      <th>73</th>\n",
       "      <td>wwealgi999</td>\n",
       "      <td>Net Public Wealth to Net National Income Ratio</td>\n",
       "      <td>Wealth-income ratio</td>\n",
       "      <td>% of national income</td>\n",
       "    </tr>\n",
       "    <tr>\n",
       "      <th>75</th>\n",
       "      <td>wwealni999</td>\n",
       "      <td>Net national wealth to Net National Income Ratio</td>\n",
       "      <td>Wealth-income ratio</td>\n",
       "      <td>% of national income</td>\n",
       "    </tr>\n",
       "    <tr>\n",
       "      <th>14</th>\n",
       "      <td>ahwealj992</td>\n",
       "      <td>Net personal wealth</td>\n",
       "      <td>Average</td>\n",
       "      <td>AUD</td>\n",
       "    </tr>\n",
       "    <tr>\n",
       "      <th>25</th>\n",
       "      <td>ghwealj992</td>\n",
       "      <td>Net personal wealth</td>\n",
       "      <td>Gini coefficient</td>\n",
       "      <td>NaN</td>\n",
       "    </tr>\n",
       "    <tr>\n",
       "      <th>12</th>\n",
       "      <td>ahweali992</td>\n",
       "      <td>Net personal wealth</td>\n",
       "      <td>Average</td>\n",
       "      <td>AUD</td>\n",
       "    </tr>\n",
       "    <tr>\n",
       "      <th>13</th>\n",
       "      <td>ahweali999</td>\n",
       "      <td>Net personal wealth</td>\n",
       "      <td>Average</td>\n",
       "      <td>AUD</td>\n",
       "    </tr>\n",
       "    <tr>\n",
       "      <th>51</th>\n",
       "      <td>shwealj992</td>\n",
       "      <td>Net personal wealth</td>\n",
       "      <td>Share</td>\n",
       "      <td>share</td>\n",
       "    </tr>\n",
       "    <tr>\n",
       "      <th>52</th>\n",
       "      <td>thwealj992</td>\n",
       "      <td>Net personal wealth</td>\n",
       "      <td>Threshold</td>\n",
       "      <td>AUD</td>\n",
       "    </tr>\n",
       "    <tr>\n",
       "      <th>41</th>\n",
       "      <td>mhweali999</td>\n",
       "      <td>Net personal wealth</td>\n",
       "      <td>Total</td>\n",
       "      <td>AUD</td>\n",
       "    </tr>\n",
       "    <tr>\n",
       "      <th>22</th>\n",
       "      <td>bhwealj992</td>\n",
       "      <td>Net personal wealth</td>\n",
       "      <td>Beta coefficient</td>\n",
       "      <td>NaN</td>\n",
       "    </tr>\n",
       "    <tr>\n",
       "      <th>50</th>\n",
       "      <td>rhwealj992</td>\n",
       "      <td>Net personal wealth</td>\n",
       "      <td>Top 10/Bottom 50 ratio</td>\n",
       "      <td>NaN</td>\n",
       "    </tr>\n",
       "    <tr>\n",
       "      <th>67</th>\n",
       "      <td>wpweali999</td>\n",
       "      <td>Net private wealth</td>\n",
       "      <td>Wealth-income ratio</td>\n",
       "      <td>% of national income</td>\n",
       "    </tr>\n",
       "    <tr>\n",
       "      <th>77</th>\n",
       "      <td>xlcuspi999</td>\n",
       "      <td>PPP conversion factor, LCU per USD</td>\n",
       "      <td>Exchange rates</td>\n",
       "      <td>local currency per foreign currency</td>\n",
       "    </tr>\n",
       "    <tr>\n",
       "      <th>49</th>\n",
       "      <td>npopuli999</td>\n",
       "      <td>Population</td>\n",
       "      <td>Population</td>\n",
       "      <td>population</td>\n",
       "    </tr>\n",
       "    <tr>\n",
       "      <th>16</th>\n",
       "      <td>apwdebi999</td>\n",
       "      <td>Private debt</td>\n",
       "      <td>Average</td>\n",
       "      <td>AUD</td>\n",
       "    </tr>\n",
       "    <tr>\n",
       "      <th>43</th>\n",
       "      <td>mpwdebi999</td>\n",
       "      <td>Private debt</td>\n",
       "      <td>Total</td>\n",
       "      <td>AUD</td>\n",
       "    </tr>\n",
       "    <tr>\n",
       "      <th>66</th>\n",
       "      <td>wpwdebi999</td>\n",
       "      <td>Private debt</td>\n",
       "      <td>Wealth-income ratio</td>\n",
       "      <td>% of national income</td>\n",
       "    </tr>\n",
       "    <tr>\n",
       "      <th>65</th>\n",
       "      <td>wpolgei999</td>\n",
       "      <td>Public order and safety</td>\n",
       "      <td>Wealth-income ratio</td>\n",
       "      <td>% of national income</td>\n",
       "    </tr>\n",
       "    <tr>\n",
       "      <th>15</th>\n",
       "      <td>apolgei999</td>\n",
       "      <td>Public order and safety</td>\n",
       "      <td>Average</td>\n",
       "      <td>AUD</td>\n",
       "    </tr>\n",
       "    <tr>\n",
       "      <th>42</th>\n",
       "      <td>mpolgei999</td>\n",
       "      <td>Public order and safety</td>\n",
       "      <td>Total</td>\n",
       "      <td>AUD</td>\n",
       "    </tr>\n",
       "    <tr>\n",
       "      <th>44</th>\n",
       "      <td>mrecgei999</td>\n",
       "      <td>Recreation and culture</td>\n",
       "      <td>Total</td>\n",
       "      <td>AUD</td>\n",
       "    </tr>\n",
       "    <tr>\n",
       "      <th>17</th>\n",
       "      <td>arecgei999</td>\n",
       "      <td>Recreation and culture</td>\n",
       "      <td>Average</td>\n",
       "      <td>AUD</td>\n",
       "    </tr>\n",
       "    <tr>\n",
       "      <th>68</th>\n",
       "      <td>wrecgei999</td>\n",
       "      <td>Recreation and culture</td>\n",
       "      <td>Wealth-income ratio</td>\n",
       "      <td>% of national income</td>\n",
       "    </tr>\n",
       "    <tr>\n",
       "      <th>71</th>\n",
       "      <td>wsopgei999</td>\n",
       "      <td>Social protection</td>\n",
       "      <td>Wealth-income ratio</td>\n",
       "      <td>% of national income</td>\n",
       "    </tr>\n",
       "    <tr>\n",
       "      <th>20</th>\n",
       "      <td>asopgei999</td>\n",
       "      <td>Social protection</td>\n",
       "      <td>Average</td>\n",
       "      <td>AUD</td>\n",
       "    </tr>\n",
       "    <tr>\n",
       "      <th>47</th>\n",
       "      <td>msopgei999</td>\n",
       "      <td>Social protection</td>\n",
       "      <td>Total</td>\n",
       "      <td>AUD</td>\n",
       "    </tr>\n",
       "    <tr>\n",
       "      <th>69</th>\n",
       "      <td>wsacgei999</td>\n",
       "      <td>Social protection: social assistance in cash</td>\n",
       "      <td>Wealth-income ratio</td>\n",
       "      <td>% of national income</td>\n",
       "    </tr>\n",
       "    <tr>\n",
       "      <th>45</th>\n",
       "      <td>msacgei999</td>\n",
       "      <td>Social protection: social assistance in cash</td>\n",
       "      <td>Total</td>\n",
       "      <td>AUD</td>\n",
       "    </tr>\n",
       "    <tr>\n",
       "      <th>18</th>\n",
       "      <td>asacgei999</td>\n",
       "      <td>Social protection: social assistance in cash</td>\n",
       "      <td>Average</td>\n",
       "      <td>AUD</td>\n",
       "    </tr>\n",
       "    <tr>\n",
       "      <th>70</th>\n",
       "      <td>wsakgei999</td>\n",
       "      <td>Social protection: social assistance in kind</td>\n",
       "      <td>Wealth-income ratio</td>\n",
       "      <td>% of national income</td>\n",
       "    </tr>\n",
       "    <tr>\n",
       "      <th>19</th>\n",
       "      <td>asakgei999</td>\n",
       "      <td>Social protection: social assistance in kind</td>\n",
       "      <td>Average</td>\n",
       "      <td>AUD</td>\n",
       "    </tr>\n",
       "    <tr>\n",
       "      <th>46</th>\n",
       "      <td>msakgei999</td>\n",
       "      <td>Social protection: social assistance in kind</td>\n",
       "      <td>Total</td>\n",
       "      <td>AUD</td>\n",
       "    </tr>\n",
       "    <tr>\n",
       "      <th>21</th>\n",
       "      <td>aspigei999</td>\n",
       "      <td>Social protection: social insurance</td>\n",
       "      <td>Average</td>\n",
       "      <td>AUD</td>\n",
       "    </tr>\n",
       "    <tr>\n",
       "      <th>72</th>\n",
       "      <td>wspigei999</td>\n",
       "      <td>Social protection: social insurance</td>\n",
       "      <td>Wealth-income ratio</td>\n",
       "      <td>% of national income</td>\n",
       "    </tr>\n",
       "    <tr>\n",
       "      <th>48</th>\n",
       "      <td>mspigei999</td>\n",
       "      <td>Social protection: social insurance</td>\n",
       "      <td>Total</td>\n",
       "      <td>AUD</td>\n",
       "    </tr>\n",
       "    <tr>\n",
       "      <th>60</th>\n",
       "      <td>wexpgoi999</td>\n",
       "      <td>Total Public Spending (excluding interest paym...</td>\n",
       "      <td>Wealth-income ratio</td>\n",
       "      <td>% of national income</td>\n",
       "    </tr>\n",
       "  </tbody>\n",
       "</table>\n",
       "</div>"
      ],
      "text/plain": [
       "      variable                                          shortname  \\\n",
       "0   adefgei999                                            Defense   \n",
       "53  wdefgei999                                            Defense   \n",
       "29  mdefgei999                                            Defense   \n",
       "1   aecogei999                                   Economic affairs   \n",
       "54  wecogei999                                   Economic affairs   \n",
       "30  mecogei999                                   Economic affairs   \n",
       "58  wedugei999                                          Education   \n",
       "5   aedugei999                                          Education   \n",
       "34  medugei999                                          Education   \n",
       "31  medpgei999                                 Education: Primary   \n",
       "55  wedpgei999                                 Education: Primary   \n",
       "2   aedpgei999                                 Education: Primary   \n",
       "32  medsgei999                               Education: Secondary   \n",
       "3   aedsgei999                               Education: Secondary   \n",
       "56  wedsgei999                               Education: Secondary   \n",
       "57  wedtgei999                                Education: Tertiary   \n",
       "33  medtgei999                                Education: Tertiary   \n",
       "4   aedtgei999                                Education: Tertiary   \n",
       "35  menvgei999                           Environmental protection   \n",
       "6   aenvgei999                           Environmental protection   \n",
       "59  wenvgei999                           Environmental protection   \n",
       "62  wgpsgei999  General public services (excluding interest pa...   \n",
       "9   agpsgei999  General public services (excluding interest pa...   \n",
       "38  mgpsgei999  General public services (excluding interest pa...   \n",
       "61  wgdproi999                             Gross domestic product   \n",
       "36  mgdproi999                             Gross domestic product   \n",
       "7   agdproi999                             Gross domestic product   \n",
       "8   agninci999                              Gross national income   \n",
       "37  mgninci999                              Gross national income   \n",
       "63  wheagei999                                             Health   \n",
       "39  mheagei999                                             Health   \n",
       "10  aheagei999                                             Health   \n",
       "64  whougei999                    Housing and community amenities   \n",
       "11  ahougei999                    Housing and community amenities   \n",
       "40  mhougei999                    Housing and community amenities   \n",
       "26  iqualii999                      Inequality transparency index   \n",
       "78  xlcusxi999                  Market exchange rate, LCU per USD   \n",
       "27  knfcari999                           National CO2 footprint     \n",
       "23  enfcari999                           National CO2 footprint     \n",
       "24  enfghgi999                        National carbon footprint     \n",
       "28  knfghgi999                        National carbon footprint     \n",
       "74  wwealhi999   Net Personal Wealth to Net National Income Ratio   \n",
       "76  wwealpi999    Net Private Wealth to Net National Income Ratio   \n",
       "73  wwealgi999     Net Public Wealth to Net National Income Ratio   \n",
       "75  wwealni999   Net national wealth to Net National Income Ratio   \n",
       "14  ahwealj992                                Net personal wealth   \n",
       "25  ghwealj992                                Net personal wealth   \n",
       "12  ahweali992                                Net personal wealth   \n",
       "13  ahweali999                                Net personal wealth   \n",
       "51  shwealj992                                Net personal wealth   \n",
       "52  thwealj992                                Net personal wealth   \n",
       "41  mhweali999                                Net personal wealth   \n",
       "22  bhwealj992                                Net personal wealth   \n",
       "50  rhwealj992                                Net personal wealth   \n",
       "67  wpweali999                                 Net private wealth   \n",
       "77  xlcuspi999                 PPP conversion factor, LCU per USD   \n",
       "49  npopuli999                                         Population   \n",
       "16  apwdebi999                                       Private debt   \n",
       "43  mpwdebi999                                       Private debt   \n",
       "66  wpwdebi999                                       Private debt   \n",
       "65  wpolgei999                            Public order and safety   \n",
       "15  apolgei999                            Public order and safety   \n",
       "42  mpolgei999                            Public order and safety   \n",
       "44  mrecgei999                             Recreation and culture   \n",
       "17  arecgei999                             Recreation and culture   \n",
       "68  wrecgei999                             Recreation and culture   \n",
       "71  wsopgei999                                  Social protection   \n",
       "20  asopgei999                                  Social protection   \n",
       "47  msopgei999                                  Social protection   \n",
       "69  wsacgei999       Social protection: social assistance in cash   \n",
       "45  msacgei999       Social protection: social assistance in cash   \n",
       "18  asacgei999       Social protection: social assistance in cash   \n",
       "70  wsakgei999       Social protection: social assistance in kind   \n",
       "19  asakgei999       Social protection: social assistance in kind   \n",
       "46  msakgei999       Social protection: social assistance in kind   \n",
       "21  aspigei999                Social protection: social insurance   \n",
       "72  wspigei999                Social protection: social insurance   \n",
       "48  mspigei999                Social protection: social insurance   \n",
       "60  wexpgoi999  Total Public Spending (excluding interest paym...   \n",
       "\n",
       "                 shorttype                                 unit  \n",
       "0                  Average                                  AUD  \n",
       "53     Wealth-income ratio                 % of national income  \n",
       "29                   Total                                  AUD  \n",
       "1                  Average                                  AUD  \n",
       "54     Wealth-income ratio                 % of national income  \n",
       "30                   Total                                  AUD  \n",
       "58     Wealth-income ratio                 % of national income  \n",
       "5                  Average                                  AUD  \n",
       "34                   Total                                  AUD  \n",
       "31                   Total                                  AUD  \n",
       "55     Wealth-income ratio                 % of national income  \n",
       "2                  Average                                  AUD  \n",
       "32                   Total                                  AUD  \n",
       "3                  Average                                  AUD  \n",
       "56     Wealth-income ratio                 % of national income  \n",
       "57     Wealth-income ratio                 % of national income  \n",
       "33                   Total                                  AUD  \n",
       "4                  Average                                  AUD  \n",
       "35                   Total                                  AUD  \n",
       "6                  Average                                  AUD  \n",
       "59     Wealth-income ratio                 % of national income  \n",
       "62     Wealth-income ratio                 % of national income  \n",
       "9                  Average                                  AUD  \n",
       "38                   Total                                  AUD  \n",
       "61     Wealth-income ratio                 % of national income  \n",
       "36                   Total                                  AUD  \n",
       "7                  Average                                  AUD  \n",
       "8                  Average                                  AUD  \n",
       "37                   Total                                  AUD  \n",
       "63     Wealth-income ratio                 % of national income  \n",
       "39                   Total                                  AUD  \n",
       "10                 Average                                  AUD  \n",
       "64     Wealth-income ratio                 % of national income  \n",
       "11                 Average                                  AUD  \n",
       "40                   Total                                  AUD  \n",
       "26                 Indices                                  NaN  \n",
       "78          Exchange rates  local currency per foreign currency  \n",
       "27    Per-capita emissions                                tCO2e  \n",
       "23         Total emissions                               MtCO2e  \n",
       "24         Total emissions                               MtCO2e  \n",
       "28    Per-capita emissions                                tCO2e  \n",
       "74     Wealth-income ratio                 % of national income  \n",
       "76     Wealth-income ratio                 % of national income  \n",
       "73     Wealth-income ratio                 % of national income  \n",
       "75     Wealth-income ratio                 % of national income  \n",
       "14                 Average                                  AUD  \n",
       "25        Gini coefficient                                  NaN  \n",
       "12                 Average                                  AUD  \n",
       "13                 Average                                  AUD  \n",
       "51                   Share                                share  \n",
       "52               Threshold                                  AUD  \n",
       "41                   Total                                  AUD  \n",
       "22        Beta coefficient                                  NaN  \n",
       "50  Top 10/Bottom 50 ratio                                  NaN  \n",
       "67     Wealth-income ratio                 % of national income  \n",
       "77          Exchange rates  local currency per foreign currency  \n",
       "49              Population                           population  \n",
       "16                 Average                                  AUD  \n",
       "43                   Total                                  AUD  \n",
       "66     Wealth-income ratio                 % of national income  \n",
       "65     Wealth-income ratio                 % of national income  \n",
       "15                 Average                                  AUD  \n",
       "42                   Total                                  AUD  \n",
       "44                   Total                                  AUD  \n",
       "17                 Average                                  AUD  \n",
       "68     Wealth-income ratio                 % of national income  \n",
       "71     Wealth-income ratio                 % of national income  \n",
       "20                 Average                                  AUD  \n",
       "47                   Total                                  AUD  \n",
       "69     Wealth-income ratio                 % of national income  \n",
       "45                   Total                                  AUD  \n",
       "18                 Average                                  AUD  \n",
       "70     Wealth-income ratio                 % of national income  \n",
       "19                 Average                                  AUD  \n",
       "46                   Total                                  AUD  \n",
       "21                 Average                                  AUD  \n",
       "72     Wealth-income ratio                 % of national income  \n",
       "48                   Total                                  AUD  \n",
       "60     Wealth-income ratio                 % of national income  "
      ]
     },
     "execution_count": 440,
     "metadata": {},
     "output_type": "execute_result"
    }
   ],
   "source": [
    "my_list = []\n",
    "for var, data in df.groupby('variable'):\n",
    "    if var in vars.values:\n",
    "        my_list.append(\n",
    "            {\n",
    "                'variable': var,\n",
    "                'shortname': data['shortname'].unique()[0],\n",
    "                'shorttype': data['shorttype'].unique()[0],\n",
    "                'unit': data['unit'].unique()[0]\n",
    "            }\n",
    "        )\n",
    "\n",
    "pd.set_option('display.max_rows', None)\n",
    "pd.DataFrame(my_list).sort_values('shortname')"
   ]
  }
 ],
 "metadata": {
  "kernelspec": {
   "display_name": "inequality-venv",
   "language": "python",
   "name": "python3"
  },
  "language_info": {
   "codemirror_mode": {
    "name": "ipython",
    "version": 3
   },
   "file_extension": ".py",
   "mimetype": "text/x-python",
   "name": "python",
   "nbconvert_exporter": "python",
   "pygments_lexer": "ipython3",
   "version": "3.9.6"
  }
 },
 "nbformat": 4,
 "nbformat_minor": 2
}
